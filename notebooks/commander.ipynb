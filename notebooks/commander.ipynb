{
 "metadata": {
  "name": "",
  "signature": "sha256:751e72a891f4d658ccc5e85f223aaef0f74eb24262ae4c56e65c0ee10bf47ebc"
 },
 "nbformat": 3,
 "nbformat_minor": 0,
 "worksheets": [
  {
   "cells": [
    {
     "cell_type": "markdown",
     "metadata": {},
     "source": [
      "# Baxter commander notebook\n",
      "This notebook gives examples how to use the `baxter_commander` API and can be used to record and dump trajectories or states. Please do not commit modifications to this files for local/customs needs. "
     ]
    },
    {
     "cell_type": "code",
     "collapsed": false,
     "input": [
      "import rospy, baxter_commander"
     ],
     "language": "python",
     "metadata": {},
     "outputs": []
    },
    {
     "cell_type": "code",
     "collapsed": false,
     "input": [
      "import json"
     ],
     "language": "python",
     "metadata": {},
     "outputs": []
    },
    {
     "cell_type": "code",
     "collapsed": false,
     "input": [
      "rospy.init_node(\"baxter_commander_notebook\")"
     ],
     "language": "python",
     "metadata": {},
     "outputs": []
    },
    {
     "cell_type": "markdown",
     "metadata": {},
     "source": [
      "Do not forget to execute `roslaunch baxter_commander commander.launch` now, the next line will wait for it in loop..."
     ]
    },
    {
     "cell_type": "code",
     "collapsed": false,
     "input": [
      "right = baxter_commander.ArmCommander('right', kinematics='robot')  # kinematics='robot', 'ros' or 'kdl'"
     ],
     "language": "python",
     "metadata": {},
     "outputs": []
    },
    {
     "cell_type": "markdown",
     "metadata": {},
     "source": [
      "## State and trajectory recording and dumping into files\n",
      "We start by saving the starting state to be able to go back there afer moving. We can also convert it in dictionary to store it into a JSON."
     ]
    },
    {
     "cell_type": "code",
     "collapsed": false,
     "input": [
      "start = right.get_current_state()"
     ],
     "language": "python",
     "metadata": {},
     "outputs": []
    },
    {
     "cell_type": "code",
     "collapsed": false,
     "input": [
      "with open('starting_pose.json', 'w') as f:\n",
      "    json.dump(baxter_commander.statetodict(start), f)"
     ],
     "language": "python",
     "metadata": {},
     "outputs": []
    },
    {
     "cell_type": "markdown",
     "metadata": {},
     "source": [
      "Now we record the joint positions (we could also record joint velocities and efforts)"
     ]
    },
    {
     "cell_type": "code",
     "collapsed": false,
     "input": [
      "right.recorder.start()"
     ],
     "language": "python",
     "metadata": {},
     "outputs": []
    },
    {
     "cell_type": "markdown",
     "metadata": {},
     "source": [
      "Move the arm now... and execute the next cell to stop:"
     ]
    },
    {
     "cell_type": "code",
     "collapsed": false,
     "input": [
      "joint_traj, eef_traj = right.recorder.stop(include_velocity=False, include_effort=False)  # Use the parameters if you also need velocity and effort"
     ],
     "language": "python",
     "metadata": {},
     "outputs": []
    },
    {
     "cell_type": "markdown",
     "metadata": {},
     "source": [
      "`stop()` returns the recorded trajectory in joint space (type `RobotTrajectory`) as well as in task space (type `Path`)"
     ]
    },
    {
     "cell_type": "markdown",
     "metadata": {},
     "source": [
      "Wanna simulate the recorded motion to check that everything is alright? The following instruction will cause RViz to simulate the motion in loop. Caution: simulation is not real time, the parameter Motion Planning > Planned path > state display time specifies the duration of display of each point and thus the speed. "
     ]
    },
    {
     "cell_type": "code",
     "collapsed": false,
     "input": [
      "right.display(joint_traj)"
     ],
     "language": "python",
     "metadata": {},
     "outputs": []
    },
    {
     "cell_type": "markdown",
     "metadata": {},
     "source": [
      "If we are happy with the recorded trajectory we can save in into files:"
     ]
    },
    {
     "cell_type": "code",
     "collapsed": false,
     "input": [
      "with open('recorded_joint_trajectory.json', 'w') as f:\n",
      "    json.dump(baxter_commander.trajtodict(joint_traj), f)\n",
      "with open('recorded_eef_trajectory.json', 'w') as f:\n",
      "    json.dump(baxter_commander.pathtodict(eef_traj), f)"
     ],
     "language": "python",
     "metadata": {},
     "outputs": []
    },
    {
     "cell_type": "markdown",
     "metadata": {},
     "source": [
      "Let's destroy the old variables and reload the starting state as well as the trajectory from the JSONs"
     ]
    },
    {
     "cell_type": "code",
     "collapsed": false,
     "input": [
      "joint_traj, eef_traj, start = None, None, None"
     ],
     "language": "python",
     "metadata": {},
     "outputs": []
    },
    {
     "cell_type": "code",
     "collapsed": false,
     "input": [
      "with open('starting_pose.json') as f:\n",
      "    start = baxter_commander.dicttostate(json.load(f))"
     ],
     "language": "python",
     "metadata": {},
     "outputs": []
    },
    {
     "cell_type": "markdown",
     "metadata": {},
     "source": [
      "Before actually replaying the same motion on the robot you must go back to the starting pose. `move_to_controlled` creates an interpolated motion for this purpose with limitation of velocity and acceleration. In case of collision or user manipulation motion will stop and retry until timeout."
     ]
    },
    {
     "cell_type": "code",
     "collapsed": false,
     "input": [
      "right.move_to_controlled(start)"
     ],
     "language": "python",
     "metadata": {},
     "outputs": []
    },
    {
     "cell_type": "code",
     "collapsed": false,
     "input": [
      "with open('recorded_trajectory.json') as f:\n",
      "    joint_traj = baxter_commander.dicttotraj(json.load(f))"
     ],
     "language": "python",
     "metadata": {},
     "outputs": []
    },
    {
     "cell_type": "code",
     "collapsed": false,
     "input": [
      "right.execute(joint_traj)  # This blocking method returns True in case of success, False otherwise"
     ],
     "language": "python",
     "metadata": {},
     "outputs": []
    },
    {
     "cell_type": "markdown",
     "metadata": {},
     "source": [
      "## Cartesian path and reverse trajectory\n",
      "Let's generate a cartesian path (i.e. straightaway) of 25cm to the top (z axis). The second parameter specifies in which frame the cartesian path is given, and the third the duration of motion, it returns the trajectory and the successrate from 0.0 to 1.0"
     ]
    },
    {
     "cell_type": "code",
     "collapsed": false,
     "input": [
      "traj, successrate = right.generate_cartesian_path([0., 0., 0.25], 'base', 2.0)"
     ],
     "language": "python",
     "metadata": {},
     "outputs": []
    },
    {
     "cell_type": "code",
     "collapsed": false,
     "input": [
      "successrate"
     ],
     "language": "python",
     "metadata": {},
     "outputs": []
    },
    {
     "cell_type": "code",
     "collapsed": false,
     "input": [
      "right.execute(traj)"
     ],
     "language": "python",
     "metadata": {},
     "outputs": []
    },
    {
     "cell_type": "markdown",
     "metadata": {},
     "source": [
      "Let's reverse this trajectory to go back to the starting pose again..."
     ]
    },
    {
     "cell_type": "code",
     "collapsed": false,
     "input": [
      "right.execute(right.generate_reverse_trajectory(traj))"
     ],
     "language": "python",
     "metadata": {},
     "outputs": []
    },
    {
     "cell_type": "code",
     "collapsed": false,
     "input": [],
     "language": "python",
     "metadata": {},
     "outputs": []
    }
   ],
   "metadata": {}
  }
 ]
}