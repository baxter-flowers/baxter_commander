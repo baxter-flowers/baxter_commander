{
 "metadata": {
  "name": ""
 },
 "nbformat": 3,
 "nbformat_minor": 0,
 "worksheets": [
  {
   "cells": [
    {
     "cell_type": "code",
     "collapsed": false,
     "input": [
      "import rospy, baxter_interface, baxter_commander, tf, numpy as np, transformations, json, rospkg, yaml, time\n",
      "from os import system\n",
      "from scipy.optimize import minimize"
     ],
     "language": "python",
     "metadata": {},
     "outputs": [],
     "prompt_number": 1
    },
    {
     "cell_type": "code",
     "collapsed": false,
     "input": [
      "rospy.init_node('calibrator')"
     ],
     "language": "python",
     "metadata": {},
     "outputs": [],
     "prompt_number": 2
    },
    {
     "cell_type": "code",
     "collapsed": false,
     "input": [
      "rospy.set_param('/optitrack/objects', ['/robot/calibrator'])"
     ],
     "language": "python",
     "metadata": {},
     "outputs": [],
     "prompt_number": 3
    },
    {
     "cell_type": "code",
     "collapsed": false,
     "input": [
      "tfl = tf.TransformListener()"
     ],
     "language": "python",
     "metadata": {},
     "outputs": [],
     "prompt_number": 4
    },
    {
     "cell_type": "code",
     "collapsed": false,
     "input": [
      "rospack = rospkg.RosPack()"
     ],
     "language": "python",
     "metadata": {},
     "outputs": [],
     "prompt_number": 5
    },
    {
     "cell_type": "code",
     "collapsed": false,
     "input": [
      "commander = baxter_commander.ArmCommander('right')"
     ],
     "language": "python",
     "metadata": {},
     "outputs": [
      {
       "output_type": "stream",
       "stream": "stdout",
       "text": [
        "[INFO] [WallTime: 1441195579.030714] ArmCommander(right): Waiting for action server /robot/limb/right/follow_joint_trajectory...\n"
       ]
      }
     ],
     "prompt_number": 6
    },
    {
     "cell_type": "code",
     "collapsed": false,
     "input": [
      "world_frame_robot = 'base' # The world frame of the robot\n",
      "world_frame_opt = 'optitrack_frame' # The world frame of optitrack\n",
      "calib_frame_robot = 'right_gripper' # The frame used for calibration in the robot's frame\n",
      "calib_frame_opt = '/robot/calibrator' # The frame used for calibration in the optitrack's frame"
     ],
     "language": "python",
     "metadata": {},
     "outputs": [],
     "prompt_number": 7
    },
    {
     "cell_type": "markdown",
     "metadata": {},
     "source": [
      "## Definition of functions\n",
      "### Record calibration points"
     ]
    },
    {
     "cell_type": "code",
     "collapsed": false,
     "input": [
      "def record_calibration_points(continuous = True, duration=60, min_dist=0.01, max_dur=0.05):\n",
      "    mat_robot = [] # Matrix of all calibration points of calib_frame_robot in frame world_frame_robot (position only)\n",
      "    mat_opt = [] # Matrix of all calibration points of calib_frame_opt in frame world_frame_opt (position only)\n",
      "    max_dur = rospy.Duration(max_dur) # seconds\n",
      "    duration = rospy.Duration(duration)\n",
      "    \n",
      "    start = rospy.Time.now()\n",
      "    last_point = None\n",
      "    entry = \"\"\n",
      "    while continuous and rospy.Time.now()<start+duration or not continuous and entry==\"\":   \n",
      "        ref_time = tfl.getLatestCommonTime(world_frame_opt, world_frame_robot)\n",
      "        now = rospy.Time.now()\n",
      "        \n",
      "        if ref_time + max_dur > now:\n",
      "            try:\n",
      "                pose_rg_robot = tfl.lookupTransform(world_frame_robot, calib_frame_robot, rospy.Time(0))\n",
      "            except Exception, e:\n",
      "                print \"Robot transf not available, time synchro?\", e.message\n",
      "                #rospy.logerr(\"Unable to get the transform from {} to {}, are they both published by the robot?\"\n",
      "                #             \"{}\".format(calib_frame_robot, world_frame_robot, e.message))\n",
      "                continue\n",
      "    \n",
      "            if last_point is None or transformations.distance(pose_rg_robot, last_point)>min_dist:\n",
      "                try:\n",
      "                    pose_rg_opt = tfl.lookupTransform(world_frame_opt, calib_frame_opt, rospy.Time(0))\n",
      "                except:\n",
      "                    #rospy.logerr(\"Unable to get the transform from {} to {}, is the optitrack publisher running, and {} the right name\"\n",
      "                    #             \" of the rigid body, and is the marker currently visible?\".format(calib_frame_opt, world_frame_opt, calib_frame_opt))\n",
      "                    #rospy.sleep(sleep)\n",
      "                    print \"Not visible\"\n",
      "                    continue\n",
      "                               \n",
      "                mat_robot.append(np.array(pose_rg_robot))\n",
      "                mat_opt.append(np.array(pose_rg_opt))\n",
      "                last_point = pose_rg_robot\n",
      "                system('beep')\n",
      "        else:\n",
      "            print \"TFs are\", (now - ref_time).to_sec(), \"sec late\"\n",
      "        \n",
      "        if continuous:\n",
      "            rospy.sleep(0.5)\n",
      "        else:\n",
      "            entry = raw_input(\"Press enter to record a new point or q-enter to quit ({} points)\".format(len(mat_robot)))\n",
      "    return mat_opt, mat_robot"
     ],
     "language": "python",
     "metadata": {},
     "outputs": [],
     "prompt_number": 8
    },
    {
     "cell_type": "markdown",
     "metadata": {},
     "source": [
      "### Formating functions"
     ]
    },
    {
     "cell_type": "code",
     "collapsed": false,
     "input": [
      "def list_to_matrix(pose):\n",
      "    matrix = tf.transformations.quaternion_matrix(pose[1])\n",
      "    matrix[0][3] = pose[0][0]\n",
      "    matrix[1][3] = pose[0][1]\n",
      "    matrix[2][3] = pose[0][2]\n",
      "    return matrix\n",
      "\n",
      "def matrix_to_list(matrix):\n",
      "    return [tf.transformations.translation_from_matrix(matrix), tf.transformations.quaternion_from_matrix(matrix)]\n",
      "\n",
      "def appender(mat):\n",
      "    return np.append(mat, [0., 0., 0., 1.]).reshape(4,4)\n",
      "\n",
      "def result_to_calibration_matrix(result):\n",
      "    calibration_matrix = transformations.inverse_transform(matrix_to_list(result))\n",
      "    return [map(float, calibration_matrix[0]), map(float, calibration_matrix[1].tolist())]"
     ],
     "language": "python",
     "metadata": {},
     "outputs": [],
     "prompt_number": 9
    },
    {
     "cell_type": "markdown",
     "metadata": {},
     "source": [
      "### Cost function for the optimization"
     ]
    },
    {
     "cell_type": "code",
     "collapsed": false,
     "input": [
      "def calculate_cost(A,B, coords_robot, coords_opt):\n",
      "    norm = 0.\n",
      "    # precision error\n",
      "    for i in range(len(coords_robot)):\n",
      "        robot = list_to_matrix(coords_robot[i])\n",
      "        opt = list_to_matrix(coords_opt[i])\n",
      "        product = np.dot(robot, B)\n",
      "        product = np.dot(A, product)\n",
      "        \n",
      "        norm += np.linalg.norm(opt[:,-1]-product[:,-1])\n",
      "    \n",
      "    # rotation conditions\n",
      "    rot_a = A[:-1,:-1]\n",
      "    rot_b = B[:-1,:-1]\n",
      "    id_cost_a = np.linalg.norm(np.dot(rot_a, rot_a.T)-np.eye(3, 3))\n",
      "    id_cost_b = np.linalg.norm(np.dot(rot_b, rot_b.T)-np.eye(3, 3))\n",
      "    det_cost_a = abs(np.linalg.det(rot_a)-1)\n",
      "    det_cost_b = abs(np.linalg.det(rot_b)-1)\n",
      "    \n",
      "    # return the detail of total cost\n",
      "    return norm, id_cost_a, id_cost_b, det_cost_a, det_cost_b"
     ],
     "language": "python",
     "metadata": {},
     "outputs": [],
     "prompt_number": 33
    },
    {
     "cell_type": "markdown",
     "metadata": {},
     "source": [
      "### Functions for quality checking"
     ]
    },
    {
     "cell_type": "code",
     "collapsed": false,
     "input": [
      "def calculate_position_error(A, B, coords_robot, coords_opt):\n",
      "    norm = 0.\n",
      "    # precision error\n",
      "    for i in range(len(coords_robot)):\n",
      "        robot = list_to_matrix(coords_robot[i])\n",
      "        opt = list_to_matrix(coords_opt[i])\n",
      "        product = np.dot(robot, B)\n",
      "        product = np.dot(A, product)\n",
      "        print opt\n",
      "        print product\n",
      "        print \"####\"\n",
      "        norm += np.linalg.norm(opt[:,-1]-product[:,-1])\n",
      "    return norm"
     ],
     "language": "python",
     "metadata": {},
     "outputs": [],
     "prompt_number": 29
    },
    {
     "cell_type": "markdown",
     "metadata": {},
     "source": [
      "## Acquisition of points for calibration by moving the arm..."
     ]
    },
    {
     "cell_type": "code",
     "collapsed": false,
     "input": [
      "mat_opt, mat_robot = record_calibration_points(False)"
     ],
     "language": "python",
     "metadata": {},
     "outputs": [
      {
       "name": "stdout",
       "output_type": "stream",
       "stream": "stdout",
       "text": [
        "Press enter to record a new point or q-enter to quit (1 points)\n"
       ]
      },
      {
       "name": "stdout",
       "output_type": "stream",
       "stream": "stdout",
       "text": [
        "Press enter to record a new point or q-enter to quit (2 points)\n"
       ]
      },
      {
       "name": "stdout",
       "output_type": "stream",
       "stream": "stdout",
       "text": [
        "Press enter to record a new point or q-enter to quit (3 points)\n"
       ]
      },
      {
       "name": "stdout",
       "output_type": "stream",
       "stream": "stdout",
       "text": [
        "Press enter to record a new point or q-enter to quit (4 points)\n"
       ]
      },
      {
       "name": "stdout",
       "output_type": "stream",
       "stream": "stdout",
       "text": [
        "Press enter to record a new point or q-enter to quit (5 points)\n"
       ]
      },
      {
       "name": "stdout",
       "output_type": "stream",
       "stream": "stdout",
       "text": [
        "Press enter to record a new point or q-enter to quit (6 points)\n"
       ]
      },
      {
       "name": "stdout",
       "output_type": "stream",
       "stream": "stdout",
       "text": [
        "Press enter to record a new point or q-enter to quit (7 points)\n"
       ]
      },
      {
       "name": "stdout",
       "output_type": "stream",
       "stream": "stdout",
       "text": [
        "Press enter to record a new point or q-enter to quit (8 points)\n"
       ]
      },
      {
       "name": "stdout",
       "output_type": "stream",
       "stream": "stdout",
       "text": [
        "Press enter to record a new point or q-enter to quit (9 points)\n"
       ]
      },
      {
       "name": "stdout",
       "output_type": "stream",
       "stream": "stdout",
       "text": [
        "Press enter to record a new point or q-enter to quit (10 points)q\n"
       ]
      }
     ],
     "prompt_number": 13
    },
    {
     "cell_type": "code",
     "collapsed": false,
     "input": [
      "print len(mat_opt), \"points recorded\""
     ],
     "language": "python",
     "metadata": {},
     "outputs": [
      {
       "output_type": "stream",
       "stream": "stdout",
       "text": [
        "10 points recorded\n"
       ]
      }
     ],
     "prompt_number": 14
    },
    {
     "cell_type": "markdown",
     "metadata": {},
     "source": [
      "## Optimization of the calibration matrix"
     ]
    },
    {
     "cell_type": "code",
     "collapsed": false,
     "input": [
      "def fitfunc(p, coords_robot, coords_opt):\n",
      "    A = np.append(p[:12], [0., 0., 0., 1.]).reshape(4,4)\n",
      "    B = np.append(p[12:], [0., 0., 0., 1.]).reshape(4,4)\n",
      "    norm, id_cost_a, id_cost_b, det_cost_a, det_cost_b = calculate_cost(A, B, coords_robot, coords_opt)\n",
      "    cost = 20*norm + id_cost_a + id_cost_b + det_cost_a + det_cost_b\n",
      "\n",
      "    return cost"
     ],
     "language": "python",
     "metadata": {},
     "outputs": [],
     "prompt_number": 15
    },
    {
     "cell_type": "code",
     "collapsed": false,
     "input": [
      "a_init = np.eye(4)[:3].reshape(12,)\n",
      "b_init = np.eye(4)[:3].reshape(12,)\n",
      "initial_guess = np.append(a_init, b_init)"
     ],
     "language": "python",
     "metadata": {},
     "outputs": [],
     "prompt_number": 34
    },
    {
     "cell_type": "code",
     "collapsed": true,
     "input": [
      "t0 = time.time()\n",
      "result = minimize(fitfunc, initial_guess, args=(mat_robot, mat_opt, ))\n",
      "print time.time()-t0, \"seconds of optimization\""
     ],
     "language": "python",
     "metadata": {},
     "outputs": [
      {
       "output_type": "stream",
       "stream": "stdout",
       "text": [
        "2.60669898987 seconds of optimization\n"
       ]
      }
     ],
     "prompt_number": 35
    },
    {
     "cell_type": "markdown",
     "metadata": {},
     "source": [
      "## Dumping A i.e. the calibration matrix (the transformation between the optitrack frame and the robot base frame)"
     ]
    },
    {
     "cell_type": "code",
     "collapsed": false,
     "input": [
      "result_a = appender(result.x[:12].reshape(3,4))"
     ],
     "language": "python",
     "metadata": {},
     "outputs": [],
     "prompt_number": 39
    },
    {
     "cell_type": "code",
     "collapsed": false,
     "input": [
      "calibration_matrix_a = result_to_calibration_matrix(result_a)"
     ],
     "language": "python",
     "metadata": {},
     "outputs": [],
     "prompt_number": 19
    },
    {
     "cell_type": "code",
     "collapsed": false,
     "input": [
      "rospy.set_param(\"/optitrack/calibration_matrix\", calibration_matrix_a)"
     ],
     "language": "python",
     "metadata": {},
     "outputs": [],
     "prompt_number": 20
    },
    {
     "cell_type": "code",
     "collapsed": false,
     "input": [
      "with open(rospack.get_path(\"optitrack_publisher\")+\"/config/calibration_matrix.yaml\", 'w') as f:\n",
      "    yaml.dump(calibration_matrix_a, f)"
     ],
     "language": "python",
     "metadata": {},
     "outputs": [],
     "prompt_number": 25
    },
    {
     "cell_type": "markdown",
     "metadata": {},
     "source": [
      "## Dumping B (the transformation between the optitack marker and the end effector frame)"
     ]
    },
    {
     "cell_type": "code",
     "collapsed": false,
     "input": [
      "result_b = appender(result.x[12:].reshape(3,4))"
     ],
     "language": "python",
     "metadata": {},
     "outputs": [],
     "prompt_number": 40
    },
    {
     "cell_type": "code",
     "collapsed": false,
     "input": [
      "calibration_matrix_b = result_to_calibration_matrix(result_b)"
     ],
     "language": "python",
     "metadata": {},
     "outputs": [],
     "prompt_number": 22
    },
    {
     "cell_type": "code",
     "collapsed": false,
     "input": [
      "with open(rospack.get_path(\"optitrack_publisher\")+\"/config/calibration_matrix_b.yaml\", 'w') as f:\n",
      "    yaml.dump(calibration_matrix_b, f)"
     ],
     "language": "python",
     "metadata": {},
     "outputs": [],
     "prompt_number": 28
    },
    {
     "cell_type": "markdown",
     "metadata": {},
     "source": [
      "## Testing calibration quality"
     ]
    },
    {
     "cell_type": "code",
     "collapsed": false,
     "input": [
      "mat_opt_check, mat_robot_check = record_calibration_points(False)"
     ],
     "language": "python",
     "metadata": {},
     "outputs": [
      {
       "name": "stdout",
       "output_type": "stream",
       "stream": "stdout",
       "text": [
        "Press enter to record a new point or q-enter to quit (1 points)\n"
       ]
      },
      {
       "name": "stdout",
       "output_type": "stream",
       "stream": "stdout",
       "text": [
        "Press enter to record a new point or q-enter to quit (2 points)\n"
       ]
      },
      {
       "name": "stdout",
       "output_type": "stream",
       "stream": "stdout",
       "text": [
        "Press enter to record a new point or q-enter to quit (3 points)\n"
       ]
      },
      {
       "name": "stdout",
       "output_type": "stream",
       "stream": "stdout",
       "text": [
        "Press enter to record a new point or q-enter to quit (4 points)\n"
       ]
      },
      {
       "name": "stdout",
       "output_type": "stream",
       "stream": "stdout",
       "text": [
        "Press enter to record a new point or q-enter to quit (5 points)q\n"
       ]
      }
     ],
     "prompt_number": 44
    },
    {
     "cell_type": "code",
     "collapsed": false,
     "input": [
      "print len(mat_opt), \"points recorded\""
     ],
     "language": "python",
     "metadata": {},
     "outputs": [
      {
       "output_type": "stream",
       "stream": "stdout",
       "text": [
        "5 points recorded\n"
       ]
      }
     ],
     "prompt_number": 45
    },
    {
     "cell_type": "code",
     "collapsed": false,
     "input": [
      "calculate_cost(result_a, result_b, mat_robot_check, mat_opt_check)"
     ],
     "language": "python",
     "metadata": {},
     "outputs": [
      {
       "metadata": {},
       "output_type": "pyout",
       "prompt_number": 49,
       "text": [
        "(0.016683795724790139,\n",
        " 0.023064776653751454,\n",
        " 4.3427886328269834e-05,\n",
        " 0.0062885181485998753,\n",
        " 1.7925664118623175e-06)"
       ]
      }
     ],
     "prompt_number": 49
    },
    {
     "cell_type": "code",
     "collapsed": false,
     "input": [
      "avg_error = calculate_position_error(result_a, result_b, mat_robot_check, mat_opt_check)/len(mat_opt_check)"
     ],
     "language": "python",
     "metadata": {},
     "outputs": [
      {
       "output_type": "stream",
       "stream": "stdout",
       "text": [
        "[[-0.23819596  0.19295449  0.95185674  0.0479183 ]\n",
        " [ 0.01445256  0.98066155 -0.19517697  1.14979696]\n",
        " [-0.97110958 -0.0327336  -0.23637831 -0.31789118]\n",
        " [ 0.          0.          0.          1.        ]]\n",
        "[[-0.26204609  0.90355766  0.32661945  0.04870658]\n",
        " [-0.96529415 -0.20619685 -0.18342124  1.15060138]\n",
        " [-0.1043393  -0.3595592   0.9342973  -0.31707796]\n",
        " [ 0.          0.          0.          1.        ]]\n",
        "####\n",
        "[[-0.53000886  0.37147259  0.76229832 -0.10811292]\n",
        " [ 0.5129457   0.85627727 -0.0606295   1.40863633]\n",
        " [-0.67526092  0.35888348 -0.64437981 -0.3065446 ]\n",
        " [ 0.          0.          0.          1.        ]]\n",
        "[[-0.4672605   0.68881168  0.54678941 -0.10433668]\n",
        " [-0.7708916  -0.00260949 -0.6431787   1.41012191]\n",
        " [-0.45074619 -0.7215803   0.5377887  -0.30561123]\n",
        " [ 0.          0.          0.          1.        ]]\n",
        "####\n",
        "[[ 0.17217106  0.20559878  0.96337234  0.69520324]\n",
        " [ 0.6569541   0.70475959 -0.26781566  1.03586805]\n",
        " [-0.73400847  0.67900152 -0.01372976 -0.10404777]\n",
        " [ 0.          0.          0.          1.        ]]\n",
        "[[-0.1895348   0.97643468 -0.04926607  0.69153696]\n",
        " [-0.60562419 -0.15033474 -0.78649702  1.03447001]\n",
        " [-0.78404186 -0.11306688  0.62093394 -0.10617674]\n",
        " [ 0.          0.          0.          1.        ]]\n",
        "####\n",
        "[[-0.75088948  0.49339013  0.43901158 -0.11015461]\n",
        " [ 0.48964674  0.86198448 -0.13125859  1.50937641]\n",
        " [-0.44318287  0.11639989 -0.88884195 -0.16338217]\n",
        " [ 0.          0.          0.          1.        ]]\n",
        "[[-0.5991469   0.31956072  0.72848888 -0.10700648]\n",
        " [-0.79250134 -0.06843807 -0.61254767  1.50896531]\n",
        " [-0.15415064 -0.94839002  0.29973938 -0.16345771]\n",
        " [ 0.          0.          0.          1.        ]]\n",
        "####\n",
        "[[ 0.47298044  0.16780689  0.86494529  0.1800486 ]\n",
        " [ 0.04623522  0.97561568 -0.21456084  1.08453858]\n",
        " [-0.87985897  0.14147401  0.45368855  0.08981384]\n",
        " [ 0.          0.          0.          1.        ]]\n",
        "[[-0.10400022  0.91912045 -0.36904528  0.17913263]\n",
        " [-0.96026036 -0.19066726 -0.22248371  1.08118903]\n",
        " [-0.2807545   0.33981106  0.90485227  0.09017037]\n",
        " [ 0.          0.          0.          1.        ]]\n",
        "####\n"
       ]
      }
     ],
     "prompt_number": 50
    },
    {
     "cell_type": "code",
     "collapsed": false,
     "input": [
      "avg_error"
     ],
     "language": "python",
     "metadata": {},
     "outputs": [
      {
       "metadata": {},
       "output_type": "pyout",
       "prompt_number": 51,
       "text": [
        "0.0033367591449580277"
       ]
      }
     ],
     "prompt_number": 51
    },
    {
     "cell_type": "code",
     "collapsed": false,
     "input": [
      "result_a"
     ],
     "language": "python",
     "metadata": {},
     "outputs": [
      {
       "metadata": {},
       "output_type": "pyout",
       "prompt_number": 52,
       "text": [
        "array([[  1.78023919e-02,   9.95716833e-01,  -4.55638372e-03,\n",
        "          4.20050361e-01],\n",
        "       [ -8.31180192e-04,   1.13607094e-02,   1.00390874e+00,\n",
        "          9.98148151e-01],\n",
        "       [  1.00644119e+00,  -1.03185184e-02,   4.41980439e-03,\n",
        "         -9.41596056e-01],\n",
        "       [  0.00000000e+00,   0.00000000e+00,   0.00000000e+00,\n",
        "          1.00000000e+00]])"
       ]
      }
     ],
     "prompt_number": 52
    },
    {
     "cell_type": "code",
     "collapsed": false,
     "input": [],
     "language": "python",
     "metadata": {},
     "outputs": []
    }
   ],
   "metadata": {}
  }
 ]
}