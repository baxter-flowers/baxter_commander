{
 "metadata": {
  "name": ""
 },
 "nbformat": 3,
 "nbformat_minor": 0,
 "worksheets": [
  {
   "cells": [
    {
     "cell_type": "code",
     "collapsed": false,
     "input": [
      "import rospy, baxter_interface, baxter_commander, tf, numpy as np, transformations, json, rospkg, yaml, time\n",
      "from os import system\n",
      "from scipy.optimize import minimize"
     ],
     "language": "python",
     "metadata": {},
     "outputs": []
    },
    {
     "cell_type": "code",
     "collapsed": false,
     "input": [
      "rospy.init_node('calibrator')"
     ],
     "language": "python",
     "metadata": {},
     "outputs": []
    },
    {
     "cell_type": "code",
     "collapsed": false,
     "input": [
      "rospy.set_param('/optitrack/objects', ['/robot/calibrator'])"
     ],
     "language": "python",
     "metadata": {},
     "outputs": []
    },
    {
     "cell_type": "code",
     "collapsed": false,
     "input": [
      "max_dur = 0.6\n",
      "tfl = tf.TransformListener(True, rospy.Duration(max_dur))"
     ],
     "language": "python",
     "metadata": {},
     "outputs": []
    },
    {
     "cell_type": "code",
     "collapsed": false,
     "input": [
      "rospack = rospkg.RosPack()"
     ],
     "language": "python",
     "metadata": {},
     "outputs": []
    },
    {
     "cell_type": "code",
     "collapsed": false,
     "input": [
      "commander = baxter_commander.ArmCommander('right')"
     ],
     "language": "python",
     "metadata": {},
     "outputs": []
    },
    {
     "cell_type": "code",
     "collapsed": false,
     "input": [
      "world_frame_robot = 'base' # The world frame of the robot\n",
      "world_frame_opt = 'optitrack_frame' # The world frame of optitrack\n",
      "calib_frame_robot = 'right_gripper' # The frame used for calibration in the robot's frame\n",
      "calib_frame_opt = '/robot/calibrator' # The frame used for calibration in the optitrack's frame"
     ],
     "language": "python",
     "metadata": {},
     "outputs": []
    },
    {
     "cell_type": "markdown",
     "metadata": {},
     "source": [
      "## Definition of functions\n",
      "### Record calibration points"
     ]
    },
    {
     "cell_type": "code",
     "collapsed": false,
     "input": [
      "def record_calibration_points(continuous = True, duration=60, min_dist=0.01, max_dur=0.6):\n",
      "    mat_robot = [] # Matrix of all calibration points of calib_frame_robot in frame world_frame_robot (position only)\n",
      "    mat_opt = [] # Matrix of all calibration points of calib_frame_opt in frame world_frame_opt (position only)\n",
      "    max_dur = rospy.Duration(max_dur) # seconds\n",
      "    duration = rospy.Duration(duration)\n",
      "    \n",
      "    start = rospy.Time.now()\n",
      "    last_point = None\n",
      "    entry = \"\"\n",
      "    while continuous and rospy.Time.now()<start+duration or not continuous and entry==\"\":   \n",
      "        ref_time = tfl.getLatestCommonTime(world_frame_robot, calib_frame_opt)\n",
      "        now = rospy.Time.now()\n",
      "        \n",
      "        if ref_time + max_dur > now:\n",
      "            try:\n",
      "                pose_rg_robot = tfl.lookupTransform(world_frame_robot, calib_frame_robot, rospy.Time(0))\n",
      "            except Exception, e:\n",
      "                print \"Robot transf not available, time synchro?\", e.message\n",
      "                #rospy.logerr(\"Unable to get the transform from {} to {}, are they both published by the robot?\"\n",
      "                #             \"{}\".format(calib_frame_robot, world_frame_robot, e.message))\n",
      "            else:\n",
      "                if last_point is None or transformations.distance(pose_rg_robot, last_point)>min_dist:\n",
      "                    try:\n",
      "                        pose_rg_opt = tfl.lookupTransform(world_frame_opt, calib_frame_opt, rospy.Time(0))\n",
      "                    except:\n",
      "                        #rospy.logerr(\"Unable to get the transform from {} to {}, is the optitrack publisher running, and {} the right name\"\n",
      "                        #             \" of the rigid body, and is the marker currently visible?\".format(calib_frame_opt, world_frame_opt, calib_frame_opt))\n",
      "                        #rospy.sleep(sleep)\n",
      "                        print \"Not visible\"\n",
      "                    else:\n",
      "                        mat_robot.append(np.array(pose_rg_robot))\n",
      "                        mat_opt.append(np.array(pose_rg_opt))\n",
      "                        last_point = pose_rg_robot\n",
      "                        system('beep')\n",
      "        else:\n",
      "            print \"TFs are\", (now - ref_time).to_sec(), \"sec late\"\n",
      "        \n",
      "        if continuous:\n",
      "            rospy.sleep(0.25)\n",
      "        else:\n",
      "            entry = raw_input(\"Press enter to record a new point or q-enter to quit ({} points)\".format(len(mat_robot)))\n",
      "    return mat_opt, mat_robot"
     ],
     "language": "python",
     "metadata": {},
     "outputs": []
    },
    {
     "cell_type": "markdown",
     "metadata": {},
     "source": [
      "### Formating functions"
     ]
    },
    {
     "cell_type": "code",
     "collapsed": false,
     "input": [
      "def list_to_matrix(pose):\n",
      "    matrix = tf.transformations.quaternion_matrix(pose[1])\n",
      "    matrix[0][3] = pose[0][0]\n",
      "    matrix[1][3] = pose[0][1]\n",
      "    matrix[2][3] = pose[0][2]\n",
      "    return matrix\n",
      "\n",
      "def matrix_to_list(matrix):\n",
      "    return [tf.transformations.translation_from_matrix(matrix), tf.transformations.quaternion_from_matrix(matrix)]\n",
      "\n",
      "def appender(mat):\n",
      "    return np.append(mat, [0., 0., 0., 1.]).reshape(4,4)\n",
      "\n",
      "def result_to_calibration_matrix(result):\n",
      "    calibration_matrix = transformations.inverse_transform(matrix_to_list(result))\n",
      "    return [map(float, calibration_matrix[0]), map(float, calibration_matrix[1].tolist())]"
     ],
     "language": "python",
     "metadata": {},
     "outputs": []
    },
    {
     "cell_type": "markdown",
     "metadata": {},
     "source": [
      "### Cost function for the optimization"
     ]
    },
    {
     "cell_type": "code",
     "collapsed": false,
     "input": [
      "def calculate_cost(A,B, coords_robot, coords_opt):\n",
      "    norm = 0.\n",
      "    # precision error\n",
      "    for i in range(len(coords_robot)):\n",
      "        robot = list_to_matrix(coords_robot[i])\n",
      "        opt = list_to_matrix(coords_opt[i])\n",
      "        product = np.dot(robot, B)\n",
      "        product = np.dot(A, product)\n",
      "        \n",
      "        norm += np.linalg.norm(opt-product)\n",
      "    \n",
      "    # rotation conditions\n",
      "    rot_a = A[:-1,:-1]\n",
      "    rot_b = B[:-1,:-1]\n",
      "    id_cost_a = np.linalg.norm(np.dot(rot_a, rot_a.T)-np.eye(3, 3))\n",
      "    id_cost_b = np.linalg.norm(np.dot(rot_b, rot_b.T)-np.eye(3, 3))\n",
      "    det_cost_a = abs(np.linalg.det(rot_a)-1)\n",
      "    det_cost_b = abs(np.linalg.det(rot_b)-1)\n",
      "    \n",
      "    # return the detail of total cost\n",
      "    return norm, id_cost_a, id_cost_b, det_cost_a, det_cost_b"
     ],
     "language": "python",
     "metadata": {},
     "outputs": []
    },
    {
     "cell_type": "markdown",
     "metadata": {},
     "source": [
      "### Functions for quality checking"
     ]
    },
    {
     "cell_type": "code",
     "collapsed": false,
     "input": [
      "def calculate_position_error(A, B, coords_robot, coords_opt):\n",
      "    norm = 0.\n",
      "    # precision error\n",
      "    for i in range(len(coords_robot)):\n",
      "        robot = list_to_matrix(coords_robot[i])\n",
      "        opt = list_to_matrix(coords_opt[i])\n",
      "        product = np.dot(robot, B)\n",
      "        product = np.dot(A, product)\n",
      "        norm += np.linalg.norm(opt[:,-1]-product[:,-1])\n",
      "    return norm"
     ],
     "language": "python",
     "metadata": {},
     "outputs": []
    },
    {
     "cell_type": "markdown",
     "metadata": {},
     "source": [
      "## Acquisition of points for calibration by moving the arm..."
     ]
    },
    {
     "cell_type": "code",
     "collapsed": false,
     "input": [
      "mat_opt, mat_robot = record_calibration_points(duration=30, max_dur=max_dur)"
     ],
     "language": "python",
     "metadata": {},
     "outputs": []
    },
    {
     "cell_type": "code",
     "collapsed": false,
     "input": [
      "print len(mat_opt), \"points recorded\""
     ],
     "language": "python",
     "metadata": {},
     "outputs": []
    },
    {
     "cell_type": "markdown",
     "metadata": {},
     "source": [
      "## Optimization of the calibration matrix"
     ]
    },
    {
     "cell_type": "code",
     "collapsed": false,
     "input": [
      "def fitfunc(p, coords_robot, coords_opt):\n",
      "    A = np.append(p[:12], [0., 0., 0., 1.]).reshape(4,4)\n",
      "    B = np.append(p[12:], [0., 0., 0., 1.]).reshape(4,4)\n",
      "    norm, id_cost_a, id_cost_b, det_cost_a, det_cost_b = calculate_cost(A, B, coords_robot, coords_opt)\n",
      "    cost = 20*norm + id_cost_a + id_cost_b + det_cost_a + det_cost_b\n",
      "\n",
      "    return cost"
     ],
     "language": "python",
     "metadata": {},
     "outputs": []
    },
    {
     "cell_type": "code",
     "collapsed": false,
     "input": [
      "a_init = np.eye(4)[:3].reshape(12,)\n",
      "b_init = np.eye(4)[:3].reshape(12,)\n",
      "initial_guess = np.append(a_init, b_init)"
     ],
     "language": "python",
     "metadata": {},
     "outputs": []
    },
    {
     "cell_type": "code",
     "collapsed": true,
     "input": [
      "t0 = time.time()\n",
      "result = minimize(fitfunc, initial_guess, args=(mat_robot, mat_opt, ))\n",
      "print time.time()-t0, \"seconds of optimization\""
     ],
     "language": "python",
     "metadata": {},
     "outputs": []
    },
    {
     "cell_type": "code",
     "collapsed": false,
     "input": [
      "result.success"
     ],
     "language": "python",
     "metadata": {},
     "outputs": []
    },
    {
     "cell_type": "markdown",
     "metadata": {},
     "source": [
      "## Dumping A i.e. the calibration matrix (the transformation between the optitrack frame and the robot base frame)"
     ]
    },
    {
     "cell_type": "code",
     "collapsed": false,
     "input": [
      "result_a = appender(result.x[:12].reshape(3,4))"
     ],
     "language": "python",
     "metadata": {},
     "outputs": []
    },
    {
     "cell_type": "code",
     "collapsed": false,
     "input": [
      "calibration_matrix_a = result_to_calibration_matrix(result_a)"
     ],
     "language": "python",
     "metadata": {},
     "outputs": []
    },
    {
     "cell_type": "code",
     "collapsed": false,
     "input": [
      "rospy.set_param(\"/optitrack/calibration_matrix\", calibration_matrix_a)"
     ],
     "language": "python",
     "metadata": {},
     "outputs": []
    },
    {
     "cell_type": "code",
     "collapsed": false,
     "input": [
      "with open(rospack.get_path(\"optitrack_publisher\")+\"/config/calibration_matrix.yaml\", 'w') as f:\n",
      "    yaml.dump(calibration_matrix_a, f)"
     ],
     "language": "python",
     "metadata": {},
     "outputs": []
    },
    {
     "cell_type": "markdown",
     "metadata": {},
     "source": [
      "## Dumping B (the transformation between the optitack marker and the end effector frame)"
     ]
    },
    {
     "cell_type": "code",
     "collapsed": false,
     "input": [
      "result_b = appender(result.x[12:].reshape(3,4))"
     ],
     "language": "python",
     "metadata": {},
     "outputs": []
    },
    {
     "cell_type": "code",
     "collapsed": false,
     "input": [
      "calibration_matrix_b = result_to_calibration_matrix(result_b)"
     ],
     "language": "python",
     "metadata": {},
     "outputs": []
    },
    {
     "cell_type": "code",
     "collapsed": false,
     "input": [
      "with open(rospack.get_path(\"optitrack_publisher\")+\"/config/calibration_matrix_b.yaml\", 'w') as f:\n",
      "    yaml.dump(calibration_matrix_b, f)"
     ],
     "language": "python",
     "metadata": {},
     "outputs": []
    },
    {
     "cell_type": "markdown",
     "metadata": {},
     "source": [
      "## Testing calibration quality"
     ]
    },
    {
     "cell_type": "code",
     "collapsed": false,
     "input": [
      "mat_opt_check, mat_robot_check = record_calibration_points(False)"
     ],
     "language": "python",
     "metadata": {},
     "outputs": []
    },
    {
     "cell_type": "code",
     "collapsed": false,
     "input": [
      "print len(mat_opt), \"points recorded\""
     ],
     "language": "python",
     "metadata": {},
     "outputs": []
    },
    {
     "cell_type": "code",
     "collapsed": false,
     "input": [
      "calculate_cost(result_a, result_b, mat_robot_check, mat_opt_check)"
     ],
     "language": "python",
     "metadata": {},
     "outputs": []
    },
    {
     "cell_type": "code",
     "collapsed": false,
     "input": [
      "avg_error = calculate_position_error(result_a, result_b, mat_robot_check, mat_opt_check)/len(mat_opt_check)"
     ],
     "language": "python",
     "metadata": {},
     "outputs": []
    },
    {
     "cell_type": "code",
     "collapsed": false,
     "input": [
      "avg_error"
     ],
     "language": "python",
     "metadata": {},
     "outputs": []
    }
   ],
   "metadata": {}
  }
 ]
}