{
 "metadata": {
  "name": ""
 },
 "nbformat": 3,
 "nbformat_minor": 0,
 "worksheets": [
  {
   "cells": [
    {
     "cell_type": "code",
     "collapsed": false,
     "input": [
      "import rospy, baxter_interface, baxter_commander, tf, numpy as np, transformations, json, rospkg, yaml\n",
      "from os import system\n",
      "from scipy.optimize import minimize"
     ],
     "language": "python",
     "metadata": {},
     "outputs": []
    },
    {
     "cell_type": "code",
     "collapsed": false,
     "input": [
      "rospy.init_node('calibrator')"
     ],
     "language": "python",
     "metadata": {},
     "outputs": []
    },
    {
     "cell_type": "code",
     "collapsed": false,
     "input": [
      "rospy.set_param('/optitrack/objects', ['/robot/calibrator'])"
     ],
     "language": "python",
     "metadata": {},
     "outputs": []
    },
    {
     "cell_type": "code",
     "collapsed": false,
     "input": [
      "tfl = tf.TransformListener()"
     ],
     "language": "python",
     "metadata": {},
     "outputs": []
    },
    {
     "cell_type": "code",
     "collapsed": false,
     "input": [
      "rospack = rospkg.RosPack()"
     ],
     "language": "python",
     "metadata": {},
     "outputs": []
    },
    {
     "cell_type": "code",
     "collapsed": false,
     "input": [
      "commander = baxter_commander.ArmCommander('right')"
     ],
     "language": "python",
     "metadata": {},
     "outputs": []
    },
    {
     "cell_type": "code",
     "collapsed": false,
     "input": [
      "world_frame_robot = 'base'\n",
      "world_frame_opt = 'optitrack_frame'\n",
      "calib_frame_robot = 'right_gripper'\n",
      "calib_frame_opt = '/robot/calibrator'"
     ],
     "language": "python",
     "metadata": {},
     "outputs": []
    },
    {
     "cell_type": "code",
     "collapsed": false,
     "input": [
      "mat_robot = [] # Matrix of all calibration points of calib_frame_robot in frame world_frame_robot (position only)\n",
      "mat_opt = [] # Matrix of all calibration points of calib_frame_opt in frame world_frame_opt (position only)\n",
      "max_dur = rospy.Duration(0.05) # seconds\n",
      "sleep = 0.1\n",
      "min_dist = 0.01 # deltaM to record a new point\n",
      "\n",
      "duration = rospy.Duration(60)\n",
      "\n",
      "start = rospy.Time.now()\n",
      "last_point = None\n",
      "while rospy.Time.now()<start+duration:   \n",
      "    ref_time = tfl.getLatestCommonTime(world_frame_opt, world_frame_robot)\n",
      "    now = rospy.Time.now()\n",
      "    \n",
      "    if ref_time + max_dur > now:\n",
      "        try:\n",
      "            pose_rg_robot = tfl.lookupTransform(world_frame_robot, calib_frame_robot, rospy.Time(0))\n",
      "        except Exception, e:\n",
      "            print \"Robot transf not available, time synchro?\", e.message\n",
      "            #rospy.logerr(\"Unable to get the transform from {} to {}, are they both published by the robot?\"\n",
      "            #             \"{}\".format(calib_frame_robot, world_frame_robot, e.message))\n",
      "            continue\n",
      "\n",
      "        if last_point is None or transformations.distance(pose_rg_robot, last_point)>min_dist:\n",
      "            try:\n",
      "                pose_rg_opt = tfl.lookupTransform(world_frame_opt, calib_frame_opt, rospy.Time(0))\n",
      "            except:\n",
      "                #rospy.logerr(\"Unable to get the transform from {} to {}, is the optitrack publisher running, and {} the right name\"\n",
      "                #             \" of the rigid body, and is the marker currently visible?\".format(calib_frame_opt, world_frame_opt, calib_frame_opt))\n",
      "                #rospy.sleep(sleep)\n",
      "                print \"Not visible\"\n",
      "                continue\n",
      "                           \n",
      "            mat_robot.append(np.array(pose_rg_robot))\n",
      "            mat_opt.append(np.array(pose_rg_opt))\n",
      "            last_point = pose_rg_robot\n",
      "            system('beep')\n",
      "    else:\n",
      "        print \"TFs are\", (now - ref_time).to_sec(), \"sec late\"\n",
      "    rospy.sleep(0.5)"
     ],
     "language": "python",
     "metadata": {},
     "outputs": []
    },
    {
     "cell_type": "code",
     "collapsed": false,
     "input": [
      "print len(mat_opt), \"points recorded\""
     ],
     "language": "python",
     "metadata": {},
     "outputs": []
    },
    {
     "cell_type": "code",
     "collapsed": false,
     "input": [
      "def list_to_matrix(pose):\n",
      "    matrix = tf.transformations.quaternion_matrix(pose[1])\n",
      "    matrix[0][3] = pose[0][0]\n",
      "    matrix[1][3] = pose[0][1]\n",
      "    matrix[2][3] = pose[0][2]\n",
      "    return matrix\n",
      "\n",
      "def matrix_to_list(matrix):\n",
      "    return [tf.transformations.translation_from_matrix(matrix), tf.transformations.quaternion_from_matrix(matrix)]"
     ],
     "language": "python",
     "metadata": {},
     "outputs": []
    },
    {
     "cell_type": "code",
     "collapsed": false,
     "input": [
      "def appender(mat):\n",
      "    return np.append(mat, [0., 0., 0., 1.]).reshape(4,4)\n",
      "def col_norm(mat):\n",
      "    return abs(np.linalg.det(mat)-1)"
     ],
     "language": "python",
     "metadata": {},
     "outputs": []
    },
    {
     "cell_type": "code",
     "collapsed": false,
     "input": [
      "def fitfunc(p, coords_robot, coords_opt):\n",
      "    cost = 0.\n",
      "    A = np.append(p[:12], [0., 0., 0., 1.]).reshape(4,4)\n",
      "    B = np.append(p[12:], [0., 0., 0., 1.]).reshape(4,4)\n",
      "    \n",
      "    for i in range(len(coords_robot)):\n",
      "        robot = list_to_matrix(coords_robot[i])\n",
      "        opt = list_to_matrix(coords_opt[i])\n",
      "        product = np.dot(robot, B)\n",
      "        product = np.dot(A, product)\n",
      "        \n",
      "        norm = np.linalg.norm(opt-product)\n",
      "        rot_a = A[:-1,:-1]\n",
      "        rot_b = B[:-1,:-1]\n",
      "        id_cost_a = np.linalg.norm(np.dot(rot_a, rot_a.T)-np.eye(3, 3))\n",
      "        id_cost_b = np.linalg.norm(np.dot(rot_b, rot_b.T)-np.eye(3, 3))\n",
      "        norm_cost_a = col_norm(rot_a)\n",
      "        norm_cost_b = col_norm(rot_b)\n",
      "        cost += 20*norm + id_cost_a + id_cost_b + norm_cost_a + norm_cost_b\n",
      "    return cost"
     ],
     "language": "python",
     "metadata": {},
     "outputs": []
    },
    {
     "cell_type": "code",
     "collapsed": false,
     "input": [
      "a_init = np.eye(4)[:3].reshape(12,)\n",
      "b_init = np.eye(4)[:3].reshape(12,)\n",
      "initial_guess = np.append(a_init, b_init)"
     ],
     "language": "python",
     "metadata": {},
     "outputs": []
    },
    {
     "cell_type": "code",
     "collapsed": true,
     "input": [
      "p1 = minimize(fitfunc, initial_guess, args=(mat_robot, mat_opt, ))"
     ],
     "language": "python",
     "metadata": {},
     "outputs": []
    },
    {
     "cell_type": "code",
     "collapsed": false,
     "input": [
      "p1.x"
     ],
     "language": "python",
     "metadata": {},
     "outputs": []
    },
    {
     "cell_type": "code",
     "collapsed": false,
     "input": [
      "result = appender(p1.x[:12].reshape(3,4))"
     ],
     "language": "python",
     "metadata": {},
     "outputs": []
    },
    {
     "cell_type": "code",
     "collapsed": false,
     "input": [
      "calibration_matrix = transformations.inverse_transform(matrix_to_list(result))"
     ],
     "language": "python",
     "metadata": {},
     "outputs": []
    },
    {
     "cell_type": "code",
     "collapsed": false,
     "input": [
      "calibration_matrix = [map(float, calibration_matrix[0]), map(float, calibration_matrix[1].tolist())]"
     ],
     "language": "python",
     "metadata": {},
     "outputs": []
    },
    {
     "cell_type": "code",
     "collapsed": false,
     "input": [
      "rospy.set_param(\"/optitrack/calibration_matrix\", calibration_matrix)"
     ],
     "language": "python",
     "metadata": {},
     "outputs": []
    },
    {
     "cell_type": "code",
     "collapsed": false,
     "input": [
      "with open(rospack.get_path(\"optitrack_publisher\")+\"/config/calibration_matrix.yaml\", 'w') as f:\n",
      "    yaml.dump(calibration_matrix, f)"
     ],
     "language": "python",
     "metadata": {},
     "outputs": []
    },
    {
     "cell_type": "code",
     "collapsed": false,
     "input": [],
     "language": "python",
     "metadata": {},
     "outputs": []
    }
   ],
   "metadata": {}
  }
 ]
}