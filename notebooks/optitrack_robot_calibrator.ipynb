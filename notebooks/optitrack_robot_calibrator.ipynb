{
 "metadata": {
  "name": ""
 },
 "nbformat": 3,
 "nbformat_minor": 0,
 "worksheets": [
  {
   "cells": [
    {
     "cell_type": "code",
     "collapsed": false,
     "input": [
      "import rospy, baxter_interface, baxter_commander, tf, actionlib, numpy as np, transformations, json, rospkg, yaml\n",
      "import matplotlib.pyplot as plt\n",
      "from random import uniform\n",
      "from mpl_toolkits.mplot3d import Axes3D\n",
      "from copy import deepcopy\n",
      "from os import system"
     ],
     "language": "python",
     "metadata": {},
     "outputs": [],
     "prompt_number": 1
    },
    {
     "cell_type": "code",
     "collapsed": false,
     "input": [
      "from geometry_msgs.msg import PoseStamped\n",
      "from control_msgs.msg import FollowJointTrajectoryGoal, FollowJointTrajectoryAction\n",
      "from actionlib_msgs.msg import GoalStatus"
     ],
     "language": "python",
     "metadata": {},
     "outputs": [],
     "prompt_number": 2
    },
    {
     "cell_type": "code",
     "collapsed": false,
     "input": [
      "from scipy import *\n",
      "from scipy.optimize import leastsq"
     ],
     "language": "python",
     "metadata": {},
     "outputs": [],
     "prompt_number": 3
    },
    {
     "cell_type": "code",
     "collapsed": false,
     "input": [
      "%matplotlib"
     ],
     "language": "python",
     "metadata": {},
     "outputs": [
      {
       "output_type": "stream",
       "stream": "stdout",
       "text": [
        "Using matplotlib backend: TkAgg\n"
       ]
      }
     ],
     "prompt_number": 4
    },
    {
     "cell_type": "code",
     "collapsed": false,
     "input": [
      "def compute_transformation(data_r1, data_r2):\n",
      "    \"\"\"\n",
      "    Computes the transformation between two frames thanks to a set of points with respect to both frames\n",
      "    :param data_r1: numpy arrays of calibration points (position only) in the first frame\n",
      "    :param data_r2: numpy arrays of calibration points (position only) in the second frame\n",
      "    :return: the (x, y, z) translation and the 3x3 rotation matrix from the frame of R1 to R2\n",
      "    \"\"\"\n",
      "    data_r1_centered = data_r1 - np.mean(data_r1, axis=0)\n",
      "    data_r2_centered = data_r2 - np.mean(data_r2, axis=0)\n",
      "\n",
      "    # Compute translation and rotation based on http://en.wikipedia.org/wiki/Orthogonal_Procrustes_problem\n",
      "    m = np.dot(np.transpose(data_r1_centered), data_r2_centered)\n",
      "    u, sigma, v = np.linalg.svd(m)\n",
      "    computed_rot = np.dot(u, np.transpose(v))\n",
      "    computed_rot = np.dot(u, v)\n",
      "\n",
      "    computed_trans =  np.mean(data_r1, axis=0) - np.dot(np.mean(data_r2, axis=0), np.linalg.inv(computed_rot))\n",
      "\n",
      "    return computed_trans, computed_rot"
     ],
     "language": "python",
     "metadata": {},
     "outputs": [],
     "prompt_number": 5
    },
    {
     "cell_type": "code",
     "collapsed": false,
     "input": [
      "rospy.init_node('test')"
     ],
     "language": "python",
     "metadata": {},
     "outputs": [],
     "prompt_number": 6
    },
    {
     "cell_type": "code",
     "collapsed": false,
     "input": [
      "rospack = rospkg.RosPack()"
     ],
     "language": "python",
     "metadata": {},
     "outputs": [],
     "prompt_number": 7
    },
    {
     "cell_type": "code",
     "collapsed": false,
     "input": [
      "tfl = tf.TransformListener(True, rospy.Duration(100))"
     ],
     "language": "python",
     "metadata": {},
     "outputs": [],
     "prompt_number": 12
    },
    {
     "cell_type": "code",
     "collapsed": false,
     "input": [
      "head = baxter_interface.Head()"
     ],
     "language": "python",
     "metadata": {},
     "outputs": [],
     "prompt_number": 13
    },
    {
     "cell_type": "code",
     "collapsed": false,
     "input": [
      "min_pan, max_pan = -1.5, 1.5"
     ],
     "language": "python",
     "metadata": {},
     "outputs": [],
     "prompt_number": 14
    },
    {
     "cell_type": "code",
     "collapsed": true,
     "input": [
      "opt_pose_list = []\n",
      "num_points = 130\n",
      "max_error_opt = 0.01\n",
      "old_pose_g_curr = None\n",
      "for i in range(num_points):\n",
      "    print \"Point\", i+1, \"over\", num_points\n",
      "    while True:\n",
      "        angle = uniform(-1.5, 1.5)\n",
      "\n",
      "        #query = raw_input(\"Angle for head pan [{}, {}]: \".format(min_pan, max_pan))\n",
      "        #try:\n",
      "        #    angle = float(query)\n",
      "        #    if not min_pan <= angle <= max_pan:\n",
      "        #        raise ValueError()\n",
      "        #except ValueError:\n",
      "        #    rospy.logerr(\"Invalid angle\")\n",
      "        #    continue\n",
      "        \n",
      "        head.set_pan(angle)\n",
      "        rospy.sleep(4)\n",
      "        \n",
      "        try:\n",
      "            lct = tfl.getLatestCommonTime('base', '/robot/head')\n",
      "        except:\n",
      "            print \"Extrapolation exception\"\n",
      "            continue\n",
      "\n",
      "        if rospy.Time.now() - lct > rospy.Duration(0.5):\n",
      "            print \"No recent optitrack view of the marker\"\n",
      "            continue\n",
      "        \n",
      "        t_start = rospy.Time.now()\n",
      "        opt_gripper = tfl.lookupTransform('optitrack_frame', '/robot/head', lct)\n",
      "        ok = True\n",
      "        while rospy.Time.now() - t_start < rospy.Duration(2):\n",
      "            rospy.sleep(0.1)\n",
      "            opt_error = transformations.distance(tfl.lookupTransform('optitrack_frame', '/robot/head', rospy.Time(0)), opt_gripper)\n",
      "            if opt_error>max_error_opt:\n",
      "                ok = False\n",
      "                print \"Too high optitrack error:\", opt_error\n",
      "                break\n",
      "        print \"Optitrack error:\", opt_error\n",
      "        \n",
      "        if not ok:\n",
      "            print \"Not stable\"\n",
      "            continue\n",
      "        \n",
      "        opt_pose_list.append(opt_gripper)\n",
      "        \n",
      "        break # This point has an IK solution and has an optitrack view"
     ],
     "language": "python",
     "metadata": {},
     "outputs": [
      {
       "output_type": "stream",
       "stream": "stdout",
       "text": [
        "Point 1 over 1300\n",
        "Optitrack error:"
       ]
      },
      {
       "output_type": "stream",
       "stream": "stdout",
       "text": [
        " 2.21443335304e-05\n",
        "Point 2 over 1300\n",
        "Optitrack error:"
       ]
      },
      {
       "output_type": "stream",
       "stream": "stdout",
       "text": [
        " 1.798605508e-05\n",
        "Point 3 over 1300\n",
        "Optitrack error:"
       ]
      },
      {
       "output_type": "stream",
       "stream": "stdout",
       "text": [
        " 0.000729188471096\n",
        "Point 4 over 1300\n",
        "Optitrack error:"
       ]
      },
      {
       "output_type": "stream",
       "stream": "stdout",
       "text": [
        " 6.09252111424e-05\n",
        "Point 5 over 1300\n",
        "Optitrack error:"
       ]
      },
      {
       "output_type": "stream",
       "stream": "stdout",
       "text": [
        " 1.61471782454e-05\n",
        "Point 6 over 1300\n",
        "Optitrack error:"
       ]
      },
      {
       "output_type": "stream",
       "stream": "stdout",
       "text": [
        " 1.35238522865e-05\n",
        "Point 7 over 1300\n",
        "Optitrack error:"
       ]
      },
      {
       "output_type": "stream",
       "stream": "stdout",
       "text": [
        " 6.18972784247e-05\n",
        "Point 8 over 1300\n",
        "Optitrack error:"
       ]
      },
      {
       "output_type": "stream",
       "stream": "stdout",
       "text": [
        " 1.51317753587e-05\n",
        "Point 9 over 1300\n",
        "Optitrack error:"
       ]
      },
      {
       "output_type": "stream",
       "stream": "stdout",
       "text": [
        " 0.000146617323087\n",
        "Point 10 over 1300\n",
        "No recent optitrack view of the marker"
       ]
      },
      {
       "output_type": "stream",
       "stream": "stdout",
       "text": [
        "\n",
        "Optitrack error:"
       ]
      },
      {
       "output_type": "stream",
       "stream": "stdout",
       "text": [
        " 1.63271891638e-05\n",
        "Point 11 over 1300\n",
        "Optitrack error:"
       ]
      },
      {
       "output_type": "stream",
       "stream": "stdout",
       "text": [
        " 7.6927754431e-06\n",
        "Point 12 over 1300\n",
        "Optitrack error:"
       ]
      },
      {
       "output_type": "stream",
       "stream": "stdout",
       "text": [
        " 0.000347270981875\n",
        "Point 13 over 1300\n",
        "Optitrack error:"
       ]
      },
      {
       "output_type": "stream",
       "stream": "stdout",
       "text": [
        " 9.16801647841e-06\n",
        "Point 14 over 1300\n",
        "Optitrack error:"
       ]
      },
      {
       "output_type": "stream",
       "stream": "stdout",
       "text": [
        " 1.09715589996e-05\n",
        "Point 15 over 1300\n",
        "Optitrack error:"
       ]
      },
      {
       "output_type": "stream",
       "stream": "stdout",
       "text": [
        " 2.80232128783e-05\n",
        "Point 16 over 1300\n",
        "Optitrack error:"
       ]
      },
      {
       "output_type": "stream",
       "stream": "stdout",
       "text": [
        " 0.000275317786191\n",
        "Point 17 over 1300\n",
        "Optitrack error:"
       ]
      },
      {
       "output_type": "stream",
       "stream": "stdout",
       "text": [
        " 6.12724459978e-05\n",
        "Point 18 over 1300\n",
        "Optitrack error:"
       ]
      },
      {
       "output_type": "stream",
       "stream": "stdout",
       "text": [
        " 8.74075642241e-05\n",
        "Point 19 over 1300\n",
        "Optitrack error:"
       ]
      },
      {
       "output_type": "stream",
       "stream": "stdout",
       "text": [
        " 3.82424331039e-05\n",
        "Point 20 over 1300\n",
        "Optitrack error:"
       ]
      },
      {
       "output_type": "stream",
       "stream": "stdout",
       "text": [
        " 0.000249597743799\n",
        "Point 21 over 1300\n",
        "Optitrack error:"
       ]
      },
      {
       "output_type": "stream",
       "stream": "stdout",
       "text": [
        " 0.000133793604743\n",
        "Point 22 over 1300\n",
        "No recent optitrack view of the marker"
       ]
      },
      {
       "output_type": "stream",
       "stream": "stdout",
       "text": [
        "\n",
        "Optitrack error:"
       ]
      },
      {
       "output_type": "stream",
       "stream": "stdout",
       "text": [
        " 0.000208198423029\n",
        "Point 23 over 1300\n",
        "Optitrack error:"
       ]
      },
      {
       "output_type": "stream",
       "stream": "stdout",
       "text": [
        " 2.79354576285e-05\n",
        "Point 24 over 1300\n",
        "Optitrack error:"
       ]
      },
      {
       "output_type": "stream",
       "stream": "stdout",
       "text": [
        " 3.16918090056e-05\n",
        "Point 25 over 1300\n",
        "No recent optitrack view of the marker"
       ]
      },
      {
       "output_type": "stream",
       "stream": "stdout",
       "text": [
        "\n",
        "Optitrack error:"
       ]
      },
      {
       "output_type": "stream",
       "stream": "stdout",
       "text": [
        " 3.34092655823e-05\n",
        "Point 26 over 1300\n",
        "Optitrack error:"
       ]
      },
      {
       "output_type": "stream",
       "stream": "stdout",
       "text": [
        " 6.04235329816e-06\n",
        "Point 27 over 1300\n",
        "Optitrack error:"
       ]
      },
      {
       "output_type": "stream",
       "stream": "stdout",
       "text": [
        " 6.46684715158e-05\n",
        "Point 28 over 1300\n",
        "No recent optitrack view of the marker"
       ]
      },
      {
       "output_type": "stream",
       "stream": "stdout",
       "text": [
        "\n",
        "Optitrack error:"
       ]
      },
      {
       "output_type": "stream",
       "stream": "stdout",
       "text": [
        " 0.000121886816362\n",
        "Point 29 over 1300\n",
        "Optitrack error:"
       ]
      },
      {
       "output_type": "stream",
       "stream": "stdout",
       "text": [
        " 0.00043004293015\n",
        "Point 30 over 1300\n",
        "Optitrack error:"
       ]
      },
      {
       "output_type": "stream",
       "stream": "stdout",
       "text": [
        " 0.000187898809464\n",
        "Point 31 over 1300\n",
        "Optitrack error:"
       ]
      },
      {
       "output_type": "stream",
       "stream": "stdout",
       "text": [
        " 5.22750717265e-05\n",
        "Point 32 over 1300\n",
        "Optitrack error:"
       ]
      },
      {
       "output_type": "stream",
       "stream": "stdout",
       "text": [
        " 2.13978024624e-05\n",
        "Point 33 over 1300\n",
        "Optitrack error:"
       ]
      },
      {
       "output_type": "stream",
       "stream": "stdout",
       "text": [
        " 0.000144406973189\n",
        "Point 34 over 1300\n",
        "Optitrack error:"
       ]
      },
      {
       "output_type": "stream",
       "stream": "stdout",
       "text": [
        " 2.09539416605e-05\n",
        "Point 35 over 1300\n",
        "Optitrack error:"
       ]
      },
      {
       "output_type": "stream",
       "stream": "stdout",
       "text": [
        " 1.8629445614e-05\n",
        "Point 36 over 1300\n",
        "Optitrack error:"
       ]
      },
      {
       "output_type": "stream",
       "stream": "stdout",
       "text": [
        " 1.25876490981e-05\n",
        "Point 37 over 1300\n",
        "Optitrack error:"
       ]
      },
      {
       "output_type": "stream",
       "stream": "stdout",
       "text": [
        " 1.283046678e-05\n",
        "Point 38 over 1300\n",
        "Optitrack error:"
       ]
      },
      {
       "output_type": "stream",
       "stream": "stdout",
       "text": [
        " 0.000115484455124\n",
        "Point 39 over 1300\n",
        "Optitrack error:"
       ]
      },
      {
       "output_type": "stream",
       "stream": "stdout",
       "text": [
        " 2.45630095097e-05\n",
        "Point 40 over 1300\n",
        "No recent optitrack view of the marker"
       ]
      },
      {
       "output_type": "stream",
       "stream": "stdout",
       "text": [
        "\n",
        "No recent optitrack view of the marker"
       ]
      },
      {
       "output_type": "stream",
       "stream": "stdout",
       "text": [
        "\n",
        "Optitrack error:"
       ]
      },
      {
       "output_type": "stream",
       "stream": "stdout",
       "text": [
        " 3.19998114655e-05\n",
        "Point 41 over 1300\n",
        "Optitrack error:"
       ]
      },
      {
       "output_type": "stream",
       "stream": "stdout",
       "text": [
        " 1.61486339383e-05\n",
        "Point 42 over 1300\n",
        "Optitrack error:"
       ]
      },
      {
       "output_type": "stream",
       "stream": "stdout",
       "text": [
        " 4.03064693492e-05\n",
        "Point 43 over 1300\n",
        "No recent optitrack view of the marker"
       ]
      },
      {
       "output_type": "stream",
       "stream": "stdout",
       "text": [
        "\n",
        "Optitrack error:"
       ]
      },
      {
       "output_type": "stream",
       "stream": "stdout",
       "text": [
        " 0.000178441469719\n",
        "Point 44 over 1300\n",
        "No recent optitrack view of the marker"
       ]
      },
      {
       "output_type": "stream",
       "stream": "stdout",
       "text": [
        "\n",
        "Optitrack error:"
       ]
      },
      {
       "output_type": "stream",
       "stream": "stdout",
       "text": [
        " 1.87055268765e-05\n",
        "Point 45 over 1300\n",
        "Optitrack error:"
       ]
      },
      {
       "output_type": "stream",
       "stream": "stdout",
       "text": [
        " 2.54106270318e-05\n",
        "Point 46 over 1300\n",
        "Optitrack error:"
       ]
      },
      {
       "output_type": "stream",
       "stream": "stdout",
       "text": [
        " 4.69990951908e-06\n",
        "Point 47 over 1300\n",
        "Optitrack error:"
       ]
      },
      {
       "output_type": "stream",
       "stream": "stdout",
       "text": [
        " 1.34817626533e-05\n",
        "Point 48 over 1300\n",
        "Optitrack error:"
       ]
      },
      {
       "output_type": "stream",
       "stream": "stdout",
       "text": [
        " 7.52759071819e-06\n",
        "Point 49 over 1300\n",
        "No recent optitrack view of the marker"
       ]
      },
      {
       "output_type": "stream",
       "stream": "stdout",
       "text": [
        "\n",
        "Optitrack error:"
       ]
      },
      {
       "output_type": "stream",
       "stream": "stdout",
       "text": [
        " 0.00190981237834\n",
        "Point 50 over 1300\n",
        "Optitrack error:"
       ]
      },
      {
       "output_type": "stream",
       "stream": "stdout",
       "text": [
        " 1.37268507478e-05\n",
        "Point 51 over 1300\n",
        "Optitrack error:"
       ]
      },
      {
       "output_type": "stream",
       "stream": "stdout",
       "text": [
        " 0.00020835414429\n",
        "Point 52 over 1300\n",
        "Optitrack error:"
       ]
      },
      {
       "output_type": "stream",
       "stream": "stdout",
       "text": [
        " 1.77432720586e-05\n",
        "Point 53 over 1300\n",
        "Optitrack error:"
       ]
      },
      {
       "output_type": "stream",
       "stream": "stdout",
       "text": [
        " 1.15336967527e-05\n",
        "Point 54 over 1300\n",
        "Optitrack error:"
       ]
      },
      {
       "output_type": "stream",
       "stream": "stdout",
       "text": [
        " 0.000165738710266\n",
        "Point 55 over 1300\n",
        "Optitrack error:"
       ]
      },
      {
       "output_type": "stream",
       "stream": "stdout",
       "text": [
        " 2.49441772013e-05\n",
        "Point 56 over 1300\n",
        "Optitrack error:"
       ]
      },
      {
       "output_type": "stream",
       "stream": "stdout",
       "text": [
        " 2.41503464713e-05\n",
        "Point 57 over 1300\n",
        "Optitrack error:"
       ]
      },
      {
       "output_type": "stream",
       "stream": "stdout",
       "text": [
        " 0.000203428490452\n",
        "Point 58 over 1300\n",
        "No recent optitrack view of the marker"
       ]
      },
      {
       "output_type": "stream",
       "stream": "stdout",
       "text": [
        "\n",
        "Optitrack error:"
       ]
      },
      {
       "output_type": "stream",
       "stream": "stdout",
       "text": [
        " 1.00718837972e-05\n",
        "Point 59 over 1300\n",
        "Optitrack error:"
       ]
      },
      {
       "output_type": "stream",
       "stream": "stdout",
       "text": [
        " 3.94599246385e-05\n",
        "Point 60 over 1300\n",
        "Optitrack error:"
       ]
      },
      {
       "output_type": "stream",
       "stream": "stdout",
       "text": [
        " 1.37613092775e-05\n",
        "Point 61 over 1300\n",
        "Optitrack error:"
       ]
      },
      {
       "output_type": "stream",
       "stream": "stdout",
       "text": [
        " 1.35465540646e-05\n",
        "Point 62 over 1300\n",
        "Optitrack error:"
       ]
      },
      {
       "output_type": "stream",
       "stream": "stdout",
       "text": [
        " 1.12273733829e-05\n",
        "Point 63 over 1300\n",
        "Optitrack error:"
       ]
      },
      {
       "output_type": "stream",
       "stream": "stdout",
       "text": [
        " 4.49334516782e-05\n",
        "Point 64 over 1300\n",
        "Optitrack error:"
       ]
      },
      {
       "output_type": "stream",
       "stream": "stdout",
       "text": [
        " 0.000143988282768\n",
        "Point 65 over 1300\n",
        "Optitrack error:"
       ]
      },
      {
       "output_type": "stream",
       "stream": "stdout",
       "text": [
        " 0.000208369309847\n",
        "Point 66 over 1300\n",
        "Optitrack error:"
       ]
      },
      {
       "output_type": "stream",
       "stream": "stdout",
       "text": [
        " 8.49327587043e-06\n",
        "Point 67 over 1300\n",
        "Optitrack error:"
       ]
      },
      {
       "output_type": "stream",
       "stream": "stdout",
       "text": [
        " 0.000543230900015\n",
        "Point 68 over 1300\n",
        "Optitrack error:"
       ]
      },
      {
       "output_type": "stream",
       "stream": "stdout",
       "text": [
        " 0.000110382799297\n",
        "Point 69 over 1300\n",
        "Optitrack error:"
       ]
      },
      {
       "output_type": "stream",
       "stream": "stdout",
       "text": [
        " 2.61758018527e-05\n",
        "Point 70 over 1300\n",
        "No recent optitrack view of the marker"
       ]
      },
      {
       "output_type": "stream",
       "stream": "stdout",
       "text": [
        "\n",
        "Optitrack error:"
       ]
      },
      {
       "output_type": "stream",
       "stream": "stdout",
       "text": [
        " 0.000279570147882\n",
        "Point 71 over 1300\n",
        "Optitrack error:"
       ]
      },
      {
       "output_type": "stream",
       "stream": "stdout",
       "text": [
        " 1.23432258008e-05\n",
        "Point 72 over 1300\n",
        "Optitrack error:"
       ]
      },
      {
       "output_type": "stream",
       "stream": "stdout",
       "text": [
        " 0.000696137383058\n",
        "Point 73 over 1300\n",
        "Optitrack error:"
       ]
      },
      {
       "output_type": "stream",
       "stream": "stdout",
       "text": [
        " 2.2159525047e-05\n",
        "Point 74 over 1300\n",
        "No recent optitrack view of the marker"
       ]
      },
      {
       "output_type": "stream",
       "stream": "stdout",
       "text": [
        "\n",
        "Optitrack error:"
       ]
      },
      {
       "output_type": "stream",
       "stream": "stdout",
       "text": [
        " 5.77119486764e-05\n",
        "Point 75 over 1300\n",
        "Optitrack error:"
       ]
      },
      {
       "output_type": "stream",
       "stream": "stdout",
       "text": [
        " 4.78644434659e-05\n",
        "Point 76 over 1300\n",
        "Optitrack error:"
       ]
      },
      {
       "output_type": "stream",
       "stream": "stdout",
       "text": [
        " 1.41542387135e-05\n",
        "Point 77 over 1300\n",
        "Optitrack error:"
       ]
      },
      {
       "output_type": "stream",
       "stream": "stdout",
       "text": [
        " 1.43797440845e-05\n",
        "Point 78 over 1300\n",
        "Optitrack error:"
       ]
      },
      {
       "output_type": "stream",
       "stream": "stdout",
       "text": [
        " 0.000113837731275\n",
        "Point 79 over 1300\n",
        "Optitrack error:"
       ]
      },
      {
       "output_type": "stream",
       "stream": "stdout",
       "text": [
        " 0.00015006315465\n",
        "Point 80 over 1300\n",
        "Optitrack error:"
       ]
      },
      {
       "output_type": "stream",
       "stream": "stdout",
       "text": [
        " 6.55798614362e-05\n",
        "Point 81 over 1300\n",
        "Optitrack error:"
       ]
      },
      {
       "output_type": "stream",
       "stream": "stdout",
       "text": [
        " 3.33452561632e-05\n",
        "Point 82 over 1300\n",
        "Optitrack error:"
       ]
      },
      {
       "output_type": "stream",
       "stream": "stdout",
       "text": [
        " 3.0967711874e-05\n",
        "Point 83 over 1300\n",
        "Optitrack error:"
       ]
      },
      {
       "output_type": "stream",
       "stream": "stdout",
       "text": [
        " 1.77349862021e-05\n",
        "Point 84 over 1300\n",
        "Optitrack error:"
       ]
      },
      {
       "output_type": "stream",
       "stream": "stdout",
       "text": [
        " 0.00677133457895\n",
        "Point 85 over 1300\n",
        "Optitrack error:"
       ]
      },
      {
       "output_type": "stream",
       "stream": "stdout",
       "text": [
        " 6.13123385338e-05\n",
        "Point 86 over 1300\n",
        "Optitrack error:"
       ]
      },
      {
       "output_type": "stream",
       "stream": "stdout",
       "text": [
        " 2.06356460473e-05\n",
        "Point 87 over 1300\n",
        "Optitrack error:"
       ]
      },
      {
       "output_type": "stream",
       "stream": "stdout",
       "text": [
        " 0.000246036732529\n",
        "Point 88 over 1300\n",
        "Optitrack error:"
       ]
      },
      {
       "output_type": "stream",
       "stream": "stdout",
       "text": [
        " 2.28878616787e-05\n",
        "Point 89 over 1300\n",
        "Optitrack error:"
       ]
      },
      {
       "output_type": "stream",
       "stream": "stdout",
       "text": [
        " 6.05653824745e-05\n",
        "Point 90 over 1300\n",
        "Optitrack error:"
       ]
      },
      {
       "output_type": "stream",
       "stream": "stdout",
       "text": [
        " 0.000452632092794\n",
        "Point 91 over 1300\n",
        "Optitrack error:"
       ]
      },
      {
       "output_type": "stream",
       "stream": "stdout",
       "text": [
        " 1.58709802524e-05\n",
        "Point 92 over 1300\n",
        "Optitrack error:"
       ]
      },
      {
       "output_type": "stream",
       "stream": "stdout",
       "text": [
        " 0.000178171096009\n",
        "Point 93 over 1300\n",
        "Optitrack error:"
       ]
      },
      {
       "output_type": "stream",
       "stream": "stdout",
       "text": [
        " 1.64019289219e-05\n",
        "Point 94 over 1300\n",
        "Optitrack error:"
       ]
      },
      {
       "output_type": "stream",
       "stream": "stdout",
       "text": [
        " 6.60751917527e-06\n",
        "Point 95 over 1300\n",
        "Optitrack error:"
       ]
      },
      {
       "output_type": "stream",
       "stream": "stdout",
       "text": [
        " 0.00571914540737\n",
        "Point 96 over 1300\n",
        "Optitrack error:"
       ]
      },
      {
       "output_type": "stream",
       "stream": "stdout",
       "text": [
        " 6.12804859845e-05\n",
        "Point 97 over 1300\n",
        "No recent optitrack view of the marker"
       ]
      },
      {
       "output_type": "stream",
       "stream": "stdout",
       "text": [
        "\n",
        "Optitrack error:"
       ]
      },
      {
       "output_type": "stream",
       "stream": "stdout",
       "text": [
        " 2.49253511855e-05\n",
        "Point 98 over 1300\n",
        "Optitrack error:"
       ]
      },
      {
       "output_type": "stream",
       "stream": "stdout",
       "text": [
        " 3.79349996855e-05\n",
        "Point 99 over 1300\n",
        "Optitrack error:"
       ]
      },
      {
       "output_type": "stream",
       "stream": "stdout",
       "text": [
        " 0.000346146202551\n",
        "Point 100 over 1300\n",
        "Optitrack error:"
       ]
      },
      {
       "output_type": "stream",
       "stream": "stdout",
       "text": [
        " 1.25301851494e-05\n",
        "Point 101 over 1300\n",
        "Optitrack error:"
       ]
      },
      {
       "output_type": "stream",
       "stream": "stdout",
       "text": [
        " 0.000292293576528\n",
        "Point 102 over 1300\n",
        "Optitrack error:"
       ]
      },
      {
       "output_type": "stream",
       "stream": "stdout",
       "text": [
        " 0.000229337636392\n",
        "Point 103 over 1300\n",
        "Optitrack error:"
       ]
      },
      {
       "output_type": "stream",
       "stream": "stdout",
       "text": [
        " 0.000182567022864\n",
        "Point 104 over 1300\n",
        "Optitrack error:"
       ]
      },
      {
       "output_type": "stream",
       "stream": "stdout",
       "text": [
        " 6.88200146698e-05\n",
        "Point 105 over 1300\n",
        "No recent optitrack view of the marker"
       ]
      },
      {
       "output_type": "stream",
       "stream": "stdout",
       "text": [
        "\n",
        "Optitrack error:"
       ]
      },
      {
       "output_type": "stream",
       "stream": "stdout",
       "text": [
        " 3.55951635597e-05\n",
        "Point 106 over 1300\n",
        "Optitrack error:"
       ]
      },
      {
       "output_type": "stream",
       "stream": "stdout",
       "text": [
        " 3.05933368168e-05\n",
        "Point 107 over 1300\n",
        "Optitrack error:"
       ]
      },
      {
       "output_type": "stream",
       "stream": "stdout",
       "text": [
        " 2.17978360603e-05\n",
        "Point 108 over 1300\n",
        "Optitrack error:"
       ]
      },
      {
       "output_type": "stream",
       "stream": "stdout",
       "text": [
        " 5.92487277422e-05\n",
        "Point 109 over 1300\n",
        "Optitrack error:"
       ]
      },
      {
       "output_type": "stream",
       "stream": "stdout",
       "text": [
        " 0.000197675944102\n",
        "Point 110 over 1300\n",
        "No recent optitrack view of the marker"
       ]
      },
      {
       "output_type": "stream",
       "stream": "stdout",
       "text": [
        "\n",
        "Optitrack error:"
       ]
      },
      {
       "output_type": "stream",
       "stream": "stdout",
       "text": [
        " 7.73213443333e-05\n",
        "Point 111 over 1300\n",
        "Optitrack error:"
       ]
      },
      {
       "output_type": "stream",
       "stream": "stdout",
       "text": [
        " 1.05097457844e-05\n",
        "Point 112 over 1300\n",
        "No recent optitrack view of the marker"
       ]
      },
      {
       "output_type": "stream",
       "stream": "stdout",
       "text": [
        "\n",
        "Optitrack error:"
       ]
      },
      {
       "output_type": "stream",
       "stream": "stdout",
       "text": [
        " 2.79929911342e-05\n",
        "Point 113 over 1300\n",
        "Optitrack error:"
       ]
      },
      {
       "output_type": "stream",
       "stream": "stdout",
       "text": [
        " 2.79243439424e-05\n",
        "Point 114 over 1300\n",
        "Optitrack error:"
       ]
      },
      {
       "output_type": "stream",
       "stream": "stdout",
       "text": [
        " 3.29608649453e-05\n",
        "Point 115 over 1300\n",
        "No recent optitrack view of the marker"
       ]
      },
      {
       "output_type": "stream",
       "stream": "stdout",
       "text": [
        "\n",
        "No recent optitrack view of the marker"
       ]
      },
      {
       "output_type": "stream",
       "stream": "stdout",
       "text": [
        "\n",
        "Optitrack error:"
       ]
      },
      {
       "output_type": "stream",
       "stream": "stdout",
       "text": [
        " 2.89159919696e-05\n",
        "Point 116 over 1300\n",
        "Optitrack error:"
       ]
      },
      {
       "output_type": "stream",
       "stream": "stdout",
       "text": [
        " 9.7535242975e-06\n",
        "Point 117 over 1300\n",
        "Optitrack error:"
       ]
      },
      {
       "output_type": "stream",
       "stream": "stdout",
       "text": [
        " 2.36532841191e-05\n",
        "Point 118 over 1300\n",
        "Optitrack error:"
       ]
      },
      {
       "output_type": "stream",
       "stream": "stdout",
       "text": [
        " 5.08488217759e-06\n",
        "Point 119 over 1300\n",
        "Optitrack error:"
       ]
      },
      {
       "output_type": "stream",
       "stream": "stdout",
       "text": [
        " 5.42167068549e-05\n",
        "Point 120 over 1300\n",
        "No recent optitrack view of the marker"
       ]
      },
      {
       "output_type": "stream",
       "stream": "stdout",
       "text": [
        "\n",
        "No recent optitrack view of the marker"
       ]
      },
      {
       "output_type": "stream",
       "stream": "stdout",
       "text": [
        "\n",
        "No recent optitrack view of the marker"
       ]
      },
      {
       "output_type": "stream",
       "stream": "stdout",
       "text": [
        "\n",
        "Optitrack error:"
       ]
      },
      {
       "output_type": "stream",
       "stream": "stdout",
       "text": [
        " 0.000210398602548\n",
        "Point 121 over 1300\n",
        "No recent optitrack view of the marker"
       ]
      },
      {
       "output_type": "stream",
       "stream": "stdout",
       "text": [
        "\n",
        "Optitrack error:"
       ]
      },
      {
       "output_type": "stream",
       "stream": "stdout",
       "text": [
        " 2.20122630806e-05\n",
        "Point 122 over 1300\n",
        "Optitrack error:"
       ]
      },
      {
       "output_type": "stream",
       "stream": "stdout",
       "text": [
        " 4.98975811863e-05\n",
        "Point 123 over 1300\n",
        "Optitrack error:"
       ]
      },
      {
       "output_type": "stream",
       "stream": "stdout",
       "text": [
        " 3.22576131179e-05\n",
        "Point 124 over 1300\n",
        "Optitrack error:"
       ]
      },
      {
       "output_type": "stream",
       "stream": "stdout",
       "text": [
        " 1.06979627718e-05\n",
        "Point 125 over 1300\n",
        "Optitrack error:"
       ]
      },
      {
       "output_type": "stream",
       "stream": "stdout",
       "text": [
        " 2.63898570379e-05\n",
        "Point 126 over 1300\n",
        "Optitrack error:"
       ]
      },
      {
       "output_type": "stream",
       "stream": "stdout",
       "text": [
        " 6.63920913626e-06\n",
        "Point 127 over 1300\n",
        "Optitrack error:"
       ]
      },
      {
       "output_type": "stream",
       "stream": "stdout",
       "text": [
        " 9.47649633233e-06\n",
        "Point 128 over 1300\n",
        "No recent optitrack view of the marker"
       ]
      },
      {
       "output_type": "stream",
       "stream": "stdout",
       "text": [
        "\n",
        "Optitrack error:"
       ]
      },
      {
       "output_type": "stream",
       "stream": "stdout",
       "text": [
        " 1.52159535824e-05\n",
        "Point 129 over 1300\n",
        "Optitrack error:"
       ]
      },
      {
       "output_type": "stream",
       "stream": "stdout",
       "text": [
        " 4.50835792257e-06\n",
        "Point 130 over 1300\n",
        "Optitrack error:"
       ]
      },
      {
       "output_type": "stream",
       "stream": "stdout",
       "text": [
        " 1.62163104561e-05\n",
        "Point 131 over 1300\n",
        "Optitrack error:"
       ]
      },
      {
       "output_type": "stream",
       "stream": "stdout",
       "text": [
        " 6.78825245768e-05\n",
        "Point 132 over 1300\n",
        "No recent optitrack view of the marker"
       ]
      },
      {
       "output_type": "stream",
       "stream": "stdout",
       "text": [
        "\n",
        "Optitrack error:"
       ]
      },
      {
       "output_type": "stream",
       "stream": "stdout",
       "text": [
        " 5.4237156234e-06\n",
        "Point 133 over 1300\n",
        "Optitrack error:"
       ]
      },
      {
       "output_type": "stream",
       "stream": "stdout",
       "text": [
        " 2.06226831434e-05\n",
        "Point 134 over 1300\n",
        "Optitrack error:"
       ]
      },
      {
       "output_type": "stream",
       "stream": "stdout",
       "text": [
        " 3.03190261735e-05\n",
        "Point 135 over 1300\n",
        "Optitrack error:"
       ]
      },
      {
       "output_type": "stream",
       "stream": "stdout",
       "text": [
        " 2.3500753072e-05\n",
        "Point 136 over 1300\n",
        "Optitrack error:"
       ]
      },
      {
       "output_type": "stream",
       "stream": "stdout",
       "text": [
        " 4.47466650237e-05\n",
        "Point 137 over 1300\n",
        "No recent optitrack view of the marker"
       ]
      },
      {
       "output_type": "stream",
       "stream": "stdout",
       "text": [
        "\n",
        "Optitrack error:"
       ]
      },
      {
       "output_type": "stream",
       "stream": "stdout",
       "text": [
        " 1.92034048177e-05\n",
        "Point 138 over 1300\n",
        "No recent optitrack view of the marker"
       ]
      },
      {
       "output_type": "stream",
       "stream": "stdout",
       "text": [
        "\n",
        "Optitrack error:"
       ]
      },
      {
       "output_type": "stream",
       "stream": "stdout",
       "text": [
        " 3.16781551179e-05\n",
        "Point 139 over 1300\n",
        "Optitrack error:"
       ]
      },
      {
       "output_type": "stream",
       "stream": "stdout",
       "text": [
        " 2.76218041594e-05\n",
        "Point 140 over 1300\n",
        "Optitrack error:"
       ]
      },
      {
       "output_type": "stream",
       "stream": "stdout",
       "text": [
        " 2.39040545698e-05\n",
        "Point 141 over 1300\n",
        "Optitrack error:"
       ]
      },
      {
       "output_type": "stream",
       "stream": "stdout",
       "text": [
        " 6.52714172575e-06\n",
        "Point 142 over 1300\n",
        "Optitrack error:"
       ]
      },
      {
       "output_type": "stream",
       "stream": "stdout",
       "text": [
        " 2.51807544603e-05\n",
        "Point 143 over 1300\n",
        "Optitrack error:"
       ]
      },
      {
       "output_type": "stream",
       "stream": "stdout",
       "text": [
        " 1.28368880943e-05\n",
        "Point 144 over 1300\n",
        "No recent optitrack view of the marker"
       ]
      },
      {
       "output_type": "stream",
       "stream": "stdout",
       "text": [
        "\n",
        "Optitrack error:"
       ]
      },
      {
       "output_type": "stream",
       "stream": "stdout",
       "text": [
        " 1.46875391479e-05\n",
        "Point 145 over 1300\n",
        "Optitrack error:"
       ]
      },
      {
       "output_type": "stream",
       "stream": "stdout",
       "text": [
        " 1.04666977619e-05\n",
        "Point 146 over 1300\n",
        "Optitrack error:"
       ]
      },
      {
       "output_type": "stream",
       "stream": "stdout",
       "text": [
        " 5.56355090465e-06\n",
        "Point 147 over 1300\n",
        "Optitrack error:"
       ]
      },
      {
       "output_type": "stream",
       "stream": "stdout",
       "text": [
        " 6.07345885155e-05\n",
        "Point 148 over 1300\n",
        "Optitrack error:"
       ]
      },
      {
       "output_type": "stream",
       "stream": "stdout",
       "text": [
        " 2.56995051649e-05\n",
        "Point 149 over 1300\n",
        "No recent optitrack view of the marker"
       ]
      },
      {
       "output_type": "stream",
       "stream": "stdout",
       "text": [
        "\n",
        "Optitrack error:"
       ]
      },
      {
       "output_type": "stream",
       "stream": "stdout",
       "text": [
        " 2.94243836749e-05\n",
        "Point 150 over 1300\n",
        "Optitrack error:"
       ]
      },
      {
       "output_type": "stream",
       "stream": "stdout",
       "text": [
        " 0.00106469325714\n",
        "Point 151 over 1300\n",
        "Optitrack error:"
       ]
      },
      {
       "output_type": "stream",
       "stream": "stdout",
       "text": [
        " 2.01404027393e-05\n",
        "Point 152 over 1300\n",
        "Optitrack error:"
       ]
      },
      {
       "output_type": "stream",
       "stream": "stdout",
       "text": [
        " 2.33982653329e-05\n",
        "Point 153 over 1300\n",
        "Optitrack error:"
       ]
      },
      {
       "output_type": "stream",
       "stream": "stdout",
       "text": [
        " 8.28007252461e-05\n",
        "Point 154 over 1300\n",
        "Optitrack error:"
       ]
      },
      {
       "output_type": "stream",
       "stream": "stdout",
       "text": [
        " 3.04863471099e-05\n",
        "Point 155 over 1300\n",
        "Optitrack error:"
       ]
      },
      {
       "output_type": "stream",
       "stream": "stdout",
       "text": [
        " 3.50264702241e-05\n",
        "Point 156 over 1300\n",
        "Optitrack error:"
       ]
      },
      {
       "output_type": "stream",
       "stream": "stdout",
       "text": [
        " 0.000109229081005\n",
        "Point 157 over 1300\n",
        "Optitrack error:"
       ]
      },
      {
       "output_type": "stream",
       "stream": "stdout",
       "text": [
        " 1.75588103389e-05\n",
        "Point 158 over 1300\n",
        "Optitrack error:"
       ]
      },
      {
       "output_type": "stream",
       "stream": "stdout",
       "text": [
        " 2.24766298422e-05\n",
        "Point 159 over 1300\n",
        "Optitrack error:"
       ]
      },
      {
       "output_type": "stream",
       "stream": "stdout",
       "text": [
        " 0.000218558952486\n",
        "Point 160 over 1300\n",
        "Optitrack error:"
       ]
      },
      {
       "output_type": "stream",
       "stream": "stdout",
       "text": [
        " 4.16989678938e-05\n",
        "Point 161 over 1300\n",
        "Optitrack error:"
       ]
      },
      {
       "output_type": "stream",
       "stream": "stdout",
       "text": [
        " 2.03636021691e-05\n",
        "Point 162 over 1300\n",
        "Optitrack error:"
       ]
      },
      {
       "output_type": "stream",
       "stream": "stdout",
       "text": [
        " 0.000121653589439\n",
        "Point 163 over 1300\n",
        "Optitrack error:"
       ]
      },
      {
       "output_type": "stream",
       "stream": "stdout",
       "text": [
        " 1.00328820483e-05\n",
        "Point 164 over 1300\n",
        "Optitrack error:"
       ]
      },
      {
       "output_type": "stream",
       "stream": "stdout",
       "text": [
        " 0.000211478374483\n",
        "Point 165 over 1300\n",
        "Optitrack error:"
       ]
      },
      {
       "output_type": "stream",
       "stream": "stdout",
       "text": [
        " 5.2896169198e-05\n",
        "Point 166 over 1300\n",
        "Optitrack error:"
       ]
      },
      {
       "output_type": "stream",
       "stream": "stdout",
       "text": [
        " 8.36262065076e-06\n",
        "Point 167 over 1300\n",
        "Optitrack error:"
       ]
      },
      {
       "output_type": "stream",
       "stream": "stdout",
       "text": [
        " 0.000209112422039\n",
        "Point 168 over 1300\n",
        "Optitrack error:"
       ]
      },
      {
       "output_type": "stream",
       "stream": "stdout",
       "text": [
        " 0.000124649429702\n",
        "Point 169 over 1300\n",
        "Optitrack error:"
       ]
      },
      {
       "output_type": "stream",
       "stream": "stdout",
       "text": [
        " 4.46181376679e-05\n",
        "Point 170 over 1300\n",
        "Optitrack error:"
       ]
      },
      {
       "output_type": "stream",
       "stream": "stdout",
       "text": [
        " 1.44537340151e-05\n",
        "Point 171 over 1300\n",
        "Optitrack error:"
       ]
      },
      {
       "output_type": "stream",
       "stream": "stdout",
       "text": [
        " 6.87137943976e-06\n",
        "Point 172 over 1300\n",
        "No recent optitrack view of the marker"
       ]
      },
      {
       "output_type": "stream",
       "stream": "stdout",
       "text": [
        "\n",
        "Optitrack error:"
       ]
      },
      {
       "output_type": "stream",
       "stream": "stdout",
       "text": [
        " 3.01620253263e-05\n",
        "Point 173 over 1300\n",
        "Optitrack error:"
       ]
      },
      {
       "output_type": "stream",
       "stream": "stdout",
       "text": [
        " 1.49396233282e-05\n",
        "Point 174 over 1300\n",
        "Optitrack error:"
       ]
      },
      {
       "output_type": "stream",
       "stream": "stdout",
       "text": [
        " 0.00109188487623\n",
        "Point 175 over 1300\n",
        "No recent optitrack view of the marker"
       ]
      },
      {
       "output_type": "stream",
       "stream": "stdout",
       "text": [
        "\n",
        "Optitrack error:"
       ]
      },
      {
       "output_type": "stream",
       "stream": "stdout",
       "text": [
        " 2.84286307492e-05\n",
        "Point 176 over 1300\n",
        "Optitrack error:"
       ]
      },
      {
       "output_type": "stream",
       "stream": "stdout",
       "text": [
        " 1.89730486171e-05\n",
        "Point 177 over 1300\n",
        "Optitrack error:"
       ]
      },
      {
       "output_type": "stream",
       "stream": "stdout",
       "text": [
        " 1.67792218356e-05\n",
        "Point 178 over 1300\n",
        "Optitrack error:"
       ]
      },
      {
       "output_type": "stream",
       "stream": "stdout",
       "text": [
        " 0.000250914983491\n",
        "Point 179 over 1300\n",
        "Optitrack error:"
       ]
      },
      {
       "output_type": "stream",
       "stream": "stdout",
       "text": [
        " 3.46653425167e-05\n",
        "Point 180 over 1300\n",
        "Optitrack error:"
       ]
      },
      {
       "output_type": "stream",
       "stream": "stdout",
       "text": [
        " 2.67492648121e-05\n",
        "Point 181 over 1300\n",
        "Optitrack error:"
       ]
      },
      {
       "output_type": "stream",
       "stream": "stdout",
       "text": [
        " 6.94544714301e-06\n",
        "Point 182 over 1300\n",
        "Optitrack error:"
       ]
      },
      {
       "output_type": "stream",
       "stream": "stdout",
       "text": [
        " 1.79019475858e-05\n",
        "Point 183 over 1300\n",
        "Optitrack error:"
       ]
      },
      {
       "output_type": "stream",
       "stream": "stdout",
       "text": [
        " 2.27101518591e-05\n",
        "Point 184 over 1300\n",
        "Optitrack error:"
       ]
      },
      {
       "output_type": "stream",
       "stream": "stdout",
       "text": [
        " 2.68169470728e-05\n",
        "Point 185 over 1300\n",
        "No recent optitrack view of the marker"
       ]
      },
      {
       "output_type": "stream",
       "stream": "stdout",
       "text": [
        "\n",
        "Optitrack error:"
       ]
      },
      {
       "output_type": "stream",
       "stream": "stdout",
       "text": [
        " 1.38988219635e-05\n",
        "Point 186 over 1300\n",
        "Optitrack error:"
       ]
      },
      {
       "output_type": "stream",
       "stream": "stdout",
       "text": [
        " 1.55348797754e-05\n",
        "Point 187 over 1300\n",
        "No recent optitrack view of the marker"
       ]
      },
      {
       "output_type": "stream",
       "stream": "stdout",
       "text": [
        "\n",
        "No recent optitrack view of the marker"
       ]
      },
      {
       "output_type": "stream",
       "stream": "stdout",
       "text": [
        "\n",
        "Optitrack error:"
       ]
      },
      {
       "output_type": "stream",
       "stream": "stdout",
       "text": [
        " 3.24352076458e-05\n",
        "Point 188 over 1300\n",
        "Optitrack error:"
       ]
      },
      {
       "output_type": "stream",
       "stream": "stdout",
       "text": [
        " 8.0440932886e-06\n",
        "Point 189 over 1300\n",
        "No recent optitrack view of the marker"
       ]
      },
      {
       "output_type": "stream",
       "stream": "stdout",
       "text": [
        "\n",
        "No recent optitrack view of the marker"
       ]
      },
      {
       "output_type": "stream",
       "stream": "stdout",
       "text": [
        "\n",
        "Optitrack error:"
       ]
      },
      {
       "output_type": "stream",
       "stream": "stdout",
       "text": [
        " 2.31137713253e-05\n",
        "Point 190 over 1300\n",
        "Optitrack error:"
       ]
      },
      {
       "output_type": "stream",
       "stream": "stdout",
       "text": [
        " 2.14794163377e-05\n",
        "Point 191 over 1300\n",
        "Optitrack error:"
       ]
      },
      {
       "output_type": "stream",
       "stream": "stdout",
       "text": [
        " 2.97475359545e-05\n",
        "Point 192 over 1300\n",
        "Optitrack error:"
       ]
      },
      {
       "output_type": "stream",
       "stream": "stdout",
       "text": [
        " 1.84976571126e-05\n",
        "Point 193 over 1300\n",
        "Optitrack error:"
       ]
      },
      {
       "output_type": "stream",
       "stream": "stdout",
       "text": [
        " 0.000233210447003\n",
        "Point 194 over 1300\n",
        "Optitrack error:"
       ]
      },
      {
       "output_type": "stream",
       "stream": "stdout",
       "text": [
        " 0.000163381936315\n",
        "Point 195 over 1300\n",
        "Optitrack error:"
       ]
      },
      {
       "output_type": "stream",
       "stream": "stdout",
       "text": [
        " 0.000135715703091\n",
        "Point 196 over 1300\n",
        "Optitrack error:"
       ]
      },
      {
       "output_type": "stream",
       "stream": "stdout",
       "text": [
        " 2.57950251468e-05\n",
        "Point 197 over 1300\n",
        "Optitrack error:"
       ]
      },
      {
       "output_type": "stream",
       "stream": "stdout",
       "text": [
        " 2.12498930438e-05\n",
        "Point 198 over 1300\n",
        "Optitrack error:"
       ]
      },
      {
       "output_type": "stream",
       "stream": "stdout",
       "text": [
        " 5.02803846236e-06\n",
        "Point 199 over 1300\n",
        "Optitrack error:"
       ]
      },
      {
       "output_type": "stream",
       "stream": "stdout",
       "text": [
        " 1.41990431464e-05\n",
        "Point 200 over 1300\n",
        "No recent optitrack view of the marker"
       ]
      },
      {
       "output_type": "stream",
       "stream": "stdout",
       "text": [
        "\n",
        "Optitrack error:"
       ]
      },
      {
       "output_type": "stream",
       "stream": "stdout",
       "text": [
        " 5.36344332398e-06\n",
        "Point 201 over 1300\n",
        "Optitrack error:"
       ]
      },
      {
       "output_type": "stream",
       "stream": "stdout",
       "text": [
        " 4.45465049423e-06\n",
        "Point 202 over 1300\n",
        "Optitrack error:"
       ]
      },
      {
       "output_type": "stream",
       "stream": "stdout",
       "text": [
        " 1.64805467837e-05\n",
        "Point 203 over 1300\n",
        "Optitrack error:"
       ]
      },
      {
       "output_type": "stream",
       "stream": "stdout",
       "text": [
        " 1.65122165533e-05\n",
        "Point 204 over 1300\n",
        "No recent optitrack view of the marker"
       ]
      },
      {
       "output_type": "stream",
       "stream": "stdout",
       "text": [
        "\n",
        "Optitrack error:"
       ]
      },
      {
       "output_type": "stream",
       "stream": "stdout",
       "text": [
        " 0.000126468493781\n",
        "Point 205 over 1300\n",
        "Optitrack error:"
       ]
      },
      {
       "output_type": "stream",
       "stream": "stdout",
       "text": [
        " 2.30739674738e-05\n",
        "Point 206 over 1300\n",
        "Optitrack error:"
       ]
      },
      {
       "output_type": "stream",
       "stream": "stdout",
       "text": [
        " 2.59872534448e-05\n",
        "Point 207 over 1300\n",
        "Optitrack error:"
       ]
      },
      {
       "output_type": "stream",
       "stream": "stdout",
       "text": [
        " 0.000120657732432\n",
        "Point 208 over 1300\n",
        "Optitrack error:"
       ]
      },
      {
       "output_type": "stream",
       "stream": "stdout",
       "text": [
        " 0.000139086939743\n",
        "Point 209 over 1300\n",
        "Optitrack error:"
       ]
      },
      {
       "output_type": "stream",
       "stream": "stdout",
       "text": [
        " 0.000265455517031\n",
        "Point 210 over 1300\n",
        "Optitrack error:"
       ]
      },
      {
       "output_type": "stream",
       "stream": "stdout",
       "text": [
        " 3.87943007133e-05\n",
        "Point 211 over 1300\n",
        "Optitrack error:"
       ]
      },
      {
       "output_type": "stream",
       "stream": "stdout",
       "text": [
        " 0.000153178925803\n",
        "Point 212 over 1300\n",
        "No recent optitrack view of the marker"
       ]
      },
      {
       "output_type": "stream",
       "stream": "stdout",
       "text": [
        "\n",
        "No recent optitrack view of the marker"
       ]
      },
      {
       "output_type": "stream",
       "stream": "stdout",
       "text": [
        "\n",
        "No recent optitrack view of the marker"
       ]
      },
      {
       "output_type": "stream",
       "stream": "stdout",
       "text": [
        "\n",
        "No recent optitrack view of the marker"
       ]
      },
      {
       "output_type": "stream",
       "stream": "stdout",
       "text": [
        "\n",
        "Optitrack error:"
       ]
      },
      {
       "output_type": "stream",
       "stream": "stdout",
       "text": [
        " 2.35777810887e-05\n",
        "Point 213 over 1300\n",
        "No recent optitrack view of the marker"
       ]
      },
      {
       "output_type": "stream",
       "stream": "stdout",
       "text": [
        "\n",
        "Optitrack error:"
       ]
      },
      {
       "output_type": "stream",
       "stream": "stdout",
       "text": [
        " 1.43397842736e-05\n",
        "Point 214 over 1300\n",
        "Optitrack error:"
       ]
      },
      {
       "output_type": "stream",
       "stream": "stdout",
       "text": [
        " 1.05682754274e-05\n",
        "Point 215 over 1300\n",
        "Optitrack error:"
       ]
      },
      {
       "output_type": "stream",
       "stream": "stdout",
       "text": [
        " 2.42949999518e-05\n",
        "Point 216 over 1300\n",
        "Optitrack error:"
       ]
      },
      {
       "output_type": "stream",
       "stream": "stdout",
       "text": [
        " 8.82340297297e-05\n",
        "Point 217 over 1300\n",
        "Optitrack error:"
       ]
      },
      {
       "output_type": "stream",
       "stream": "stdout",
       "text": [
        " 0.000133392862441\n",
        "Point 218 over 1300\n",
        "Optitrack error:"
       ]
      },
      {
       "output_type": "stream",
       "stream": "stdout",
       "text": [
        " 6.96307586487e-05\n",
        "Point 219 over 1300\n",
        "Optitrack error:"
       ]
      },
      {
       "output_type": "stream",
       "stream": "stdout",
       "text": [
        " 1.64939453615e-05\n",
        "Point 220 over 1300\n",
        "Optitrack error:"
       ]
      },
      {
       "output_type": "stream",
       "stream": "stdout",
       "text": [
        " 1.17963374634e-05\n",
        "Point 221 over 1300\n",
        "Optitrack error:"
       ]
      },
      {
       "output_type": "stream",
       "stream": "stdout",
       "text": [
        " 0.000125589429819\n",
        "Point 222 over 1300\n",
        "Optitrack error:"
       ]
      },
      {
       "output_type": "stream",
       "stream": "stdout",
       "text": [
        " 3.75626281018e-05\n",
        "Point 223 over 1300\n",
        "Optitrack error:"
       ]
      },
      {
       "output_type": "stream",
       "stream": "stdout",
       "text": [
        " 0.000119234169615\n",
        "Point 224 over 1300\n",
        "Optitrack error:"
       ]
      },
      {
       "output_type": "stream",
       "stream": "stdout",
       "text": [
        " 4.45894884966e-05\n",
        "Point 225 over 1300\n",
        "Optitrack error:"
       ]
      },
      {
       "output_type": "stream",
       "stream": "stdout",
       "text": [
        " 0.00030089815915\n",
        "Point 226 over 1300\n",
        "Optitrack error:"
       ]
      },
      {
       "output_type": "stream",
       "stream": "stdout",
       "text": [
        " 5.72239999516e-05\n",
        "Point 227 over 1300\n",
        "Optitrack error:"
       ]
      },
      {
       "output_type": "stream",
       "stream": "stdout",
       "text": [
        " 0.000260351961147\n",
        "Point 228 over 1300\n",
        "Optitrack error:"
       ]
      },
      {
       "output_type": "stream",
       "stream": "stdout",
       "text": [
        " 1.95601548324e-05\n",
        "Point 229 over 1300\n",
        "Optitrack error:"
       ]
      },
      {
       "output_type": "stream",
       "stream": "stdout",
       "text": [
        " 2.89020803648e-05\n",
        "Point 230 over 1300\n",
        "Optitrack error:"
       ]
      },
      {
       "output_type": "stream",
       "stream": "stdout",
       "text": [
        " 5.04909298874e-05\n",
        "Point 231 over 1300\n",
        "Optitrack error:"
       ]
      },
      {
       "output_type": "stream",
       "stream": "stdout",
       "text": [
        " 7.63658503633e-06\n",
        "Point 232 over 1300\n",
        "Optitrack error:"
       ]
      },
      {
       "output_type": "stream",
       "stream": "stdout",
       "text": [
        " 0.0018669601267\n",
        "Point 233 over 1300\n",
        "Optitrack error:"
       ]
      },
      {
       "output_type": "stream",
       "stream": "stdout",
       "text": [
        " 7.81739014957e-05\n",
        "Point 234 over 1300\n",
        "Optitrack error:"
       ]
      },
      {
       "output_type": "stream",
       "stream": "stdout",
       "text": [
        " 5.24777110784e-06\n",
        "Point 235 over 1300\n",
        "Optitrack error:"
       ]
      },
      {
       "output_type": "stream",
       "stream": "stdout",
       "text": [
        " 0.000245318214131\n",
        "Point 236 over 1300\n",
        "Optitrack error:"
       ]
      },
      {
       "output_type": "stream",
       "stream": "stdout",
       "text": [
        " 0.0034591717895\n",
        "Point 237 over 1300\n",
        "Optitrack error:"
       ]
      },
      {
       "output_type": "stream",
       "stream": "stdout",
       "text": [
        " 0.000179645860151\n",
        "Point 238 over 1300\n",
        "Optitrack error:"
       ]
      },
      {
       "output_type": "stream",
       "stream": "stdout",
       "text": [
        " 0.000129593675678\n",
        "Point 239 over 1300\n",
        "Optitrack error:"
       ]
      },
      {
       "output_type": "stream",
       "stream": "stdout",
       "text": [
        " 2.94164207715e-05\n",
        "Point 240 over 1300\n",
        "Optitrack error:"
       ]
      },
      {
       "output_type": "stream",
       "stream": "stdout",
       "text": [
        " 0.000280238925199\n",
        "Point 241 over 1300\n",
        "Optitrack error:"
       ]
      },
      {
       "output_type": "stream",
       "stream": "stdout",
       "text": [
        " 0.000349437659024\n",
        "Point 242 over 1300\n",
        "Optitrack error:"
       ]
      },
      {
       "output_type": "stream",
       "stream": "stdout",
       "text": [
        " 0.00010549611634\n",
        "Point 243 over 1300\n",
        "Optitrack error:"
       ]
      },
      {
       "output_type": "stream",
       "stream": "stdout",
       "text": [
        " 1.18265664078e-05\n",
        "Point 244 over 1300\n",
        "Optitrack error:"
       ]
      },
      {
       "output_type": "stream",
       "stream": "stdout",
       "text": [
        " 3.20662463735e-05\n",
        "Point 245 over 1300\n",
        "Optitrack error:"
       ]
      },
      {
       "output_type": "stream",
       "stream": "stdout",
       "text": [
        " 0.000170417002399\n",
        "Point 246 over 1300\n",
        "No recent optitrack view of the marker"
       ]
      },
      {
       "output_type": "stream",
       "stream": "stdout",
       "text": [
        "\n",
        "No recent optitrack view of the marker"
       ]
      },
      {
       "output_type": "stream",
       "stream": "stdout",
       "text": [
        "\n",
        "Optitrack error:"
       ]
      },
      {
       "output_type": "stream",
       "stream": "stdout",
       "text": [
        " 0.000421616897356\n",
        "Point 247 over 1300\n",
        "Optitrack error:"
       ]
      },
      {
       "output_type": "stream",
       "stream": "stdout",
       "text": [
        " 0.00016723586422\n",
        "Point 248 over 1300\n",
        "Optitrack error:"
       ]
      },
      {
       "output_type": "stream",
       "stream": "stdout",
       "text": [
        " 2.97649056137e-05\n",
        "Point 249 over 1300\n",
        "Optitrack error:"
       ]
      },
      {
       "output_type": "stream",
       "stream": "stdout",
       "text": [
        " 1.80392810583e-05\n",
        "Point 250 over 1300\n",
        "Optitrack error:"
       ]
      },
      {
       "output_type": "stream",
       "stream": "stdout",
       "text": [
        " 9.45277801909e-05\n",
        "Point 251 over 1300\n",
        "No recent optitrack view of the marker"
       ]
      },
      {
       "output_type": "stream",
       "stream": "stdout",
       "text": [
        "\n",
        "Optitrack error:"
       ]
      },
      {
       "output_type": "stream",
       "stream": "stdout",
       "text": [
        " 4.21752785548e-05\n",
        "Point 252 over 1300\n",
        "Optitrack error:"
       ]
      },
      {
       "output_type": "stream",
       "stream": "stdout",
       "text": [
        " 5.48179757259e-05\n",
        "Point 253 over 1300\n",
        "Optitrack error:"
       ]
      },
      {
       "output_type": "stream",
       "stream": "stdout",
       "text": [
        " 1.92474289673e-05\n",
        "Point 254 over 1300\n",
        "Optitrack error:"
       ]
      },
      {
       "output_type": "stream",
       "stream": "stdout",
       "text": [
        " 2.17309722905e-05\n",
        "Point 255 over 1300\n",
        "Optitrack error:"
       ]
      },
      {
       "output_type": "stream",
       "stream": "stdout",
       "text": [
        " 2.37798529159e-05\n",
        "Point 256 over 1300\n",
        "Optitrack error:"
       ]
      },
      {
       "output_type": "stream",
       "stream": "stdout",
       "text": [
        " 8.82339811567e-06\n",
        "Point 257 over 1300\n",
        "Optitrack error:"
       ]
      },
      {
       "output_type": "stream",
       "stream": "stdout",
       "text": [
        " 1.95813499002e-05\n",
        "Point 258 over 1300\n",
        "No recent optitrack view of the marker"
       ]
      },
      {
       "output_type": "stream",
       "stream": "stdout",
       "text": [
        "\n",
        "Optitrack error:"
       ]
      },
      {
       "output_type": "stream",
       "stream": "stdout",
       "text": [
        " 2.62877601037e-05\n",
        "Point 259 over 1300\n",
        "Optitrack error:"
       ]
      },
      {
       "output_type": "stream",
       "stream": "stdout",
       "text": [
        " 3.15722694286e-05\n",
        "Point 260 over 1300\n",
        "Optitrack error:"
       ]
      },
      {
       "output_type": "stream",
       "stream": "stdout",
       "text": [
        " 0.000182653707494\n",
        "Point 261 over 1300\n",
        "Optitrack error:"
       ]
      },
      {
       "output_type": "stream",
       "stream": "stdout",
       "text": [
        " 2.67103969052e-05\n",
        "Point 262 over 1300\n",
        "Optitrack error:"
       ]
      },
      {
       "output_type": "stream",
       "stream": "stdout",
       "text": [
        " 1.8269740213e-05\n",
        "Point 263 over 1300\n",
        "Optitrack error:"
       ]
      },
      {
       "output_type": "stream",
       "stream": "stdout",
       "text": [
        " 0.000163613145787\n",
        "Point 264 over 1300\n",
        "No recent optitrack view of the marker"
       ]
      },
      {
       "output_type": "stream",
       "stream": "stdout",
       "text": [
        "\n",
        "Optitrack error:"
       ]
      },
      {
       "output_type": "stream",
       "stream": "stdout",
       "text": [
        " 0.000312664195043\n",
        "Point 265 over 1300\n",
        "Optitrack error:"
       ]
      },
      {
       "output_type": "stream",
       "stream": "stdout",
       "text": [
        " 0.000322269104953\n",
        "Point 266 over 1300\n",
        "Optitrack error:"
       ]
      },
      {
       "output_type": "stream",
       "stream": "stdout",
       "text": [
        " 2.58510497881e-05\n",
        "Point 267 over 1300\n",
        "Optitrack error:"
       ]
      },
      {
       "output_type": "stream",
       "stream": "stdout",
       "text": [
        " 2.23690557694e-05\n",
        "Point 268 over 1300\n",
        "Optitrack error:"
       ]
      },
      {
       "output_type": "stream",
       "stream": "stdout",
       "text": [
        " 2.63050623307e-05\n",
        "Point 269 over 1300\n",
        "Optitrack error:"
       ]
      },
      {
       "output_type": "stream",
       "stream": "stdout",
       "text": [
        " 1.6584966032e-05\n",
        "Point 270 over 1300\n",
        "Optitrack error:"
       ]
      },
      {
       "output_type": "stream",
       "stream": "stdout",
       "text": [
        " 0.000226874917007\n",
        "Point 271 over 1300\n",
        "Optitrack error:"
       ]
      },
      {
       "output_type": "stream",
       "stream": "stdout",
       "text": [
        " 4.21835888418e-05\n",
        "Point 272 over 1300\n",
        "Optitrack error:"
       ]
      },
      {
       "output_type": "stream",
       "stream": "stdout",
       "text": [
        " 1.47777906143e-05\n",
        "Point 273 over 1300\n",
        "No recent optitrack view of the marker"
       ]
      },
      {
       "output_type": "stream",
       "stream": "stdout",
       "text": [
        "\n",
        "Optitrack error:"
       ]
      },
      {
       "output_type": "stream",
       "stream": "stdout",
       "text": [
        " 1.25824366483e-05\n",
        "Point 274 over 1300\n",
        "Optitrack error:"
       ]
      },
      {
       "output_type": "stream",
       "stream": "stdout",
       "text": [
        " 1.86432057958e-05\n",
        "Point 275 over 1300\n",
        "No recent optitrack view of the marker"
       ]
      },
      {
       "output_type": "stream",
       "stream": "stdout",
       "text": [
        "\n",
        "No recent optitrack view of the marker"
       ]
      },
      {
       "output_type": "stream",
       "stream": "stdout",
       "text": [
        "\n",
        "Optitrack error:"
       ]
      },
      {
       "output_type": "stream",
       "stream": "stdout",
       "text": [
        " 2.63417837848e-05\n",
        "Point 276 over 1300\n",
        "No recent optitrack view of the marker"
       ]
      },
      {
       "output_type": "stream",
       "stream": "stdout",
       "text": [
        "\n",
        "Optitrack error:"
       ]
      },
      {
       "output_type": "stream",
       "stream": "stdout",
       "text": [
        " 4.76122694346e-05\n",
        "Point 277 over 1300\n",
        "Optitrack error:"
       ]
      },
      {
       "output_type": "stream",
       "stream": "stdout",
       "text": [
        " 8.19729265618e-05\n",
        "Point 278 over 1300\n",
        "Optitrack error:"
       ]
      },
      {
       "output_type": "stream",
       "stream": "stdout",
       "text": [
        " 0.000268705574675\n",
        "Point 279 over 1300\n",
        "Optitrack error:"
       ]
      },
      {
       "output_type": "stream",
       "stream": "stdout",
       "text": [
        " 1.49927151299e-05\n",
        "Point 280 over 1300\n",
        "Optitrack error:"
       ]
      },
      {
       "output_type": "stream",
       "stream": "stdout",
       "text": [
        " 1.05178133911e-05\n",
        "Point 281 over 1300\n",
        "Optitrack error:"
       ]
      },
      {
       "output_type": "stream",
       "stream": "stdout",
       "text": [
        " 8.41053389248e-06\n",
        "Point 282 over 1300\n",
        "Optitrack error:"
       ]
      },
      {
       "output_type": "stream",
       "stream": "stdout",
       "text": [
        " 5.39416422809e-05\n",
        "Point 283 over 1300\n",
        "Optitrack error:"
       ]
      },
      {
       "output_type": "stream",
       "stream": "stdout",
       "text": [
        " 2.09601027904e-05\n",
        "Point 284 over 1300\n",
        "Optitrack error:"
       ]
      },
      {
       "output_type": "stream",
       "stream": "stdout",
       "text": [
        " 8.38049584109e-05\n",
        "Point 285 over 1300\n",
        "Optitrack error:"
       ]
      },
      {
       "output_type": "stream",
       "stream": "stdout",
       "text": [
        " 0.000136995971757\n",
        "Point 286 over 1300\n",
        "Optitrack error:"
       ]
      },
      {
       "output_type": "stream",
       "stream": "stdout",
       "text": [
        " 6.64835735046e-05\n",
        "Point 287 over 1300\n",
        "Optitrack error:"
       ]
      },
      {
       "output_type": "stream",
       "stream": "stdout",
       "text": [
        " 0.00025996706066\n",
        "Point 288 over 1300\n",
        "Optitrack error:"
       ]
      },
      {
       "output_type": "stream",
       "stream": "stdout",
       "text": [
        " 1.89123386983e-05\n",
        "Point 289 over 1300\n",
        "Optitrack error:"
       ]
      },
      {
       "output_type": "stream",
       "stream": "stdout",
       "text": [
        " 7.70382632827e-05\n",
        "Point 290 over 1300\n",
        "Optitrack error:"
       ]
      },
      {
       "output_type": "stream",
       "stream": "stdout",
       "text": [
        " 9.47177876056e-05\n",
        "Point 291 over 1300\n",
        "Optitrack error:"
       ]
      },
      {
       "output_type": "stream",
       "stream": "stdout",
       "text": [
        " 7.1680222591e-05\n",
        "Point 292 over 1300\n",
        "No recent optitrack view of the marker"
       ]
      },
      {
       "output_type": "stream",
       "stream": "stdout",
       "text": [
        "\n",
        "Optitrack error:"
       ]
      },
      {
       "output_type": "stream",
       "stream": "stdout",
       "text": [
        " 3.17182007074e-05\n",
        "Point 293 over 1300\n",
        "No recent optitrack view of the marker"
       ]
      },
      {
       "output_type": "stream",
       "stream": "stdout",
       "text": [
        "\n",
        "Optitrack error:"
       ]
      },
      {
       "output_type": "stream",
       "stream": "stdout",
       "text": [
        " 0.000104125623412\n",
        "Point 294 over 1300\n",
        "Optitrack error:"
       ]
      },
      {
       "output_type": "stream",
       "stream": "stdout",
       "text": [
        " 0.000142230921667\n",
        "Point 295 over 1300\n",
        "Optitrack error:"
       ]
      },
      {
       "output_type": "stream",
       "stream": "stdout",
       "text": [
        " 9.25547445296e-05\n",
        "Point 296 over 1300\n",
        "Optitrack error:"
       ]
      },
      {
       "output_type": "stream",
       "stream": "stdout",
       "text": [
        " 1.85385359808e-05\n",
        "Point 297 over 1300\n",
        "Optitrack error:"
       ]
      },
      {
       "output_type": "stream",
       "stream": "stdout",
       "text": [
        " 3.79141891879e-05\n",
        "Point 298 over 1300\n",
        "Optitrack error:"
       ]
      },
      {
       "output_type": "stream",
       "stream": "stdout",
       "text": [
        " 7.7757939964e-05\n",
        "Point 299 over 1300\n",
        "Optitrack error:"
       ]
      },
      {
       "output_type": "stream",
       "stream": "stdout",
       "text": [
        " 3.09793475131e-05\n",
        "Point 300 over 1300\n",
        "Optitrack error:"
       ]
      },
      {
       "output_type": "stream",
       "stream": "stdout",
       "text": [
        " 1.19177758412e-05\n",
        "Point 301 over 1300\n",
        "Optitrack error:"
       ]
      },
      {
       "output_type": "stream",
       "stream": "stdout",
       "text": [
        " 1.59890987193e-05\n",
        "Point 302 over 1300\n",
        "Optitrack error:"
       ]
      },
      {
       "output_type": "stream",
       "stream": "stdout",
       "text": [
        " 7.99699690146e-06\n",
        "Point 303 over 1300\n",
        "No recent optitrack view of the marker"
       ]
      },
      {
       "output_type": "stream",
       "stream": "stdout",
       "text": [
        "\n",
        "Optitrack error:"
       ]
      },
      {
       "output_type": "stream",
       "stream": "stdout",
       "text": [
        " 8.9441930163e-06\n",
        "Point 304 over 1300\n",
        "Optitrack error:"
       ]
      },
      {
       "output_type": "stream",
       "stream": "stdout",
       "text": [
        " 0.000172784060932\n",
        "Point 305 over 1300\n",
        "Optitrack error:"
       ]
      },
      {
       "output_type": "stream",
       "stream": "stdout",
       "text": [
        " 0.000112897056319\n",
        "Point 306 over 1300\n",
        "Optitrack error:"
       ]
      },
      {
       "output_type": "stream",
       "stream": "stdout",
       "text": [
        " 4.65599226484e-05\n",
        "Point 307 over 1300\n",
        "Optitrack error:"
       ]
      },
      {
       "output_type": "stream",
       "stream": "stdout",
       "text": [
        " 9.44582027926e-05\n",
        "Point 308 over 1300\n",
        "Optitrack error:"
       ]
      },
      {
       "output_type": "stream",
       "stream": "stdout",
       "text": [
        " 6.70606497609e-05\n",
        "Point 309 over 1300\n",
        "No recent optitrack view of the marker"
       ]
      },
      {
       "output_type": "stream",
       "stream": "stdout",
       "text": [
        "\n",
        "Optitrack error:"
       ]
      },
      {
       "output_type": "stream",
       "stream": "stdout",
       "text": [
        " 4.04009040211e-05\n",
        "Point 310 over 1300\n",
        "Optitrack error:"
       ]
      },
      {
       "output_type": "stream",
       "stream": "stdout",
       "text": [
        " 0.000144612821026\n",
        "Point 311 over 1300\n",
        "Optitrack error:"
       ]
      },
      {
       "output_type": "stream",
       "stream": "stdout",
       "text": [
        " 1.75598409386e-05\n",
        "Point 312 over 1300\n",
        "Optitrack error:"
       ]
      },
      {
       "output_type": "stream",
       "stream": "stdout",
       "text": [
        " 4.20621472039e-05\n",
        "Point 313 over 1300\n",
        "Optitrack error:"
       ]
      },
      {
       "output_type": "stream",
       "stream": "stdout",
       "text": [
        " 2.05316423795e-05\n",
        "Point 314 over 1300\n",
        "Optitrack error:"
       ]
      },
      {
       "output_type": "stream",
       "stream": "stdout",
       "text": [
        " 2.84250429227e-05\n",
        "Point 315 over 1300\n",
        "Optitrack error:"
       ]
      },
      {
       "output_type": "stream",
       "stream": "stdout",
       "text": [
        " 4.08909128451e-05\n",
        "Point 316 over 1300\n",
        "Optitrack error:"
       ]
      },
      {
       "output_type": "stream",
       "stream": "stdout",
       "text": [
        " 8.22957878694e-05\n",
        "Point 317 over 1300\n",
        "No recent optitrack view of the marker"
       ]
      },
      {
       "output_type": "stream",
       "stream": "stdout",
       "text": [
        "\n",
        "Optitrack error:"
       ]
      },
      {
       "output_type": "stream",
       "stream": "stdout",
       "text": [
        " 0.0001485802426\n",
        "Point 318 over 1300\n",
        "Optitrack error:"
       ]
      },
      {
       "output_type": "stream",
       "stream": "stdout",
       "text": [
        " 3.8564990055e-05\n",
        "Point 319 over 1300\n",
        "Optitrack error:"
       ]
      },
      {
       "output_type": "stream",
       "stream": "stdout",
       "text": [
        " 9.84480990903e-06\n",
        "Point 320 over 1300\n",
        "Optitrack error:"
       ]
      },
      {
       "output_type": "stream",
       "stream": "stdout",
       "text": [
        " 2.20080561056e-05\n",
        "Point 321 over 1300\n",
        "Optitrack error:"
       ]
      },
      {
       "output_type": "stream",
       "stream": "stdout",
       "text": [
        " 5.55153592465e-05\n",
        "Point 322 over 1300\n",
        "Optitrack error:"
       ]
      },
      {
       "output_type": "stream",
       "stream": "stdout",
       "text": [
        " 1.04141985795e-05\n",
        "Point 323 over 1300\n",
        "Optitrack error:"
       ]
      },
      {
       "output_type": "stream",
       "stream": "stdout",
       "text": [
        " 0.000316635299925\n",
        "Point 324 over 1300\n",
        "Optitrack error:"
       ]
      },
      {
       "output_type": "stream",
       "stream": "stdout",
       "text": [
        " 2.04254890609e-05\n",
        "Point 325 over 1300\n",
        "Optitrack error:"
       ]
      },
      {
       "output_type": "stream",
       "stream": "stdout",
       "text": [
        " 1.77947183278e-05\n",
        "Point 326 over 1300\n",
        "Optitrack error:"
       ]
      },
      {
       "output_type": "stream",
       "stream": "stdout",
       "text": [
        " 1.65930751274e-05\n",
        "Point 327 over 1300\n",
        "Optitrack error:"
       ]
      },
      {
       "output_type": "stream",
       "stream": "stdout",
       "text": [
        " 8.31975152185e-06\n",
        "Point 328 over 1300\n",
        "Optitrack error:"
       ]
      },
      {
       "output_type": "stream",
       "stream": "stdout",
       "text": [
        " 2.95296089933e-05\n",
        "Point 329 over 1300\n",
        "Optitrack error:"
       ]
      },
      {
       "output_type": "stream",
       "stream": "stdout",
       "text": [
        " 3.15802623283e-05\n",
        "Point 330 over 1300\n",
        "Optitrack error:"
       ]
      },
      {
       "output_type": "stream",
       "stream": "stdout",
       "text": [
        " 2.61046793535e-05\n",
        "Point 331 over 1300\n",
        "Optitrack error:"
       ]
      },
      {
       "output_type": "stream",
       "stream": "stdout",
       "text": [
        " 0.000840629823766\n",
        "Point 332 over 1300\n",
        "Optitrack error:"
       ]
      },
      {
       "output_type": "stream",
       "stream": "stdout",
       "text": [
        " 0.000233496470185\n",
        "Point 333 over 1300\n",
        "Optitrack error:"
       ]
      },
      {
       "output_type": "stream",
       "stream": "stdout",
       "text": [
        " 1.35408165628e-05\n",
        "Point 334 over 1300\n",
        "Optitrack error:"
       ]
      },
      {
       "output_type": "stream",
       "stream": "stdout",
       "text": [
        " 0.000269261191248\n",
        "Point 335 over 1300\n",
        "Optitrack error:"
       ]
      },
      {
       "output_type": "stream",
       "stream": "stdout",
       "text": [
        " 4.05877896631e-05\n",
        "Point 336 over 1300\n",
        "No recent optitrack view of the marker"
       ]
      },
      {
       "output_type": "stream",
       "stream": "stdout",
       "text": [
        "\n",
        "No recent optitrack view of the marker"
       ]
      },
      {
       "output_type": "stream",
       "stream": "stdout",
       "text": [
        "\n",
        "Optitrack error:"
       ]
      },
      {
       "output_type": "stream",
       "stream": "stdout",
       "text": [
        " 3.56111572804e-05\n",
        "Point 337 over 1300\n",
        "No recent optitrack view of the marker"
       ]
      },
      {
       "output_type": "stream",
       "stream": "stdout",
       "text": [
        "\n",
        "No recent optitrack view of the marker"
       ]
      },
      {
       "output_type": "stream",
       "stream": "stdout",
       "text": [
        "\n",
        "No recent optitrack view of the marker"
       ]
      },
      {
       "output_type": "stream",
       "stream": "stdout",
       "text": [
        "\n",
        "Optitrack error:"
       ]
      },
      {
       "output_type": "stream",
       "stream": "stdout",
       "text": [
        " 1.12511841939e-05\n",
        "Point 338 over 1300\n",
        "Optitrack error:"
       ]
      },
      {
       "output_type": "stream",
       "stream": "stdout",
       "text": [
        " 6.74634193229e-06\n",
        "Point 339 over 1300\n",
        "Optitrack error:"
       ]
      },
      {
       "output_type": "stream",
       "stream": "stdout",
       "text": [
        " 1.27897522419e-05\n",
        "Point 340 over 1300\n",
        "Optitrack error:"
       ]
      },
      {
       "output_type": "stream",
       "stream": "stdout",
       "text": [
        " 0.000133700217982\n",
        "Point 341 over 1300\n",
        "Optitrack error:"
       ]
      },
      {
       "output_type": "stream",
       "stream": "stdout",
       "text": [
        " 3.22477249461e-05\n",
        "Point 342 over 1300\n",
        "Optitrack error:"
       ]
      },
      {
       "output_type": "stream",
       "stream": "stdout",
       "text": [
        " 3.45734218381e-05\n",
        "Point 343 over 1300\n",
        "Optitrack error:"
       ]
      },
      {
       "output_type": "stream",
       "stream": "stdout",
       "text": [
        " 0.000233211584505\n",
        "Point 344 over 1300\n",
        "Optitrack error:"
       ]
      },
      {
       "output_type": "stream",
       "stream": "stdout",
       "text": [
        " 0.000139011853002\n",
        "Point 345 over 1300\n",
        "Optitrack error:"
       ]
      },
      {
       "output_type": "stream",
       "stream": "stdout",
       "text": [
        " 9.55416161098e-05\n",
        "Point 346 over 1300\n",
        "Optitrack error:"
       ]
      },
      {
       "output_type": "stream",
       "stream": "stdout",
       "text": [
        " 6.05886119011e-05\n",
        "Point 347 over 1300\n",
        "Optitrack error:"
       ]
      },
      {
       "output_type": "stream",
       "stream": "stdout",
       "text": [
        " 0.00017643428528\n",
        "Point 348 over 1300\n",
        "Optitrack error:"
       ]
      },
      {
       "output_type": "stream",
       "stream": "stdout",
       "text": [
        " 0.000255072073016\n",
        "Point 349 over 1300\n",
        "Optitrack error:"
       ]
      },
      {
       "output_type": "stream",
       "stream": "stdout",
       "text": [
        " 6.10191179322e-06\n",
        "Point 350 over 1300\n",
        "Optitrack error:"
       ]
      },
      {
       "output_type": "stream",
       "stream": "stdout",
       "text": [
        " 0.000255633646031\n",
        "Point 351 over 1300\n",
        "Optitrack error:"
       ]
      },
      {
       "output_type": "stream",
       "stream": "stdout",
       "text": [
        " 6.25305823904e-05\n",
        "Point 352 over 1300\n",
        "No recent optitrack view of the marker"
       ]
      },
      {
       "output_type": "stream",
       "stream": "stdout",
       "text": [
        "\n",
        "Optitrack error:"
       ]
      },
      {
       "output_type": "stream",
       "stream": "stdout",
       "text": [
        " 1.24063763144e-05\n",
        "Point 353 over 1300\n",
        "Optitrack error:"
       ]
      },
      {
       "output_type": "stream",
       "stream": "stdout",
       "text": [
        " 0.000184210243361\n",
        "Point 354 over 1300\n",
        "Optitrack error:"
       ]
      },
      {
       "output_type": "stream",
       "stream": "stdout",
       "text": [
        " 3.53621826354e-05\n",
        "Point 355 over 1300\n",
        "Optitrack error:"
       ]
      },
      {
       "output_type": "stream",
       "stream": "stdout",
       "text": [
        " 2.89337769687e-05\n",
        "Point 356 over 1300\n",
        "Optitrack error:"
       ]
      },
      {
       "output_type": "stream",
       "stream": "stdout",
       "text": [
        " 5.91330680214e-05\n",
        "Point 357 over 1300\n",
        "Optitrack error:"
       ]
      },
      {
       "output_type": "stream",
       "stream": "stdout",
       "text": [
        " 0.000761803964466\n",
        "Point 358 over 1300\n",
        "Optitrack error:"
       ]
      },
      {
       "output_type": "stream",
       "stream": "stdout",
       "text": [
        " 3.2331232184e-05\n",
        "Point 359 over 1300\n",
        "Optitrack error:"
       ]
      },
      {
       "output_type": "stream",
       "stream": "stdout",
       "text": [
        " 1.55316608461e-05\n",
        "Point 360 over 1300\n",
        "No recent optitrack view of the marker"
       ]
      },
      {
       "output_type": "stream",
       "stream": "stdout",
       "text": [
        "\n",
        "No recent optitrack view of the marker"
       ]
      },
      {
       "output_type": "stream",
       "stream": "stdout",
       "text": [
        "\n",
        "Optitrack error:"
       ]
      },
      {
       "output_type": "stream",
       "stream": "stdout",
       "text": [
        " 5.33405845747e-06\n",
        "Point 361 over 1300\n",
        "Optitrack error:"
       ]
      },
      {
       "output_type": "stream",
       "stream": "stdout",
       "text": [
        " 5.99967170899e-05\n",
        "Point 362 over 1300\n",
        "Optitrack error:"
       ]
      },
      {
       "output_type": "stream",
       "stream": "stdout",
       "text": [
        " 2.49897606177e-05\n",
        "Point 363 over 1300\n",
        "Optitrack error:"
       ]
      },
      {
       "output_type": "stream",
       "stream": "stdout",
       "text": [
        " 3.22229712243e-05\n",
        "Point 364 over 1300\n",
        "Optitrack error:"
       ]
      },
      {
       "output_type": "stream",
       "stream": "stdout",
       "text": [
        " 3.84124260932e-05\n",
        "Point 365 over 1300\n",
        "Optitrack error:"
       ]
      },
      {
       "output_type": "stream",
       "stream": "stdout",
       "text": [
        " 4.28686025246e-05\n",
        "Point 366 over 1300\n",
        "Optitrack error:"
       ]
      },
      {
       "output_type": "stream",
       "stream": "stdout",
       "text": [
        " 2.0154572814e-05\n",
        "Point 367 over 1300\n",
        "Optitrack error:"
       ]
      },
      {
       "output_type": "stream",
       "stream": "stdout",
       "text": [
        " 5.7236891192e-06\n",
        "Point 368 over 1300\n",
        "Optitrack error:"
       ]
      },
      {
       "output_type": "stream",
       "stream": "stdout",
       "text": [
        " 3.54672681102e-05\n",
        "Point 369 over 1300\n",
        "Optitrack error:"
       ]
      },
      {
       "output_type": "stream",
       "stream": "stdout",
       "text": [
        " 0.000148541005392\n",
        "Point 370 over 1300\n",
        "No recent optitrack view of the marker"
       ]
      },
      {
       "output_type": "stream",
       "stream": "stdout",
       "text": [
        "\n",
        "No recent optitrack view of the marker"
       ]
      },
      {
       "output_type": "stream",
       "stream": "stdout",
       "text": [
        "\n",
        "Optitrack error:"
       ]
      },
      {
       "output_type": "stream",
       "stream": "stdout",
       "text": [
        " 3.63056256022e-05\n",
        "Point 371 over 1300\n",
        "Optitrack error:"
       ]
      },
      {
       "output_type": "stream",
       "stream": "stdout",
       "text": [
        " 0.000231280901114\n",
        "Point 372 over 1300\n",
        "Optitrack error:"
       ]
      },
      {
       "output_type": "stream",
       "stream": "stdout",
       "text": [
        " 1.12297195156e-05\n",
        "Point 373 over 1300\n",
        "Optitrack error:"
       ]
      },
      {
       "output_type": "stream",
       "stream": "stdout",
       "text": [
        " 3.1675929388e-05\n",
        "Point 374 over 1300\n",
        "Optitrack error:"
       ]
      },
      {
       "output_type": "stream",
       "stream": "stdout",
       "text": [
        " 1.73060644173e-05\n",
        "Point 375 over 1300\n",
        "Optitrack error:"
       ]
      },
      {
       "output_type": "stream",
       "stream": "stdout",
       "text": [
        " 1.24879999075e-05\n",
        "Point 376 over 1300\n",
        "No recent optitrack view of the marker"
       ]
      },
      {
       "output_type": "stream",
       "stream": "stdout",
       "text": [
        "\n",
        "Optitrack error:"
       ]
      },
      {
       "output_type": "stream",
       "stream": "stdout",
       "text": [
        " 1.45908721224e-05\n",
        "Point 377 over 1300\n",
        "Optitrack error:"
       ]
      },
      {
       "output_type": "stream",
       "stream": "stdout",
       "text": [
        " 0.000155137805964\n",
        "Point 378 over 1300\n",
        "Optitrack error:"
       ]
      },
      {
       "output_type": "stream",
       "stream": "stdout",
       "text": [
        " 2.2107357585e-06\n",
        "Point 379 over 1300\n",
        "Optitrack error:"
       ]
      },
      {
       "output_type": "stream",
       "stream": "stdout",
       "text": [
        " 4.88736069945e-06\n",
        "Point 380 over 1300\n",
        "Optitrack error:"
       ]
      },
      {
       "output_type": "stream",
       "stream": "stdout",
       "text": [
        " 8.11075422151e-05\n",
        "Point 381 over 1300\n",
        "Optitrack error:"
       ]
      },
      {
       "output_type": "stream",
       "stream": "stdout",
       "text": [
        " 0.0\n",
        "Point 382 over 1300\n",
        "Optitrack error:"
       ]
      },
      {
       "output_type": "stream",
       "stream": "stdout",
       "text": [
        " 0.000446498837879\n",
        "Point 383 over 1300\n",
        "Optitrack error:"
       ]
      },
      {
       "output_type": "stream",
       "stream": "stdout",
       "text": [
        " 0.000212428877574\n",
        "Point 384 over 1300\n",
        "No recent optitrack view of the marker"
       ]
      },
      {
       "output_type": "stream",
       "stream": "stdout",
       "text": [
        "\n",
        "Optitrack error:"
       ]
      },
      {
       "output_type": "stream",
       "stream": "stdout",
       "text": [
        " 0.000400768660612\n",
        "Point 385 over 1300\n",
        "Optitrack error:"
       ]
      },
      {
       "output_type": "stream",
       "stream": "stdout",
       "text": [
        " 0.000364587474349\n",
        "Point 386 over 1300\n",
        "Optitrack error:"
       ]
      },
      {
       "output_type": "stream",
       "stream": "stdout",
       "text": [
        " 1.4858343783e-05\n",
        "Point 387 over 1300\n",
        "Optitrack error:"
       ]
      },
      {
       "output_type": "stream",
       "stream": "stdout",
       "text": [
        " 1.80275955471e-05\n",
        "Point 388 over 1300\n",
        "Optitrack error:"
       ]
      },
      {
       "output_type": "stream",
       "stream": "stdout",
       "text": [
        " 0.000424459621028\n",
        "Point 389 over 1300\n",
        "Optitrack error:"
       ]
      },
      {
       "output_type": "stream",
       "stream": "stdout",
       "text": [
        " 0.000329319748281\n",
        "Point 390 over 1300\n",
        "Optitrack error:"
       ]
      },
      {
       "output_type": "stream",
       "stream": "stdout",
       "text": [
        " 0.00108949748224\n",
        "Point 391 over 1300\n",
        "Optitrack error:"
       ]
      },
      {
       "output_type": "stream",
       "stream": "stdout",
       "text": [
        " 2.05422844747e-05\n",
        "Point 392 over 1300\n",
        "Optitrack error:"
       ]
      },
      {
       "output_type": "stream",
       "stream": "stdout",
       "text": [
        " 0.00023076718772\n",
        "Point 393 over 1300\n",
        "Optitrack error:"
       ]
      },
      {
       "output_type": "stream",
       "stream": "stdout",
       "text": [
        " 1.18199659579e-05\n",
        "Point 394 over 1300\n",
        "Optitrack error:"
       ]
      },
      {
       "output_type": "stream",
       "stream": "stdout",
       "text": [
        " 4.37298348416e-05\n",
        "Point 395 over 1300\n",
        "No recent optitrack view of the marker"
       ]
      },
      {
       "output_type": "stream",
       "stream": "stdout",
       "text": [
        "\n",
        "Optitrack error:"
       ]
      },
      {
       "output_type": "stream",
       "stream": "stdout",
       "text": [
        " 3.97231870898e-05\n",
        "Point 396 over 1300\n",
        "Optitrack error:"
       ]
      },
      {
       "output_type": "stream",
       "stream": "stdout",
       "text": [
        " 0.000177691206595\n",
        "Point 397 over 1300\n",
        "No recent optitrack view of the marker"
       ]
      },
      {
       "output_type": "stream",
       "stream": "stdout",
       "text": [
        "\n",
        "Optitrack error:"
       ]
      },
      {
       "output_type": "stream",
       "stream": "stdout",
       "text": [
        " 7.15025322046e-05\n",
        "Point 398 over 1300\n",
        "Optitrack error:"
       ]
      },
      {
       "output_type": "stream",
       "stream": "stdout",
       "text": [
        " 2.3357156178e-05\n",
        "Point 399 over 1300\n",
        "Optitrack error:"
       ]
      },
      {
       "output_type": "stream",
       "stream": "stdout",
       "text": [
        " 1.01127644536e-05\n",
        "Point 400 over 1300\n",
        "Optitrack error:"
       ]
      },
      {
       "output_type": "stream",
       "stream": "stdout",
       "text": [
        " 1.33686959467e-05\n",
        "Point 401 over 1300\n",
        "Optitrack error:"
       ]
      },
      {
       "output_type": "stream",
       "stream": "stdout",
       "text": [
        " 1.60527667222e-05\n",
        "Point 402 over 1300\n",
        "Optitrack error:"
       ]
      },
      {
       "output_type": "stream",
       "stream": "stdout",
       "text": [
        " 0.0083975965449\n",
        "Point 403 over 1300\n",
        "Optitrack error:"
       ]
      },
      {
       "output_type": "stream",
       "stream": "stdout",
       "text": [
        " 8.24092650153e-05\n",
        "Point 404 over 1300\n",
        "Optitrack error:"
       ]
      },
      {
       "output_type": "stream",
       "stream": "stdout",
       "text": [
        " 4.26732137391e-05\n",
        "Point 405 over 1300\n",
        "Optitrack error:"
       ]
      },
      {
       "output_type": "stream",
       "stream": "stdout",
       "text": [
        " 1.86046476514e-05\n",
        "Point 406 over 1300\n",
        "Optitrack error:"
       ]
      },
      {
       "output_type": "stream",
       "stream": "stdout",
       "text": [
        " 2.86510427055e-05\n",
        "Point 407 over 1300\n",
        "No recent optitrack view of the marker"
       ]
      },
      {
       "output_type": "stream",
       "stream": "stdout",
       "text": [
        "\n",
        "Optitrack error:"
       ]
      },
      {
       "output_type": "stream",
       "stream": "stdout",
       "text": [
        " 0.000250681536098\n",
        "Point 408 over 1300\n",
        "Optitrack error:"
       ]
      },
      {
       "output_type": "stream",
       "stream": "stdout",
       "text": [
        " 2.06799887413e-05\n",
        "Point 409 over 1300\n",
        "No recent optitrack view of the marker"
       ]
      },
      {
       "output_type": "stream",
       "stream": "stdout",
       "text": [
        "\n",
        "Optitrack error:"
       ]
      },
      {
       "output_type": "stream",
       "stream": "stdout",
       "text": [
        " 2.39619626637e-05\n",
        "Point 410 over 1300\n",
        "No recent optitrack view of the marker"
       ]
      },
      {
       "output_type": "stream",
       "stream": "stdout",
       "text": [
        "\n",
        "Optitrack error:"
       ]
      },
      {
       "output_type": "stream",
       "stream": "stdout",
       "text": [
        " 1.14055983447e-05\n",
        "Point 411 over 1300\n",
        "Optitrack error:"
       ]
      },
      {
       "output_type": "stream",
       "stream": "stdout",
       "text": [
        " 0.000257497655616\n",
        "Point 412 over 1300\n",
        "No recent optitrack view of the marker"
       ]
      },
      {
       "output_type": "stream",
       "stream": "stdout",
       "text": [
        "\n",
        "Optitrack error:"
       ]
      },
      {
       "output_type": "stream",
       "stream": "stdout",
       "text": [
        " 3.71032364974e-05\n",
        "Point 413 over 1300\n",
        "No recent optitrack view of the marker"
       ]
      },
      {
       "output_type": "stream",
       "stream": "stdout",
       "text": [
        "\n",
        "Optitrack error:"
       ]
      },
      {
       "output_type": "stream",
       "stream": "stdout",
       "text": [
        " 1.42041634628e-05\n",
        "Point 414 over 1300\n",
        "No recent optitrack view of the marker"
       ]
      },
      {
       "output_type": "stream",
       "stream": "stdout",
       "text": [
        "\n",
        "Optitrack error:"
       ]
      },
      {
       "output_type": "stream",
       "stream": "stdout",
       "text": [
        " 6.11611638158e-06\n",
        "Point 415 over 1300\n",
        "Optitrack error:"
       ]
      },
      {
       "output_type": "stream",
       "stream": "stdout",
       "text": [
        " 2.1496755418e-05\n",
        "Point 416 over 1300\n",
        "Optitrack error:"
       ]
      },
      {
       "output_type": "stream",
       "stream": "stdout",
       "text": [
        " 0.000109897456928\n",
        "Point 417 over 1300\n",
        "Optitrack error:"
       ]
      },
      {
       "output_type": "stream",
       "stream": "stdout",
       "text": [
        " 3.18119681144e-05\n",
        "Point 418 over 1300\n",
        "Optitrack error:"
       ]
      },
      {
       "output_type": "stream",
       "stream": "stdout",
       "text": [
        " 4.26134522441e-05\n",
        "Point 419 over 1300\n",
        "Optitrack error:"
       ]
      },
      {
       "output_type": "stream",
       "stream": "stdout",
       "text": [
        " 2.12648823931e-05\n",
        "Point 420 over 1300\n",
        "No recent optitrack view of the marker"
       ]
      },
      {
       "output_type": "stream",
       "stream": "stdout",
       "text": [
        "\n",
        "Optitrack error:"
       ]
      },
      {
       "output_type": "stream",
       "stream": "stdout",
       "text": [
        " 0.000124373950476\n",
        "Point 421 over 1300\n",
        "Optitrack error:"
       ]
      },
      {
       "output_type": "stream",
       "stream": "stdout",
       "text": [
        " 2.42652872415e-05\n",
        "Point 422 over 1300\n",
        "Optitrack error:"
       ]
      },
      {
       "output_type": "stream",
       "stream": "stdout",
       "text": [
        " 9.6319406047e-05\n",
        "Point 423 over 1300\n",
        "No recent optitrack view of the marker"
       ]
      },
      {
       "output_type": "stream",
       "stream": "stdout",
       "text": [
        "\n",
        "Optitrack error:"
       ]
      },
      {
       "output_type": "stream",
       "stream": "stdout",
       "text": [
        " 2.76043748409e-05\n",
        "Point 424 over 1300\n",
        "Optitrack error:"
       ]
      },
      {
       "output_type": "stream",
       "stream": "stdout",
       "text": [
        " 1.26892553053e-05\n",
        "Point 425 over 1300\n",
        "Optitrack error:"
       ]
      },
      {
       "output_type": "stream",
       "stream": "stdout",
       "text": [
        " 2.52912472813e-05\n",
        "Point 426 over 1300\n",
        "Optitrack error:"
       ]
      },
      {
       "output_type": "stream",
       "stream": "stdout",
       "text": [
        " 3.5356866021e-05\n",
        "Point 427 over 1300\n",
        "Optitrack error:"
       ]
      },
      {
       "output_type": "stream",
       "stream": "stdout",
       "text": [
        " 0.000278649872392\n",
        "Point 428 over 1300\n",
        "Optitrack error:"
       ]
      },
      {
       "output_type": "stream",
       "stream": "stdout",
       "text": [
        " 0.000160257835156\n",
        "Point 429 over 1300\n",
        "Optitrack error:"
       ]
      },
      {
       "output_type": "stream",
       "stream": "stdout",
       "text": [
        " 1.22369149556e-05\n",
        "Point 430 over 1300\n",
        "Optitrack error:"
       ]
      },
      {
       "output_type": "stream",
       "stream": "stdout",
       "text": [
        " 3.15505452174e-05\n",
        "Point 431 over 1300\n",
        "Optitrack error:"
       ]
      },
      {
       "output_type": "stream",
       "stream": "stdout",
       "text": [
        " 2.19596472841e-05\n",
        "Point 432 over 1300\n",
        "No recent optitrack view of the marker"
       ]
      },
      {
       "output_type": "stream",
       "stream": "stdout",
       "text": [
        "\n",
        "Optitrack error:"
       ]
      },
      {
       "output_type": "stream",
       "stream": "stdout",
       "text": [
        " 0.000272678430885\n",
        "Point 433 over 1300\n",
        "Optitrack error:"
       ]
      },
      {
       "output_type": "stream",
       "stream": "stdout",
       "text": [
        " 6.57305832012e-06\n",
        "Point 434 over 1300\n",
        "Optitrack error:"
       ]
      },
      {
       "output_type": "stream",
       "stream": "stdout",
       "text": [
        " 8.09321998345e-05\n",
        "Point 435 over 1300\n",
        "Optitrack error:"
       ]
      },
      {
       "output_type": "stream",
       "stream": "stdout",
       "text": [
        " 4.9325615389e-05\n",
        "Point 436 over 1300\n",
        "Optitrack error:"
       ]
      },
      {
       "output_type": "stream",
       "stream": "stdout",
       "text": [
        " 0.000313505916881\n",
        "Point 437 over 1300\n",
        "No recent optitrack view of the marker"
       ]
      },
      {
       "output_type": "stream",
       "stream": "stdout",
       "text": [
        "\n",
        "Optitrack error:"
       ]
      },
      {
       "output_type": "stream",
       "stream": "stdout",
       "text": [
        " 0.0018480760149\n",
        "Point 438 over 1300\n",
        "No recent optitrack view of the marker"
       ]
      },
      {
       "output_type": "stream",
       "stream": "stdout",
       "text": [
        "\n",
        "Optitrack error:"
       ]
      },
      {
       "output_type": "stream",
       "stream": "stdout",
       "text": [
        " 9.86096767092e-06\n",
        "Point 439 over 1300\n",
        "Optitrack error:"
       ]
      },
      {
       "output_type": "stream",
       "stream": "stdout",
       "text": [
        " 9.90942941237e-06\n",
        "Point 440 over 1300\n",
        "Optitrack error:"
       ]
      },
      {
       "output_type": "stream",
       "stream": "stdout",
       "text": [
        " 1.59367483567e-05\n",
        "Point 441 over 1300\n",
        "Optitrack error:"
       ]
      },
      {
       "output_type": "stream",
       "stream": "stdout",
       "text": [
        " 0.00716159013131\n",
        "Point 442 over 1300\n",
        "Optitrack error:"
       ]
      },
      {
       "output_type": "stream",
       "stream": "stdout",
       "text": [
        " 0.000163916794129\n",
        "Point 443 over 1300\n",
        "Optitrack error:"
       ]
      },
      {
       "output_type": "stream",
       "stream": "stdout",
       "text": [
        " 5.0637927376e-05\n",
        "Point 444 over 1300\n",
        "Optitrack error:"
       ]
      },
      {
       "output_type": "stream",
       "stream": "stdout",
       "text": [
        " 3.3211893405e-05\n",
        "Point 445 over 1300\n",
        "Optitrack error:"
       ]
      },
      {
       "output_type": "stream",
       "stream": "stdout",
       "text": [
        " 0.000388980498692\n",
        "Point 446 over 1300\n",
        "Optitrack error:"
       ]
      },
      {
       "output_type": "stream",
       "stream": "stdout",
       "text": [
        " 6.63424099208e-05\n",
        "Point 447 over 1300\n",
        "Optitrack error:"
       ]
      },
      {
       "output_type": "stream",
       "stream": "stdout",
       "text": [
        " 0.000495406397396\n",
        "Point 448 over 1300\n",
        "Optitrack error:"
       ]
      },
      {
       "output_type": "stream",
       "stream": "stdout",
       "text": [
        " 0.000498656859219\n",
        "Point 449 over 1300\n",
        "Optitrack error:"
       ]
      },
      {
       "output_type": "stream",
       "stream": "stdout",
       "text": [
        " 0.000222578145357\n",
        "Point 450 over 1300\n",
        "Optitrack error:"
       ]
      },
      {
       "output_type": "stream",
       "stream": "stdout",
       "text": [
        " 4.76180622458e-05\n",
        "Point 451 over 1300\n",
        "Optitrack error:"
       ]
      },
      {
       "output_type": "stream",
       "stream": "stdout",
       "text": [
        " 3.42454690821e-05\n",
        "Point 452 over 1300\n",
        "Optitrack error:"
       ]
      },
      {
       "output_type": "stream",
       "stream": "stdout",
       "text": [
        " 8.31010652959e-06\n",
        "Point 453 over 1300\n",
        "Optitrack error:"
       ]
      },
      {
       "output_type": "stream",
       "stream": "stdout",
       "text": [
        " 1.97518700316e-05\n",
        "Point 454 over 1300\n",
        "Optitrack error:"
       ]
      },
      {
       "output_type": "stream",
       "stream": "stdout",
       "text": [
        " 0.00024259564527\n",
        "Point 455 over 1300\n",
        "Optitrack error:"
       ]
      },
      {
       "output_type": "stream",
       "stream": "stdout",
       "text": [
        " 4.77027954052e-05\n",
        "Point 456 over 1300\n",
        "Optitrack error:"
       ]
      },
      {
       "output_type": "stream",
       "stream": "stdout",
       "text": [
        " 0.000404609158911\n",
        "Point 457 over 1300\n",
        "Optitrack error:"
       ]
      },
      {
       "output_type": "stream",
       "stream": "stdout",
       "text": [
        " 1.90714103869e-05\n",
        "Point 458 over 1300\n",
        "Optitrack error:"
       ]
      },
      {
       "output_type": "stream",
       "stream": "stdout",
       "text": [
        " 5.8247856374e-05\n",
        "Point 459 over 1300\n",
        "Optitrack error:"
       ]
      },
      {
       "output_type": "stream",
       "stream": "stdout",
       "text": [
        " 2.12363333484e-05\n",
        "Point 460 over 1300\n",
        "Optitrack error:"
       ]
      },
      {
       "output_type": "stream",
       "stream": "stdout",
       "text": [
        " 0.000110346059466\n",
        "Point 461 over 1300\n",
        "Optitrack error:"
       ]
      },
      {
       "output_type": "stream",
       "stream": "stdout",
       "text": [
        " 6.39369005734e-05\n",
        "Point 462 over 1300\n",
        "Optitrack error:"
       ]
      },
      {
       "output_type": "stream",
       "stream": "stdout",
       "text": [
        " 0.00592055132897\n",
        "Point 463 over 1300\n",
        "Optitrack error:"
       ]
      },
      {
       "output_type": "stream",
       "stream": "stdout",
       "text": [
        " 1.15306440747e-05\n",
        "Point 464 over 1300\n",
        "No recent optitrack view of the marker"
       ]
      },
      {
       "output_type": "stream",
       "stream": "stdout",
       "text": [
        "\n",
        "Optitrack error:"
       ]
      },
      {
       "output_type": "stream",
       "stream": "stdout",
       "text": [
        " 8.08949164357e-05\n",
        "Point 465 over 1300\n",
        "Optitrack error:"
       ]
      },
      {
       "output_type": "stream",
       "stream": "stdout",
       "text": [
        " 3.81989516089e-05\n",
        "Point 466 over 1300\n",
        "Optitrack error:"
       ]
      },
      {
       "output_type": "stream",
       "stream": "stdout",
       "text": [
        " 0.00038079696356\n",
        "Point 467 over 1300\n",
        "Optitrack error:"
       ]
      },
      {
       "output_type": "stream",
       "stream": "stdout",
       "text": [
        " 0.000384641670564\n",
        "Point 468 over 1300\n",
        "Optitrack error:"
       ]
      },
      {
       "output_type": "stream",
       "stream": "stdout",
       "text": [
        " 9.14063172201e-06\n",
        "Point 469 over 1300\n",
        "Optitrack error:"
       ]
      },
      {
       "output_type": "stream",
       "stream": "stdout",
       "text": [
        " 8.4940633153e-05\n",
        "Point 470 over 1300\n",
        "Optitrack error:"
       ]
      },
      {
       "output_type": "stream",
       "stream": "stdout",
       "text": [
        " 7.15093808545e-05\n",
        "Point 471 over 1300\n",
        "Optitrack error:"
       ]
      },
      {
       "output_type": "stream",
       "stream": "stdout",
       "text": [
        " 2.86142544369e-05\n",
        "Point 472 over 1300\n",
        "Optitrack error:"
       ]
      },
      {
       "output_type": "stream",
       "stream": "stdout",
       "text": [
        " 0.00772377129306\n",
        "Point 473 over 1300\n",
        "Optitrack error:"
       ]
      },
      {
       "output_type": "stream",
       "stream": "stdout",
       "text": [
        " 5.41908481936e-06\n",
        "Point 474 over 1300\n",
        "Optitrack error:"
       ]
      },
      {
       "output_type": "stream",
       "stream": "stdout",
       "text": [
        " 1.67866618785e-05\n",
        "Point 475 over 1300\n",
        "Optitrack error:"
       ]
      },
      {
       "output_type": "stream",
       "stream": "stdout",
       "text": [
        " 0.000189621951686\n",
        "Point 476 over 1300\n",
        "No recent optitrack view of the marker"
       ]
      },
      {
       "output_type": "stream",
       "stream": "stdout",
       "text": [
        "\n",
        "Optitrack error:"
       ]
      },
      {
       "output_type": "stream",
       "stream": "stdout",
       "text": [
        " 1.60054656928e-05\n",
        "Point 477 over 1300\n",
        "Optitrack error:"
       ]
      },
      {
       "output_type": "stream",
       "stream": "stdout",
       "text": [
        " 9.10965957825e-05\n",
        "Point 478 over 1300\n",
        "Optitrack error:"
       ]
      },
      {
       "output_type": "stream",
       "stream": "stdout",
       "text": [
        " 1.36734735172e-05\n",
        "Point 479 over 1300\n",
        "Optitrack error:"
       ]
      },
      {
       "output_type": "stream",
       "stream": "stdout",
       "text": [
        " 0.000155673597035\n",
        "Point 480 over 1300\n",
        "Optitrack error:"
       ]
      },
      {
       "output_type": "stream",
       "stream": "stdout",
       "text": [
        " 3.98337981901e-05\n",
        "Point 481 over 1300\n",
        "Optitrack error:"
       ]
      },
      {
       "output_type": "stream",
       "stream": "stdout",
       "text": [
        " 1.45588615349e-05\n",
        "Point 482 over 1300\n",
        "Optitrack error:"
       ]
      },
      {
       "output_type": "stream",
       "stream": "stdout",
       "text": [
        " 4.66664171612e-05\n",
        "Point 483 over 1300\n",
        "Optitrack error:"
       ]
      },
      {
       "output_type": "stream",
       "stream": "stdout",
       "text": [
        " 3.12027682182e-05\n",
        "Point 484 over 1300\n",
        "Optitrack error:"
       ]
      },
      {
       "output_type": "stream",
       "stream": "stdout",
       "text": [
        " 9.10071261367e-06\n",
        "Point 485 over 1300\n",
        "Optitrack error:"
       ]
      },
      {
       "output_type": "stream",
       "stream": "stdout",
       "text": [
        " 5.4806996919e-05\n",
        "Point 486 over 1300\n",
        "Optitrack error:"
       ]
      },
      {
       "output_type": "stream",
       "stream": "stdout",
       "text": [
        " 1.3892875171e-05\n",
        "Point 487 over 1300\n",
        "Optitrack error:"
       ]
      },
      {
       "output_type": "stream",
       "stream": "stdout",
       "text": [
        " 0.000212834085448\n",
        "Point 488 over 1300\n",
        "Optitrack error:"
       ]
      },
      {
       "output_type": "stream",
       "stream": "stdout",
       "text": [
        " 4.1953047185e-05\n",
        "Point 489 over 1300\n",
        "Optitrack error:"
       ]
      },
      {
       "output_type": "stream",
       "stream": "stdout",
       "text": [
        " 2.22203845362e-05\n",
        "Point 490 over 1300\n",
        "Optitrack error:"
       ]
      },
      {
       "output_type": "stream",
       "stream": "stdout",
       "text": [
        " 2.4851669284e-05\n",
        "Point 491 over 1300\n",
        "Optitrack error:"
       ]
      },
      {
       "output_type": "stream",
       "stream": "stdout",
       "text": [
        " 7.91511518754e-06\n",
        "Point 492 over 1300\n",
        "Optitrack error:"
       ]
      },
      {
       "output_type": "stream",
       "stream": "stdout",
       "text": [
        " 0.000423976297906\n",
        "Point 493 over 1300\n",
        "Optitrack error:"
       ]
      },
      {
       "output_type": "stream",
       "stream": "stdout",
       "text": [
        " 0.000390778319817\n",
        "Point 494 over 1300\n",
        "Optitrack error:"
       ]
      },
      {
       "output_type": "stream",
       "stream": "stdout",
       "text": [
        " 8.02121354707e-06\n",
        "Point 495 over 1300\n",
        "No recent optitrack view of the marker"
       ]
      },
      {
       "output_type": "stream",
       "stream": "stdout",
       "text": [
        "\n",
        "Optitrack error:"
       ]
      },
      {
       "output_type": "stream",
       "stream": "stdout",
       "text": [
        " 0.000110452649296\n",
        "Point 496 over 1300\n",
        "Optitrack error:"
       ]
      },
      {
       "output_type": "stream",
       "stream": "stdout",
       "text": [
        " 1.22013337989e-05\n",
        "Point 497 over 1300\n",
        "Optitrack error:"
       ]
      },
      {
       "output_type": "stream",
       "stream": "stdout",
       "text": [
        " 7.21799278027e-06\n",
        "Point 498 over 1300\n",
        "Optitrack error:"
       ]
      },
      {
       "output_type": "stream",
       "stream": "stdout",
       "text": [
        " 4.29616886054e-05\n",
        "Point 499 over 1300\n",
        "Optitrack error:"
       ]
      },
      {
       "output_type": "stream",
       "stream": "stdout",
       "text": [
        " 1.17295735538e-05\n",
        "Point 500 over 1300\n",
        "Optitrack error:"
       ]
      },
      {
       "output_type": "stream",
       "stream": "stdout",
       "text": [
        " 7.00128664684e-06\n",
        "Point 501 over 1300\n",
        "No recent optitrack view of the marker"
       ]
      },
      {
       "output_type": "stream",
       "stream": "stdout",
       "text": [
        "\n",
        "Optitrack error:"
       ]
      },
      {
       "output_type": "stream",
       "stream": "stdout",
       "text": [
        " 2.48407285851e-05\n",
        "Point 502 over 1300\n",
        "Optitrack error:"
       ]
      },
      {
       "output_type": "stream",
       "stream": "stdout",
       "text": [
        " 3.67038649832e-05\n",
        "Point 503 over 1300\n",
        "Optitrack error:"
       ]
      },
      {
       "output_type": "stream",
       "stream": "stdout",
       "text": [
        " 1.0076210389e-05\n",
        "Point 504 over 1300\n",
        "Optitrack error:"
       ]
      },
      {
       "output_type": "stream",
       "stream": "stdout",
       "text": [
        " 1.75884228681e-05\n",
        "Point 505 over 1300\n",
        "Optitrack error:"
       ]
      },
      {
       "output_type": "stream",
       "stream": "stdout",
       "text": [
        " 2.42156844501e-05\n",
        "Point 506 over 1300\n",
        "Optitrack error:"
       ]
      },
      {
       "output_type": "stream",
       "stream": "stdout",
       "text": [
        " 1.612304601e-05\n",
        "Point 507 over 1300\n",
        "Optitrack error:"
       ]
      },
      {
       "output_type": "stream",
       "stream": "stdout",
       "text": [
        " 1.27317861221e-05\n",
        "Point 508 over 1300\n",
        "Optitrack error:"
       ]
      },
      {
       "output_type": "stream",
       "stream": "stdout",
       "text": [
        " 2.04190836325e-05\n",
        "Point 509 over 1300\n",
        "Optitrack error:"
       ]
      },
      {
       "output_type": "stream",
       "stream": "stdout",
       "text": [
        " 0.000234634047673\n",
        "Point 510 over 1300\n",
        "Optitrack error:"
       ]
      },
      {
       "output_type": "stream",
       "stream": "stdout",
       "text": [
        " 1.95331097553e-05\n",
        "Point 511 over 1300\n",
        "Optitrack error:"
       ]
      },
      {
       "output_type": "stream",
       "stream": "stdout",
       "text": [
        " 0.000323229301732\n",
        "Point 512 over 1300\n",
        "No recent optitrack view of the marker"
       ]
      },
      {
       "output_type": "stream",
       "stream": "stdout",
       "text": [
        "\n",
        "Optitrack error:"
       ]
      },
      {
       "output_type": "stream",
       "stream": "stdout",
       "text": [
        " 0.000217393807106\n",
        "Point 513 over 1300\n",
        "No recent optitrack view of the marker"
       ]
      },
      {
       "output_type": "stream",
       "stream": "stdout",
       "text": [
        "\n",
        "Optitrack error:"
       ]
      },
      {
       "output_type": "stream",
       "stream": "stdout",
       "text": [
        " 0.000320447729668\n",
        "Point 514 over 1300\n",
        "Optitrack error:"
       ]
      },
      {
       "output_type": "stream",
       "stream": "stdout",
       "text": [
        " 1.73217971293e-05\n",
        "Point 515 over 1300\n",
        "No recent optitrack view of the marker"
       ]
      },
      {
       "output_type": "stream",
       "stream": "stdout",
       "text": [
        "\n",
        "Optitrack error:"
       ]
      },
      {
       "output_type": "stream",
       "stream": "stdout",
       "text": [
        " 1.14280712101e-05\n",
        "Point 516 over 1300\n",
        "Optitrack error:"
       ]
      },
      {
       "output_type": "stream",
       "stream": "stdout",
       "text": [
        " 1.91998821725e-05\n",
        "Point 517 over 1300\n",
        "Optitrack error:"
       ]
      },
      {
       "output_type": "stream",
       "stream": "stdout",
       "text": [
        " 2.6070309149e-05\n",
        "Point 518 over 1300\n",
        "Optitrack error:"
       ]
      },
      {
       "output_type": "stream",
       "stream": "stdout",
       "text": [
        " 2.89619953687e-05\n",
        "Point 519 over 1300\n",
        "Optitrack error:"
       ]
      },
      {
       "output_type": "stream",
       "stream": "stdout",
       "text": [
        " 0.000350449584388\n",
        "Point 520 over 1300\n",
        "No recent optitrack view of the marker"
       ]
      },
      {
       "output_type": "stream",
       "stream": "stdout",
       "text": [
        "\n",
        "Optitrack error:"
       ]
      },
      {
       "output_type": "stream",
       "stream": "stdout",
       "text": [
        " 2.26593796078e-05\n",
        "Point 521 over 1300\n",
        "Optitrack error:"
       ]
      },
      {
       "output_type": "stream",
       "stream": "stdout",
       "text": [
        " 0.000236886482459\n",
        "Point 522 over 1300\n",
        "Optitrack error:"
       ]
      },
      {
       "output_type": "stream",
       "stream": "stdout",
       "text": [
        " 1.13282662723e-05\n",
        "Point 523 over 1300\n",
        "Optitrack error:"
       ]
      },
      {
       "output_type": "stream",
       "stream": "stdout",
       "text": [
        " 2.31433053212e-05\n",
        "Point 524 over 1300\n",
        "Optitrack error:"
       ]
      },
      {
       "output_type": "stream",
       "stream": "stdout",
       "text": [
        " 0.000124189215392\n",
        "Point 525 over 1300\n",
        "Optitrack error:"
       ]
      },
      {
       "output_type": "stream",
       "stream": "stdout",
       "text": [
        " 0.000324700149228\n",
        "Point 526 over 1300\n",
        "Optitrack error:"
       ]
      },
      {
       "output_type": "stream",
       "stream": "stdout",
       "text": [
        " 4.47796613358e-05\n",
        "Point 527 over 1300\n",
        "No recent optitrack view of the marker"
       ]
      },
      {
       "output_type": "stream",
       "stream": "stdout",
       "text": [
        "\n",
        "Optitrack error:"
       ]
      },
      {
       "output_type": "stream",
       "stream": "stdout",
       "text": [
        " 9.87941958745e-06\n",
        "Point 528 over 1300\n",
        "Optitrack error:"
       ]
      },
      {
       "output_type": "stream",
       "stream": "stdout",
       "text": [
        " 5.53938516839e-06\n",
        "Point 529 over 1300\n",
        "Optitrack error:"
       ]
      },
      {
       "output_type": "stream",
       "stream": "stdout",
       "text": [
        " 1.10492386572e-05\n",
        "Point 530 over 1300\n",
        "Optitrack error:"
       ]
      },
      {
       "output_type": "stream",
       "stream": "stdout",
       "text": [
        " 2.78249467198e-05\n",
        "Point 531 over 1300\n",
        "Optitrack error:"
       ]
      },
      {
       "output_type": "stream",
       "stream": "stdout",
       "text": [
        " 9.11330708025e-05\n",
        "Point 532 over 1300\n",
        "Optitrack error:"
       ]
      },
      {
       "output_type": "stream",
       "stream": "stdout",
       "text": [
        " 4.950563549e-05\n",
        "Point 533 over 1300\n",
        "Optitrack error:"
       ]
      },
      {
       "output_type": "stream",
       "stream": "stdout",
       "text": [
        " 0.000101363898768\n",
        "Point 534 over 1300\n",
        "Optitrack error:"
       ]
      },
      {
       "output_type": "stream",
       "stream": "stdout",
       "text": [
        " 1.06032723183e-05\n",
        "Point 535 over 1300\n",
        "No recent optitrack view of the marker"
       ]
      },
      {
       "output_type": "stream",
       "stream": "stdout",
       "text": [
        "\n",
        "Optitrack error:"
       ]
      },
      {
       "output_type": "stream",
       "stream": "stdout",
       "text": [
        " 0.000174328681792\n",
        "Point 536 over 1300\n",
        "No recent optitrack view of the marker"
       ]
      },
      {
       "output_type": "stream",
       "stream": "stdout",
       "text": [
        "\n",
        "No recent optitrack view of the marker"
       ]
      },
      {
       "output_type": "stream",
       "stream": "stdout",
       "text": [
        "\n",
        "Optitrack error:"
       ]
      },
      {
       "output_type": "stream",
       "stream": "stdout",
       "text": [
        " 2.33776912185e-05\n",
        "Point 537 over 1300\n",
        "Optitrack error:"
       ]
      },
      {
       "output_type": "stream",
       "stream": "stdout",
       "text": [
        " 9.91949166088e-05\n",
        "Point 538 over 1300\n",
        "No recent optitrack view of the marker"
       ]
      },
      {
       "output_type": "stream",
       "stream": "stdout",
       "text": [
        "\n",
        "Optitrack error:"
       ]
      },
      {
       "output_type": "stream",
       "stream": "stdout",
       "text": [
        " 8.59002537261e-05\n",
        "Point 539 over 1300\n",
        "No recent optitrack view of the marker"
       ]
      },
      {
       "output_type": "stream",
       "stream": "stdout",
       "text": [
        "\n",
        "Optitrack error:"
       ]
      },
      {
       "output_type": "stream",
       "stream": "stdout",
       "text": [
        " 1.98176608893e-05\n",
        "Point 540 over 1300\n",
        "Optitrack error:"
       ]
      },
      {
       "output_type": "stream",
       "stream": "stdout",
       "text": [
        " 2.09396470078e-05\n",
        "Point 541 over 1300\n",
        "Optitrack error:"
       ]
      },
      {
       "output_type": "stream",
       "stream": "stdout",
       "text": [
        " 0.000123500184468\n",
        "Point 542 over 1300\n",
        "Optitrack error:"
       ]
      },
      {
       "output_type": "stream",
       "stream": "stdout",
       "text": [
        " 9.74997889422e-06\n",
        "Point 543 over 1300\n",
        "Optitrack error:"
       ]
      },
      {
       "output_type": "stream",
       "stream": "stdout",
       "text": [
        " 2.52740771196e-05\n",
        "Point 544 over 1300\n",
        "Optitrack error:"
       ]
      },
      {
       "output_type": "stream",
       "stream": "stdout",
       "text": [
        " 1.50509691926e-05\n",
        "Point 545 over 1300\n",
        "Optitrack error:"
       ]
      },
      {
       "output_type": "stream",
       "stream": "stdout",
       "text": [
        " 7.24522196949e-06\n",
        "Point 546 over 1300\n",
        "Optitrack error:"
       ]
      },
      {
       "output_type": "stream",
       "stream": "stdout",
       "text": [
        " 0.000271314022665\n",
        "Point 547 over 1300\n",
        "Optitrack error:"
       ]
      },
      {
       "output_type": "stream",
       "stream": "stdout",
       "text": [
        " 2.87264063257e-05\n",
        "Point 548 over 1300\n",
        "Optitrack error:"
       ]
      },
      {
       "output_type": "stream",
       "stream": "stdout",
       "text": [
        " 2.73894301105e-05\n",
        "Point 549 over 1300\n",
        "No recent optitrack view of the marker"
       ]
      },
      {
       "output_type": "stream",
       "stream": "stdout",
       "text": [
        "\n",
        "Optitrack error:"
       ]
      },
      {
       "output_type": "stream",
       "stream": "stdout",
       "text": [
        " 0.00023999596459\n",
        "Point 550 over 1300\n",
        "Optitrack error:"
       ]
      },
      {
       "output_type": "stream",
       "stream": "stdout",
       "text": [
        " 0.000358244108936\n",
        "Point 551 over 1300\n",
        "Optitrack error:"
       ]
      },
      {
       "output_type": "stream",
       "stream": "stdout",
       "text": [
        " 0.000187530540103\n",
        "Point 552 over 1300\n",
        "Optitrack error:"
       ]
      },
      {
       "output_type": "stream",
       "stream": "stdout",
       "text": [
        " 9.4345416787e-06\n",
        "Point 553 over 1300\n",
        "Optitrack error:"
       ]
      },
      {
       "output_type": "stream",
       "stream": "stdout",
       "text": [
        " 7.25719346626e-06\n",
        "Point 554 over 1300\n",
        "Optitrack error:"
       ]
      },
      {
       "output_type": "stream",
       "stream": "stdout",
       "text": [
        " 0.000371673439776\n",
        "Point 555 over 1300\n",
        "Optitrack error:"
       ]
      },
      {
       "output_type": "stream",
       "stream": "stdout",
       "text": [
        " 1.28587346221e-05\n",
        "Point 556 over 1300\n",
        "Optitrack error:"
       ]
      },
      {
       "output_type": "stream",
       "stream": "stdout",
       "text": [
        " 0.00572205547994\n",
        "Point 557 over 1300\n",
        "Optitrack error:"
       ]
      },
      {
       "output_type": "stream",
       "stream": "stdout",
       "text": [
        " 2.53180632549e-05\n",
        "Point 558 over 1300\n",
        "Optitrack error:"
       ]
      },
      {
       "output_type": "stream",
       "stream": "stdout",
       "text": [
        " 4.77962652997e-05\n",
        "Point 559 over 1300\n",
        "Optitrack error:"
       ]
      },
      {
       "output_type": "stream",
       "stream": "stdout",
       "text": [
        " 1.57582384522e-05\n",
        "Point 560 over 1300\n",
        "Optitrack error:"
       ]
      },
      {
       "output_type": "stream",
       "stream": "stdout",
       "text": [
        " 4.23829144896e-05\n",
        "Point 561 over 1300\n",
        "Optitrack error:"
       ]
      },
      {
       "output_type": "stream",
       "stream": "stdout",
       "text": [
        " 0.00010297859594\n",
        "Point 562 over 1300\n",
        "Optitrack error:"
       ]
      },
      {
       "output_type": "stream",
       "stream": "stdout",
       "text": [
        " 0.000134028861109\n",
        "Point 563 over 1300\n",
        "Optitrack error:"
       ]
      },
      {
       "output_type": "stream",
       "stream": "stdout",
       "text": [
        " 1.37663867417e-05\n",
        "Point 564 over 1300\n",
        "Optitrack error:"
       ]
      },
      {
       "output_type": "stream",
       "stream": "stdout",
       "text": [
        " 0.000375826306556\n",
        "Point 565 over 1300\n",
        "Optitrack error:"
       ]
      },
      {
       "output_type": "stream",
       "stream": "stdout",
       "text": [
        " 9.45680569902e-05\n",
        "Point 566 over 1300\n",
        "Optitrack error:"
       ]
      },
      {
       "output_type": "stream",
       "stream": "stdout",
       "text": [
        " 1.48466844266e-05\n",
        "Point 567 over 1300\n",
        "No recent optitrack view of the marker"
       ]
      },
      {
       "output_type": "stream",
       "stream": "stdout",
       "text": [
        "\n",
        "Optitrack error:"
       ]
      },
      {
       "output_type": "stream",
       "stream": "stdout",
       "text": [
        " 3.41438955719e-05\n",
        "Point 568 over 1300\n",
        "Optitrack error:"
       ]
      },
      {
       "output_type": "stream",
       "stream": "stdout",
       "text": [
        " 4.21001826837e-05\n",
        "Point 569 over 1300\n",
        "Optitrack error:"
       ]
      },
      {
       "output_type": "stream",
       "stream": "stdout",
       "text": [
        " 0.00013047193396\n",
        "Point 570 over 1300\n",
        "Optitrack error:"
       ]
      },
      {
       "output_type": "stream",
       "stream": "stdout",
       "text": [
        " 2.24295285846e-05\n",
        "Point 571 over 1300\n",
        "Optitrack error:"
       ]
      },
      {
       "output_type": "stream",
       "stream": "stdout",
       "text": [
        " 0.000238610565392\n",
        "Point 572 over 1300\n",
        "Optitrack error:"
       ]
      },
      {
       "output_type": "stream",
       "stream": "stdout",
       "text": [
        " 1.06896418086e-05\n",
        "Point 573 over 1300\n",
        "Optitrack error:"
       ]
      },
      {
       "output_type": "stream",
       "stream": "stdout",
       "text": [
        " 2.52763873488e-05\n",
        "Point 574 over 1300\n",
        "Optitrack error:"
       ]
      },
      {
       "output_type": "stream",
       "stream": "stdout",
       "text": [
        " 2.05975740612e-05\n",
        "Point 575 over 1300\n",
        "Optitrack error:"
       ]
      },
      {
       "output_type": "stream",
       "stream": "stdout",
       "text": [
        " 1.80929782924e-05\n",
        "Point 576 over 1300\n",
        "Optitrack error:"
       ]
      },
      {
       "output_type": "stream",
       "stream": "stdout",
       "text": [
        " 0.000433693112627\n",
        "Point 577 over 1300\n",
        "Optitrack error:"
       ]
      },
      {
       "output_type": "stream",
       "stream": "stdout",
       "text": [
        " 5.12008080771e-05\n",
        "Point 578 over 1300\n",
        "Optitrack error:"
       ]
      },
      {
       "output_type": "stream",
       "stream": "stdout",
       "text": [
        " 3.77592609856e-05\n",
        "Point 579 over 1300\n",
        "Optitrack error:"
       ]
      },
      {
       "output_type": "stream",
       "stream": "stdout",
       "text": [
        " 1.81514362709e-05\n",
        "Point 580 over 1300\n",
        "No recent optitrack view of the marker"
       ]
      },
      {
       "output_type": "stream",
       "stream": "stdout",
       "text": [
        "\n",
        "Optitrack error:"
       ]
      },
      {
       "output_type": "stream",
       "stream": "stdout",
       "text": [
        " 6.62782061237e-05\n",
        "Point 581 over 1300\n",
        "Optitrack error:"
       ]
      },
      {
       "output_type": "stream",
       "stream": "stdout",
       "text": [
        " 3.56102970059e-05\n",
        "Point 582 over 1300\n",
        "Optitrack error:"
       ]
      },
      {
       "output_type": "stream",
       "stream": "stdout",
       "text": [
        " 1.36438859579e-05\n",
        "Point 583 over 1300\n",
        "Optitrack error:"
       ]
      },
      {
       "output_type": "stream",
       "stream": "stdout",
       "text": [
        " 4.73902581606e-05\n",
        "Point 584 over 1300\n",
        "Optitrack error:"
       ]
      },
      {
       "output_type": "stream",
       "stream": "stdout",
       "text": [
        " 0.000107287344624\n",
        "Point 585 over 1300\n",
        "No recent optitrack view of the marker"
       ]
      },
      {
       "output_type": "stream",
       "stream": "stdout",
       "text": [
        "\n",
        "No recent optitrack view of the marker"
       ]
      },
      {
       "output_type": "stream",
       "stream": "stdout",
       "text": [
        "\n",
        "Optitrack error:"
       ]
      },
      {
       "output_type": "stream",
       "stream": "stdout",
       "text": [
        " 5.95505644362e-05\n",
        "Point 586 over 1300\n",
        "Optitrack error:"
       ]
      },
      {
       "output_type": "stream",
       "stream": "stdout",
       "text": [
        " 6.33323115237e-05\n",
        "Point 587 over 1300\n",
        "Optitrack error:"
       ]
      },
      {
       "output_type": "stream",
       "stream": "stdout",
       "text": [
        " 0.000329274029549\n",
        "Point 588 over 1300\n",
        "Optitrack error:"
       ]
      },
      {
       "output_type": "stream",
       "stream": "stdout",
       "text": [
        " 4.56722146241e-05\n",
        "Point 589 over 1300\n",
        "Optitrack error:"
       ]
      },
      {
       "output_type": "stream",
       "stream": "stdout",
       "text": [
        " 1.39252872922e-05\n",
        "Point 590 over 1300\n",
        "Optitrack error:"
       ]
      },
      {
       "output_type": "stream",
       "stream": "stdout",
       "text": [
        " 9.54156056782e-06\n",
        "Point 591 over 1300\n",
        "Optitrack error:"
       ]
      },
      {
       "output_type": "stream",
       "stream": "stdout",
       "text": [
        " 3.65260801046e-05\n",
        "Point 592 over 1300\n",
        "Optitrack error:"
       ]
      },
      {
       "output_type": "stream",
       "stream": "stdout",
       "text": [
        " 2.99898594903e-05\n",
        "Point 593 over 1300\n",
        "Optitrack error:"
       ]
      },
      {
       "output_type": "stream",
       "stream": "stdout",
       "text": [
        " 0.000102820363282\n",
        "Point 594 over 1300\n",
        "Optitrack error:"
       ]
      },
      {
       "output_type": "stream",
       "stream": "stdout",
       "text": [
        " 8.16554306159e-05\n",
        "Point 595 over 1300\n",
        "Optitrack error:"
       ]
      },
      {
       "output_type": "stream",
       "stream": "stdout",
       "text": [
        " 1.40915830845e-05\n",
        "Point 596 over 1300\n",
        "Optitrack error:"
       ]
      },
      {
       "output_type": "stream",
       "stream": "stdout",
       "text": [
        " 1.66245945332e-05\n",
        "Point 597 over 1300\n",
        "Optitrack error:"
       ]
      },
      {
       "output_type": "stream",
       "stream": "stdout",
       "text": [
        " 6.7369730165e-06\n",
        "Point 598 over 1300\n",
        "No recent optitrack view of the marker"
       ]
      },
      {
       "output_type": "stream",
       "stream": "stdout",
       "text": [
        "\n",
        "Optitrack error:"
       ]
      },
      {
       "output_type": "stream",
       "stream": "stdout",
       "text": [
        " 8.56814679242e-05\n",
        "Point 599 over 1300\n",
        "No recent optitrack view of the marker"
       ]
      },
      {
       "output_type": "stream",
       "stream": "stdout",
       "text": [
        "\n",
        "Optitrack error:"
       ]
      },
      {
       "output_type": "stream",
       "stream": "stdout",
       "text": [
        " 9.58794929294e-06\n",
        "Point 600 over 1300\n",
        "Optitrack error:"
       ]
      },
      {
       "output_type": "stream",
       "stream": "stdout",
       "text": [
        " 9.8133206852e-06\n",
        "Point 601 over 1300\n",
        "Optitrack error:"
       ]
      },
      {
       "output_type": "stream",
       "stream": "stdout",
       "text": [
        " 2.75678536195e-05\n",
        "Point 602 over 1300\n",
        "Optitrack error:"
       ]
      },
      {
       "output_type": "stream",
       "stream": "stdout",
       "text": [
        " 2.92104152804e-05\n",
        "Point 603 over 1300\n",
        "Optitrack error:"
       ]
      },
      {
       "output_type": "stream",
       "stream": "stdout",
       "text": [
        " 2.92116352271e-05\n",
        "Point 604 over 1300\n",
        "Optitrack error:"
       ]
      },
      {
       "output_type": "stream",
       "stream": "stdout",
       "text": [
        " 8.50648813265e-06\n",
        "Point 605 over 1300\n",
        "Optitrack error:"
       ]
      },
      {
       "output_type": "stream",
       "stream": "stdout",
       "text": [
        " 6.8750437043e-06\n",
        "Point 606 over 1300\n",
        "Optitrack error:"
       ]
      },
      {
       "output_type": "stream",
       "stream": "stdout",
       "text": [
        " 1.93437183458e-05\n",
        "Point 607 over 1300\n",
        "Optitrack error:"
       ]
      },
      {
       "output_type": "stream",
       "stream": "stdout",
       "text": [
        " 5.6779503575e-05\n",
        "Point 608 over 1300\n",
        "No recent optitrack view of the marker"
       ]
      },
      {
       "output_type": "stream",
       "stream": "stdout",
       "text": [
        "\n",
        "Optitrack error:"
       ]
      },
      {
       "output_type": "stream",
       "stream": "stdout",
       "text": [
        " 0.000228696833491\n",
        "Point 609 over 1300\n",
        "No recent optitrack view of the marker"
       ]
      },
      {
       "output_type": "stream",
       "stream": "stdout",
       "text": [
        "\n",
        "Optitrack error:"
       ]
      },
      {
       "output_type": "stream",
       "stream": "stdout",
       "text": [
        " 0.000314300915942\n",
        "Point 610 over 1300\n",
        "Optitrack error:"
       ]
      },
      {
       "output_type": "stream",
       "stream": "stdout",
       "text": [
        " 0.000163170589454\n",
        "Point 611 over 1300\n",
        "No recent optitrack view of the marker"
       ]
      },
      {
       "output_type": "stream",
       "stream": "stdout",
       "text": [
        "\n",
        "Optitrack error:"
       ]
      },
      {
       "output_type": "stream",
       "stream": "stdout",
       "text": [
        " 8.27996748846e-05\n",
        "Point 612 over 1300\n",
        "Optitrack error:"
       ]
      },
      {
       "output_type": "stream",
       "stream": "stdout",
       "text": [
        " 2.10822554874e-05\n",
        "Point 613 over 1300\n",
        "Optitrack error:"
       ]
      },
      {
       "output_type": "stream",
       "stream": "stdout",
       "text": [
        " 3.58127187883e-05\n",
        "Point 614 over 1300\n",
        "Optitrack error:"
       ]
      },
      {
       "output_type": "stream",
       "stream": "stdout",
       "text": [
        " 0.000442956011442\n",
        "Point 615 over 1300\n",
        "No recent optitrack view of the marker"
       ]
      },
      {
       "output_type": "stream",
       "stream": "stdout",
       "text": [
        "\n",
        "Optitrack error:"
       ]
      },
      {
       "output_type": "stream",
       "stream": "stdout",
       "text": [
        " 4.54250748038e-05\n",
        "Point 616 over 1300\n",
        "Optitrack error:"
       ]
      },
      {
       "output_type": "stream",
       "stream": "stdout",
       "text": [
        " 8.92590451453e-05\n",
        "Point 617 over 1300\n",
        "Optitrack error:"
       ]
      },
      {
       "output_type": "stream",
       "stream": "stdout",
       "text": [
        " 4.57445185101e-05\n",
        "Point 618 over 1300\n",
        "Optitrack error:"
       ]
      },
      {
       "output_type": "stream",
       "stream": "stdout",
       "text": [
        " 3.72023962647e-05\n",
        "Point 619 over 1300\n",
        "Optitrack error:"
       ]
      },
      {
       "output_type": "stream",
       "stream": "stdout",
       "text": [
        " 0.00321811201897\n",
        "Point 620 over 1300\n",
        "Optitrack error:"
       ]
      },
      {
       "output_type": "stream",
       "stream": "stdout",
       "text": [
        " 2.0544293929e-05\n",
        "Point 621 over 1300\n",
        "Optitrack error:"
       ]
      },
      {
       "output_type": "stream",
       "stream": "stdout",
       "text": [
        " 0.000388225744436\n",
        "Point 622 over 1300\n",
        "Optitrack error:"
       ]
      },
      {
       "output_type": "stream",
       "stream": "stdout",
       "text": [
        " 3.23165226607e-05\n",
        "Point 623 over 1300\n",
        "Optitrack error:"
       ]
      },
      {
       "output_type": "stream",
       "stream": "stdout",
       "text": [
        " 0.000143055353537\n",
        "Point 624 over 1300\n",
        "Optitrack error:"
       ]
      },
      {
       "output_type": "stream",
       "stream": "stdout",
       "text": [
        " 2.86897315901e-05\n",
        "Point 625 over 1300\n",
        "Optitrack error:"
       ]
      },
      {
       "output_type": "stream",
       "stream": "stdout",
       "text": [
        " 1.12299010439e-05\n",
        "Point 626 over 1300\n",
        "Optitrack error:"
       ]
      },
      {
       "output_type": "stream",
       "stream": "stdout",
       "text": [
        " 6.81449523544e-05\n",
        "Point 627 over 1300\n",
        "Optitrack error:"
       ]
      },
      {
       "output_type": "stream",
       "stream": "stdout",
       "text": [
        " 6.76619317511e-05\n",
        "Point 628 over 1300\n",
        "Optitrack error:"
       ]
      },
      {
       "output_type": "stream",
       "stream": "stdout",
       "text": [
        " 1.1640482042e-05\n",
        "Point 629 over 1300\n",
        "Optitrack error:"
       ]
      },
      {
       "output_type": "stream",
       "stream": "stdout",
       "text": [
        " 2.36208890789e-05\n",
        "Point 630 over 1300\n",
        "No recent optitrack view of the marker"
       ]
      },
      {
       "output_type": "stream",
       "stream": "stdout",
       "text": [
        "\n",
        "Optitrack error:"
       ]
      },
      {
       "output_type": "stream",
       "stream": "stdout",
       "text": [
        " 4.05426589299e-05\n",
        "Point 631 over 1300\n",
        "Optitrack error:"
       ]
      },
      {
       "output_type": "stream",
       "stream": "stdout",
       "text": [
        " 0.000370880506866\n",
        "Point 632 over 1300\n",
        "No recent optitrack view of the marker"
       ]
      },
      {
       "output_type": "stream",
       "stream": "stdout",
       "text": [
        "\n",
        "No recent optitrack view of the marker"
       ]
      },
      {
       "output_type": "stream",
       "stream": "stdout",
       "text": [
        "\n",
        "Optitrack error:"
       ]
      },
      {
       "output_type": "stream",
       "stream": "stdout",
       "text": [
        " 2.31955564646e-05\n",
        "Point 633 over 1300\n",
        "Optitrack error:"
       ]
      },
      {
       "output_type": "stream",
       "stream": "stdout",
       "text": [
        " 2.82879482331e-05\n",
        "Point 634 over 1300\n",
        "Optitrack error:"
       ]
      },
      {
       "output_type": "stream",
       "stream": "stdout",
       "text": [
        " 4.55305461865e-06\n",
        "Point 635 over 1300\n",
        "Optitrack error:"
       ]
      },
      {
       "output_type": "stream",
       "stream": "stdout",
       "text": [
        " 0.00198206378255\n",
        "Point 636 over 1300\n",
        "Optitrack error:"
       ]
      },
      {
       "output_type": "stream",
       "stream": "stdout",
       "text": [
        " 0.000108635858719\n",
        "Point 637 over 1300\n",
        "Optitrack error:"
       ]
      },
      {
       "output_type": "stream",
       "stream": "stdout",
       "text": [
        " 1.68962278206e-05\n",
        "Point 638 over 1300\n",
        "Optitrack error:"
       ]
      },
      {
       "output_type": "stream",
       "stream": "stdout",
       "text": [
        " 0.000363768934775\n",
        "Point 639 over 1300\n",
        "Optitrack error:"
       ]
      },
      {
       "output_type": "stream",
       "stream": "stdout",
       "text": [
        " 2.52536465845e-05\n",
        "Point 640 over 1300\n",
        "Optitrack error:"
       ]
      },
      {
       "output_type": "stream",
       "stream": "stdout",
       "text": [
        " 0.000201018858959\n",
        "Point 641 over 1300\n",
        "Optitrack error:"
       ]
      },
      {
       "output_type": "stream",
       "stream": "stdout",
       "text": [
        " 5.54183506997e-06\n",
        "Point 642 over 1300\n",
        "Optitrack error:"
       ]
      },
      {
       "output_type": "stream",
       "stream": "stdout",
       "text": [
        " 1.32364039594e-05\n",
        "Point 643 over 1300\n",
        "No recent optitrack view of the marker"
       ]
      },
      {
       "output_type": "stream",
       "stream": "stdout",
       "text": [
        "\n",
        "Optitrack error:"
       ]
      },
      {
       "output_type": "stream",
       "stream": "stdout",
       "text": [
        " 4.00937100648e-05\n",
        "Point 644 over 1300\n",
        "Optitrack error:"
       ]
      },
      {
       "output_type": "stream",
       "stream": "stdout",
       "text": [
        " 0.000109722419981\n",
        "Point 645 over 1300\n",
        "Optitrack error:"
       ]
      },
      {
       "output_type": "stream",
       "stream": "stdout",
       "text": [
        " 1.48002405309e-05\n",
        "Point 646 over 1300\n",
        "Optitrack error:"
       ]
      },
      {
       "output_type": "stream",
       "stream": "stdout",
       "text": [
        " 2.13625127789e-05\n",
        "Point 647 over 1300\n",
        "Optitrack error:"
       ]
      },
      {
       "output_type": "stream",
       "stream": "stdout",
       "text": [
        " 2.18841245594e-05\n",
        "Point 648 over 1300\n",
        "Optitrack error:"
       ]
      },
      {
       "output_type": "stream",
       "stream": "stdout",
       "text": [
        " 1.14920930861e-05\n",
        "Point 649 over 1300\n",
        "Optitrack error:"
       ]
      },
      {
       "output_type": "stream",
       "stream": "stdout",
       "text": [
        " 3.70827793695e-05\n",
        "Point 650 over 1300\n",
        "Optitrack error:"
       ]
      },
      {
       "output_type": "stream",
       "stream": "stdout",
       "text": [
        " 5.00561234303e-05\n",
        "Point 651 over 1300\n",
        "No recent optitrack view of the marker"
       ]
      },
      {
       "output_type": "stream",
       "stream": "stdout",
       "text": [
        "\n",
        "Optitrack error:"
       ]
      },
      {
       "output_type": "stream",
       "stream": "stdout",
       "text": [
        " 1.95954415009e-05\n",
        "Point 652 over 1300\n",
        "Optitrack error:"
       ]
      },
      {
       "output_type": "stream",
       "stream": "stdout",
       "text": [
        " 1.41478798583e-05\n",
        "Point 653 over 1300\n",
        "Optitrack error:"
       ]
      },
      {
       "output_type": "stream",
       "stream": "stdout",
       "text": [
        " 0.000189551105725\n",
        "Point 654 over 1300\n",
        "Optitrack error:"
       ]
      },
      {
       "output_type": "stream",
       "stream": "stdout",
       "text": [
        " 0.000266322682983\n",
        "Point 655 over 1300\n",
        "Optitrack error:"
       ]
      },
      {
       "output_type": "stream",
       "stream": "stdout",
       "text": [
        " 1.01836224581e-05\n",
        "Point 656 over 1300\n",
        "Optitrack error:"
       ]
      },
      {
       "output_type": "stream",
       "stream": "stdout",
       "text": [
        " 3.91808248756e-05\n",
        "Point 657 over 1300\n",
        "Optitrack error:"
       ]
      },
      {
       "output_type": "stream",
       "stream": "stdout",
       "text": [
        " 1.93967880686e-05\n",
        "Point 658 over 1300\n",
        "Optitrack error:"
       ]
      },
      {
       "output_type": "stream",
       "stream": "stdout",
       "text": [
        " 2.69092362691e-05\n",
        "Point 659 over 1300\n",
        "No recent optitrack view of the marker"
       ]
      },
      {
       "output_type": "stream",
       "stream": "stdout",
       "text": [
        "\n",
        "Optitrack error:"
       ]
      },
      {
       "output_type": "stream",
       "stream": "stdout",
       "text": [
        " 2.65805189641e-05\n",
        "Point 660 over 1300\n",
        "Optitrack error:"
       ]
      },
      {
       "output_type": "stream",
       "stream": "stdout",
       "text": [
        " 1.27552895341e-05\n",
        "Point 661 over 1300\n",
        "Optitrack error:"
       ]
      },
      {
       "output_type": "stream",
       "stream": "stdout",
       "text": [
        " 4.39223586633e-05\n",
        "Point 662 over 1300\n",
        "Optitrack error:"
       ]
      },
      {
       "output_type": "stream",
       "stream": "stdout",
       "text": [
        " 3.21050975554e-05\n",
        "Point 663 over 1300\n",
        "Optitrack error:"
       ]
      },
      {
       "output_type": "stream",
       "stream": "stdout",
       "text": [
        " 0.000236636562855\n",
        "Point 664 over 1300\n",
        "Optitrack error:"
       ]
      },
      {
       "output_type": "stream",
       "stream": "stdout",
       "text": [
        " 0.000136806763092\n",
        "Point 665 over 1300\n",
        "No recent optitrack view of the marker"
       ]
      },
      {
       "output_type": "stream",
       "stream": "stdout",
       "text": [
        "\n",
        "Optitrack error:"
       ]
      },
      {
       "output_type": "stream",
       "stream": "stdout",
       "text": [
        " 6.32715152058e-06\n",
        "Point 666 over 1300\n",
        "Optitrack error:"
       ]
      },
      {
       "output_type": "stream",
       "stream": "stdout",
       "text": [
        " 4.5901374068e-06\n",
        "Point 667 over 1300\n",
        "No recent optitrack view of the marker"
       ]
      },
      {
       "output_type": "stream",
       "stream": "stdout",
       "text": [
        "\n",
        "Optitrack error:"
       ]
      },
      {
       "output_type": "stream",
       "stream": "stdout",
       "text": [
        " 8.74743911085e-06\n",
        "Point 668 over 1300\n",
        "Optitrack error:"
       ]
      },
      {
       "output_type": "stream",
       "stream": "stdout",
       "text": [
        " 0.000100054125074\n",
        "Point 669 over 1300\n",
        "Optitrack error:"
       ]
      },
      {
       "output_type": "stream",
       "stream": "stdout",
       "text": [
        " 8.99230229297e-06\n",
        "Point 670 over 1300\n",
        "Optitrack error:"
       ]
      },
      {
       "output_type": "stream",
       "stream": "stdout",
       "text": [
        " 2.09671844579e-05\n",
        "Point 671 over 1300\n",
        "Optitrack error:"
       ]
      },
      {
       "output_type": "stream",
       "stream": "stdout",
       "text": [
        " 6.5955939031e-06\n",
        "Point 672 over 1300\n",
        "No recent optitrack view of the marker"
       ]
      },
      {
       "output_type": "stream",
       "stream": "stdout",
       "text": [
        "\n",
        "Optitrack error:"
       ]
      },
      {
       "output_type": "stream",
       "stream": "stdout",
       "text": [
        " 0.000290869847631\n",
        "Point 673 over 1300\n",
        "Optitrack error:"
       ]
      },
      {
       "output_type": "stream",
       "stream": "stdout",
       "text": [
        " 0.00022586742423\n",
        "Point 674 over 1300\n",
        "Optitrack error:"
       ]
      },
      {
       "output_type": "stream",
       "stream": "stdout",
       "text": [
        " 2.94329592371e-05\n",
        "Point 675 over 1300\n",
        "Optitrack error:"
       ]
      },
      {
       "output_type": "stream",
       "stream": "stdout",
       "text": [
        " 0.000243023677049\n",
        "Point 676 over 1300\n",
        "Optitrack error:"
       ]
      },
      {
       "output_type": "stream",
       "stream": "stdout",
       "text": [
        " 1.3261232514e-05\n",
        "Point 677 over 1300\n",
        "Optitrack error:"
       ]
      },
      {
       "output_type": "stream",
       "stream": "stdout",
       "text": [
        " 3.24109203776e-05\n",
        "Point 678 over 1300\n",
        "Optitrack error:"
       ]
      },
      {
       "output_type": "stream",
       "stream": "stdout",
       "text": [
        " 2.16122405908e-05\n",
        "Point 679 over 1300\n",
        "Optitrack error:"
       ]
      },
      {
       "output_type": "stream",
       "stream": "stdout",
       "text": [
        " 2.70989167852e-06\n",
        "Point 680 over 1300\n",
        "Optitrack error:"
       ]
      },
      {
       "output_type": "stream",
       "stream": "stdout",
       "text": [
        " 8.68438508238e-06\n",
        "Point 681 over 1300\n",
        "Optitrack error:"
       ]
      },
      {
       "output_type": "stream",
       "stream": "stdout",
       "text": [
        " 4.04811490584e-05\n",
        "Point 682 over 1300\n",
        "Optitrack error:"
       ]
      },
      {
       "output_type": "stream",
       "stream": "stdout",
       "text": [
        " 0.00019420768381\n",
        "Point 683 over 1300\n",
        "No recent optitrack view of the marker"
       ]
      },
      {
       "output_type": "stream",
       "stream": "stdout",
       "text": [
        "\n",
        "Optitrack error:"
       ]
      },
      {
       "output_type": "stream",
       "stream": "stdout",
       "text": [
        " 3.66002611234e-05\n",
        "Point 684 over 1300\n",
        "Optitrack error:"
       ]
      },
      {
       "output_type": "stream",
       "stream": "stdout",
       "text": [
        " 1.89302265172e-05\n",
        "Point 685 over 1300\n",
        "Optitrack error:"
       ]
      },
      {
       "output_type": "stream",
       "stream": "stdout",
       "text": [
        " 0.000246563949484\n",
        "Point 686 over 1300\n",
        "Optitrack error:"
       ]
      },
      {
       "output_type": "stream",
       "stream": "stdout",
       "text": [
        " 2.32249595885e-05\n",
        "Point 687 over 1300\n",
        "Optitrack error:"
       ]
      },
      {
       "output_type": "stream",
       "stream": "stdout",
       "text": [
        " 6.55101217248e-05\n",
        "Point 688 over 1300\n",
        "Optitrack error:"
       ]
      },
      {
       "output_type": "stream",
       "stream": "stdout",
       "text": [
        " 1.0223762331e-05\n",
        "Point 689 over 1300\n",
        "Optitrack error:"
       ]
      },
      {
       "output_type": "stream",
       "stream": "stdout",
       "text": [
        " 0.00196994983947\n",
        "Point 690 over 1300\n",
        "No recent optitrack view of the marker"
       ]
      },
      {
       "output_type": "stream",
       "stream": "stdout",
       "text": [
        "\n",
        "Optitrack error:"
       ]
      },
      {
       "output_type": "stream",
       "stream": "stdout",
       "text": [
        " 9.0664489206e-05\n",
        "Point 691 over 1300\n",
        "Optitrack error:"
       ]
      },
      {
       "output_type": "stream",
       "stream": "stdout",
       "text": [
        " 1.37055840081e-05\n",
        "Point 692 over 1300\n",
        "Optitrack error:"
       ]
      },
      {
       "output_type": "stream",
       "stream": "stdout",
       "text": [
        " 2.98737677297e-05\n",
        "Point 693 over 1300\n",
        "Optitrack error:"
       ]
      },
      {
       "output_type": "stream",
       "stream": "stdout",
       "text": [
        " 8.57934602155e-05\n",
        "Point 694 over 1300\n",
        "Optitrack error:"
       ]
      },
      {
       "output_type": "stream",
       "stream": "stdout",
       "text": [
        " 0.000171604381667\n",
        "Point 695 over 1300\n",
        "No recent optitrack view of the marker"
       ]
      },
      {
       "output_type": "stream",
       "stream": "stdout",
       "text": [
        "\n",
        "Optitrack error:"
       ]
      },
      {
       "output_type": "stream",
       "stream": "stdout",
       "text": [
        " 3.51795277212e-05\n",
        "Point 696 over 1300\n",
        "No recent optitrack view of the marker"
       ]
      },
      {
       "output_type": "stream",
       "stream": "stdout",
       "text": [
        "\n",
        "Optitrack error:"
       ]
      },
      {
       "output_type": "stream",
       "stream": "stdout",
       "text": [
        " 0.000103457799664\n",
        "Point 697 over 1300\n",
        "No recent optitrack view of the marker"
       ]
      },
      {
       "output_type": "stream",
       "stream": "stdout",
       "text": [
        "\n",
        "No recent optitrack view of the marker"
       ]
      },
      {
       "output_type": "stream",
       "stream": "stdout",
       "text": [
        "\n",
        "Optitrack error:"
       ]
      },
      {
       "output_type": "stream",
       "stream": "stdout",
       "text": [
        " 2.87664855262e-05\n",
        "Point 698 over 1300\n",
        "Optitrack error:"
       ]
      },
      {
       "output_type": "stream",
       "stream": "stdout",
       "text": [
        " 2.71482679369e-05\n",
        "Point 699 over 1300\n",
        "Optitrack error:"
       ]
      },
      {
       "output_type": "stream",
       "stream": "stdout",
       "text": [
        " 1.69751976948e-05\n",
        "Point 700 over 1300\n",
        "Optitrack error:"
       ]
      },
      {
       "output_type": "stream",
       "stream": "stdout",
       "text": [
        " 0.000111384248992\n",
        "Point 701 over 1300\n",
        "No recent optitrack view of the marker"
       ]
      },
      {
       "output_type": "stream",
       "stream": "stdout",
       "text": [
        "\n",
        "Optitrack error:"
       ]
      },
      {
       "output_type": "stream",
       "stream": "stdout",
       "text": [
        " 1.1743480234e-05\n",
        "Point 702 over 1300\n",
        "Optitrack error:"
       ]
      },
      {
       "output_type": "stream",
       "stream": "stdout",
       "text": [
        " 1.59700999683e-05\n",
        "Point 703 over 1300\n",
        "Optitrack error:"
       ]
      },
      {
       "output_type": "stream",
       "stream": "stdout",
       "text": [
        " 2.72174222284e-05\n",
        "Point 704 over 1300\n",
        "Optitrack error:"
       ]
      },
      {
       "output_type": "stream",
       "stream": "stdout",
       "text": [
        " 8.76117981796e-06\n",
        "Point 705 over 1300\n",
        "Optitrack error:"
       ]
      },
      {
       "output_type": "stream",
       "stream": "stdout",
       "text": [
        " 1.18827965753e-05\n",
        "Point 706 over 1300\n",
        "Optitrack error:"
       ]
      },
      {
       "output_type": "stream",
       "stream": "stdout",
       "text": [
        " 1.64323163394e-05\n",
        "Point 707 over 1300\n",
        "No recent optitrack view of the marker"
       ]
      },
      {
       "output_type": "stream",
       "stream": "stdout",
       "text": [
        "\n",
        "No recent optitrack view of the marker"
       ]
      },
      {
       "output_type": "stream",
       "stream": "stdout",
       "text": [
        "\n",
        "Optitrack error:"
       ]
      },
      {
       "output_type": "stream",
       "stream": "stdout",
       "text": [
        " 0.000197485850231\n",
        "Point 708 over 1300\n",
        "Optitrack error:"
       ]
      },
      {
       "output_type": "stream",
       "stream": "stdout",
       "text": [
        " 3.13335647656e-05\n",
        "Point 709 over 1300\n",
        "Optitrack error:"
       ]
      },
      {
       "output_type": "stream",
       "stream": "stdout",
       "text": [
        " 1.57376609801e-05\n",
        "Point 710 over 1300\n",
        "Optitrack error:"
       ]
      },
      {
       "output_type": "stream",
       "stream": "stdout",
       "text": [
        " 8.81888185584e-06\n",
        "Point 711 over 1300\n",
        "Optitrack error:"
       ]
      },
      {
       "output_type": "stream",
       "stream": "stdout",
       "text": [
        " 1.54178734176e-05\n",
        "Point 712 over 1300\n",
        "Optitrack error:"
       ]
      },
      {
       "output_type": "stream",
       "stream": "stdout",
       "text": [
        " 0.00052908334603\n",
        "Point 713 over 1300\n",
        "Optitrack error:"
       ]
      },
      {
       "output_type": "stream",
       "stream": "stdout",
       "text": [
        " 3.4829707186e-05\n",
        "Point 714 over 1300\n",
        "Optitrack error:"
       ]
      },
      {
       "output_type": "stream",
       "stream": "stdout",
       "text": [
        " 2.20181889372e-05\n",
        "Point 715 over 1300\n",
        "No recent optitrack view of the marker"
       ]
      },
      {
       "output_type": "stream",
       "stream": "stdout",
       "text": [
        "\n",
        "Optitrack error:"
       ]
      },
      {
       "output_type": "stream",
       "stream": "stdout",
       "text": [
        " 0.000122085686212\n",
        "Point 716 over 1300\n",
        "Optitrack error:"
       ]
      },
      {
       "output_type": "stream",
       "stream": "stdout",
       "text": [
        " 1.803235796e-05\n",
        "Point 717 over 1300\n",
        "Optitrack error:"
       ]
      },
      {
       "output_type": "stream",
       "stream": "stdout",
       "text": [
        " 0.000142517090647\n",
        "Point 718 over 1300\n",
        "Optitrack error:"
       ]
      },
      {
       "output_type": "stream",
       "stream": "stdout",
       "text": [
        " 0.000119349237545\n",
        "Point 719 over 1300\n",
        "Optitrack error:"
       ]
      },
      {
       "output_type": "stream",
       "stream": "stdout",
       "text": [
        " 2.05653869499e-05\n",
        "Point 720 over 1300\n",
        "Optitrack error:"
       ]
      },
      {
       "output_type": "stream",
       "stream": "stdout",
       "text": [
        " 3.02153860803e-05\n",
        "Point 721 over 1300\n",
        "Optitrack error:"
       ]
      },
      {
       "output_type": "stream",
       "stream": "stdout",
       "text": [
        " 2.50995341932e-05\n",
        "Point 722 over 1300\n",
        "Optitrack error:"
       ]
      },
      {
       "output_type": "stream",
       "stream": "stdout",
       "text": [
        " 2.70057229237e-05\n",
        "Point 723 over 1300\n",
        "Optitrack error:"
       ]
      },
      {
       "output_type": "stream",
       "stream": "stdout",
       "text": [
        " 0.00013641309194\n",
        "Point 724 over 1300\n",
        "Optitrack error:"
       ]
      },
      {
       "output_type": "stream",
       "stream": "stdout",
       "text": [
        " 0.000130858772511\n",
        "Point 725 over 1300\n",
        "No recent optitrack view of the marker"
       ]
      },
      {
       "output_type": "stream",
       "stream": "stdout",
       "text": [
        "\n",
        "Optitrack error:"
       ]
      },
      {
       "output_type": "stream",
       "stream": "stdout",
       "text": [
        " 9.80525800546e-06\n",
        "Point 726 over 1300\n",
        "Optitrack error:"
       ]
      },
      {
       "output_type": "stream",
       "stream": "stdout",
       "text": [
        " 1.47515737883e-05\n",
        "Point 727 over 1300\n",
        "Optitrack error:"
       ]
      },
      {
       "output_type": "stream",
       "stream": "stdout",
       "text": [
        " 5.10013274749e-05\n",
        "Point 728 over 1300\n",
        "Optitrack error:"
       ]
      },
      {
       "output_type": "stream",
       "stream": "stdout",
       "text": [
        " 4.20536306947e-05\n",
        "Point 729 over 1300\n",
        "Optitrack error:"
       ]
      },
      {
       "output_type": "stream",
       "stream": "stdout",
       "text": [
        " 1.88699231421e-05\n",
        "Point 730 over 1300\n",
        "Optitrack error:"
       ]
      },
      {
       "output_type": "stream",
       "stream": "stdout",
       "text": [
        " 2.29512183689e-05\n",
        "Point 731 over 1300\n",
        "Optitrack error:"
       ]
      },
      {
       "output_type": "stream",
       "stream": "stdout",
       "text": [
        " 0.000145666096799\n",
        "Point 732 over 1300\n",
        "Optitrack error:"
       ]
      },
      {
       "output_type": "stream",
       "stream": "stdout",
       "text": [
        " 2.56486143167e-05\n",
        "Point 733 over 1300\n",
        "Optitrack error:"
       ]
      },
      {
       "output_type": "stream",
       "stream": "stdout",
       "text": [
        " 1.95798555016e-05\n",
        "Point 734 over 1300\n",
        "Optitrack error:"
       ]
      },
      {
       "output_type": "stream",
       "stream": "stdout",
       "text": [
        " 1.17136903525e-05\n",
        "Point 735 over 1300\n",
        "Optitrack error:"
       ]
      },
      {
       "output_type": "stream",
       "stream": "stdout",
       "text": [
        " 2.25879539861e-05\n",
        "Point 736 over 1300\n",
        "Optitrack error:"
       ]
      },
      {
       "output_type": "stream",
       "stream": "stdout",
       "text": [
        " 0.000515608920986\n",
        "Point 737 over 1300\n",
        "Optitrack error:"
       ]
      },
      {
       "output_type": "stream",
       "stream": "stdout",
       "text": [
        " 1.03310440705e-05\n",
        "Point 738 over 1300\n",
        "Optitrack error:"
       ]
      },
      {
       "output_type": "stream",
       "stream": "stdout",
       "text": [
        " 0.000193324280991\n",
        "Point 739 over 1300\n",
        "Optitrack error:"
       ]
      },
      {
       "output_type": "stream",
       "stream": "stdout",
       "text": [
        " 2.08398352681e-05\n",
        "Point 740 over 1300\n",
        "No recent optitrack view of the marker"
       ]
      },
      {
       "output_type": "stream",
       "stream": "stdout",
       "text": [
        "\n",
        "No recent optitrack view of the marker"
       ]
      },
      {
       "output_type": "stream",
       "stream": "stdout",
       "text": [
        "\n",
        "Optitrack error:"
       ]
      },
      {
       "output_type": "stream",
       "stream": "stdout",
       "text": [
        " 2.4034792368e-06\n",
        "Point 741 over 1300\n",
        "Optitrack error:"
       ]
      },
      {
       "output_type": "stream",
       "stream": "stdout",
       "text": [
        " 5.61361581364e-05\n",
        "Point 742 over 1300\n",
        "Optitrack error:"
       ]
      },
      {
       "output_type": "stream",
       "stream": "stdout",
       "text": [
        " 5.0312967011e-05\n",
        "Point 743 over 1300\n",
        "No recent optitrack view of the marker"
       ]
      },
      {
       "output_type": "stream",
       "stream": "stdout",
       "text": [
        "\n",
        "No recent optitrack view of the marker"
       ]
      },
      {
       "output_type": "stream",
       "stream": "stdout",
       "text": [
        "\n",
        "Optitrack error:"
       ]
      },
      {
       "output_type": "stream",
       "stream": "stdout",
       "text": [
        " 2.03005783843e-05\n",
        "Point 744 over 1300\n",
        "Optitrack error:"
       ]
      },
      {
       "output_type": "stream",
       "stream": "stdout",
       "text": [
        " 0.000167365958123\n",
        "Point 745 over 1300\n",
        "Optitrack error:"
       ]
      },
      {
       "output_type": "stream",
       "stream": "stdout",
       "text": [
        " 4.17152508669e-05\n",
        "Point 746 over 1300\n",
        "Optitrack error:"
       ]
      },
      {
       "output_type": "stream",
       "stream": "stdout",
       "text": [
        " 1.57969134311e-05\n",
        "Point 747 over 1300\n",
        "Optitrack error:"
       ]
      },
      {
       "output_type": "stream",
       "stream": "stdout",
       "text": [
        " 1.87435020089e-05\n",
        "Point 748 over 1300\n",
        "Optitrack error:"
       ]
      },
      {
       "output_type": "stream",
       "stream": "stdout",
       "text": [
        " 1.44635311908e-05\n",
        "Point 749 over 1300\n",
        "Optitrack error:"
       ]
      },
      {
       "output_type": "stream",
       "stream": "stdout",
       "text": [
        " 0.000255817096889\n",
        "Point 750 over 1300\n",
        "No recent optitrack view of the marker"
       ]
      },
      {
       "output_type": "stream",
       "stream": "stdout",
       "text": [
        "\n",
        "Optitrack error:"
       ]
      },
      {
       "output_type": "stream",
       "stream": "stdout",
       "text": [
        " 2.68009426118e-05\n",
        "Point 751 over 1300\n",
        "Optitrack error:"
       ]
      },
      {
       "output_type": "stream",
       "stream": "stdout",
       "text": [
        " 3.02214361169e-05\n",
        "Point 752 over 1300\n",
        "Optitrack error:"
       ]
      },
      {
       "output_type": "stream",
       "stream": "stdout",
       "text": [
        " 0.00012459532632\n",
        "Point 753 over 1300\n",
        "Optitrack error:"
       ]
      },
      {
       "output_type": "stream",
       "stream": "stdout",
       "text": [
        " 2.54591440761e-05\n",
        "Point 754 over 1300\n",
        "Optitrack error:"
       ]
      },
      {
       "output_type": "stream",
       "stream": "stdout",
       "text": [
        " 0.000113885911383\n",
        "Point 755 over 1300\n",
        "Optitrack error:"
       ]
      },
      {
       "output_type": "stream",
       "stream": "stdout",
       "text": [
        " 9.97733028987e-05\n",
        "Point 756 over 1300\n",
        "Optitrack error:"
       ]
      },
      {
       "output_type": "stream",
       "stream": "stdout",
       "text": [
        " 2.36373490443e-05\n",
        "Point 757 over 1300\n",
        "Optitrack error:"
       ]
      },
      {
       "output_type": "stream",
       "stream": "stdout",
       "text": [
        " 0.000417528856496\n",
        "Point 758 over 1300\n",
        "Optitrack error:"
       ]
      },
      {
       "output_type": "stream",
       "stream": "stdout",
       "text": [
        " 1.25678199162e-05\n",
        "Point 759 over 1300\n",
        "Optitrack error:"
       ]
      },
      {
       "output_type": "stream",
       "stream": "stdout",
       "text": [
        " 1.45352941302e-05\n",
        "Point 760 over 1300\n",
        "Optitrack error:"
       ]
      },
      {
       "output_type": "stream",
       "stream": "stdout",
       "text": [
        " 0.000534517594358\n",
        "Point 761 over 1300\n",
        "Optitrack error:"
       ]
      },
      {
       "output_type": "stream",
       "stream": "stdout",
       "text": [
        " 0.000187636509006\n",
        "Point 762 over 1300\n",
        "Optitrack error:"
       ]
      },
      {
       "output_type": "stream",
       "stream": "stdout",
       "text": [
        " 0.000299754950352\n",
        "Point 763 over 1300\n",
        "Optitrack error:"
       ]
      },
      {
       "output_type": "stream",
       "stream": "stdout",
       "text": [
        " 0.000143640737193\n",
        "Point 764 over 1300\n",
        "Optitrack error:"
       ]
      },
      {
       "output_type": "stream",
       "stream": "stdout",
       "text": [
        " 9.49693664012e-06\n",
        "Point 765 over 1300\n",
        "Optitrack error:"
       ]
      },
      {
       "output_type": "stream",
       "stream": "stdout",
       "text": [
        " 7.83338181626e-06\n",
        "Point 766 over 1300\n",
        "Optitrack error:"
       ]
      },
      {
       "output_type": "stream",
       "stream": "stdout",
       "text": [
        " 1.5340610078e-05\n",
        "Point 767 over 1300\n",
        "Optitrack error:"
       ]
      },
      {
       "output_type": "stream",
       "stream": "stdout",
       "text": [
        " 1.30768977048e-05\n",
        "Point 768 over 1300\n",
        "Optitrack error:"
       ]
      },
      {
       "output_type": "stream",
       "stream": "stdout",
       "text": [
        " 8.74573775492e-05\n",
        "Point 769 over 1300\n",
        "Optitrack error:"
       ]
      },
      {
       "output_type": "stream",
       "stream": "stdout",
       "text": [
        " 0.00236089630928\n",
        "Point 770 over 1300\n",
        "Optitrack error:"
       ]
      },
      {
       "output_type": "stream",
       "stream": "stdout",
       "text": [
        " 1.63024833397e-05\n",
        "Point 771 over 1300\n",
        "Optitrack error:"
       ]
      },
      {
       "output_type": "stream",
       "stream": "stdout",
       "text": [
        " 4.41968336805e-05\n",
        "Point 772 over 1300\n",
        "Optitrack error:"
       ]
      },
      {
       "output_type": "stream",
       "stream": "stdout",
       "text": [
        " 2.14640613059e-05\n",
        "Point 773 over 1300\n",
        "Optitrack error:"
       ]
      },
      {
       "output_type": "stream",
       "stream": "stdout",
       "text": [
        " 1.58931378038e-05\n",
        "Point 774 over 1300\n",
        "No recent optitrack view of the marker"
       ]
      },
      {
       "output_type": "stream",
       "stream": "stdout",
       "text": [
        "\n",
        "Optitrack error:"
       ]
      },
      {
       "output_type": "stream",
       "stream": "stdout",
       "text": [
        " 2.38614587274e-05\n",
        "Point 775 over 1300\n",
        "Optitrack error:"
       ]
      },
      {
       "output_type": "stream",
       "stream": "stdout",
       "text": [
        " 0.000268945926152\n",
        "Point 776 over 1300\n",
        "Optitrack error:"
       ]
      },
      {
       "output_type": "stream",
       "stream": "stdout",
       "text": [
        " 0.000213861710478\n",
        "Point 777 over 1300\n",
        "Optitrack error:"
       ]
      },
      {
       "output_type": "stream",
       "stream": "stdout",
       "text": [
        " 0.000142916273088\n",
        "Point 778 over 1300\n",
        "Optitrack error:"
       ]
      },
      {
       "output_type": "stream",
       "stream": "stdout",
       "text": [
        " 3.53094670866e-05\n",
        "Point 779 over 1300\n",
        "Optitrack error:"
       ]
      },
      {
       "output_type": "stream",
       "stream": "stdout",
       "text": [
        " 2.82639952564e-05\n",
        "Point 780 over 1300\n",
        "Optitrack error:"
       ]
      },
      {
       "output_type": "stream",
       "stream": "stdout",
       "text": [
        " 2.90535190353e-05\n",
        "Point 781 over 1300\n",
        "Optitrack error:"
       ]
      },
      {
       "output_type": "stream",
       "stream": "stdout",
       "text": [
        " 1.99043561529e-05\n",
        "Point 782 over 1300\n",
        "Optitrack error:"
       ]
      },
      {
       "output_type": "stream",
       "stream": "stdout",
       "text": [
        " 7.57593892565e-06\n",
        "Point 783 over 1300\n",
        "Optitrack error:"
       ]
      },
      {
       "output_type": "stream",
       "stream": "stdout",
       "text": [
        " 0.00365604198154\n",
        "Point 784 over 1300\n",
        "Optitrack error:"
       ]
      },
      {
       "output_type": "stream",
       "stream": "stdout",
       "text": [
        " 3.16189169279e-05\n",
        "Point 785 over 1300\n",
        "Optitrack error:"
       ]
      },
      {
       "output_type": "stream",
       "stream": "stdout",
       "text": [
        " 0.000301574335926\n",
        "Point 786 over 1300\n",
        "Optitrack error:"
       ]
      },
      {
       "output_type": "stream",
       "stream": "stdout",
       "text": [
        " 0.000134071281243\n",
        "Point 787 over 1300\n",
        "No recent optitrack view of the marker"
       ]
      },
      {
       "output_type": "stream",
       "stream": "stdout",
       "text": [
        "\n",
        "Optitrack error:"
       ]
      },
      {
       "output_type": "stream",
       "stream": "stdout",
       "text": [
        " 0.000310192104641\n",
        "Point 788 over 1300\n",
        "Optitrack error:"
       ]
      },
      {
       "output_type": "stream",
       "stream": "stdout",
       "text": [
        " 2.5210965596e-05\n",
        "Point 789 over 1300\n",
        "Optitrack error:"
       ]
      },
      {
       "output_type": "stream",
       "stream": "stdout",
       "text": [
        " 2.92284001655e-05\n",
        "Point 790 over 1300\n",
        "Optitrack error:"
       ]
      },
      {
       "output_type": "stream",
       "stream": "stdout",
       "text": [
        " 3.0408525548e-05\n",
        "Point 791 over 1300\n",
        "Optitrack error:"
       ]
      },
      {
       "output_type": "stream",
       "stream": "stdout",
       "text": [
        " 4.31735995845e-05\n",
        "Point 792 over 1300\n",
        "Optitrack error:"
       ]
      },
      {
       "output_type": "stream",
       "stream": "stdout",
       "text": [
        " 1.30034721833e-05\n",
        "Point 793 over 1300\n",
        "Optitrack error:"
       ]
      },
      {
       "output_type": "stream",
       "stream": "stdout",
       "text": [
        " 6.95752976096e-07\n",
        "Point 794 over 1300\n",
        "Optitrack error:"
       ]
      },
      {
       "output_type": "stream",
       "stream": "stdout",
       "text": [
        " 0.000278498473633\n",
        "Point 795 over 1300\n",
        "Optitrack error:"
       ]
      },
      {
       "output_type": "stream",
       "stream": "stdout",
       "text": [
        " 2.07085750361e-05\n",
        "Point 796 over 1300\n",
        "No recent optitrack view of the marker"
       ]
      },
      {
       "output_type": "stream",
       "stream": "stdout",
       "text": [
        "\n",
        "Optitrack error:"
       ]
      },
      {
       "output_type": "stream",
       "stream": "stdout",
       "text": [
        " 3.36407337869e-05\n",
        "Point 797 over 1300\n",
        "Optitrack error:"
       ]
      },
      {
       "output_type": "stream",
       "stream": "stdout",
       "text": [
        " 3.48216624914e-05\n",
        "Point 798 over 1300\n",
        "Optitrack error:"
       ]
      },
      {
       "output_type": "stream",
       "stream": "stdout",
       "text": [
        " 5.14351755041e-05\n",
        "Point 799 over 1300\n",
        "Optitrack error:"
       ]
      },
      {
       "output_type": "stream",
       "stream": "stdout",
       "text": [
        " 8.69376420775e-06\n",
        "Point 800 over 1300\n",
        "Optitrack error:"
       ]
      },
      {
       "output_type": "stream",
       "stream": "stdout",
       "text": [
        " 2.08354353131e-05\n",
        "Point 801 over 1300\n",
        "Optitrack error:"
       ]
      },
      {
       "output_type": "stream",
       "stream": "stdout",
       "text": [
        " 8.02245545795e-05\n",
        "Point 802 over 1300\n",
        "Optitrack error:"
       ]
      },
      {
       "output_type": "stream",
       "stream": "stdout",
       "text": [
        " 0.000200454853723\n",
        "Point 803 over 1300\n",
        "Optitrack error:"
       ]
      },
      {
       "output_type": "stream",
       "stream": "stdout",
       "text": [
        " 2.38844706373e-05\n",
        "Point 804 over 1300\n",
        "Optitrack error:"
       ]
      },
      {
       "output_type": "stream",
       "stream": "stdout",
       "text": [
        " 1.28091497074e-05\n",
        "Point 805 over 1300\n",
        "No recent optitrack view of the marker"
       ]
      },
      {
       "output_type": "stream",
       "stream": "stdout",
       "text": [
        "\n",
        "Optitrack error:"
       ]
      },
      {
       "output_type": "stream",
       "stream": "stdout",
       "text": [
        " 0.000104156378792\n",
        "Point 806 over 1300\n",
        "No recent optitrack view of the marker"
       ]
      },
      {
       "output_type": "stream",
       "stream": "stdout",
       "text": [
        "\n",
        "Optitrack error:"
       ]
      },
      {
       "output_type": "stream",
       "stream": "stdout",
       "text": [
        " 3.14571307618e-05\n",
        "Point 807 over 1300\n",
        "Optitrack error:"
       ]
      },
      {
       "output_type": "stream",
       "stream": "stdout",
       "text": [
        " 6.40932923936e-05\n",
        "Point 808 over 1300\n",
        "Optitrack error:"
       ]
      },
      {
       "output_type": "stream",
       "stream": "stdout",
       "text": [
        " 3.15420239375e-05\n",
        "Point 809 over 1300\n",
        "Optitrack error:"
       ]
      },
      {
       "output_type": "stream",
       "stream": "stdout",
       "text": [
        " 3.77987829067e-06\n",
        "Point 810 over 1300\n",
        "Optitrack error:"
       ]
      },
      {
       "output_type": "stream",
       "stream": "stdout",
       "text": [
        " 0.000293543945923\n",
        "Point 811 over 1300\n",
        "Optitrack error:"
       ]
      },
      {
       "output_type": "stream",
       "stream": "stdout",
       "text": [
        " 1.96549046219e-05\n",
        "Point 812 over 1300\n",
        "Optitrack error:"
       ]
      },
      {
       "output_type": "stream",
       "stream": "stdout",
       "text": [
        " 2.12262501315e-05\n",
        "Point 813 over 1300\n",
        "Optitrack error:"
       ]
      },
      {
       "output_type": "stream",
       "stream": "stdout",
       "text": [
        " 6.61360203659e-05\n",
        "Point 814 over 1300\n",
        "Optitrack error:"
       ]
      },
      {
       "output_type": "stream",
       "stream": "stdout",
       "text": [
        " 0.000280931862846\n",
        "Point 815 over 1300\n",
        "Optitrack error:"
       ]
      },
      {
       "output_type": "stream",
       "stream": "stdout",
       "text": [
        " 3.04758989699e-05\n",
        "Point 816 over 1300\n",
        "Optitrack error:"
       ]
      },
      {
       "output_type": "stream",
       "stream": "stdout",
       "text": [
        " 0.000107413947353\n",
        "Point 817 over 1300\n",
        "Optitrack error:"
       ]
      },
      {
       "output_type": "stream",
       "stream": "stdout",
       "text": [
        " 5.5868492777e-06\n",
        "Point 818 over 1300\n",
        "Optitrack error:"
       ]
      },
      {
       "output_type": "stream",
       "stream": "stdout",
       "text": [
        " 3.36550161271e-05\n",
        "Point 819 over 1300\n",
        "No recent optitrack view of the marker"
       ]
      },
      {
       "output_type": "stream",
       "stream": "stdout",
       "text": [
        "\n",
        "Optitrack error:"
       ]
      },
      {
       "output_type": "stream",
       "stream": "stdout",
       "text": [
        " 1.8557594102e-05\n",
        "Point 820 over 1300\n",
        "Optitrack error:"
       ]
      },
      {
       "output_type": "stream",
       "stream": "stdout",
       "text": [
        " 2.12944840578e-05\n",
        "Point 821 over 1300\n",
        "No recent optitrack view of the marker"
       ]
      },
      {
       "output_type": "stream",
       "stream": "stdout",
       "text": [
        "\n",
        "Optitrack error:"
       ]
      },
      {
       "output_type": "stream",
       "stream": "stdout",
       "text": [
        " 1.13131453661e-05\n",
        "Point 822 over 1300\n",
        "No recent optitrack view of the marker"
       ]
      },
      {
       "output_type": "stream",
       "stream": "stdout",
       "text": [
        "\n",
        "Optitrack error:"
       ]
      },
      {
       "output_type": "stream",
       "stream": "stdout",
       "text": [
        " 1.22274022392e-05\n",
        "Point 823 over 1300\n",
        "Optitrack error:"
       ]
      },
      {
       "output_type": "stream",
       "stream": "stdout",
       "text": [
        " 4.12575992689e-05\n",
        "Point 824 over 1300\n",
        "Optitrack error:"
       ]
      },
      {
       "output_type": "stream",
       "stream": "stdout",
       "text": [
        " 4.08502028366e-05\n",
        "Point 825 over 1300\n",
        "Optitrack error:"
       ]
      },
      {
       "output_type": "stream",
       "stream": "stdout",
       "text": [
        " 1.68674608694e-05\n",
        "Point 826 over 1300\n",
        "Optitrack error:"
       ]
      },
      {
       "output_type": "stream",
       "stream": "stdout",
       "text": [
        " 0.00367525639075\n",
        "Point 827 over 1300\n",
        "Optitrack error:"
       ]
      },
      {
       "output_type": "stream",
       "stream": "stdout",
       "text": [
        " 3.91935695685e-05\n",
        "Point 828 over 1300\n",
        "Optitrack error:"
       ]
      },
      {
       "output_type": "stream",
       "stream": "stdout",
       "text": [
        " 3.93908570405e-05\n",
        "Point 829 over 1300\n",
        "No recent optitrack view of the marker"
       ]
      },
      {
       "output_type": "stream",
       "stream": "stdout",
       "text": [
        "\n",
        "Optitrack error:"
       ]
      },
      {
       "output_type": "stream",
       "stream": "stdout",
       "text": [
        " 0.000478731355525\n",
        "Point 830 over 1300\n",
        "Optitrack error:"
       ]
      },
      {
       "output_type": "stream",
       "stream": "stdout",
       "text": [
        " 1.1989159088e-05\n",
        "Point 831 over 1300\n",
        "Optitrack error:"
       ]
      },
      {
       "output_type": "stream",
       "stream": "stdout",
       "text": [
        " 0.000339888084908\n",
        "Point 832 over 1300\n",
        "Optitrack error:"
       ]
      },
      {
       "output_type": "stream",
       "stream": "stdout",
       "text": [
        " 1.12994533599e-05\n",
        "Point 833 over 1300\n",
        "Optitrack error:"
       ]
      },
      {
       "output_type": "stream",
       "stream": "stdout",
       "text": [
        " 0.000207011559161\n",
        "Point 834 over 1300\n",
        "Optitrack error:"
       ]
      },
      {
       "output_type": "stream",
       "stream": "stdout",
       "text": [
        " 0.000245936361415\n",
        "Point 835 over 1300\n",
        "Optitrack error:"
       ]
      },
      {
       "output_type": "stream",
       "stream": "stdout",
       "text": [
        " 7.11659429679e-05\n",
        "Point 836 over 1300\n",
        "Optitrack error:"
       ]
      },
      {
       "output_type": "stream",
       "stream": "stdout",
       "text": [
        " 0.000267621141681\n",
        "Point 837 over 1300\n",
        "Optitrack error:"
       ]
      },
      {
       "output_type": "stream",
       "stream": "stdout",
       "text": [
        " 1.93710774212e-05\n",
        "Point 838 over 1300\n",
        "Optitrack error:"
       ]
      },
      {
       "output_type": "stream",
       "stream": "stdout",
       "text": [
        " 3.0486637037e-05\n",
        "Point 839 over 1300\n",
        "Optitrack error:"
       ]
      },
      {
       "output_type": "stream",
       "stream": "stdout",
       "text": [
        " 3.43614639513e-05\n",
        "Point 840 over 1300\n",
        "Optitrack error:"
       ]
      },
      {
       "output_type": "stream",
       "stream": "stdout",
       "text": [
        " 9.84098390678e-05\n",
        "Point 841 over 1300\n",
        "Optitrack error:"
       ]
      },
      {
       "output_type": "stream",
       "stream": "stdout",
       "text": [
        " 0.00017704367321\n",
        "Point 842 over 1300\n",
        "Optitrack error:"
       ]
      },
      {
       "output_type": "stream",
       "stream": "stdout",
       "text": [
        " 2.02058866662e-05\n",
        "Point 843 over 1300\n",
        "No recent optitrack view of the marker"
       ]
      },
      {
       "output_type": "stream",
       "stream": "stdout",
       "text": [
        "\n",
        "No recent optitrack view of the marker"
       ]
      },
      {
       "output_type": "stream",
       "stream": "stdout",
       "text": [
        "\n",
        "No recent optitrack view of the marker"
       ]
      },
      {
       "output_type": "stream",
       "stream": "stdout",
       "text": [
        "\n",
        "No recent optitrack view of the marker"
       ]
      },
      {
       "output_type": "stream",
       "stream": "stdout",
       "text": [
        "\n",
        "Optitrack error:"
       ]
      },
      {
       "output_type": "stream",
       "stream": "stdout",
       "text": [
        " 1.19731463671e-05\n",
        "Point 844 over 1300\n",
        "Optitrack error:"
       ]
      },
      {
       "output_type": "stream",
       "stream": "stdout",
       "text": [
        " 0.000254072130844\n",
        "Point 845 over 1300\n",
        "No recent optitrack view of the marker"
       ]
      },
      {
       "output_type": "stream",
       "stream": "stdout",
       "text": [
        "\n",
        "Optitrack error:"
       ]
      },
      {
       "output_type": "stream",
       "stream": "stdout",
       "text": [
        " 2.73952253836e-05\n",
        "Point 846 over 1300\n",
        "Optitrack error:"
       ]
      },
      {
       "output_type": "stream",
       "stream": "stdout",
       "text": [
        " 1.27092454224e-05\n",
        "Point 847 over 1300\n",
        "Optitrack error:"
       ]
      },
      {
       "output_type": "stream",
       "stream": "stdout",
       "text": [
        " 0.000214633597466\n",
        "Point 848 over 1300\n",
        "No recent optitrack view of the marker"
       ]
      },
      {
       "output_type": "stream",
       "stream": "stdout",
       "text": [
        "\n",
        "Optitrack error:"
       ]
      },
      {
       "output_type": "stream",
       "stream": "stdout",
       "text": [
        " 2.95474395997e-05\n",
        "Point 849 over 1300\n",
        "Optitrack error:"
       ]
      },
      {
       "output_type": "stream",
       "stream": "stdout",
       "text": [
        " 8.12331988258e-06\n",
        "Point 850 over 1300\n",
        "Optitrack error:"
       ]
      },
      {
       "output_type": "stream",
       "stream": "stdout",
       "text": [
        " 9.71308696347e-05\n",
        "Point 851 over 1300\n",
        "Optitrack error:"
       ]
      },
      {
       "output_type": "stream",
       "stream": "stdout",
       "text": [
        " 5.51424777168e-05\n",
        "Point 852 over 1300\n",
        "Optitrack error:"
       ]
      },
      {
       "output_type": "stream",
       "stream": "stdout",
       "text": [
        " 1.40108918361e-05\n",
        "Point 853 over 1300\n",
        "Optitrack error:"
       ]
      },
      {
       "output_type": "stream",
       "stream": "stdout",
       "text": [
        " 1.48213978408e-05\n",
        "Point 854 over 1300\n",
        "Optitrack error:"
       ]
      },
      {
       "output_type": "stream",
       "stream": "stdout",
       "text": [
        " 2.50832451959e-05\n",
        "Point 855 over 1300\n",
        "No recent optitrack view of the marker"
       ]
      },
      {
       "output_type": "stream",
       "stream": "stdout",
       "text": [
        "\n",
        "Optitrack error:"
       ]
      },
      {
       "output_type": "stream",
       "stream": "stdout",
       "text": [
        " 0.000112306592058\n",
        "Point 856 over 1300\n",
        "No recent optitrack view of the marker"
       ]
      },
      {
       "output_type": "stream",
       "stream": "stdout",
       "text": [
        "\n",
        "Optitrack error:"
       ]
      },
      {
       "output_type": "stream",
       "stream": "stdout",
       "text": [
        " 4.10536025574e-05\n",
        "Point 857 over 1300\n",
        "No recent optitrack view of the marker"
       ]
      },
      {
       "output_type": "stream",
       "stream": "stdout",
       "text": [
        "\n",
        "No recent optitrack view of the marker"
       ]
      },
      {
       "output_type": "stream",
       "stream": "stdout",
       "text": [
        "\n",
        "No recent optitrack view of the marker"
       ]
      },
      {
       "output_type": "stream",
       "stream": "stdout",
       "text": [
        "\n",
        "Optitrack error:"
       ]
      },
      {
       "output_type": "stream",
       "stream": "stdout",
       "text": [
        " 7.00811978722e-05\n",
        "Point 858 over 1300\n",
        "No recent optitrack view of the marker"
       ]
      },
      {
       "output_type": "stream",
       "stream": "stdout",
       "text": [
        "\n",
        "Optitrack error:"
       ]
      },
      {
       "output_type": "stream",
       "stream": "stdout",
       "text": [
        " 1.29482067993e-05\n",
        "Point 859 over 1300\n",
        "Optitrack error:"
       ]
      },
      {
       "output_type": "stream",
       "stream": "stdout",
       "text": [
        " 0.000133903343313\n",
        "Point 860 over 1300\n",
        "Optitrack error:"
       ]
      },
      {
       "output_type": "stream",
       "stream": "stdout",
       "text": [
        " 1.34875726451e-05\n",
        "Point 861 over 1300\n",
        "Optitrack error:"
       ]
      },
      {
       "output_type": "stream",
       "stream": "stdout",
       "text": [
        " 4.81252749719e-05\n",
        "Point 862 over 1300\n",
        "Optitrack error:"
       ]
      },
      {
       "output_type": "stream",
       "stream": "stdout",
       "text": [
        " 1.38018395746e-05\n",
        "Point 863 over 1300\n",
        "Optitrack error:"
       ]
      },
      {
       "output_type": "stream",
       "stream": "stdout",
       "text": [
        " 1.70848266806e-05\n",
        "Point 864 over 1300\n",
        "Optitrack error:"
       ]
      },
      {
       "output_type": "stream",
       "stream": "stdout",
       "text": [
        " 1.71264286768e-05\n",
        "Point 865 over 1300\n",
        "Optitrack error:"
       ]
      },
      {
       "output_type": "stream",
       "stream": "stdout",
       "text": [
        " 0.00022998943689\n",
        "Point 866 over 1300\n",
        "Optitrack error:"
       ]
      },
      {
       "output_type": "stream",
       "stream": "stdout",
       "text": [
        " 1.85142553075e-05\n",
        "Point 867 over 1300\n",
        "Optitrack error:"
       ]
      },
      {
       "output_type": "stream",
       "stream": "stdout",
       "text": [
        " 5.14491836039e-05\n",
        "Point 868 over 1300\n",
        "Optitrack error:"
       ]
      },
      {
       "output_type": "stream",
       "stream": "stdout",
       "text": [
        " 1.32467486667e-05\n",
        "Point 869 over 1300\n",
        "Optitrack error:"
       ]
      },
      {
       "output_type": "stream",
       "stream": "stdout",
       "text": [
        " 1.4199537233e-05\n",
        "Point 870 over 1300\n",
        "No recent optitrack view of the marker"
       ]
      },
      {
       "output_type": "stream",
       "stream": "stdout",
       "text": [
        "\n",
        "Optitrack error:"
       ]
      },
      {
       "output_type": "stream",
       "stream": "stdout",
       "text": [
        " 0.000138206762276\n",
        "Point 871 over 1300\n",
        "No recent optitrack view of the marker"
       ]
      },
      {
       "output_type": "stream",
       "stream": "stdout",
       "text": [
        "\n",
        "Optitrack error:"
       ]
      },
      {
       "output_type": "stream",
       "stream": "stdout",
       "text": [
        " 0.000639413679046\n",
        "Point 872 over 1300\n",
        "Optitrack error:"
       ]
      },
      {
       "output_type": "stream",
       "stream": "stdout",
       "text": [
        " 3.36454420553e-05\n",
        "Point 873 over 1300\n",
        "Optitrack error:"
       ]
      },
      {
       "output_type": "stream",
       "stream": "stdout",
       "text": [
        " 2.69530286914e-05\n",
        "Point 874 over 1300\n",
        "No recent optitrack view of the marker"
       ]
      },
      {
       "output_type": "stream",
       "stream": "stdout",
       "text": [
        "\n",
        "No recent optitrack view of the marker"
       ]
      },
      {
       "output_type": "stream",
       "stream": "stdout",
       "text": [
        "\n",
        "Optitrack error:"
       ]
      },
      {
       "output_type": "stream",
       "stream": "stdout",
       "text": [
        " 1.78408781493e-05\n",
        "Point 875 over 1300\n",
        "Optitrack error:"
       ]
      },
      {
       "output_type": "stream",
       "stream": "stdout",
       "text": [
        " 3.84818029087e-05\n",
        "Point 876 over 1300\n",
        "Optitrack error:"
       ]
      },
      {
       "output_type": "stream",
       "stream": "stdout",
       "text": [
        " 2.89241907045e-05\n",
        "Point 877 over 1300\n",
        "Optitrack error:"
       ]
      },
      {
       "output_type": "stream",
       "stream": "stdout",
       "text": [
        " 0.000244408495334\n",
        "Point 878 over 1300\n",
        "Optitrack error:"
       ]
      },
      {
       "output_type": "stream",
       "stream": "stdout",
       "text": [
        " 9.35223544434e-06\n",
        "Point 879 over 1300\n",
        "Optitrack error:"
       ]
      },
      {
       "output_type": "stream",
       "stream": "stdout",
       "text": [
        " 3.44642135288e-05\n",
        "Point 880 over 1300\n",
        "Optitrack error:"
       ]
      },
      {
       "output_type": "stream",
       "stream": "stdout",
       "text": [
        " 0.000138092446764\n",
        "Point 881 over 1300\n",
        "No recent optitrack view of the marker"
       ]
      },
      {
       "output_type": "stream",
       "stream": "stdout",
       "text": [
        "\n",
        "Optitrack error:"
       ]
      },
      {
       "output_type": "stream",
       "stream": "stdout",
       "text": [
        " 0.000661491786694\n",
        "Point 882 over 1300\n",
        "Optitrack error:"
       ]
      },
      {
       "output_type": "stream",
       "stream": "stdout",
       "text": [
        " 4.24611833329e-06\n",
        "Point 883 over 1300\n",
        "Optitrack error:"
       ]
      },
      {
       "output_type": "stream",
       "stream": "stdout",
       "text": [
        " 0.000422190663863\n",
        "Point 884 over 1300\n",
        "Optitrack error:"
       ]
      },
      {
       "output_type": "stream",
       "stream": "stdout",
       "text": [
        " 2.28476016949e-05\n",
        "Point 885 over 1300\n",
        "Optitrack error:"
       ]
      },
      {
       "output_type": "stream",
       "stream": "stdout",
       "text": [
        " 2.23235607588e-05\n",
        "Point 886 over 1300\n",
        "Optitrack error:"
       ]
      },
      {
       "output_type": "stream",
       "stream": "stdout",
       "text": [
        " 0.000218733237125\n",
        "Point 887 over 1300\n",
        "Optitrack error:"
       ]
      },
      {
       "output_type": "stream",
       "stream": "stdout",
       "text": [
        " 1.55609369878e-05\n",
        "Point 888 over 1300\n",
        "Optitrack error:"
       ]
      },
      {
       "output_type": "stream",
       "stream": "stdout",
       "text": [
        " 1.33449235633e-05\n",
        "Point 889 over 1300\n",
        "Optitrack error:"
       ]
      },
      {
       "output_type": "stream",
       "stream": "stdout",
       "text": [
        " 0.000275989745339\n",
        "Point 890 over 1300\n",
        "Optitrack error:"
       ]
      },
      {
       "output_type": "stream",
       "stream": "stdout",
       "text": [
        " 2.6097230018e-05\n",
        "Point 891 over 1300\n",
        "Optitrack error:"
       ]
      },
      {
       "output_type": "stream",
       "stream": "stdout",
       "text": [
        " 1.6294689193e-05\n",
        "Point 892 over 1300\n",
        "Optitrack error:"
       ]
      },
      {
       "output_type": "stream",
       "stream": "stdout",
       "text": [
        " 0.00012131146176\n",
        "Point 893 over 1300\n",
        "Optitrack error:"
       ]
      },
      {
       "output_type": "stream",
       "stream": "stdout",
       "text": [
        " 4.64174495834e-05\n",
        "Point 894 over 1300\n",
        "No recent optitrack view of the marker"
       ]
      },
      {
       "output_type": "stream",
       "stream": "stdout",
       "text": [
        "\n",
        "Optitrack error:"
       ]
      },
      {
       "output_type": "stream",
       "stream": "stdout",
       "text": [
        " 0.000125792719228\n",
        "Point 895 over 1300\n",
        "Optitrack error:"
       ]
      },
      {
       "output_type": "stream",
       "stream": "stdout",
       "text": [
        " 0.000116399832887\n",
        "Point 896 over 1300\n",
        "No recent optitrack view of the marker"
       ]
      },
      {
       "output_type": "stream",
       "stream": "stdout",
       "text": [
        "\n",
        "Optitrack error:"
       ]
      },
      {
       "output_type": "stream",
       "stream": "stdout",
       "text": [
        " 4.02009831713e-06\n",
        "Point 897 over 1300\n",
        "Optitrack error:"
       ]
      },
      {
       "output_type": "stream",
       "stream": "stdout",
       "text": [
        " 0.00102739091833\n",
        "Point 898 over 1300\n",
        "Optitrack error:"
       ]
      },
      {
       "output_type": "stream",
       "stream": "stdout",
       "text": [
        " 2.92890728976e-05\n",
        "Point 899 over 1300\n",
        "Optitrack error:"
       ]
      },
      {
       "output_type": "stream",
       "stream": "stdout",
       "text": [
        " 1.49088101509e-05\n",
        "Point 900 over 1300\n",
        "No recent optitrack view of the marker"
       ]
      },
      {
       "output_type": "stream",
       "stream": "stdout",
       "text": [
        "\n",
        "No recent optitrack view of the marker"
       ]
      },
      {
       "output_type": "stream",
       "stream": "stdout",
       "text": [
        "\n",
        "Optitrack error:"
       ]
      },
      {
       "output_type": "stream",
       "stream": "stdout",
       "text": [
        " 6.37931281652e-06\n",
        "Point 901 over 1300\n",
        "No recent optitrack view of the marker"
       ]
      },
      {
       "output_type": "stream",
       "stream": "stdout",
       "text": [
        "\n",
        "Optitrack error:"
       ]
      },
      {
       "output_type": "stream",
       "stream": "stdout",
       "text": [
        " 5.65735755266e-06\n",
        "Point 902 over 1300\n",
        "Optitrack error:"
       ]
      },
      {
       "output_type": "stream",
       "stream": "stdout",
       "text": [
        " 0.000257452349392\n",
        "Point 903 over 1300\n",
        "Optitrack error:"
       ]
      },
      {
       "output_type": "stream",
       "stream": "stdout",
       "text": [
        " 0.000127007024461\n",
        "Point 904 over 1300\n",
        "Optitrack error:"
       ]
      },
      {
       "output_type": "stream",
       "stream": "stdout",
       "text": [
        " 4.28753233416e-05\n",
        "Point 905 over 1300\n",
        "Optitrack error:"
       ]
      },
      {
       "output_type": "stream",
       "stream": "stdout",
       "text": [
        " 0.000130040523245\n",
        "Point 906 over 1300\n",
        "Optitrack error:"
       ]
      },
      {
       "output_type": "stream",
       "stream": "stdout",
       "text": [
        " 2.93477494148e-05\n",
        "Point 907 over 1300\n",
        "Optitrack error:"
       ]
      },
      {
       "output_type": "stream",
       "stream": "stdout",
       "text": [
        " 9.97800843862e-05\n",
        "Point 908 over 1300\n",
        "No recent optitrack view of the marker"
       ]
      },
      {
       "output_type": "stream",
       "stream": "stdout",
       "text": [
        "\n",
        "Optitrack error:"
       ]
      },
      {
       "output_type": "stream",
       "stream": "stdout",
       "text": [
        " 0.000241192370894\n",
        "Point 909 over 1300\n",
        "No recent optitrack view of the marker"
       ]
      },
      {
       "output_type": "stream",
       "stream": "stdout",
       "text": [
        "\n",
        "Optitrack error:"
       ]
      },
      {
       "output_type": "stream",
       "stream": "stdout",
       "text": [
        " 2.01321847414e-05\n",
        "Point 910 over 1300\n",
        "Optitrack error:"
       ]
      },
      {
       "output_type": "stream",
       "stream": "stdout",
       "text": [
        " 2.4609506518e-05\n",
        "Point 911 over 1300\n",
        "Optitrack error:"
       ]
      },
      {
       "output_type": "stream",
       "stream": "stdout",
       "text": [
        " 1.05861604823e-05\n",
        "Point 912 over 1300\n",
        "No recent optitrack view of the marker"
       ]
      },
      {
       "output_type": "stream",
       "stream": "stdout",
       "text": [
        "\n",
        "Optitrack error:"
       ]
      },
      {
       "output_type": "stream",
       "stream": "stdout",
       "text": [
        " 0.00013955117983\n",
        "Point 913 over 1300\n",
        "Optitrack error:"
       ]
      },
      {
       "output_type": "stream",
       "stream": "stdout",
       "text": [
        " 8.82093439436e-06\n",
        "Point 914 over 1300\n",
        "Optitrack error:"
       ]
      },
      {
       "output_type": "stream",
       "stream": "stdout",
       "text": [
        " 1.70958573933e-05\n",
        "Point 915 over 1300\n",
        "Optitrack error:"
       ]
      },
      {
       "output_type": "stream",
       "stream": "stdout",
       "text": [
        " 4.77531480504e-05\n",
        "Point 916 over 1300\n",
        "Optitrack error:"
       ]
      },
      {
       "output_type": "stream",
       "stream": "stdout",
       "text": [
        " 0.000301610589573\n",
        "Point 917 over 1300\n",
        "Optitrack error:"
       ]
      },
      {
       "output_type": "stream",
       "stream": "stdout",
       "text": [
        " 6.15091586564e-05\n",
        "Point 918 over 1300\n",
        "Optitrack error:"
       ]
      },
      {
       "output_type": "stream",
       "stream": "stdout",
       "text": [
        " 0.000238206122405\n",
        "Point 919 over 1300\n",
        "Optitrack error:"
       ]
      },
      {
       "output_type": "stream",
       "stream": "stdout",
       "text": [
        " 1.72852442179e-05\n",
        "Point 920 over 1300\n",
        "Optitrack error:"
       ]
      },
      {
       "output_type": "stream",
       "stream": "stdout",
       "text": [
        " 0.000258674285291\n",
        "Point 921 over 1300\n",
        "Optitrack error:"
       ]
      },
      {
       "output_type": "stream",
       "stream": "stdout",
       "text": [
        " 1.45887471887e-05\n",
        "Point 922 over 1300\n",
        "Optitrack error:"
       ]
      },
      {
       "output_type": "stream",
       "stream": "stdout",
       "text": [
        " 4.25984140085e-05\n",
        "Point 923 over 1300\n",
        "Optitrack error:"
       ]
      },
      {
       "output_type": "stream",
       "stream": "stdout",
       "text": [
        " 9.55759549332e-05\n",
        "Point 924 over 1300\n",
        "Optitrack error:"
       ]
      },
      {
       "output_type": "stream",
       "stream": "stdout",
       "text": [
        " 7.00541592853e-06\n",
        "Point 925 over 1300\n",
        "Optitrack error:"
       ]
      },
      {
       "output_type": "stream",
       "stream": "stdout",
       "text": [
        " 2.34571351436e-05\n",
        "Point 926 over 1300\n",
        "Optitrack error:"
       ]
      },
      {
       "output_type": "stream",
       "stream": "stdout",
       "text": [
        " 1.65779237352e-05\n",
        "Point 927 over 1300\n",
        "Optitrack error:"
       ]
      },
      {
       "output_type": "stream",
       "stream": "stdout",
       "text": [
        " 7.59562473652e-05\n",
        "Point 928 over 1300\n",
        "Optitrack error:"
       ]
      },
      {
       "output_type": "stream",
       "stream": "stdout",
       "text": [
        " 1.54660257146e-05\n",
        "Point 929 over 1300\n",
        "Optitrack error:"
       ]
      },
      {
       "output_type": "stream",
       "stream": "stdout",
       "text": [
        " 8.11876745949e-06\n",
        "Point 930 over 1300\n",
        "No recent optitrack view of the marker"
       ]
      },
      {
       "output_type": "stream",
       "stream": "stdout",
       "text": [
        "\n",
        "Optitrack error:"
       ]
      },
      {
       "output_type": "stream",
       "stream": "stdout",
       "text": [
        " 1.00635618855e-05\n",
        "Point 931 over 1300\n",
        "Optitrack error:"
       ]
      },
      {
       "output_type": "stream",
       "stream": "stdout",
       "text": [
        " 7.31246242674e-05\n",
        "Point 932 over 1300\n",
        "No recent optitrack view of the marker"
       ]
      },
      {
       "output_type": "stream",
       "stream": "stdout",
       "text": [
        "\n",
        "Optitrack error:"
       ]
      },
      {
       "output_type": "stream",
       "stream": "stdout",
       "text": [
        " 2.08207392137e-05\n",
        "Point 933 over 1300\n",
        "Optitrack error:"
       ]
      },
      {
       "output_type": "stream",
       "stream": "stdout",
       "text": [
        " 0.00248287614653\n",
        "Point 934 over 1300\n",
        "Optitrack error:"
       ]
      },
      {
       "output_type": "stream",
       "stream": "stdout",
       "text": [
        " 0.000240346479242\n",
        "Point 935 over 1300\n",
        "Optitrack error:"
       ]
      },
      {
       "output_type": "stream",
       "stream": "stdout",
       "text": [
        " 4.41221773422e-05\n",
        "Point 936 over 1300\n",
        "Optitrack error:"
       ]
      },
      {
       "output_type": "stream",
       "stream": "stdout",
       "text": [
        " 2.96346053923e-05\n",
        "Point 937 over 1300\n",
        "Optitrack error:"
       ]
      },
      {
       "output_type": "stream",
       "stream": "stdout",
       "text": [
        " 1.36129191565e-05\n",
        "Point 938 over 1300\n",
        "Optitrack error:"
       ]
      },
      {
       "output_type": "stream",
       "stream": "stdout",
       "text": [
        " 0.000160448923366\n",
        "Point 939 over 1300\n",
        "Optitrack error:"
       ]
      },
      {
       "output_type": "stream",
       "stream": "stdout",
       "text": [
        " 0.000113380123695\n",
        "Point 940 over 1300\n",
        "Optitrack error:"
       ]
      },
      {
       "output_type": "stream",
       "stream": "stdout",
       "text": [
        " 2.30311788766e-05\n",
        "Point 941 over 1300\n",
        "Optitrack error:"
       ]
      },
      {
       "output_type": "stream",
       "stream": "stdout",
       "text": [
        " 0.000217328046386\n",
        "Point 942 over 1300\n",
        "Optitrack error:"
       ]
      },
      {
       "output_type": "stream",
       "stream": "stdout",
       "text": [
        " 1.21228548755e-05\n",
        "Point 943 over 1300\n",
        "Optitrack error:"
       ]
      },
      {
       "output_type": "stream",
       "stream": "stdout",
       "text": [
        " 4.32255919788e-05\n",
        "Point 944 over 1300\n",
        "Optitrack error:"
       ]
      },
      {
       "output_type": "stream",
       "stream": "stdout",
       "text": [
        " 4.85730156337e-05\n",
        "Point 945 over 1300\n",
        "Optitrack error:"
       ]
      },
      {
       "output_type": "stream",
       "stream": "stdout",
       "text": [
        " 0.000104809449015\n",
        "Point 946 over 1300\n",
        "Optitrack error:"
       ]
      },
      {
       "output_type": "stream",
       "stream": "stdout",
       "text": [
        " 0.00021682561015\n",
        "Point 947 over 1300\n",
        "Optitrack error:"
       ]
      },
      {
       "output_type": "stream",
       "stream": "stdout",
       "text": [
        " 6.58764005907e-05\n",
        "Point 948 over 1300\n",
        "Optitrack error:"
       ]
      },
      {
       "output_type": "stream",
       "stream": "stdout",
       "text": [
        " 3.66245770469e-05\n",
        "Point 949 over 1300\n",
        "Optitrack error:"
       ]
      },
      {
       "output_type": "stream",
       "stream": "stdout",
       "text": [
        " 1.14759083579e-05\n",
        "Point 950 over 1300\n",
        "Optitrack error:"
       ]
      },
      {
       "output_type": "stream",
       "stream": "stdout",
       "text": [
        " 0.000174257290596\n",
        "Point 951 over 1300\n",
        "Optitrack error:"
       ]
      },
      {
       "output_type": "stream",
       "stream": "stdout",
       "text": [
        " 4.20305449588e-05\n",
        "Point 952 over 1300\n",
        "Optitrack error:"
       ]
      },
      {
       "output_type": "stream",
       "stream": "stdout",
       "text": [
        " 1.22097899814e-05\n",
        "Point 953 over 1300\n",
        "Optitrack error:"
       ]
      },
      {
       "output_type": "stream",
       "stream": "stdout",
       "text": [
        " 3.04718939426e-05\n",
        "Point 954 over 1300\n",
        "Optitrack error:"
       ]
      },
      {
       "output_type": "stream",
       "stream": "stdout",
       "text": [
        " 3.72833126391e-05\n",
        "Point 955 over 1300\n",
        "Optitrack error:"
       ]
      },
      {
       "output_type": "stream",
       "stream": "stdout",
       "text": [
        " 1.15171858877e-05\n",
        "Point 956 over 1300\n",
        "No recent optitrack view of the marker"
       ]
      },
      {
       "output_type": "stream",
       "stream": "stdout",
       "text": [
        "\n",
        "Optitrack error:"
       ]
      },
      {
       "output_type": "stream",
       "stream": "stdout",
       "text": [
        " 5.93787670449e-06\n",
        "Point 957 over 1300\n",
        "Optitrack error:"
       ]
      },
      {
       "output_type": "stream",
       "stream": "stdout",
       "text": [
        " 3.80973859247e-05\n",
        "Point 958 over 1300\n",
        "Optitrack error:"
       ]
      },
      {
       "output_type": "stream",
       "stream": "stdout",
       "text": [
        " 2.54309522738e-05\n",
        "Point 959 over 1300\n",
        "Optitrack error:"
       ]
      },
      {
       "output_type": "stream",
       "stream": "stdout",
       "text": [
        " 1.62024429701e-05\n",
        "Point 960 over 1300\n",
        "No recent optitrack view of the marker"
       ]
      },
      {
       "output_type": "stream",
       "stream": "stdout",
       "text": [
        "\n",
        "Optitrack error:"
       ]
      },
      {
       "output_type": "stream",
       "stream": "stdout",
       "text": [
        " 1.68146353722e-05\n",
        "Point 961 over 1300\n",
        "No recent optitrack view of the marker"
       ]
      },
      {
       "output_type": "stream",
       "stream": "stdout",
       "text": [
        "\n",
        "Optitrack error:"
       ]
      },
      {
       "output_type": "stream",
       "stream": "stdout",
       "text": [
        " 2.89982213667e-05\n",
        "Point 962 over 1300\n",
        "Optitrack error:"
       ]
      },
      {
       "output_type": "stream",
       "stream": "stdout",
       "text": [
        " 5.29395575073e-06\n",
        "Point 963 over 1300\n",
        "Optitrack error:"
       ]
      },
      {
       "output_type": "stream",
       "stream": "stdout",
       "text": [
        " 9.21725159451e-06\n",
        "Point 964 over 1300\n",
        "Optitrack error:"
       ]
      },
      {
       "output_type": "stream",
       "stream": "stdout",
       "text": [
        " 5.62233975404e-05\n",
        "Point 965 over 1300\n",
        "Optitrack error:"
       ]
      },
      {
       "output_type": "stream",
       "stream": "stdout",
       "text": [
        " 0.000707707451263\n",
        "Point 966 over 1300\n",
        "Optitrack error:"
       ]
      },
      {
       "output_type": "stream",
       "stream": "stdout",
       "text": [
        " 1.64869778568e-05\n",
        "Point 967 over 1300\n",
        "Optitrack error:"
       ]
      },
      {
       "output_type": "stream",
       "stream": "stdout",
       "text": [
        " 0.00030949500585\n",
        "Point 968 over 1300\n",
        "Optitrack error:"
       ]
      },
      {
       "output_type": "stream",
       "stream": "stdout",
       "text": [
        " 1.49055626743e-05\n",
        "Point 969 over 1300\n",
        "Optitrack error:"
       ]
      },
      {
       "output_type": "stream",
       "stream": "stdout",
       "text": [
        " 0.000103768200022\n",
        "Point 970 over 1300\n",
        "Optitrack error:"
       ]
      },
      {
       "output_type": "stream",
       "stream": "stdout",
       "text": [
        " 7.60998892177e-06\n",
        "Point 971 over 1300\n",
        "Optitrack error:"
       ]
      },
      {
       "output_type": "stream",
       "stream": "stdout",
       "text": [
        " 2.03411893722e-05\n",
        "Point 972 over 1300\n",
        "Optitrack error:"
       ]
      },
      {
       "output_type": "stream",
       "stream": "stdout",
       "text": [
        " 0.000337446000664\n",
        "Point 973 over 1300\n",
        "Optitrack error:"
       ]
      },
      {
       "output_type": "stream",
       "stream": "stdout",
       "text": [
        " 0.000106869349569\n",
        "Point 974 over 1300\n",
        "Optitrack error:"
       ]
      },
      {
       "output_type": "stream",
       "stream": "stdout",
       "text": [
        " 6.90735532537e-05\n",
        "Point 975 over 1300\n",
        "Optitrack error:"
       ]
      },
      {
       "output_type": "stream",
       "stream": "stdout",
       "text": [
        " 0.0005945538608\n",
        "Point 976 over 1300\n",
        "Optitrack error:"
       ]
      },
      {
       "output_type": "stream",
       "stream": "stdout",
       "text": [
        " 3.28375617828e-05\n",
        "Point 977 over 1300\n",
        "No recent optitrack view of the marker"
       ]
      },
      {
       "output_type": "stream",
       "stream": "stdout",
       "text": [
        "\n",
        "Optitrack error:"
       ]
      },
      {
       "output_type": "stream",
       "stream": "stdout",
       "text": [
        " 0.000323339827533\n",
        "Point 978 over 1300\n",
        "Optitrack error:"
       ]
      },
      {
       "output_type": "stream",
       "stream": "stdout",
       "text": [
        " 7.62246467237e-06\n",
        "Point 979 over 1300\n",
        "Optitrack error:"
       ]
      },
      {
       "output_type": "stream",
       "stream": "stdout",
       "text": [
        " 0.000509023428833\n",
        "Point 980 over 1300\n",
        "Optitrack error:"
       ]
      },
      {
       "output_type": "stream",
       "stream": "stdout",
       "text": [
        " 1.94032943545e-05\n",
        "Point 981 over 1300\n",
        "Optitrack error:"
       ]
      },
      {
       "output_type": "stream",
       "stream": "stdout",
       "text": [
        " 7.93700963827e-05\n",
        "Point 982 over 1300\n",
        "Optitrack error:"
       ]
      },
      {
       "output_type": "stream",
       "stream": "stdout",
       "text": [
        " 6.81998558341e-05\n",
        "Point 983 over 1300\n",
        "Optitrack error:"
       ]
      },
      {
       "output_type": "stream",
       "stream": "stdout",
       "text": [
        " 0.000248723943383\n",
        "Point 984 over 1300\n",
        "Optitrack error:"
       ]
      },
      {
       "output_type": "stream",
       "stream": "stdout",
       "text": [
        " 0.00359330001271\n",
        "Point 985 over 1300\n",
        "Optitrack error:"
       ]
      },
      {
       "output_type": "stream",
       "stream": "stdout",
       "text": [
        " 1.67544799456e-05\n",
        "Point 986 over 1300\n",
        "No recent optitrack view of the marker"
       ]
      },
      {
       "output_type": "stream",
       "stream": "stdout",
       "text": [
        "\n",
        "Optitrack error:"
       ]
      },
      {
       "output_type": "stream",
       "stream": "stdout",
       "text": [
        " 0.000110066360867\n",
        "Point 987 over 1300\n",
        "Optitrack error:"
       ]
      },
      {
       "output_type": "stream",
       "stream": "stdout",
       "text": [
        " 1.00160914295e-05\n",
        "Point 988 over 1300\n",
        "No recent optitrack view of the marker"
       ]
      },
      {
       "output_type": "stream",
       "stream": "stdout",
       "text": [
        "\n",
        "Optitrack error:"
       ]
      },
      {
       "output_type": "stream",
       "stream": "stdout",
       "text": [
        " 2.62944870926e-05\n",
        "Point 989 over 1300\n",
        "Optitrack error:"
       ]
      },
      {
       "output_type": "stream",
       "stream": "stdout",
       "text": [
        " 3.13938718421e-06\n",
        "Point 990 over 1300\n",
        "Optitrack error:"
       ]
      },
      {
       "output_type": "stream",
       "stream": "stdout",
       "text": [
        " 2.75245002058e-05\n",
        "Point 991 over 1300\n",
        "No recent optitrack view of the marker"
       ]
      },
      {
       "output_type": "stream",
       "stream": "stdout",
       "text": [
        "\n",
        "Optitrack error:"
       ]
      },
      {
       "output_type": "stream",
       "stream": "stdout",
       "text": [
        " 0.00010468290233\n",
        "Point 992 over 1300\n",
        "Optitrack error:"
       ]
      },
      {
       "output_type": "stream",
       "stream": "stdout",
       "text": [
        " 3.66898345121e-05\n",
        "Point 993 over 1300\n",
        "Optitrack error:"
       ]
      },
      {
       "output_type": "stream",
       "stream": "stdout",
       "text": [
        " 2.06241930335e-05\n",
        "Point 994 over 1300\n",
        "Optitrack error:"
       ]
      },
      {
       "output_type": "stream",
       "stream": "stdout",
       "text": [
        " 6.27480569901e-05\n",
        "Point 995 over 1300\n",
        "Optitrack error:"
       ]
      },
      {
       "output_type": "stream",
       "stream": "stdout",
       "text": [
        " 5.697544189e-05\n",
        "Point 996 over 1300\n",
        "Optitrack error:"
       ]
      },
      {
       "output_type": "stream",
       "stream": "stdout",
       "text": [
        " 1.78652494291e-05\n",
        "Point 997 over 1300\n",
        "Optitrack error:"
       ]
      },
      {
       "output_type": "stream",
       "stream": "stdout",
       "text": [
        " 3.98680142316e-05\n",
        "Point 998 over 1300\n",
        "No recent optitrack view of the marker"
       ]
      },
      {
       "output_type": "stream",
       "stream": "stdout",
       "text": [
        "\n",
        "Optitrack error:"
       ]
      },
      {
       "output_type": "stream",
       "stream": "stdout",
       "text": [
        " 1.86274930832e-05\n",
        "Point 999 over 1300\n",
        "Optitrack error:"
       ]
      },
      {
       "output_type": "stream",
       "stream": "stdout",
       "text": [
        " 2.85953194367e-05\n",
        "Point 1000 over 1300\n",
        "Optitrack error:"
       ]
      },
      {
       "output_type": "stream",
       "stream": "stdout",
       "text": [
        " 8.90274617119e-06\n",
        "Point 1001 over 1300\n",
        "Optitrack error:"
       ]
      },
      {
       "output_type": "stream",
       "stream": "stdout",
       "text": [
        " 3.40078616578e-05\n",
        "Point 1002 over 1300\n",
        "Optitrack error:"
       ]
      },
      {
       "output_type": "stream",
       "stream": "stdout",
       "text": [
        " 2.68789627174e-05\n",
        "Point 1003 over 1300\n",
        "Optitrack error:"
       ]
      },
      {
       "output_type": "stream",
       "stream": "stdout",
       "text": [
        " 3.44146909688e-05\n",
        "Point 1004 over 1300\n",
        "Optitrack error:"
       ]
      },
      {
       "output_type": "stream",
       "stream": "stdout",
       "text": [
        " 2.00460644183e-05\n",
        "Point 1005 over 1300\n",
        "Optitrack error:"
       ]
      },
      {
       "output_type": "stream",
       "stream": "stdout",
       "text": [
        " 0.000484999212005\n",
        "Point 1006 over 1300\n",
        "Optitrack error:"
       ]
      },
      {
       "output_type": "stream",
       "stream": "stdout",
       "text": [
        " 2.3727639502e-05\n",
        "Point 1007 over 1300\n",
        "Optitrack error:"
       ]
      },
      {
       "output_type": "stream",
       "stream": "stdout",
       "text": [
        " 2.67727518839e-05\n",
        "Point 1008 over 1300\n",
        "No recent optitrack view of the marker"
       ]
      },
      {
       "output_type": "stream",
       "stream": "stdout",
       "text": [
        "\n",
        "No recent optitrack view of the marker"
       ]
      },
      {
       "output_type": "stream",
       "stream": "stdout",
       "text": [
        "\n",
        "Optitrack error:"
       ]
      },
      {
       "output_type": "stream",
       "stream": "stdout",
       "text": [
        " 2.43651339767e-05\n",
        "Point 1009 over 1300\n",
        "Optitrack error:"
       ]
      },
      {
       "output_type": "stream",
       "stream": "stdout",
       "text": [
        " 1.60114914423e-05\n",
        "Point 1010 over 1300\n",
        "Optitrack error:"
       ]
      },
      {
       "output_type": "stream",
       "stream": "stdout",
       "text": [
        " 1.11527148442e-05\n",
        "Point 1011 over 1300\n",
        "Optitrack error:"
       ]
      },
      {
       "output_type": "stream",
       "stream": "stdout",
       "text": [
        " 0.000237138746093\n",
        "Point 1012 over 1300\n",
        "Optitrack error:"
       ]
      },
      {
       "output_type": "stream",
       "stream": "stdout",
       "text": [
        " 3.33018016772e-05\n",
        "Point 1013 over 1300\n",
        "No recent optitrack view of the marker"
       ]
      },
      {
       "output_type": "stream",
       "stream": "stdout",
       "text": [
        "\n",
        "Optitrack error:"
       ]
      },
      {
       "output_type": "stream",
       "stream": "stdout",
       "text": [
        " 0.00570900847235\n",
        "Point 1014 over 1300\n",
        "No recent optitrack view of the marker"
       ]
      },
      {
       "output_type": "stream",
       "stream": "stdout",
       "text": [
        "\n",
        "Optitrack error:"
       ]
      },
      {
       "output_type": "stream",
       "stream": "stdout",
       "text": [
        " 2.93034432165e-05\n",
        "Point 1015 over 1300\n",
        "Optitrack error:"
       ]
      },
      {
       "output_type": "stream",
       "stream": "stdout",
       "text": [
        " 0.00011444025408\n",
        "Point 1016 over 1300\n",
        "No recent optitrack view of the marker"
       ]
      },
      {
       "output_type": "stream",
       "stream": "stdout",
       "text": [
        "\n",
        "No recent optitrack view of the marker"
       ]
      },
      {
       "output_type": "stream",
       "stream": "stdout",
       "text": [
        "\n",
        "No recent optitrack view of the marker"
       ]
      },
      {
       "output_type": "stream",
       "stream": "stdout",
       "text": [
        "\n",
        "Optitrack error:"
       ]
      },
      {
       "output_type": "stream",
       "stream": "stdout",
       "text": [
        " 1.4593509786e-05\n",
        "Point 1017 over 1300\n",
        "Optitrack error:"
       ]
      },
      {
       "output_type": "stream",
       "stream": "stdout",
       "text": [
        " 3.16332384631e-05\n",
        "Point 1018 over 1300\n",
        "No recent optitrack view of the marker"
       ]
      },
      {
       "output_type": "stream",
       "stream": "stdout",
       "text": [
        "\n",
        "No recent optitrack view of the marker"
       ]
      },
      {
       "output_type": "stream",
       "stream": "stdout",
       "text": [
        "\n",
        "Optitrack error:"
       ]
      },
      {
       "output_type": "stream",
       "stream": "stdout",
       "text": [
        " 1.51825454591e-05\n",
        "Point 1019 over 1300\n",
        "Optitrack error:"
       ]
      },
      {
       "output_type": "stream",
       "stream": "stdout",
       "text": [
        " 0.000152458691392\n",
        "Point 1020 over 1300\n",
        "Optitrack error:"
       ]
      },
      {
       "output_type": "stream",
       "stream": "stdout",
       "text": [
        " 1.42679688354e-05\n",
        "Point 1021 over 1300\n",
        "Optitrack error:"
       ]
      },
      {
       "output_type": "stream",
       "stream": "stdout",
       "text": [
        " 1.71001628327e-05\n",
        "Point 1022 over 1300\n",
        "Optitrack error:"
       ]
      },
      {
       "output_type": "stream",
       "stream": "stdout",
       "text": [
        " 9.68497837515e-06\n",
        "Point 1023 over 1300\n",
        "Optitrack error:"
       ]
      },
      {
       "output_type": "stream",
       "stream": "stdout",
       "text": [
        " 1.369234288e-05\n",
        "Point 1024 over 1300\n",
        "Optitrack error:"
       ]
      },
      {
       "output_type": "stream",
       "stream": "stdout",
       "text": [
        " 8.40137858999e-06\n",
        "Point 1025 over 1300\n",
        "Optitrack error:"
       ]
      },
      {
       "output_type": "stream",
       "stream": "stdout",
       "text": [
        " 2.4580363285e-05\n",
        "Point 1026 over 1300\n",
        "Optitrack error:"
       ]
      },
      {
       "output_type": "stream",
       "stream": "stdout",
       "text": [
        " 0.000206902840447\n",
        "Point 1027 over 1300\n",
        "No recent optitrack view of the marker"
       ]
      },
      {
       "output_type": "stream",
       "stream": "stdout",
       "text": [
        "\n",
        "Optitrack error:"
       ]
      },
      {
       "output_type": "stream",
       "stream": "stdout",
       "text": [
        " 2.50523673623e-05\n",
        "Point 1028 over 1300\n",
        "Optitrack error:"
       ]
      },
      {
       "output_type": "stream",
       "stream": "stdout",
       "text": [
        " 0.000173427587906\n",
        "Point 1029 over 1300\n",
        "Optitrack error:"
       ]
      },
      {
       "output_type": "stream",
       "stream": "stdout",
       "text": [
        " 0.00019261641209\n",
        "Point 1030 over 1300\n",
        "Optitrack error:"
       ]
      },
      {
       "output_type": "stream",
       "stream": "stdout",
       "text": [
        " 7.20046312915e-06\n",
        "Point 1031 over 1300\n",
        "Optitrack error:"
       ]
      },
      {
       "output_type": "stream",
       "stream": "stdout",
       "text": [
        " 9.55603120735e-06\n",
        "Point 1032 over 1300\n",
        "Optitrack error:"
       ]
      },
      {
       "output_type": "stream",
       "stream": "stdout",
       "text": [
        " 2.58672033107e-05\n",
        "Point 1033 over 1300\n",
        "Optitrack error:"
       ]
      },
      {
       "output_type": "stream",
       "stream": "stdout",
       "text": [
        " 0.000445787380148\n",
        "Point 1034 over 1300\n",
        "Optitrack error:"
       ]
      },
      {
       "output_type": "stream",
       "stream": "stdout",
       "text": [
        " 3.26971231575e-05\n",
        "Point 1035 over 1300\n",
        "Optitrack error:"
       ]
      },
      {
       "output_type": "stream",
       "stream": "stdout",
       "text": [
        " 8.68878527405e-05\n",
        "Point 1036 over 1300\n",
        "Optitrack error:"
       ]
      },
      {
       "output_type": "stream",
       "stream": "stdout",
       "text": [
        " 9.5296741341e-06\n",
        "Point 1037 over 1300\n",
        "Optitrack error:"
       ]
      },
      {
       "output_type": "stream",
       "stream": "stdout",
       "text": [
        " 1.49840990826e-05\n",
        "Point 1038 over 1300\n",
        "Optitrack error:"
       ]
      },
      {
       "output_type": "stream",
       "stream": "stdout",
       "text": [
        " 2.02430469517e-05\n",
        "Point 1039 over 1300\n",
        "Optitrack error:"
       ]
      },
      {
       "output_type": "stream",
       "stream": "stdout",
       "text": [
        " 7.44780011747e-05\n",
        "Point 1040 over 1300\n",
        "Optitrack error:"
       ]
      },
      {
       "output_type": "stream",
       "stream": "stdout",
       "text": [
        " 2.00470193539e-05\n",
        "Point 1041 over 1300\n",
        "Optitrack error:"
       ]
      },
      {
       "output_type": "stream",
       "stream": "stdout",
       "text": [
        " 2.66843524594e-05\n",
        "Point 1042 over 1300\n",
        "No recent optitrack view of the marker"
       ]
      },
      {
       "output_type": "stream",
       "stream": "stdout",
       "text": [
        "\n",
        "No recent optitrack view of the marker"
       ]
      },
      {
       "output_type": "stream",
       "stream": "stdout",
       "text": [
        "\n",
        "Optitrack error:"
       ]
      },
      {
       "output_type": "stream",
       "stream": "stdout",
       "text": [
        " 3.69335381897e-05\n",
        "Point 1043 over 1300\n",
        "Optitrack error:"
       ]
      },
      {
       "output_type": "stream",
       "stream": "stdout",
       "text": [
        " 9.50455413128e-05\n",
        "Point 1044 over 1300\n",
        "Optitrack error:"
       ]
      },
      {
       "output_type": "stream",
       "stream": "stdout",
       "text": [
        " 2.05618523584e-05\n",
        "Point 1045 over 1300\n",
        "No recent optitrack view of the marker"
       ]
      },
      {
       "output_type": "stream",
       "stream": "stdout",
       "text": [
        "\n",
        "Optitrack error:"
       ]
      },
      {
       "output_type": "stream",
       "stream": "stdout",
       "text": [
        " 0.00508591009532\n",
        "Point 1046 over 1300\n",
        "Optitrack error:"
       ]
      },
      {
       "output_type": "stream",
       "stream": "stdout",
       "text": [
        " 5.0083431055e-05\n",
        "Point 1047 over 1300\n",
        "Optitrack error:"
       ]
      },
      {
       "output_type": "stream",
       "stream": "stdout",
       "text": [
        " 1.68599536465e-05\n",
        "Point 1048 over 1300\n",
        "No recent optitrack view of the marker"
       ]
      },
      {
       "output_type": "stream",
       "stream": "stdout",
       "text": [
        "\n",
        "Optitrack error:"
       ]
      },
      {
       "output_type": "stream",
       "stream": "stdout",
       "text": [
        " 1.56494900713e-05\n",
        "Point 1049 over 1300\n",
        "Optitrack error:"
       ]
      },
      {
       "output_type": "stream",
       "stream": "stdout",
       "text": [
        " 1.91732067624e-05\n",
        "Point 1050 over 1300\n",
        "Optitrack error:"
       ]
      },
      {
       "output_type": "stream",
       "stream": "stdout",
       "text": [
        " 1.82006342861e-05\n",
        "Point 1051 over 1300\n",
        "Optitrack error:"
       ]
      },
      {
       "output_type": "stream",
       "stream": "stdout",
       "text": [
        " 4.20944205678e-05\n",
        "Point 1052 over 1300\n",
        "Optitrack error:"
       ]
      },
      {
       "output_type": "stream",
       "stream": "stdout",
       "text": [
        " 4.52524438575e-06\n",
        "Point 1053 over 1300\n",
        "No recent optitrack view of the marker"
       ]
      },
      {
       "output_type": "stream",
       "stream": "stdout",
       "text": [
        "\n",
        "Optitrack error:"
       ]
      },
      {
       "output_type": "stream",
       "stream": "stdout",
       "text": [
        " 3.32401220615e-05\n",
        "Point 1054 over 1300\n",
        "No recent optitrack view of the marker"
       ]
      },
      {
       "output_type": "stream",
       "stream": "stdout",
       "text": [
        "\n",
        "Optitrack error:"
       ]
      },
      {
       "output_type": "stream",
       "stream": "stdout",
       "text": [
        " 1.04286781126e-05\n",
        "Point 1055 over 1300\n",
        "Optitrack error:"
       ]
      },
      {
       "output_type": "stream",
       "stream": "stdout",
       "text": [
        " 4.05382100946e-05\n",
        "Point 1056 over 1300\n",
        "Optitrack error:"
       ]
      },
      {
       "output_type": "stream",
       "stream": "stdout",
       "text": [
        " 3.24103879158e-05\n",
        "Point 1057 over 1300\n",
        "Optitrack error:"
       ]
      },
      {
       "output_type": "stream",
       "stream": "stdout",
       "text": [
        " 2.18706087435e-05\n",
        "Point 1058 over 1300\n",
        "Optitrack error:"
       ]
      },
      {
       "output_type": "stream",
       "stream": "stdout",
       "text": [
        " 0.000836823708243\n",
        "Point 1059 over 1300\n",
        "Optitrack error:"
       ]
      },
      {
       "output_type": "stream",
       "stream": "stdout",
       "text": [
        " 0.000154676043563\n",
        "Point 1060 over 1300\n",
        "Optitrack error:"
       ]
      },
      {
       "output_type": "stream",
       "stream": "stdout",
       "text": [
        " 2.57604685785e-05\n",
        "Point 1061 over 1300\n",
        "Optitrack error:"
       ]
      },
      {
       "output_type": "stream",
       "stream": "stdout",
       "text": [
        " 0.000159797212826\n",
        "Point 1062 over 1300\n",
        "Optitrack error:"
       ]
      },
      {
       "output_type": "stream",
       "stream": "stdout",
       "text": [
        " 1.52844080305e-05\n",
        "Point 1063 over 1300\n",
        "Optitrack error:"
       ]
      },
      {
       "output_type": "stream",
       "stream": "stdout",
       "text": [
        " 1.50940157338e-05\n",
        "Point 1064 over 1300\n",
        "Optitrack error:"
       ]
      },
      {
       "output_type": "stream",
       "stream": "stdout",
       "text": [
        " 5.09522720881e-05\n",
        "Point 1065 over 1300\n",
        "Optitrack error:"
       ]
      },
      {
       "output_type": "stream",
       "stream": "stdout",
       "text": [
        " 1.03198690859e-05\n",
        "Point 1066 over 1300\n",
        "Optitrack error:"
       ]
      },
      {
       "output_type": "stream",
       "stream": "stdout",
       "text": [
        " 6.57940746808e-06\n",
        "Point 1067 over 1300\n",
        "Optitrack error:"
       ]
      },
      {
       "output_type": "stream",
       "stream": "stdout",
       "text": [
        " 6.14056691361e-05\n",
        "Point 1068 over 1300\n",
        "Optitrack error:"
       ]
      },
      {
       "output_type": "stream",
       "stream": "stdout",
       "text": [
        " 3.36064636418e-05\n",
        "Point 1069 over 1300\n",
        "Optitrack error:"
       ]
      },
      {
       "output_type": "stream",
       "stream": "stdout",
       "text": [
        " 1.91236606634e-05\n",
        "Point 1070 over 1300\n",
        "Optitrack error:"
       ]
      },
      {
       "output_type": "stream",
       "stream": "stdout",
       "text": [
        " 0.000166100018799\n",
        "Point 1071 over 1300\n",
        "Optitrack error:"
       ]
      },
      {
       "output_type": "stream",
       "stream": "stdout",
       "text": [
        " 3.50928204452e-06\n",
        "Point 1072 over 1300\n",
        "Optitrack error:"
       ]
      },
      {
       "output_type": "stream",
       "stream": "stdout",
       "text": [
        " 8.76043133753e-05\n",
        "Point 1073 over 1300\n",
        "Optitrack error:"
       ]
      },
      {
       "output_type": "stream",
       "stream": "stdout",
       "text": [
        " 1.36442383221e-05\n",
        "Point 1074 over 1300\n",
        "Optitrack error:"
       ]
      },
      {
       "output_type": "stream",
       "stream": "stdout",
       "text": [
        " 2.8176520289e-05\n",
        "Point 1075 over 1300\n",
        "Optitrack error:"
       ]
      },
      {
       "output_type": "stream",
       "stream": "stdout",
       "text": [
        " 1.21375400529e-05\n",
        "Point 1076 over 1300\n",
        "Optitrack error:"
       ]
      },
      {
       "output_type": "stream",
       "stream": "stdout",
       "text": [
        " 0.000184099613719\n",
        "Point 1077 over 1300\n",
        "Optitrack error:"
       ]
      },
      {
       "output_type": "stream",
       "stream": "stdout",
       "text": [
        " 3.9741133022e-05\n",
        "Point 1078 over 1300\n",
        "Optitrack error:"
       ]
      },
      {
       "output_type": "stream",
       "stream": "stdout",
       "text": [
        " 1.0376996671e-05\n",
        "Point 1079 over 1300\n",
        "No recent optitrack view of the marker"
       ]
      },
      {
       "output_type": "stream",
       "stream": "stdout",
       "text": [
        "\n",
        "Optitrack error:"
       ]
      },
      {
       "output_type": "stream",
       "stream": "stdout",
       "text": [
        " 8.19710303125e-05\n",
        "Point 1080 over 1300\n",
        "Optitrack error:"
       ]
      },
      {
       "output_type": "stream",
       "stream": "stdout",
       "text": [
        " 1.40931981101e-05\n",
        "Point 1081 over 1300\n",
        "Optitrack error:"
       ]
      },
      {
       "output_type": "stream",
       "stream": "stdout",
       "text": [
        " 5.23320929317e-06\n",
        "Point 1082 over 1300\n",
        "Optitrack error:"
       ]
      },
      {
       "output_type": "stream",
       "stream": "stdout",
       "text": [
        " 3.32283441366e-05\n",
        "Point 1083 over 1300\n",
        "Optitrack error:"
       ]
      },
      {
       "output_type": "stream",
       "stream": "stdout",
       "text": [
        " 0.000327361365107\n",
        "Point 1084 over 1300\n",
        "Optitrack error:"
       ]
      },
      {
       "output_type": "stream",
       "stream": "stdout",
       "text": [
        " 3.53804705504e-05\n",
        "Point 1085 over 1300\n",
        "Optitrack error:"
       ]
      },
      {
       "output_type": "stream",
       "stream": "stdout",
       "text": [
        " 1.72046989983e-05\n",
        "Point 1086 over 1300\n",
        "Optitrack error:"
       ]
      },
      {
       "output_type": "stream",
       "stream": "stdout",
       "text": [
        " 3.54158886911e-05\n",
        "Point 1087 over 1300\n",
        "Optitrack error:"
       ]
      },
      {
       "output_type": "stream",
       "stream": "stdout",
       "text": [
        " 1.4338776036e-05\n",
        "Point 1088 over 1300\n",
        "Optitrack error:"
       ]
      },
      {
       "output_type": "stream",
       "stream": "stdout",
       "text": [
        " 0.000159850184741\n",
        "Point 1089 over 1300\n",
        "No recent optitrack view of the marker"
       ]
      },
      {
       "output_type": "stream",
       "stream": "stdout",
       "text": [
        "\n",
        "Optitrack error:"
       ]
      },
      {
       "output_type": "stream",
       "stream": "stdout",
       "text": [
        " 1.23370144983e-05\n",
        "Point 1090 over 1300\n",
        "Optitrack error:"
       ]
      },
      {
       "output_type": "stream",
       "stream": "stdout",
       "text": [
        " 1.03577648825e-05\n",
        "Point 1091 over 1300\n",
        "Optitrack error:"
       ]
      },
      {
       "output_type": "stream",
       "stream": "stdout",
       "text": [
        " 0.000169465594044\n",
        "Point 1092 over 1300\n",
        "Optitrack error:"
       ]
      },
      {
       "output_type": "stream",
       "stream": "stdout",
       "text": [
        " 0.000134702636651\n",
        "Point 1093 over 1300\n",
        "Optitrack error:"
       ]
      },
      {
       "output_type": "stream",
       "stream": "stdout",
       "text": [
        " 3.14715648856e-06\n",
        "Point 1094 over 1300\n",
        "Optitrack error:"
       ]
      },
      {
       "output_type": "stream",
       "stream": "stdout",
       "text": [
        " 5.96342340141e-05\n",
        "Point 1095 over 1300\n",
        "Optitrack error:"
       ]
      },
      {
       "output_type": "stream",
       "stream": "stdout",
       "text": [
        " 2.34678529094e-05\n",
        "Point 1096 over 1300\n",
        "Optitrack error:"
       ]
      },
      {
       "output_type": "stream",
       "stream": "stdout",
       "text": [
        " 4.72117595341e-06\n",
        "Point 1097 over 1300\n",
        "Optitrack error:"
       ]
      },
      {
       "output_type": "stream",
       "stream": "stdout",
       "text": [
        " 0.000289210803843\n",
        "Point 1098 over 1300\n",
        "Optitrack error:"
       ]
      },
      {
       "output_type": "stream",
       "stream": "stdout",
       "text": [
        " 0.000210754870439\n",
        "Point 1099 over 1300\n",
        "Optitrack error:"
       ]
      },
      {
       "output_type": "stream",
       "stream": "stdout",
       "text": [
        " 5.32892037005e-05\n",
        "Point 1100 over 1300\n",
        "Optitrack error:"
       ]
      },
      {
       "output_type": "stream",
       "stream": "stdout",
       "text": [
        " 7.39177372957e-05\n",
        "Point 1101 over 1300\n",
        "No recent optitrack view of the marker"
       ]
      },
      {
       "output_type": "stream",
       "stream": "stdout",
       "text": [
        "\n",
        "Optitrack error:"
       ]
      },
      {
       "output_type": "stream",
       "stream": "stdout",
       "text": [
        " 1.03783184046e-05\n",
        "Point 1102 over 1300\n",
        "No recent optitrack view of the marker"
       ]
      },
      {
       "output_type": "stream",
       "stream": "stdout",
       "text": [
        "\n",
        "Optitrack error:"
       ]
      },
      {
       "output_type": "stream",
       "stream": "stdout",
       "text": [
        " 0.00339779058066\n",
        "Point 1103 over 1300\n",
        "Optitrack error:"
       ]
      },
      {
       "output_type": "stream",
       "stream": "stdout",
       "text": [
        " 5.67207646014e-05\n",
        "Point 1104 over 1300\n",
        "No recent optitrack view of the marker"
       ]
      },
      {
       "output_type": "stream",
       "stream": "stdout",
       "text": [
        "\n",
        "Optitrack error:"
       ]
      },
      {
       "output_type": "stream",
       "stream": "stdout",
       "text": [
        " 7.24185211989e-06\n",
        "Point 1105 over 1300\n",
        "Optitrack error:"
       ]
      },
      {
       "output_type": "stream",
       "stream": "stdout",
       "text": [
        " 1.22445487595e-05\n",
        "Point 1106 over 1300\n",
        "Optitrack error:"
       ]
      },
      {
       "output_type": "stream",
       "stream": "stdout",
       "text": [
        " 5.05998237201e-05\n",
        "Point 1107 over 1300\n",
        "Optitrack error:"
       ]
      },
      {
       "output_type": "stream",
       "stream": "stdout",
       "text": [
        " 0.000148949466733\n",
        "Point 1108 over 1300\n",
        "No recent optitrack view of the marker"
       ]
      },
      {
       "output_type": "stream",
       "stream": "stdout",
       "text": [
        "\n",
        "Optitrack error:"
       ]
      },
      {
       "output_type": "stream",
       "stream": "stdout",
       "text": [
        " 2.68693412357e-05\n",
        "Point 1109 over 1300\n",
        "Optitrack error:"
       ]
      },
      {
       "output_type": "stream",
       "stream": "stdout",
       "text": [
        " 0.000378989714342\n",
        "Point 1110 over 1300\n",
        "No recent optitrack view of the marker"
       ]
      },
      {
       "output_type": "stream",
       "stream": "stdout",
       "text": [
        "\n",
        "Optitrack error:"
       ]
      },
      {
       "output_type": "stream",
       "stream": "stdout",
       "text": [
        " 0.000308351283454\n",
        "Point 1111 over 1300\n",
        "Optitrack error:"
       ]
      },
      {
       "output_type": "stream",
       "stream": "stdout",
       "text": [
        " 1.53508107925e-05\n",
        "Point 1112 over 1300\n",
        "Optitrack error:"
       ]
      },
      {
       "output_type": "stream",
       "stream": "stdout",
       "text": [
        " 3.44172428649e-05\n",
        "Point 1113 over 1300\n",
        "Optitrack error:"
       ]
      },
      {
       "output_type": "stream",
       "stream": "stdout",
       "text": [
        " 2.74940118522e-05\n",
        "Point 1114 over 1300\n",
        "Optitrack error:"
       ]
      },
      {
       "output_type": "stream",
       "stream": "stdout",
       "text": [
        " 5.03051990598e-05\n",
        "Point 1115 over 1300\n",
        "Optitrack error:"
       ]
      },
      {
       "output_type": "stream",
       "stream": "stdout",
       "text": [
        " 5.02844787735e-05\n",
        "Point 1116 over 1300\n",
        "Optitrack error:"
       ]
      },
      {
       "output_type": "stream",
       "stream": "stdout",
       "text": [
        " 2.05987783307e-05\n",
        "Point 1117 over 1300\n",
        "Optitrack error:"
       ]
      },
      {
       "output_type": "stream",
       "stream": "stdout",
       "text": [
        " 0.000373234909775\n",
        "Point 1118 over 1300\n",
        "No recent optitrack view of the marker"
       ]
      },
      {
       "output_type": "stream",
       "stream": "stdout",
       "text": [
        "\n",
        "Optitrack error:"
       ]
      },
      {
       "output_type": "stream",
       "stream": "stdout",
       "text": [
        " 2.68961323071e-05\n",
        "Point 1119 over 1300\n",
        "Optitrack error:"
       ]
      },
      {
       "output_type": "stream",
       "stream": "stdout",
       "text": [
        " 4.08149499694e-05\n",
        "Point 1120 over 1300\n",
        "Optitrack error:"
       ]
      },
      {
       "output_type": "stream",
       "stream": "stdout",
       "text": [
        " 4.39731915784e-05\n",
        "Point 1121 over 1300\n",
        "Optitrack error:"
       ]
      },
      {
       "output_type": "stream",
       "stream": "stdout",
       "text": [
        " 6.10959225519e-05\n",
        "Point 1122 over 1300\n",
        "No recent optitrack view of the marker"
       ]
      },
      {
       "output_type": "stream",
       "stream": "stdout",
       "text": [
        "\n",
        "Optitrack error:"
       ]
      },
      {
       "output_type": "stream",
       "stream": "stdout",
       "text": [
        " 0.00069277154354\n",
        "Point 1123 over 1300\n",
        "Optitrack error:"
       ]
      },
      {
       "output_type": "stream",
       "stream": "stdout",
       "text": [
        " 2.02156834391e-05\n",
        "Point 1124 over 1300\n",
        "No recent optitrack view of the marker"
       ]
      },
      {
       "output_type": "stream",
       "stream": "stdout",
       "text": [
        "\n",
        "Optitrack error:"
       ]
      },
      {
       "output_type": "stream",
       "stream": "stdout",
       "text": [
        " 2.54990793985e-05\n",
        "Point 1125 over 1300\n",
        "Optitrack error:"
       ]
      },
      {
       "output_type": "stream",
       "stream": "stdout",
       "text": [
        " 0.00532309253478\n",
        "Point 1126 over 1300\n",
        "Optitrack error:"
       ]
      },
      {
       "output_type": "stream",
       "stream": "stdout",
       "text": [
        " 0.000263750146085\n",
        "Point 1127 over 1300\n",
        "Optitrack error:"
       ]
      },
      {
       "output_type": "stream",
       "stream": "stdout",
       "text": [
        " 5.5391193498e-05\n",
        "Point 1128 over 1300\n",
        "Optitrack error:"
       ]
      },
      {
       "output_type": "stream",
       "stream": "stdout",
       "text": [
        " 0.000464382050203\n",
        "Point 1129 over 1300\n",
        "Optitrack error:"
       ]
      },
      {
       "output_type": "stream",
       "stream": "stdout",
       "text": [
        " 0.000120164710656\n",
        "Point 1130 over 1300\n",
        "Optitrack error:"
       ]
      },
      {
       "output_type": "stream",
       "stream": "stdout",
       "text": [
        " 1.20740179386e-05\n",
        "Point 1131 over 1300\n",
        "No recent optitrack view of the marker"
       ]
      },
      {
       "output_type": "stream",
       "stream": "stdout",
       "text": [
        "\n",
        "Optitrack error:"
       ]
      },
      {
       "output_type": "stream",
       "stream": "stdout",
       "text": [
        " 1.24707947892e-05\n",
        "Point 1132 over 1300\n",
        "Optitrack error:"
       ]
      },
      {
       "output_type": "stream",
       "stream": "stdout",
       "text": [
        " 1.16793264104e-05\n",
        "Point 1133 over 1300\n",
        "Optitrack error:"
       ]
      },
      {
       "output_type": "stream",
       "stream": "stdout",
       "text": [
        " 3.49600011512e-06\n",
        "Point 1134 over 1300\n",
        "Optitrack error:"
       ]
      },
      {
       "output_type": "stream",
       "stream": "stdout",
       "text": [
        " 2.72136948613e-05\n",
        "Point 1135 over 1300\n",
        "Optitrack error:"
       ]
      },
      {
       "output_type": "stream",
       "stream": "stdout",
       "text": [
        " 1.2603369784e-05\n",
        "Point 1136 over 1300\n",
        "No recent optitrack view of the marker"
       ]
      },
      {
       "output_type": "stream",
       "stream": "stdout",
       "text": [
        "\n",
        "Optitrack error:"
       ]
      },
      {
       "output_type": "stream",
       "stream": "stdout",
       "text": [
        " 1.46549424279e-05\n",
        "Point 1137 over 1300\n",
        "Optitrack error:"
       ]
      },
      {
       "output_type": "stream",
       "stream": "stdout",
       "text": [
        " 0.000189842211788\n",
        "Point 1138 over 1300\n",
        "Optitrack error:"
       ]
      },
      {
       "output_type": "stream",
       "stream": "stdout",
       "text": [
        " 1.07144919893e-05\n",
        "Point 1139 over 1300\n",
        "No recent optitrack view of the marker"
       ]
      },
      {
       "output_type": "stream",
       "stream": "stdout",
       "text": [
        "\n",
        "Optitrack error:"
       ]
      },
      {
       "output_type": "stream",
       "stream": "stdout",
       "text": [
        " 0.000281242907072\n",
        "Point 1140 over 1300\n",
        "Optitrack error:"
       ]
      },
      {
       "output_type": "stream",
       "stream": "stdout",
       "text": [
        " 8.1390790363e-05\n",
        "Point 1141 over 1300\n",
        "Optitrack error:"
       ]
      },
      {
       "output_type": "stream",
       "stream": "stdout",
       "text": [
        " 1.62112580931e-05\n",
        "Point 1142 over 1300\n",
        "Optitrack error:"
       ]
      },
      {
       "output_type": "stream",
       "stream": "stdout",
       "text": [
        " 8.20489923763e-06\n",
        "Point 1143 over 1300\n",
        "Optitrack error:"
       ]
      },
      {
       "output_type": "stream",
       "stream": "stdout",
       "text": [
        " 1.0706068016e-05\n",
        "Point 1144 over 1300\n",
        "Optitrack error:"
       ]
      },
      {
       "output_type": "stream",
       "stream": "stdout",
       "text": [
        " 1.85993579599e-05\n",
        "Point 1145 over 1300\n",
        "Optitrack error:"
       ]
      },
      {
       "output_type": "stream",
       "stream": "stdout",
       "text": [
        " 5.33794453722e-06\n",
        "Point 1146 over 1300\n",
        "Optitrack error:"
       ]
      },
      {
       "output_type": "stream",
       "stream": "stdout",
       "text": [
        " 2.30474338643e-05\n",
        "Point 1147 over 1300\n",
        "Optitrack error:"
       ]
      },
      {
       "output_type": "stream",
       "stream": "stdout",
       "text": [
        " 3.11252432404e-05\n",
        "Point 1148 over 1300\n",
        "Optitrack error:"
       ]
      },
      {
       "output_type": "stream",
       "stream": "stdout",
       "text": [
        " 2.86306530914e-05\n",
        "Point 1149 over 1300\n",
        "Optitrack error:"
       ]
      },
      {
       "output_type": "stream",
       "stream": "stdout",
       "text": [
        " 2.430494077e-05\n",
        "Point 1150 over 1300\n",
        "Optitrack error:"
       ]
      },
      {
       "output_type": "stream",
       "stream": "stdout",
       "text": [
        " 1.30425583228e-05\n",
        "Point 1151 over 1300\n",
        "Optitrack error:"
       ]
      },
      {
       "output_type": "stream",
       "stream": "stdout",
       "text": [
        " 5.16325778653e-05\n",
        "Point 1152 over 1300\n",
        "Optitrack error:"
       ]
      },
      {
       "output_type": "stream",
       "stream": "stdout",
       "text": [
        " 2.4572697064e-05\n",
        "Point 1153 over 1300\n",
        "Optitrack error:"
       ]
      },
      {
       "output_type": "stream",
       "stream": "stdout",
       "text": [
        " 0.00011500099415\n",
        "Point 1154 over 1300\n",
        "Optitrack error:"
       ]
      },
      {
       "output_type": "stream",
       "stream": "stdout",
       "text": [
        " 0.000268491181614\n",
        "Point 1155 over 1300\n",
        "Optitrack error:"
       ]
      },
      {
       "output_type": "stream",
       "stream": "stdout",
       "text": [
        " 0.000332716888777\n",
        "Point 1156 over 1300\n",
        "Optitrack error:"
       ]
      },
      {
       "output_type": "stream",
       "stream": "stdout",
       "text": [
        " 1.5329072304e-05\n",
        "Point 1157 over 1300\n",
        "No recent optitrack view of the marker"
       ]
      },
      {
       "output_type": "stream",
       "stream": "stdout",
       "text": [
        "\n",
        "Optitrack error:"
       ]
      },
      {
       "output_type": "stream",
       "stream": "stdout",
       "text": [
        " 7.95786245913e-06\n",
        "Point 1158 over 1300\n",
        "Optitrack error:"
       ]
      },
      {
       "output_type": "stream",
       "stream": "stdout",
       "text": [
        " 5.04644458806e-05\n",
        "Point 1159 over 1300\n",
        "Optitrack error:"
       ]
      },
      {
       "output_type": "stream",
       "stream": "stdout",
       "text": [
        " 0.000283632202088\n",
        "Point 1160 over 1300\n",
        "Optitrack error:"
       ]
      },
      {
       "output_type": "stream",
       "stream": "stdout",
       "text": [
        " 9.76899262384e-06\n",
        "Point 1161 over 1300\n",
        "Optitrack error:"
       ]
      },
      {
       "output_type": "stream",
       "stream": "stdout",
       "text": [
        " 0.000484691036905\n",
        "Point 1162 over 1300\n",
        "Optitrack error:"
       ]
      },
      {
       "output_type": "stream",
       "stream": "stdout",
       "text": [
        " 1.76331129564e-05\n",
        "Point 1163 over 1300\n",
        "Optitrack error:"
       ]
      },
      {
       "output_type": "stream",
       "stream": "stdout",
       "text": [
        " 1.60209085052e-05\n",
        "Point 1164 over 1300\n",
        "Optitrack error:"
       ]
      },
      {
       "output_type": "stream",
       "stream": "stdout",
       "text": [
        " 2.34796238388e-05\n",
        "Point 1165 over 1300\n",
        "Optitrack error:"
       ]
      },
      {
       "output_type": "stream",
       "stream": "stdout",
       "text": [
        " 0.000139845713248\n",
        "Point 1166 over 1300\n",
        "Optitrack error:"
       ]
      },
      {
       "output_type": "stream",
       "stream": "stdout",
       "text": [
        " 1.74598022241e-05\n",
        "Point 1167 over 1300\n",
        "Optitrack error:"
       ]
      },
      {
       "output_type": "stream",
       "stream": "stdout",
       "text": [
        " 4.96838045866e-05\n",
        "Point 1168 over 1300\n",
        "Optitrack error:"
       ]
      },
      {
       "output_type": "stream",
       "stream": "stdout",
       "text": [
        " 0.000586012738886\n",
        "Point 1169 over 1300\n",
        "Optitrack error:"
       ]
      },
      {
       "output_type": "stream",
       "stream": "stdout",
       "text": [
        " 1.81886663717e-05\n",
        "Point 1170 over 1300\n",
        "Optitrack error:"
       ]
      },
      {
       "output_type": "stream",
       "stream": "stdout",
       "text": [
        " 3.86443070044e-06\n",
        "Point 1171 over 1300\n",
        "Optitrack error:"
       ]
      },
      {
       "output_type": "stream",
       "stream": "stdout",
       "text": [
        " 2.13671201743e-05\n",
        "Point 1172 over 1300\n",
        "Optitrack error:"
       ]
      },
      {
       "output_type": "stream",
       "stream": "stdout",
       "text": [
        " 1.71990106774e-05\n",
        "Point 1173 over 1300\n",
        "No recent optitrack view of the marker"
       ]
      },
      {
       "output_type": "stream",
       "stream": "stdout",
       "text": [
        "\n",
        "Optitrack error:"
       ]
      },
      {
       "output_type": "stream",
       "stream": "stdout",
       "text": [
        " 1.39541672758e-05\n",
        "Point 1174 over 1300\n",
        "Optitrack error:"
       ]
      },
      {
       "output_type": "stream",
       "stream": "stdout",
       "text": [
        " 2.50482491762e-05\n",
        "Point 1175 over 1300\n",
        "Optitrack error:"
       ]
      },
      {
       "output_type": "stream",
       "stream": "stdout",
       "text": [
        " 2.87386058433e-05\n",
        "Point 1176 over 1300\n",
        "No recent optitrack view of the marker"
       ]
      },
      {
       "output_type": "stream",
       "stream": "stdout",
       "text": [
        "\n",
        "Optitrack error:"
       ]
      },
      {
       "output_type": "stream",
       "stream": "stdout",
       "text": [
        " 3.55186832088e-05\n",
        "Point 1177 over 1300\n",
        "No recent optitrack view of the marker"
       ]
      },
      {
       "output_type": "stream",
       "stream": "stdout",
       "text": [
        "\n",
        "Optitrack error:"
       ]
      },
      {
       "output_type": "stream",
       "stream": "stdout",
       "text": [
        " 5.66531496e-06\n",
        "Point 1178 over 1300\n",
        "Optitrack error:"
       ]
      },
      {
       "output_type": "stream",
       "stream": "stdout",
       "text": [
        " 1.16473713774e-05\n",
        "Point 1179 over 1300\n",
        "No recent optitrack view of the marker"
       ]
      },
      {
       "output_type": "stream",
       "stream": "stdout",
       "text": [
        "\n",
        "Optitrack error:"
       ]
      },
      {
       "output_type": "stream",
       "stream": "stdout",
       "text": [
        " 2.08769469539e-05\n",
        "Point 1180 over 1300\n",
        "Optitrack error:"
       ]
      },
      {
       "output_type": "stream",
       "stream": "stdout",
       "text": [
        " 2.33053233638e-05\n",
        "Point 1181 over 1300\n",
        "Optitrack error:"
       ]
      },
      {
       "output_type": "stream",
       "stream": "stdout",
       "text": [
        " 0.000171279822602\n",
        "Point 1182 over 1300\n",
        "Optitrack error:"
       ]
      },
      {
       "output_type": "stream",
       "stream": "stdout",
       "text": [
        " 2.59338622632e-06\n",
        "Point 1183 over 1300\n",
        "Optitrack error:"
       ]
      },
      {
       "output_type": "stream",
       "stream": "stdout",
       "text": [
        " 8.25065884547e-05\n",
        "Point 1184 over 1300\n",
        "Optitrack error:"
       ]
      },
      {
       "output_type": "stream",
       "stream": "stdout",
       "text": [
        " 0.000297913631583\n",
        "Point 1185 over 1300\n",
        "Optitrack error:"
       ]
      },
      {
       "output_type": "stream",
       "stream": "stdout",
       "text": [
        " 1.89548393382e-05\n",
        "Point 1186 over 1300\n",
        "Optitrack error:"
       ]
      },
      {
       "output_type": "stream",
       "stream": "stdout",
       "text": [
        " 4.20155192345e-05\n",
        "Point 1187 over 1300\n",
        "Optitrack error:"
       ]
      },
      {
       "output_type": "stream",
       "stream": "stdout",
       "text": [
        " 2.01410848724e-05\n",
        "Point 1188 over 1300\n",
        "Optitrack error:"
       ]
      },
      {
       "output_type": "stream",
       "stream": "stdout",
       "text": [
        " 0.000113090364925\n",
        "Point 1189 over 1300\n",
        "Optitrack error:"
       ]
      },
      {
       "output_type": "stream",
       "stream": "stdout",
       "text": [
        " 0.000146054012237\n",
        "Point 1190 over 1300\n",
        "No recent optitrack view of the marker"
       ]
      },
      {
       "output_type": "stream",
       "stream": "stdout",
       "text": [
        "\n",
        "Optitrack error:"
       ]
      },
      {
       "output_type": "stream",
       "stream": "stdout",
       "text": [
        " 1.77625396375e-05\n",
        "Point 1191 over 1300\n",
        "Optitrack error:"
       ]
      },
      {
       "output_type": "stream",
       "stream": "stdout",
       "text": [
        " 3.81709520959e-05\n",
        "Point 1192 over 1300\n",
        "Optitrack error:"
       ]
      },
      {
       "output_type": "stream",
       "stream": "stdout",
       "text": [
        " 0.000268002813959\n",
        "Point 1193 over 1300\n",
        "Optitrack error:"
       ]
      },
      {
       "output_type": "stream",
       "stream": "stdout",
       "text": [
        " 0.00590543465142\n",
        "Point 1194 over 1300\n",
        "Optitrack error:"
       ]
      },
      {
       "output_type": "stream",
       "stream": "stdout",
       "text": [
        " 3.08653491768e-05\n",
        "Point 1195 over 1300\n",
        "Optitrack error:"
       ]
      },
      {
       "output_type": "stream",
       "stream": "stdout",
       "text": [
        " 3.78887913148e-05\n",
        "Point 1196 over 1300\n",
        "Optitrack error:"
       ]
      },
      {
       "output_type": "stream",
       "stream": "stdout",
       "text": [
        " 6.23155042551e-05\n",
        "Point 1197 over 1300\n",
        "Optitrack error:"
       ]
      },
      {
       "output_type": "stream",
       "stream": "stdout",
       "text": [
        " 0.000180404318149\n",
        "Point 1198 over 1300\n",
        "Optitrack error:"
       ]
      },
      {
       "output_type": "stream",
       "stream": "stdout",
       "text": [
        " 2.13324332903e-05\n",
        "Point 1199 over 1300\n",
        "Optitrack error:"
       ]
      },
      {
       "output_type": "stream",
       "stream": "stdout",
       "text": [
        " 8.24578782995e-05\n",
        "Point 1200 over 1300\n",
        "Optitrack error:"
       ]
      },
      {
       "output_type": "stream",
       "stream": "stdout",
       "text": [
        " 1.67933706848e-05\n",
        "Point 1201 over 1300\n",
        "Optitrack error:"
       ]
      },
      {
       "output_type": "stream",
       "stream": "stdout",
       "text": [
        " 4.61526824549e-05\n",
        "Point 1202 over 1300\n",
        "Optitrack error:"
       ]
      },
      {
       "output_type": "stream",
       "stream": "stdout",
       "text": [
        " 3.49460443403e-05\n",
        "Point 1203 over 1300\n",
        "Optitrack error:"
       ]
      },
      {
       "output_type": "stream",
       "stream": "stdout",
       "text": [
        " 0.000178536739173\n",
        "Point 1204 over 1300\n",
        "Optitrack error:"
       ]
      },
      {
       "output_type": "stream",
       "stream": "stdout",
       "text": [
        " 0.000125837757443\n",
        "Point 1205 over 1300\n",
        "Optitrack error:"
       ]
      },
      {
       "output_type": "stream",
       "stream": "stdout",
       "text": [
        " 0.000114344748484\n",
        "Point 1206 over 1300\n",
        "Optitrack error:"
       ]
      },
      {
       "output_type": "stream",
       "stream": "stdout",
       "text": [
        " 0.0062013058865\n",
        "Point 1207 over 1300\n",
        "Optitrack error:"
       ]
      },
      {
       "output_type": "stream",
       "stream": "stdout",
       "text": [
        " 4.18179259581e-05\n",
        "Point 1208 over 1300\n",
        "Optitrack error:"
       ]
      },
      {
       "output_type": "stream",
       "stream": "stdout",
       "text": [
        " 4.17788024776e-05\n",
        "Point 1209 over 1300\n",
        "Optitrack error:"
       ]
      },
      {
       "output_type": "stream",
       "stream": "stdout",
       "text": [
        " 1.97015736321e-05\n",
        "Point 1210 over 1300\n",
        "Optitrack error:"
       ]
      },
      {
       "output_type": "stream",
       "stream": "stdout",
       "text": [
        " 0.00667921183129\n",
        "Point 1211 over 1300\n",
        "Optitrack error:"
       ]
      },
      {
       "output_type": "stream",
       "stream": "stdout",
       "text": [
        " 0.000422625526047\n",
        "Point 1212 over 1300\n",
        "Optitrack error:"
       ]
      },
      {
       "output_type": "stream",
       "stream": "stdout",
       "text": [
        " 4.03611045065e-05\n",
        "Point 1213 over 1300\n",
        "No recent optitrack view of the marker"
       ]
      },
      {
       "output_type": "stream",
       "stream": "stdout",
       "text": [
        "\n",
        "Optitrack error:"
       ]
      },
      {
       "output_type": "stream",
       "stream": "stdout",
       "text": [
        " 1.29435778334e-05\n",
        "Point 1214 over 1300\n",
        "Optitrack error:"
       ]
      },
      {
       "output_type": "stream",
       "stream": "stdout",
       "text": [
        " 1.19148231125e-05\n",
        "Point 1215 over 1300\n",
        "Optitrack error:"
       ]
      },
      {
       "output_type": "stream",
       "stream": "stdout",
       "text": [
        " 0.000506055014771\n",
        "Point 1216 over 1300\n",
        "No recent optitrack view of the marker"
       ]
      },
      {
       "output_type": "stream",
       "stream": "stdout",
       "text": [
        "\n",
        "Optitrack error:"
       ]
      },
      {
       "output_type": "stream",
       "stream": "stdout",
       "text": [
        " 1.06061929061e-05\n",
        "Point 1217 over 1300\n",
        "Optitrack error:"
       ]
      },
      {
       "output_type": "stream",
       "stream": "stdout",
       "text": [
        " 0.000102326235119\n",
        "Point 1218 over 1300\n",
        "Optitrack error:"
       ]
      },
      {
       "output_type": "stream",
       "stream": "stdout",
       "text": [
        " 0.00012360740543\n",
        "Point 1219 over 1300\n",
        "Optitrack error:"
       ]
      },
      {
       "output_type": "stream",
       "stream": "stdout",
       "text": [
        " 0.000308171173678\n",
        "Point 1220 over 1300\n",
        "Optitrack error:"
       ]
      },
      {
       "output_type": "stream",
       "stream": "stdout",
       "text": [
        " 2.33301620472e-05\n",
        "Point 1221 over 1300\n",
        "Optitrack error:"
       ]
      },
      {
       "output_type": "stream",
       "stream": "stdout",
       "text": [
        " 0.0075607572309\n",
        "Point 1222 over 1300\n",
        "No recent optitrack view of the marker"
       ]
      },
      {
       "output_type": "stream",
       "stream": "stdout",
       "text": [
        "\n",
        "Optitrack error:"
       ]
      },
      {
       "output_type": "stream",
       "stream": "stdout",
       "text": [
        " 1.31545438976e-05\n",
        "Point 1223 over 1300\n",
        "Optitrack error:"
       ]
      },
      {
       "output_type": "stream",
       "stream": "stdout",
       "text": [
        " 7.43473867024e-06\n",
        "Point 1224 over 1300\n",
        "Optitrack error:"
       ]
      },
      {
       "output_type": "stream",
       "stream": "stdout",
       "text": [
        " 0.000151209003274\n",
        "Point 1225 over 1300\n",
        "Optitrack error:"
       ]
      },
      {
       "output_type": "stream",
       "stream": "stdout",
       "text": [
        " 6.22185981775e-06\n",
        "Point 1226 over 1300\n",
        "Optitrack error:"
       ]
      },
      {
       "output_type": "stream",
       "stream": "stdout",
       "text": [
        " 1.52064600778e-05\n",
        "Point 1227 over 1300\n",
        "No recent optitrack view of the marker"
       ]
      },
      {
       "output_type": "stream",
       "stream": "stdout",
       "text": [
        "\n",
        "No recent optitrack view of the marker"
       ]
      },
      {
       "output_type": "stream",
       "stream": "stdout",
       "text": [
        "\n",
        "Optitrack error:"
       ]
      },
      {
       "output_type": "stream",
       "stream": "stdout",
       "text": [
        " 0.00510530043261\n",
        "Point 1228 over 1300\n",
        "Optitrack error:"
       ]
      },
      {
       "output_type": "stream",
       "stream": "stdout",
       "text": [
        " 0.00018047042893\n",
        "Point 1229 over 1300\n",
        "Optitrack error:"
       ]
      },
      {
       "output_type": "stream",
       "stream": "stdout",
       "text": [
        " 9.41898984619e-05\n",
        "Point 1230 over 1300\n",
        "No recent optitrack view of the marker"
       ]
      },
      {
       "output_type": "stream",
       "stream": "stdout",
       "text": [
        "\n",
        "No recent optitrack view of the marker"
       ]
      },
      {
       "output_type": "stream",
       "stream": "stdout",
       "text": [
        "\n",
        "Optitrack error:"
       ]
      },
      {
       "output_type": "stream",
       "stream": "stdout",
       "text": [
        " 9.18685396995e-05\n",
        "Point 1231 over 1300\n",
        "Optitrack error:"
       ]
      },
      {
       "output_type": "stream",
       "stream": "stdout",
       "text": [
        " 0.0003342862248\n",
        "Point 1232 over 1300\n",
        "Optitrack error:"
       ]
      },
      {
       "output_type": "stream",
       "stream": "stdout",
       "text": [
        " 1.89704213497e-05\n",
        "Point 1233 over 1300\n",
        "Optitrack error:"
       ]
      },
      {
       "output_type": "stream",
       "stream": "stdout",
       "text": [
        " 1.87103356117e-05\n",
        "Point 1234 over 1300\n",
        "Optitrack error:"
       ]
      },
      {
       "output_type": "stream",
       "stream": "stdout",
       "text": [
        " 3.40618358178e-05\n",
        "Point 1235 over 1300\n",
        "Optitrack error:"
       ]
      },
      {
       "output_type": "stream",
       "stream": "stdout",
       "text": [
        " 2.05495799065e-05\n",
        "Point 1236 over 1300\n",
        "Optitrack error:"
       ]
      },
      {
       "output_type": "stream",
       "stream": "stdout",
       "text": [
        " 0.00803046059817\n",
        "Point 1237 over 1300\n",
        "Optitrack error:"
       ]
      },
      {
       "output_type": "stream",
       "stream": "stdout",
       "text": [
        " 6.51666498104e-05\n",
        "Point 1238 over 1300\n",
        "Optitrack error:"
       ]
      },
      {
       "output_type": "stream",
       "stream": "stdout",
       "text": [
        " 2.31890153494e-05\n",
        "Point 1239 over 1300\n",
        "Optitrack error:"
       ]
      },
      {
       "output_type": "stream",
       "stream": "stdout",
       "text": [
        " 3.63065178724e-05\n",
        "Point 1240 over 1300\n",
        "Optitrack error:"
       ]
      },
      {
       "output_type": "stream",
       "stream": "stdout",
       "text": [
        " 8.25696455573e-06\n",
        "Point 1241 over 1300\n",
        "Optitrack error:"
       ]
      },
      {
       "output_type": "stream",
       "stream": "stdout",
       "text": [
        " 0.000360371697387\n",
        "Point 1242 over 1300\n",
        "Optitrack error:"
       ]
      },
      {
       "output_type": "stream",
       "stream": "stdout",
       "text": [
        " 1.6654948362e-05\n",
        "Point 1243 over 1300\n",
        "Optitrack error:"
       ]
      },
      {
       "output_type": "stream",
       "stream": "stdout",
       "text": [
        " 8.87559089488e-05\n",
        "Point 1244 over 1300\n",
        "Optitrack error:"
       ]
      },
      {
       "output_type": "stream",
       "stream": "stdout",
       "text": [
        " 3.80813379177e-05\n",
        "Point 1245 over 1300\n",
        "Optitrack error:"
       ]
      },
      {
       "output_type": "stream",
       "stream": "stdout",
       "text": [
        " 2.63485297641e-05\n",
        "Point 1246 over 1300\n",
        "No recent optitrack view of the marker"
       ]
      },
      {
       "output_type": "stream",
       "stream": "stdout",
       "text": [
        "\n",
        "No recent optitrack view of the marker"
       ]
      },
      {
       "output_type": "stream",
       "stream": "stdout",
       "text": [
        "\n",
        "No recent optitrack view of the marker"
       ]
      },
      {
       "output_type": "stream",
       "stream": "stdout",
       "text": [
        "\n",
        "Optitrack error:"
       ]
      },
      {
       "output_type": "stream",
       "stream": "stdout",
       "text": [
        " 3.38526080741e-05\n",
        "Point 1247 over 1300\n",
        "Optitrack error:"
       ]
      },
      {
       "output_type": "stream",
       "stream": "stdout",
       "text": [
        " 0.000632537299224\n",
        "Point 1248 over 1300\n",
        "No recent optitrack view of the marker"
       ]
      },
      {
       "output_type": "stream",
       "stream": "stdout",
       "text": [
        "\n",
        "Optitrack error:"
       ]
      },
      {
       "output_type": "stream",
       "stream": "stdout",
       "text": [
        " 3.86364953381e-05\n",
        "Point 1249 over 1300\n",
        "Optitrack error:"
       ]
      },
      {
       "output_type": "stream",
       "stream": "stdout",
       "text": [
        " 0.000224922999946\n",
        "Point 1250 over 1300\n",
        "Optitrack error:"
       ]
      },
      {
       "output_type": "stream",
       "stream": "stdout",
       "text": [
        " 0.00011187312208\n",
        "Point 1251 over 1300\n",
        "No recent optitrack view of the marker"
       ]
      },
      {
       "output_type": "stream",
       "stream": "stdout",
       "text": [
        "\n",
        "Optitrack error:"
       ]
      },
      {
       "output_type": "stream",
       "stream": "stdout",
       "text": [
        " 7.21957407859e-05\n",
        "Point 1252 over 1300\n",
        "No recent optitrack view of the marker"
       ]
      },
      {
       "output_type": "stream",
       "stream": "stdout",
       "text": [
        "\n",
        "No recent optitrack view of the marker"
       ]
      },
      {
       "output_type": "stream",
       "stream": "stdout",
       "text": [
        "\n",
        "Optitrack error:"
       ]
      },
      {
       "output_type": "stream",
       "stream": "stdout",
       "text": [
        " 3.14842815408e-05\n",
        "Point 1253 over 1300\n",
        "Optitrack error:"
       ]
      },
      {
       "output_type": "stream",
       "stream": "stdout",
       "text": [
        " 1.33118999782e-05\n",
        "Point 1254 over 1300\n",
        "No recent optitrack view of the marker"
       ]
      },
      {
       "output_type": "stream",
       "stream": "stdout",
       "text": [
        "\n",
        "No recent optitrack view of the marker"
       ]
      },
      {
       "output_type": "stream",
       "stream": "stdout",
       "text": [
        "\n",
        "Optitrack error:"
       ]
      },
      {
       "output_type": "stream",
       "stream": "stdout",
       "text": [
        " 0.000197441742663\n",
        "Point 1255 over 1300\n",
        "Optitrack error:"
       ]
      },
      {
       "output_type": "stream",
       "stream": "stdout",
       "text": [
        " 2.46614780986e-05\n",
        "Point 1256 over 1300\n",
        "Optitrack error:"
       ]
      },
      {
       "output_type": "stream",
       "stream": "stdout",
       "text": [
        " 1.55300663683e-05\n",
        "Point 1257 over 1300\n",
        "No recent optitrack view of the marker"
       ]
      },
      {
       "output_type": "stream",
       "stream": "stdout",
       "text": [
        "\n",
        "Optitrack error:"
       ]
      },
      {
       "output_type": "stream",
       "stream": "stdout",
       "text": [
        " 0.000591597684335\n",
        "Point 1258 over 1300\n",
        "Optitrack error:"
       ]
      },
      {
       "output_type": "stream",
       "stream": "stdout",
       "text": [
        " 1.9004499026e-05\n",
        "Point 1259 over 1300\n",
        "Optitrack error:"
       ]
      },
      {
       "output_type": "stream",
       "stream": "stdout",
       "text": [
        " 0.000116233705955\n",
        "Point 1260 over 1300\n",
        "No recent optitrack view of the marker"
       ]
      },
      {
       "output_type": "stream",
       "stream": "stdout",
       "text": [
        "\n",
        "No recent optitrack view of the marker"
       ]
      },
      {
       "output_type": "stream",
       "stream": "stdout",
       "text": [
        "\n",
        "Optitrack error:"
       ]
      },
      {
       "output_type": "stream",
       "stream": "stdout",
       "text": [
        " 5.09534086254e-05\n",
        "Point 1261 over 1300\n",
        "Optitrack error:"
       ]
      },
      {
       "output_type": "stream",
       "stream": "stdout",
       "text": [
        " 0.000100289078495\n",
        "Point 1262 over 1300\n",
        "Optitrack error:"
       ]
      },
      {
       "output_type": "stream",
       "stream": "stdout",
       "text": [
        " 6.73092271778e-05\n",
        "Point 1263 over 1300\n",
        "No recent optitrack view of the marker"
       ]
      },
      {
       "output_type": "stream",
       "stream": "stdout",
       "text": [
        "\n",
        "No recent optitrack view of the marker"
       ]
      },
      {
       "output_type": "stream",
       "stream": "stdout",
       "text": [
        "\n",
        "Optitrack error:"
       ]
      },
      {
       "output_type": "stream",
       "stream": "stdout",
       "text": [
        " 0.000134484483481\n",
        "Point 1264 over 1300\n",
        "Optitrack error:"
       ]
      },
      {
       "output_type": "stream",
       "stream": "stdout",
       "text": [
        " 0.000180002411088\n",
        "Point 1265 over 1300\n",
        "Optitrack error:"
       ]
      },
      {
       "output_type": "stream",
       "stream": "stdout",
       "text": [
        " 3.13250212372e-05\n",
        "Point 1266 over 1300\n",
        "Optitrack error:"
       ]
      },
      {
       "output_type": "stream",
       "stream": "stdout",
       "text": [
        " 0.000321008209815\n",
        "Point 1267 over 1300\n",
        "Optitrack error:"
       ]
      },
      {
       "output_type": "stream",
       "stream": "stdout",
       "text": [
        " 0.000209334748572\n",
        "Point 1268 over 1300\n",
        "Optitrack error:"
       ]
      },
      {
       "output_type": "stream",
       "stream": "stdout",
       "text": [
        " 0.000373611333539\n",
        "Point 1269 over 1300\n",
        "Optitrack error:"
       ]
      },
      {
       "output_type": "stream",
       "stream": "stdout",
       "text": [
        " 0.000265401292325\n",
        "Point 1270 over 1300\n",
        "Optitrack error:"
       ]
      },
      {
       "output_type": "stream",
       "stream": "stdout",
       "text": [
        " 5.61996752322e-06\n",
        "Point 1271 over 1300\n",
        "Optitrack error:"
       ]
      },
      {
       "output_type": "stream",
       "stream": "stdout",
       "text": [
        " 1.39118115915e-05\n",
        "Point 1272 over 1300\n",
        "Optitrack error:"
       ]
      },
      {
       "output_type": "stream",
       "stream": "stdout",
       "text": [
        " 0.000307911808655\n",
        "Point 1273 over 1300\n",
        "Optitrack error:"
       ]
      },
      {
       "output_type": "stream",
       "stream": "stdout",
       "text": [
        " 3.27619800084e-05\n",
        "Point 1274 over 1300\n",
        "Optitrack error:"
       ]
      },
      {
       "output_type": "stream",
       "stream": "stdout",
       "text": [
        " 9.84446021979e-06\n",
        "Point 1275 over 1300\n",
        "Optitrack error:"
       ]
      },
      {
       "output_type": "stream",
       "stream": "stdout",
       "text": [
        " 0.000101712505996\n",
        "Point 1276 over 1300\n",
        "Optitrack error:"
       ]
      },
      {
       "output_type": "stream",
       "stream": "stdout",
       "text": [
        " 2.1351863012e-05\n",
        "Point 1277 over 1300\n",
        "Optitrack error:"
       ]
      },
      {
       "output_type": "stream",
       "stream": "stdout",
       "text": [
        " 8.02784484401e-06\n",
        "Point 1278 over 1300\n",
        "Optitrack error:"
       ]
      },
      {
       "output_type": "stream",
       "stream": "stdout",
       "text": [
        " 3.27129808256e-05\n",
        "Point 1279 over 1300\n",
        "Optitrack error:"
       ]
      },
      {
       "output_type": "stream",
       "stream": "stdout",
       "text": [
        " 3.73705559656e-05\n",
        "Point 1280 over 1300\n",
        "Optitrack error:"
       ]
      },
      {
       "output_type": "stream",
       "stream": "stdout",
       "text": [
        " 2.40516051144e-05\n",
        "Point 1281 over 1300\n",
        "No recent optitrack view of the marker"
       ]
      },
      {
       "output_type": "stream",
       "stream": "stdout",
       "text": [
        "\n",
        "Optitrack error:"
       ]
      },
      {
       "output_type": "stream",
       "stream": "stdout",
       "text": [
        " 6.17166344532e-06\n",
        "Point 1282 over 1300\n",
        "Optitrack error:"
       ]
      },
      {
       "output_type": "stream",
       "stream": "stdout",
       "text": [
        " 0.000134111342006\n",
        "Point 1283 over 1300\n",
        "No recent optitrack view of the marker"
       ]
      },
      {
       "output_type": "stream",
       "stream": "stdout",
       "text": [
        "\n",
        "Optitrack error:"
       ]
      },
      {
       "output_type": "stream",
       "stream": "stdout",
       "text": [
        " 3.27605218732e-05\n",
        "Point 1284 over 1300\n",
        "Optitrack error:"
       ]
      },
      {
       "output_type": "stream",
       "stream": "stdout",
       "text": [
        " 2.58634192428e-05\n",
        "Point 1285 over 1300\n",
        "Optitrack error:"
       ]
      },
      {
       "output_type": "stream",
       "stream": "stdout",
       "text": [
        " 0.00506656688407\n",
        "Point 1286 over 1300\n",
        "Optitrack error:"
       ]
      },
      {
       "output_type": "stream",
       "stream": "stdout",
       "text": [
        " 0.000363858798528\n",
        "Point 1287 over 1300\n",
        "No recent optitrack view of the marker"
       ]
      },
      {
       "output_type": "stream",
       "stream": "stdout",
       "text": [
        "\n",
        "Optitrack error:"
       ]
      },
      {
       "output_type": "stream",
       "stream": "stdout",
       "text": [
        " 6.59164719908e-05\n",
        "Point 1288 over 1300\n",
        "No recent optitrack view of the marker"
       ]
      },
      {
       "output_type": "stream",
       "stream": "stdout",
       "text": [
        "\n",
        "Optitrack error:"
       ]
      },
      {
       "output_type": "stream",
       "stream": "stdout",
       "text": [
        " 1.50676266609e-05\n",
        "Point 1289 over 1300\n",
        "Optitrack error:"
       ]
      },
      {
       "output_type": "stream",
       "stream": "stdout",
       "text": [
        " 0.000431555666361\n",
        "Point 1290 over 1300\n",
        "Optitrack error:"
       ]
      },
      {
       "output_type": "stream",
       "stream": "stdout",
       "text": [
        " 2.57189375866e-05\n",
        "Point 1291 over 1300\n",
        "Optitrack error:"
       ]
      },
      {
       "output_type": "stream",
       "stream": "stdout",
       "text": [
        " 2.71744264539e-05\n",
        "Point 1292 over 1300\n",
        "Optitrack error:"
       ]
      },
      {
       "output_type": "stream",
       "stream": "stdout",
       "text": [
        " 2.85928854004e-05\n",
        "Point 1293 over 1300\n",
        "Optitrack error:"
       ]
      },
      {
       "output_type": "stream",
       "stream": "stdout",
       "text": [
        " 3.81483812556e-05\n",
        "Point 1294 over 1300\n",
        "Optitrack error:"
       ]
      },
      {
       "output_type": "stream",
       "stream": "stdout",
       "text": [
        " 1.19926855983e-05\n",
        "Point 1295 over 1300\n",
        "Optitrack error:"
       ]
      },
      {
       "output_type": "stream",
       "stream": "stdout",
       "text": [
        " 1.37253098567e-05\n",
        "Point 1296 over 1300\n",
        "No recent optitrack view of the marker"
       ]
      },
      {
       "output_type": "stream",
       "stream": "stdout",
       "text": [
        "\n",
        "Optitrack error:"
       ]
      },
      {
       "output_type": "stream",
       "stream": "stdout",
       "text": [
        " 8.83007023305e-06\n",
        "Point 1297 over 1300\n",
        "No recent optitrack view of the marker"
       ]
      },
      {
       "output_type": "stream",
       "stream": "stdout",
       "text": [
        "\n",
        "No recent optitrack view of the marker"
       ]
      },
      {
       "output_type": "stream",
       "stream": "stdout",
       "text": [
        "\n",
        "Optitrack error:"
       ]
      },
      {
       "output_type": "stream",
       "stream": "stdout",
       "text": [
        " 4.99227985753e-05\n",
        "Point 1298 over 1300\n",
        "Optitrack error:"
       ]
      },
      {
       "output_type": "stream",
       "stream": "stdout",
       "text": [
        " 1.59200242879e-05\n",
        "Point 1299 over 1300\n",
        "Optitrack error:"
       ]
      },
      {
       "output_type": "stream",
       "stream": "stdout",
       "text": [
        " 0.000191650577349\n",
        "Point 1300 over 1300\n",
        "Optitrack error:"
       ]
      },
      {
       "output_type": "stream",
       "stream": "stdout",
       "text": [
        " 1.06720652662e-05\n"
       ]
      }
     ],
     "prompt_number": 16
    },
    {
     "cell_type": "code",
     "collapsed": false,
     "input": [
      "with open('points.json', 'w') as f:\n",
      "    json.dump(opt_pose_list, f)"
     ],
     "language": "python",
     "metadata": {},
     "outputs": [],
     "prompt_number": 17
    },
    {
     "cell_type": "code",
     "collapsed": false,
     "input": [
      "with open('points.json') as f:\n",
      "    opt_pose_list = json.load(f)"
     ],
     "language": "python",
     "metadata": {},
     "outputs": [],
     "prompt_number": 42
    },
    {
     "cell_type": "code",
     "collapsed": false,
     "input": [
      "opt_pose_list = np.array([p[0] for p in opt_pose_list])"
     ],
     "language": "python",
     "metadata": {},
     "outputs": [],
     "prompt_number": 18
    },
    {
     "cell_type": "code",
     "collapsed": false,
     "input": [
      "print len(opt_pose_list)"
     ],
     "language": "python",
     "metadata": {},
     "outputs": [
      {
       "output_type": "stream",
       "stream": "stdout",
       "text": [
        "1300\n"
       ]
      }
     ],
     "prompt_number": 20
    },
    {
     "cell_type": "code",
     "collapsed": false,
     "input": [
      "center = np.mean(opt_pose_list, axis=0)\n",
      "radius = np.mean(np.sqrt(np.sum((opt_pose_list - center) ** 2, axis=1)))\n",
      "\n",
      "p0 = list(center) + [radius]\n",
      "\n",
      "def fitfunc(p, coords):\n",
      "    x0, y0, z0, R = p\n",
      "    x, y, z = coords.T\n",
      "    return np.sqrt((x-x0)**2 + (y-y0)**2 + (z-z0)**2)\n",
      "\n",
      "errfunc = lambda p, x: fitfunc(p, x) - p[3]\n",
      "p1, flag = leastsq(errfunc, p0, args=(opt_pose_list,))"
     ],
     "language": "python",
     "metadata": {},
     "outputs": [],
     "prompt_number": 21
    },
    {
     "cell_type": "code",
     "collapsed": false,
     "input": [
      "fig = plt.figure(figsize=plt.figaspect(0.5)*1.5)\n",
      "ax = fig.gca(projection='3d')\n",
      "ax.plot(opt_pose_list[:,0], opt_pose_list[:,1], opt_pose_list[:,2])\n",
      "ax.scatter([p1[0]], [p1[1]], [p1[2]], s=19.0000)"
     ],
     "language": "python",
     "metadata": {},
     "outputs": [
      {
       "metadata": {},
       "output_type": "pyout",
       "prompt_number": 35,
       "text": [
        "<mpl_toolkits.mplot3d.art3d.Patch3DCollection at 0x7f2f383dc610>"
       ]
      }
     ],
     "prompt_number": 35
    },
    {
     "cell_type": "code",
     "collapsed": false,
     "input": [
      "np.mean(np.linalg.norm(opt_pose_list - center, axis=1))"
     ],
     "language": "python",
     "metadata": {},
     "outputs": [
      {
       "metadata": {},
       "output_type": "pyout",
       "prompt_number": 36,
       "text": [
        "0.91666448222097052"
       ]
      }
     ],
     "prompt_number": 36
    },
    {
     "cell_type": "code",
     "collapsed": false,
     "input": [
      "p1[1]=0.916"
     ],
     "language": "python",
     "metadata": {},
     "outputs": [],
     "prompt_number": 28
    },
    {
     "cell_type": "code",
     "collapsed": false,
     "input": [
      "ps_center = PoseStamped()\n",
      "ps_center.header.frame_id = '/optitrack_frame'\n",
      "ps_center.pose.position.x = p1[0]\n",
      "ps_center.pose.position.y = p1[1]\n",
      "ps_center.pose.position.z = p1[2]\n",
      "ps_center.pose.orientation.w = 1"
     ],
     "language": "python",
     "metadata": {},
     "outputs": [],
     "prompt_number": 37
    },
    {
     "cell_type": "code",
     "collapsed": false,
     "input": [
      "center_opt_gripper = tfl.transformPose('/robot/head', ps_center)"
     ],
     "language": "python",
     "metadata": {},
     "outputs": [],
     "prompt_number": 38
    },
    {
     "cell_type": "code",
     "collapsed": false,
     "input": [
      "# Here is the transformation to be used to move the optitrack pivot so that it matches the right gripper\n",
      "center_opt_gripper"
     ],
     "language": "python",
     "metadata": {},
     "outputs": [
      {
       "metadata": {},
       "output_type": "pyout",
       "prompt_number": 39,
       "text": [
        "header: \n",
        "  seq: 0\n",
        "  stamp: \n",
        "    secs: 0\n",
        "    nsecs: 0\n",
        "  frame_id: /robot/head\n",
        "pose: \n",
        "  position: \n",
        "    x: 0.10361613878\n",
        "    y: 0.0399496019397\n",
        "    z: -0.00628685954176\n",
        "  orientation: \n",
        "    x: -0.00321012332665\n",
        "    y: 0.0622910098773\n",
        "    z: 0.0221680099975\n",
        "    w: 0.997806646866"
       ]
      }
     ],
     "prompt_number": 39
    },
    {
     "cell_type": "code",
     "collapsed": false,
     "input": [
      "################################################## REPORT MANUALY THE VALUE IN OPTITRACK BEFORE CONTINUING"
     ],
     "language": "python",
     "metadata": {},
     "outputs": [],
     "prompt_number": 52
    },
    {
     "cell_type": "code",
     "collapsed": false,
     "input": [
      "world_frame_robot = 'base'\n",
      "world_frame_opt = 'optitrack_frame'\n",
      "calib_frame_robot = 'head'\n",
      "calib_frame_opt = '/robot/head'"
     ],
     "language": "python",
     "metadata": {},
     "outputs": [],
     "prompt_number": 11
    },
    {
     "cell_type": "code",
     "collapsed": false,
     "input": [
      "mat_robot = [] # Matrix of all calibration points of calib_frame_robot in frame world_frame_robot (position only)\n",
      "mat_opt = [] # Matrix of all calibration points of calib_frame_opt in frame world_frame_opt (position only)\n",
      "max_dur = 0.1 # seconds\n",
      "sleep = 0.1\n",
      "max_dist = 0.01 # deltaM to record a new point\n",
      "\n",
      "num_points = 100\n",
      "\n",
      "for point in range(num_points):\n",
      "    print \"Point\", point+1, \"over\", num_points\n",
      "    while True:\n",
      "        angle = random.uniform(min_pan, max_pan)\n",
      "        head.set_pan(angle)\n",
      "        rospy.sleep(4)\n",
      "        ref_time = tfl.getLatestCommonTime(world_frame_opt, world_frame_robot)\n",
      "        try:\n",
      "            pose_rg_opt = tfl.lookupTransform(world_frame_opt, calib_frame_opt, ref_time)\n",
      "        except:\n",
      "            #rospy.logerr(\"Unable to get the transform from {} to {}, is the optitrack publisher running, and {} the right name\"\n",
      "            #             \" of the rigid body, and is the marker currently visible?\".format(calib_frame_opt, world_frame_opt, calib_frame_opt))\n",
      "            #rospy.sleep(sleep)\n",
      "            print \"Not visible\"\n",
      "            continue\n",
      "            \n",
      "        try:\n",
      "            pose_rg_robot = tfl.lookupTransform(world_frame_robot, calib_frame_robot, ref_time)\n",
      "        except Exception, e:\n",
      "            print \"Robot transf not available, time synchro?\", e.message\n",
      "            #rospy.logerr(\"Unable to get the transform from {} to {}, are they both published by the robot?\"\n",
      "            #             \"{}\".format(calib_frame_robot, world_frame_robot, e.message))\n",
      "            continue\n",
      "        \n",
      "        mat_robot.append(np.array(pose_rg_robot[0]))\n",
      "        mat_opt.append(np.array(pose_rg_opt[0]))\n",
      "        break"
     ],
     "language": "python",
     "metadata": {},
     "outputs": [
      {
       "output_type": "stream",
       "stream": "stdout",
       "text": [
        "Point 1 over 100\n",
        "Point"
       ]
      },
      {
       "output_type": "stream",
       "stream": "stdout",
       "text": [
        " 2 over 100\n",
        "Point"
       ]
      },
      {
       "output_type": "stream",
       "stream": "stdout",
       "text": [
        " 3 over 100\n",
        "Point"
       ]
      },
      {
       "output_type": "stream",
       "stream": "stdout",
       "text": [
        " 4 over 100\n",
        "Point"
       ]
      },
      {
       "output_type": "stream",
       "stream": "stdout",
       "text": [
        " 5 over 100\n",
        "Point"
       ]
      },
      {
       "output_type": "stream",
       "stream": "stdout",
       "text": [
        " 6 over 100\n",
        "Point"
       ]
      },
      {
       "output_type": "stream",
       "stream": "stdout",
       "text": [
        " 7 over 100\n",
        "Point"
       ]
      },
      {
       "output_type": "stream",
       "stream": "stdout",
       "text": [
        " 8 over 100\n",
        "Point"
       ]
      },
      {
       "output_type": "stream",
       "stream": "stdout",
       "text": [
        " 9 over 100\n",
        "Point"
       ]
      },
      {
       "output_type": "stream",
       "stream": "stdout",
       "text": [
        " 10 over 100\n",
        "Point"
       ]
      },
      {
       "output_type": "stream",
       "stream": "stdout",
       "text": [
        " 11 over 100\n",
        "Point"
       ]
      },
      {
       "output_type": "stream",
       "stream": "stdout",
       "text": [
        " 12 over 100\n",
        "Point"
       ]
      },
      {
       "output_type": "stream",
       "stream": "stdout",
       "text": [
        " 13 over 100\n",
        "Point"
       ]
      },
      {
       "output_type": "stream",
       "stream": "stdout",
       "text": [
        " 14 over 100\n",
        "Point"
       ]
      },
      {
       "output_type": "stream",
       "stream": "stdout",
       "text": [
        " 15 over 100\n",
        "Point"
       ]
      },
      {
       "output_type": "stream",
       "stream": "stdout",
       "text": [
        " 16 over 100\n",
        "Point"
       ]
      },
      {
       "output_type": "stream",
       "stream": "stdout",
       "text": [
        " 17 over 100\n",
        "Point"
       ]
      },
      {
       "output_type": "stream",
       "stream": "stdout",
       "text": [
        " 18 over 100\n",
        "Point"
       ]
      },
      {
       "output_type": "stream",
       "stream": "stdout",
       "text": [
        " 19 over 100\n",
        "Point"
       ]
      },
      {
       "output_type": "stream",
       "stream": "stdout",
       "text": [
        " 20 over 100\n",
        "Point"
       ]
      },
      {
       "output_type": "stream",
       "stream": "stdout",
       "text": [
        " 21 over 100\n",
        "Point"
       ]
      },
      {
       "output_type": "stream",
       "stream": "stdout",
       "text": [
        " 22 over 100\n",
        "Point"
       ]
      },
      {
       "output_type": "stream",
       "stream": "stdout",
       "text": [
        " 23 over 100\n",
        "Point"
       ]
      },
      {
       "output_type": "stream",
       "stream": "stdout",
       "text": [
        " 24 over 100\n",
        "Point"
       ]
      },
      {
       "output_type": "stream",
       "stream": "stdout",
       "text": [
        " 25 over 100\n",
        "Point"
       ]
      },
      {
       "output_type": "stream",
       "stream": "stdout",
       "text": [
        " 26 over 100\n",
        "Point"
       ]
      },
      {
       "output_type": "stream",
       "stream": "stdout",
       "text": [
        " 27 over 100\n",
        "Point"
       ]
      },
      {
       "output_type": "stream",
       "stream": "stdout",
       "text": [
        " 28 over 100\n",
        "Point"
       ]
      },
      {
       "output_type": "stream",
       "stream": "stdout",
       "text": [
        " 29 over 100\n",
        "Point"
       ]
      },
      {
       "output_type": "stream",
       "stream": "stdout",
       "text": [
        " 30 over 100\n",
        "Point"
       ]
      },
      {
       "output_type": "stream",
       "stream": "stdout",
       "text": [
        " 31 over 100\n",
        "Point"
       ]
      },
      {
       "output_type": "stream",
       "stream": "stdout",
       "text": [
        " 32 over 100\n",
        "Point"
       ]
      },
      {
       "output_type": "stream",
       "stream": "stdout",
       "text": [
        " 33 over 100\n",
        "Point"
       ]
      },
      {
       "output_type": "stream",
       "stream": "stdout",
       "text": [
        " 34 over 100\n",
        "Point"
       ]
      },
      {
       "output_type": "stream",
       "stream": "stdout",
       "text": [
        " 35 over 100\n",
        "Point"
       ]
      },
      {
       "output_type": "stream",
       "stream": "stdout",
       "text": [
        " 36 over 100\n",
        "Point"
       ]
      },
      {
       "output_type": "stream",
       "stream": "stdout",
       "text": [
        " 37 over 100\n",
        "Point"
       ]
      },
      {
       "output_type": "stream",
       "stream": "stdout",
       "text": [
        " 38 over 100\n",
        "Point"
       ]
      },
      {
       "output_type": "stream",
       "stream": "stdout",
       "text": [
        " 39 over 100\n",
        "Point"
       ]
      },
      {
       "output_type": "stream",
       "stream": "stdout",
       "text": [
        " 40 over 100\n",
        "Point"
       ]
      },
      {
       "output_type": "stream",
       "stream": "stdout",
       "text": [
        " 41 over 100\n",
        "Point"
       ]
      },
      {
       "output_type": "stream",
       "stream": "stdout",
       "text": [
        " 42 over 100\n",
        "Point"
       ]
      },
      {
       "output_type": "stream",
       "stream": "stdout",
       "text": [
        " 43 over 100\n",
        "Point"
       ]
      },
      {
       "output_type": "stream",
       "stream": "stdout",
       "text": [
        " 44 over 100\n",
        "Point"
       ]
      },
      {
       "output_type": "stream",
       "stream": "stdout",
       "text": [
        " 45 over 100\n",
        "Point"
       ]
      },
      {
       "output_type": "stream",
       "stream": "stdout",
       "text": [
        " 46 over 100\n",
        "Point"
       ]
      },
      {
       "output_type": "stream",
       "stream": "stdout",
       "text": [
        " 47 over 100\n",
        "Point"
       ]
      },
      {
       "output_type": "stream",
       "stream": "stdout",
       "text": [
        " 48 over 100\n",
        "Point"
       ]
      },
      {
       "output_type": "stream",
       "stream": "stdout",
       "text": [
        " 49 over 100\n",
        "Point"
       ]
      },
      {
       "output_type": "stream",
       "stream": "stdout",
       "text": [
        " 50 over 100\n",
        "Point"
       ]
      },
      {
       "output_type": "stream",
       "stream": "stdout",
       "text": [
        " 51 over 100\n",
        "Point"
       ]
      },
      {
       "output_type": "stream",
       "stream": "stdout",
       "text": [
        " 52 over 100\n",
        "Point"
       ]
      },
      {
       "output_type": "stream",
       "stream": "stdout",
       "text": [
        " 53 over 100\n",
        "Point"
       ]
      },
      {
       "output_type": "stream",
       "stream": "stdout",
       "text": [
        " 54 over 100\n",
        "Point"
       ]
      },
      {
       "output_type": "stream",
       "stream": "stdout",
       "text": [
        " 55 over 100\n",
        "Point"
       ]
      },
      {
       "output_type": "stream",
       "stream": "stdout",
       "text": [
        " 56 over 100\n",
        "Point"
       ]
      },
      {
       "output_type": "stream",
       "stream": "stdout",
       "text": [
        " 57 over 100\n",
        "Point"
       ]
      },
      {
       "output_type": "stream",
       "stream": "stdout",
       "text": [
        " 58 over 100\n",
        "Point"
       ]
      },
      {
       "output_type": "stream",
       "stream": "stdout",
       "text": [
        " 59 over 100\n",
        "Point"
       ]
      },
      {
       "output_type": "stream",
       "stream": "stdout",
       "text": [
        " 60 over 100\n",
        "Point"
       ]
      },
      {
       "output_type": "stream",
       "stream": "stdout",
       "text": [
        " 61 over 100\n",
        "Point"
       ]
      },
      {
       "output_type": "stream",
       "stream": "stdout",
       "text": [
        " 62 over 100\n",
        "Point"
       ]
      },
      {
       "output_type": "stream",
       "stream": "stdout",
       "text": [
        " 63 over 100\n",
        "Point"
       ]
      },
      {
       "output_type": "stream",
       "stream": "stdout",
       "text": [
        " 64 over 100\n",
        "Point"
       ]
      },
      {
       "output_type": "stream",
       "stream": "stdout",
       "text": [
        " 65 over 100\n",
        "Point"
       ]
      },
      {
       "output_type": "stream",
       "stream": "stdout",
       "text": [
        " 66 over 100\n",
        "Point"
       ]
      },
      {
       "output_type": "stream",
       "stream": "stdout",
       "text": [
        " 67 over 100\n",
        "Point"
       ]
      },
      {
       "output_type": "stream",
       "stream": "stdout",
       "text": [
        " 68 over 100\n",
        "Point"
       ]
      },
      {
       "output_type": "stream",
       "stream": "stdout",
       "text": [
        " 69 over 100\n",
        "Point"
       ]
      },
      {
       "output_type": "stream",
       "stream": "stdout",
       "text": [
        " 70 over 100\n",
        "Point"
       ]
      },
      {
       "output_type": "stream",
       "stream": "stdout",
       "text": [
        " 71 over 100\n",
        "Point"
       ]
      },
      {
       "output_type": "stream",
       "stream": "stdout",
       "text": [
        " 72 over 100\n",
        "Point"
       ]
      },
      {
       "output_type": "stream",
       "stream": "stdout",
       "text": [
        " 73 over 100\n",
        "Point"
       ]
      },
      {
       "output_type": "stream",
       "stream": "stdout",
       "text": [
        " 74 over 100\n",
        "Point"
       ]
      },
      {
       "output_type": "stream",
       "stream": "stdout",
       "text": [
        " 75 over 100\n",
        "Point"
       ]
      },
      {
       "output_type": "stream",
       "stream": "stdout",
       "text": [
        " 76 over 100\n",
        "Point"
       ]
      },
      {
       "output_type": "stream",
       "stream": "stdout",
       "text": [
        " 77 over 100\n",
        "Point"
       ]
      },
      {
       "output_type": "stream",
       "stream": "stdout",
       "text": [
        " 78 over 100\n",
        "Point"
       ]
      },
      {
       "output_type": "stream",
       "stream": "stdout",
       "text": [
        " 79 over 100\n",
        "Point"
       ]
      },
      {
       "output_type": "stream",
       "stream": "stdout",
       "text": [
        " 80 over 100\n",
        "Point"
       ]
      },
      {
       "output_type": "stream",
       "stream": "stdout",
       "text": [
        " 81 over 100\n",
        "Point"
       ]
      },
      {
       "output_type": "stream",
       "stream": "stdout",
       "text": [
        " 82 over 100\n",
        "Point"
       ]
      },
      {
       "output_type": "stream",
       "stream": "stdout",
       "text": [
        " 83 over 100\n",
        "Point"
       ]
      },
      {
       "output_type": "stream",
       "stream": "stdout",
       "text": [
        " 84 over 100\n",
        "Point"
       ]
      },
      {
       "output_type": "stream",
       "stream": "stdout",
       "text": [
        " 85 over 100\n",
        "Point"
       ]
      },
      {
       "output_type": "stream",
       "stream": "stdout",
       "text": [
        " 86 over 100\n",
        "Point"
       ]
      },
      {
       "output_type": "stream",
       "stream": "stdout",
       "text": [
        " 87 over 100\n",
        "Point"
       ]
      },
      {
       "output_type": "stream",
       "stream": "stdout",
       "text": [
        " 88 over 100\n",
        "Point"
       ]
      },
      {
       "output_type": "stream",
       "stream": "stdout",
       "text": [
        " 89 over 100\n",
        "Point"
       ]
      },
      {
       "output_type": "stream",
       "stream": "stdout",
       "text": [
        " 90 over 100\n",
        "Point"
       ]
      },
      {
       "output_type": "stream",
       "stream": "stdout",
       "text": [
        " 91 over 100\n",
        "Point"
       ]
      },
      {
       "output_type": "stream",
       "stream": "stdout",
       "text": [
        " 92 over 100\n",
        "Point"
       ]
      },
      {
       "output_type": "stream",
       "stream": "stdout",
       "text": [
        " 93 over 100\n",
        "Point"
       ]
      },
      {
       "output_type": "stream",
       "stream": "stdout",
       "text": [
        " 94 over 100\n",
        "Point"
       ]
      },
      {
       "output_type": "stream",
       "stream": "stdout",
       "text": [
        " 95 over 100\n",
        "Point"
       ]
      },
      {
       "output_type": "stream",
       "stream": "stdout",
       "text": [
        " 96 over 100\n",
        "Point"
       ]
      },
      {
       "output_type": "stream",
       "stream": "stdout",
       "text": [
        " 97 over 100\n",
        "Point"
       ]
      },
      {
       "output_type": "stream",
       "stream": "stdout",
       "text": [
        " 98 over 100\n",
        "Point"
       ]
      },
      {
       "output_type": "stream",
       "stream": "stdout",
       "text": [
        " 99 over 100\n",
        "Point"
       ]
      },
      {
       "output_type": "stream",
       "stream": "stdout",
       "text": [
        " 100 over 100\n"
       ]
      }
     ],
     "prompt_number": 15
    },
    {
     "cell_type": "code",
     "collapsed": false,
     "input": [
      "t, r = compute_transformation(np.array(mat_robot), np.array(mat_opt))\n",
      "m = np.zeros([4,4])\n",
      "m[0:3, 0:3] = r\n",
      "m[3, 3] = 1\n",
      "calibration_matrix = [t.tolist(), tf.transformations.quaternion_from_matrix(m).tolist()]\n",
      "rospy.set_param(\"/optitrack/calibration_matrix\", calibration_matrix)\n",
      "rospy.loginfo(\"Optitrack calibration finished with {} points\".format(num_points))"
     ],
     "language": "python",
     "metadata": {},
     "outputs": [
      {
       "output_type": "stream",
       "stream": "stdout",
       "text": [
        "[INFO] [WallTime: 1438872568.173420] Optitrack calibration finished with 100 points\n"
       ]
      }
     ],
     "prompt_number": 16
    },
    {
     "cell_type": "code",
     "collapsed": false,
     "input": [
      "with open(rospack.get_path(\"optitrack_publisher\")+\"/config/calibration_matrix.yaml\", 'w') as f:\n",
      "    yaml.dump(calibration_matrix, f)"
     ],
     "language": "python",
     "metadata": {},
     "outputs": [],
     "prompt_number": 34
    },
    {
     "cell_type": "code",
     "collapsed": false,
     "input": [],
     "language": "python",
     "metadata": {},
     "outputs": []
    }
   ],
   "metadata": {}
  }
 ]
}