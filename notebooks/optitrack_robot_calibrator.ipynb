{
 "metadata": {
  "name": ""
 },
 "nbformat": 3,
 "nbformat_minor": 0,
 "worksheets": [
  {
   "cells": [
    {
     "cell_type": "code",
     "collapsed": false,
     "input": [
      "import rospy, baxter_interface, baxter_commander, tf, actionlib, numpy as np, transformations, json, rospkg, yaml\n",
      "import matplotlib.pyplot as plt\n",
      "from random import uniform\n",
      "from mpl_toolkits.mplot3d import Axes3D\n",
      "from copy import deepcopy\n",
      "from os import system"
     ],
     "language": "python",
     "metadata": {},
     "outputs": [],
     "prompt_number": 1
    },
    {
     "cell_type": "code",
     "collapsed": false,
     "input": [
      "from geometry_msgs.msg import PoseStamped\n",
      "from control_msgs.msg import FollowJointTrajectoryGoal, FollowJointTrajectoryAction\n",
      "from actionlib_msgs.msg import GoalStatus"
     ],
     "language": "python",
     "metadata": {},
     "outputs": [],
     "prompt_number": 2
    },
    {
     "cell_type": "code",
     "collapsed": false,
     "input": [
      "from scipy import *\n",
      "from scipy.optimize import leastsq"
     ],
     "language": "python",
     "metadata": {},
     "outputs": [],
     "prompt_number": 3
    },
    {
     "cell_type": "code",
     "collapsed": false,
     "input": [
      "%matplotlib"
     ],
     "language": "python",
     "metadata": {},
     "outputs": [
      {
       "output_type": "stream",
       "stream": "stdout",
       "text": [
        "Using matplotlib backend: TkAgg\n"
       ]
      }
     ],
     "prompt_number": 4
    },
    {
     "cell_type": "code",
     "collapsed": false,
     "input": [
      "def compute_transformation(data_r1, data_r2):\n",
      "    \"\"\"\n",
      "    Computes the transformation between two frames thanks to a set of points with respect to both frames\n",
      "    :param data_r1: numpy arrays of calibration points (position only) in the first frame\n",
      "    :param data_r2: numpy arrays of calibration points (position only) in the second frame\n",
      "    :return: the (x, y, z) translation and the 3x3 rotation matrix from the frame of R1 to R2\n",
      "    \"\"\"\n",
      "    data_r1_centered = data_r1 - np.mean(data_r1, axis=0)\n",
      "    data_r2_centered = data_r2 - np.mean(data_r2, axis=0)\n",
      "\n",
      "    # Compute translation and rotation based on http://en.wikipedia.org/wiki/Orthogonal_Procrustes_problem\n",
      "    m = np.dot(np.transpose(data_r1_centered), data_r2_centered)\n",
      "    u, sigma, v = np.linalg.svd(m)\n",
      "    computed_rot = np.dot(u, np.transpose(v))\n",
      "    computed_rot = np.dot(u, v)\n",
      "\n",
      "    computed_trans =  np.mean(data_r1, axis=0) - np.dot(np.mean(data_r2, axis=0), np.linalg.inv(computed_rot))\n",
      "\n",
      "    return computed_trans, computed_rot"
     ],
     "language": "python",
     "metadata": {},
     "outputs": [],
     "prompt_number": 5
    },
    {
     "cell_type": "code",
     "collapsed": false,
     "input": [
      "rospy.init_node('calibrator')"
     ],
     "language": "python",
     "metadata": {},
     "outputs": [],
     "prompt_number": 6
    },
    {
     "cell_type": "code",
     "collapsed": false,
     "input": [
      "rospack = rospkg.RosPack()"
     ],
     "language": "python",
     "metadata": {},
     "outputs": [],
     "prompt_number": 7
    },
    {
     "cell_type": "code",
     "collapsed": false,
     "input": [
      "tfl = tf.TransformListener(True, rospy.Duration(100))"
     ],
     "language": "python",
     "metadata": {},
     "outputs": [],
     "prompt_number": 8
    },
    {
     "cell_type": "code",
     "collapsed": false,
     "input": [
      "commander = baxter_commander.ArmCommander('right', kinematics='robot')"
     ],
     "language": "python",
     "metadata": {},
     "outputs": [
      {
       "output_type": "stream",
       "stream": "stdout",
       "text": [
        "[INFO] [WallTime: 1439925241.477585] ArmCommander(right): Waiting for action server /robot/limb/right/follow_joint_trajectory...\n"
       ]
      }
     ],
     "prompt_number": 9
    },
    {
     "cell_type": "code",
     "collapsed": false,
     "input": [
      "def rand_angle():\n",
      "    return random.uniform(-3.14159268, 3.14159268)"
     ],
     "language": "python",
     "metadata": {},
     "outputs": [],
     "prompt_number": 10
    },
    {
     "cell_type": "code",
     "collapsed": false,
     "input": [
      "def pick_random_pose(point, commander):\n",
      "    ik = None\n",
      "    while ik is None:\n",
      "        quaternion = tf.transformations.quaternion_from_euler(rand_angle(), rand_angle(), rand_angle())\n",
      "        ik = commander.get_ik([point, quaternion])\n",
      "    return ik"
     ],
     "language": "python",
     "metadata": {},
     "outputs": [],
     "prompt_number": 11
    },
    {
     "cell_type": "code",
     "collapsed": false,
     "input": [
      "start_pose = commander.endpoint_pose()"
     ],
     "language": "python",
     "metadata": {},
     "outputs": [],
     "prompt_number": 12
    },
    {
     "cell_type": "code",
     "collapsed": true,
     "input": [
      "opt_pose_list = []\n",
      "num_points = 150\n",
      "max_error_opt = 0.01\n",
      "old_pose_g_curr = None\n",
      "for i in range(num_points):\n",
      "    print \"Point\", i+1, \"over\", num_points\n",
      "    while True:\n",
      "        commander.move_to_controlled(pick_random_pose(start_pose[0], commander))\n",
      "        rospy.sleep(4)\n",
      "        \n",
      "        ##### COMMAND ERROR MEASUREMENT\n",
      "        cmd_error = transformations.distance(start_pose[0], commander.endpoint_pose()[0])\n",
      "        if cmd_error>max_error_opt:\n",
      "            print \"Too high command error:\", cmd_error\n",
      "            continue\n",
      "        print \"Command error:\", cmd_error\n",
      "        \n",
      "        ##### OPTITRACK MARKER SEARCHING\n",
      "        try:\n",
      "            lct = tfl.getLatestCommonTime('base', '/robot/calibrator')\n",
      "        except:\n",
      "            print \"Extrapolation exception on calibration marker\"\n",
      "            continue\n",
      "\n",
      "        if rospy.Time.now() - lct > rospy.Duration(0.5):\n",
      "            print \"No recent optitrack view of the marker\"\n",
      "            continue\n",
      "        \n",
      "        ##### STABLE MARKER CHECKING\n",
      "        t_start = rospy.Time.now()\n",
      "        opt_gripper = tfl.lookupTransform('optitrack_frame', '/robot/calibrator', lct)\n",
      "        ok = True\n",
      "        while rospy.Time.now() - t_start < rospy.Duration(1):\n",
      "            rospy.sleep(0.1)\n",
      "            opt_error = transformations.distance(tfl.lookupTransform('optitrack_frame', '/robot/calibrator', rospy.Time(0)), opt_gripper)\n",
      "            if opt_error>max_error_opt:\n",
      "                ok = False\n",
      "                print \"Too high optitrack error:\", opt_error\n",
      "                break\n",
      "        print \"Optitrack error:\", opt_error\n",
      "        \n",
      "        if not ok:\n",
      "            print \"Not stable\"\n",
      "            continue\n",
      "        \n",
      "        opt_pose_list.append(opt_gripper)\n",
      "        \n",
      "        break # This point has an IK solution and has an optitrack view"
     ],
     "language": "python",
     "metadata": {},
     "outputs": [
      {
       "output_type": "stream",
       "stream": "stdout",
       "text": [
        "Point 1 over 150\n",
        "Command error:"
       ]
      },
      {
       "output_type": "stream",
       "stream": "stdout",
       "text": [
        " 0.000760583253542\n",
        "Optitrack error:"
       ]
      },
      {
       "output_type": "stream",
       "stream": "stdout",
       "text": [
        " 0.000259959107382\n",
        "Point 2 over 150\n",
        "Command error:"
       ]
      },
      {
       "output_type": "stream",
       "stream": "stdout",
       "text": [
        " 0.00132585921223\n",
        "Optitrack error:"
       ]
      },
      {
       "output_type": "stream",
       "stream": "stdout",
       "text": [
        " 0.000593686320329\n",
        "Point 3 over 150\n",
        "Command error:"
       ]
      },
      {
       "output_type": "stream",
       "stream": "stdout",
       "text": [
        " 0.000438951581115\n",
        "Optitrack error:"
       ]
      },
      {
       "output_type": "stream",
       "stream": "stdout",
       "text": [
        " 0.000891830666472\n",
        "Point 4 over 150\n",
        "Command error:"
       ]
      },
      {
       "output_type": "stream",
       "stream": "stdout",
       "text": [
        " 0.00190385410675\n",
        "Optitrack error:"
       ]
      },
      {
       "output_type": "stream",
       "stream": "stdout",
       "text": [
        " 0.000314450677059\n",
        "Point 5 over 150\n",
        "Command error:"
       ]
      },
      {
       "output_type": "stream",
       "stream": "stdout",
       "text": [
        " 0.00203798083206\n",
        "Optitrack error:"
       ]
      },
      {
       "output_type": "stream",
       "stream": "stdout",
       "text": [
        " 0.00153475656197\n",
        "Point 6 over 150\n",
        "Command error:"
       ]
      },
      {
       "output_type": "stream",
       "stream": "stdout",
       "text": [
        " 0.00110261416648\n",
        "No recent optitrack view of the marker\n",
        "Command error:"
       ]
      },
      {
       "output_type": "stream",
       "stream": "stdout",
       "text": [
        " 0.00145676251969\n",
        "Optitrack error:"
       ]
      },
      {
       "output_type": "stream",
       "stream": "stdout",
       "text": [
        " 0.000352771013703\n",
        "Point 7 over 150\n",
        "Command error:"
       ]
      },
      {
       "output_type": "stream",
       "stream": "stdout",
       "text": [
        " 0.00134388934717\n",
        "Optitrack error:"
       ]
      },
      {
       "output_type": "stream",
       "stream": "stdout",
       "text": [
        " 0.00279281799923\n",
        "Point 8 over 150\n",
        "Command error:"
       ]
      },
      {
       "output_type": "stream",
       "stream": "stdout",
       "text": [
        " 0.0011351339572\n",
        "Optitrack error:"
       ]
      },
      {
       "output_type": "stream",
       "stream": "stdout",
       "text": [
        " 0.000397054842606\n",
        "Point 9 over 150\n",
        "Command error:"
       ]
      },
      {
       "output_type": "stream",
       "stream": "stdout",
       "text": [
        " 0.0030815732708\n",
        "Optitrack error:"
       ]
      },
      {
       "output_type": "stream",
       "stream": "stdout",
       "text": [
        " 0.00030238443496\n",
        "Point 10 over 150\n",
        "Command error:"
       ]
      },
      {
       "output_type": "stream",
       "stream": "stdout",
       "text": [
        " 0.000823270048946\n",
        "Optitrack error:"
       ]
      },
      {
       "output_type": "stream",
       "stream": "stdout",
       "text": [
        " 0.000352445615013\n",
        "Point 11 over 150\n",
        "Command error:"
       ]
      },
      {
       "output_type": "stream",
       "stream": "stdout",
       "text": [
        " 0.00157612368246\n",
        "Optitrack error:"
       ]
      },
      {
       "output_type": "stream",
       "stream": "stdout",
       "text": [
        " 0.000501857412828\n",
        "Point 12 over 150\n",
        "Command error:"
       ]
      },
      {
       "output_type": "stream",
       "stream": "stdout",
       "text": [
        " 0.000989299244075\n",
        "Too high optitrack error:"
       ]
      },
      {
       "output_type": "stream",
       "stream": "stdout",
       "text": [
        " 0.0120973998236\n",
        "Optitrack error: 0.0120973998236\n",
        "Not stable\n",
        "Command error:"
       ]
      },
      {
       "output_type": "stream",
       "stream": "stdout",
       "text": [
        " 0.00162864548491\n",
        "Optitrack error:"
       ]
      },
      {
       "output_type": "stream",
       "stream": "stdout",
       "text": [
        " 0.00247986986793\n",
        "Point 13 over 150\n",
        "Command error:"
       ]
      },
      {
       "output_type": "stream",
       "stream": "stdout",
       "text": [
        " 0.00123851462678\n",
        "Optitrack error:"
       ]
      },
      {
       "output_type": "stream",
       "stream": "stdout",
       "text": [
        " 0.00144789032289\n",
        "Point 14 over 150\n",
        "Command error:"
       ]
      },
      {
       "output_type": "stream",
       "stream": "stdout",
       "text": [
        " 0.00278363400296\n",
        "Optitrack error:"
       ]
      },
      {
       "output_type": "stream",
       "stream": "stdout",
       "text": [
        " 0.000594665474541\n",
        "Point 15 over 150\n",
        "Command error:"
       ]
      },
      {
       "output_type": "stream",
       "stream": "stdout",
       "text": [
        " 0.00104437633704\n",
        "Optitrack error:"
       ]
      },
      {
       "output_type": "stream",
       "stream": "stdout",
       "text": [
        " 0.000554770618613\n",
        "Point 16 over 150\n",
        "Command error:"
       ]
      },
      {
       "output_type": "stream",
       "stream": "stdout",
       "text": [
        " 0.00185856415145\n",
        "Optitrack error:"
       ]
      },
      {
       "output_type": "stream",
       "stream": "stdout",
       "text": [
        " 0.000783566472883\n",
        "Point 17 over 150\n",
        "Command error:"
       ]
      },
      {
       "output_type": "stream",
       "stream": "stdout",
       "text": [
        " 0.000278752653323\n",
        "Optitrack error:"
       ]
      },
      {
       "output_type": "stream",
       "stream": "stdout",
       "text": [
        " 0.000147013749377\n",
        "Point 18 over 150\n",
        "Command error:"
       ]
      },
      {
       "output_type": "stream",
       "stream": "stdout",
       "text": [
        " 0.00201245182092\n",
        "No recent optitrack view of the marker\n",
        "Command error:"
       ]
      },
      {
       "output_type": "stream",
       "stream": "stdout",
       "text": [
        " 0.00231336274224\n",
        "Optitrack error:"
       ]
      },
      {
       "output_type": "stream",
       "stream": "stdout",
       "text": [
        " 9.1264506206e-05\n",
        "Point 19 over 150\n",
        "Command error:"
       ]
      },
      {
       "output_type": "stream",
       "stream": "stdout",
       "text": [
        " 0.00200622470558\n",
        "Optitrack error:"
       ]
      },
      {
       "output_type": "stream",
       "stream": "stdout",
       "text": [
        " 0.00117450122907\n",
        "Point 20 over 150\n",
        "Command error:"
       ]
      },
      {
       "output_type": "stream",
       "stream": "stdout",
       "text": [
        " 0.00311047726435\n",
        "Optitrack error:"
       ]
      },
      {
       "output_type": "stream",
       "stream": "stdout",
       "text": [
        " 0.000986693215487\n",
        "Point 21 over 150\n",
        "Command error:"
       ]
      },
      {
       "output_type": "stream",
       "stream": "stdout",
       "text": [
        " 0.00381049703119\n",
        "Optitrack error:"
       ]
      },
      {
       "output_type": "stream",
       "stream": "stdout",
       "text": [
        " 0.00175441494481\n",
        "Point 22 over 150\n",
        "Command error:"
       ]
      },
      {
       "output_type": "stream",
       "stream": "stdout",
       "text": [
        " 0.00124468407034\n",
        "Optitrack error:"
       ]
      },
      {
       "output_type": "stream",
       "stream": "stdout",
       "text": [
        " 0.000184796613226\n",
        "Point 23 over 150\n",
        "Command error:"
       ]
      },
      {
       "output_type": "stream",
       "stream": "stdout",
       "text": [
        " 0.00210653284954\n",
        "No recent optitrack view of the marker\n",
        "Command error:"
       ]
      },
      {
       "output_type": "stream",
       "stream": "stdout",
       "text": [
        " 0.00130470907493\n",
        "No recent optitrack view of the marker\n",
        "Command error:"
       ]
      },
      {
       "output_type": "stream",
       "stream": "stdout",
       "text": [
        " 0.00220043946583\n",
        "Optitrack error:"
       ]
      },
      {
       "output_type": "stream",
       "stream": "stdout",
       "text": [
        " 0.00116475563288\n",
        "Point 24 over 150\n",
        "Command error:"
       ]
      },
      {
       "output_type": "stream",
       "stream": "stdout",
       "text": [
        " 0.000693578010053\n",
        "Optitrack error:"
       ]
      },
      {
       "output_type": "stream",
       "stream": "stdout",
       "text": [
        " 0.000367324950949\n",
        "Point 25 over 150\n",
        "Command error:"
       ]
      },
      {
       "output_type": "stream",
       "stream": "stdout",
       "text": [
        " 0.00335846993627\n",
        "Optitrack error:"
       ]
      },
      {
       "output_type": "stream",
       "stream": "stdout",
       "text": [
        " 0.00218760081331\n",
        "Point 26 over 150\n",
        "Command error:"
       ]
      },
      {
       "output_type": "stream",
       "stream": "stdout",
       "text": [
        " 0.00299261926449\n",
        "Optitrack error:"
       ]
      },
      {
       "output_type": "stream",
       "stream": "stdout",
       "text": [
        " 0.000685180669982\n",
        "Point 27 over 150\n",
        "Command error:"
       ]
      },
      {
       "output_type": "stream",
       "stream": "stdout",
       "text": [
        " 0.000390942088101\n",
        "Optitrack error:"
       ]
      },
      {
       "output_type": "stream",
       "stream": "stdout",
       "text": [
        " 0.000988373443329\n",
        "Point 28 over 150\n",
        "Command error:"
       ]
      },
      {
       "output_type": "stream",
       "stream": "stdout",
       "text": [
        " 0.0038259502697\n",
        "Optitrack error:"
       ]
      },
      {
       "output_type": "stream",
       "stream": "stdout",
       "text": [
        " 0.000864277909785\n",
        "Point 29 over 150\n",
        "Command error:"
       ]
      },
      {
       "output_type": "stream",
       "stream": "stdout",
       "text": [
        " 0.00181960233592\n",
        "Optitrack error:"
       ]
      },
      {
       "output_type": "stream",
       "stream": "stdout",
       "text": [
        " 0.000190649860621\n",
        "Point 30 over 150\n",
        "Command error:"
       ]
      },
      {
       "output_type": "stream",
       "stream": "stdout",
       "text": [
        " 0.00133174501787\n",
        "Optitrack error:"
       ]
      },
      {
       "output_type": "stream",
       "stream": "stdout",
       "text": [
        " 0.00294347989346\n",
        "Point 31 over 150\n",
        "Command error:"
       ]
      },
      {
       "output_type": "stream",
       "stream": "stdout",
       "text": [
        " 0.00102619496895\n",
        "Optitrack error:"
       ]
      },
      {
       "output_type": "stream",
       "stream": "stdout",
       "text": [
        " 0.000271737169771\n",
        "Point 32 over 150\n",
        "Command error:"
       ]
      },
      {
       "output_type": "stream",
       "stream": "stdout",
       "text": [
        " 0.00259235833365\n",
        "Optitrack error:"
       ]
      },
      {
       "output_type": "stream",
       "stream": "stdout",
       "text": [
        " 0.00265198053396\n",
        "Point 33 over 150\n",
        "Command error:"
       ]
      },
      {
       "output_type": "stream",
       "stream": "stdout",
       "text": [
        " 0.0015193550292\n",
        "Optitrack error:"
       ]
      },
      {
       "output_type": "stream",
       "stream": "stdout",
       "text": [
        " 0.000425355075329\n",
        "Point 34 over 150\n",
        "Command error:"
       ]
      },
      {
       "output_type": "stream",
       "stream": "stdout",
       "text": [
        " 0.00115673086924\n",
        "Optitrack error:"
       ]
      },
      {
       "output_type": "stream",
       "stream": "stdout",
       "text": [
        " 0.000412370557279\n",
        "Point 35 over 150\n",
        "Command error:"
       ]
      },
      {
       "output_type": "stream",
       "stream": "stdout",
       "text": [
        " 0.000307054101139\n",
        "Optitrack error:"
       ]
      },
      {
       "output_type": "stream",
       "stream": "stdout",
       "text": [
        " 0.0012724764329\n",
        "Point 36 over 150\n",
        "Command error:"
       ]
      },
      {
       "output_type": "stream",
       "stream": "stdout",
       "text": [
        " 0.00168487320536\n",
        "Optitrack error:"
       ]
      },
      {
       "output_type": "stream",
       "stream": "stdout",
       "text": [
        " 0.000720773914881\n",
        "Point 37 over 150\n",
        "Command error:"
       ]
      },
      {
       "output_type": "stream",
       "stream": "stdout",
       "text": [
        " 0.00345627353326\n",
        "Optitrack error:"
       ]
      },
      {
       "output_type": "stream",
       "stream": "stdout",
       "text": [
        " 0.00195001361808\n",
        "Point 38 over 150\n",
        "Command error:"
       ]
      },
      {
       "output_type": "stream",
       "stream": "stdout",
       "text": [
        " 0.00153015253616\n",
        "Optitrack error:"
       ]
      },
      {
       "output_type": "stream",
       "stream": "stdout",
       "text": [
        " 0.00206256282492\n",
        "Point 39 over 150\n",
        "Command error:"
       ]
      },
      {
       "output_type": "stream",
       "stream": "stdout",
       "text": [
        " 0.00145298524594\n",
        "Optitrack error:"
       ]
      },
      {
       "output_type": "stream",
       "stream": "stdout",
       "text": [
        " 0.000617520114656\n",
        "Point 40 over 150\n",
        "Command error:"
       ]
      },
      {
       "output_type": "stream",
       "stream": "stdout",
       "text": [
        " 0.00315270944367\n",
        "Optitrack error:"
       ]
      },
      {
       "output_type": "stream",
       "stream": "stdout",
       "text": [
        " 0.000650589437812\n",
        "Point 41 over 150\n",
        "Command error:"
       ]
      },
      {
       "output_type": "stream",
       "stream": "stdout",
       "text": [
        " 0.00249486140903\n",
        "No recent optitrack view of the marker\n",
        "Command error:"
       ]
      },
      {
       "output_type": "stream",
       "stream": "stdout",
       "text": [
        " 0.00210678245717\n",
        "No recent optitrack view of the marker\n",
        "Command error:"
       ]
      },
      {
       "output_type": "stream",
       "stream": "stdout",
       "text": [
        " 0.00278244984206\n",
        "Optitrack error:"
       ]
      },
      {
       "output_type": "stream",
       "stream": "stdout",
       "text": [
        " 0.000643445666518\n",
        "Point 42 over 150\n",
        "Command error:"
       ]
      },
      {
       "output_type": "stream",
       "stream": "stdout",
       "text": [
        " 0.00343498623855\n",
        "Optitrack error:"
       ]
      },
      {
       "output_type": "stream",
       "stream": "stdout",
       "text": [
        " 0.00168060504689\n",
        "Point 43 over 150\n",
        "Command error:"
       ]
      },
      {
       "output_type": "stream",
       "stream": "stdout",
       "text": [
        " 0.00120372287682\n",
        "Optitrack error:"
       ]
      },
      {
       "output_type": "stream",
       "stream": "stdout",
       "text": [
        " 0.000809889189985\n",
        "Point 44 over 150\n",
        "Command error:"
       ]
      },
      {
       "output_type": "stream",
       "stream": "stdout",
       "text": [
        " 0.00196540920645\n",
        "Optitrack error:"
       ]
      },
      {
       "output_type": "stream",
       "stream": "stdout",
       "text": [
        " 0.000917366059804\n",
        "Point 45 over 150\n",
        "Command error:"
       ]
      },
      {
       "output_type": "stream",
       "stream": "stdout",
       "text": [
        " 0.00213389841857\n",
        "Optitrack error:"
       ]
      },
      {
       "output_type": "stream",
       "stream": "stdout",
       "text": [
        " 0.00185365336542\n",
        "Point 46 over 150\n",
        "Command error:"
       ]
      },
      {
       "output_type": "stream",
       "stream": "stdout",
       "text": [
        " 0.00211471460156\n",
        "No recent optitrack view of the marker\n",
        "Command error:"
       ]
      },
      {
       "output_type": "stream",
       "stream": "stdout",
       "text": [
        " 0.000513185272818\n",
        "No recent optitrack view of the marker\n",
        "Command error:"
       ]
      },
      {
       "output_type": "stream",
       "stream": "stdout",
       "text": [
        " 0.00211367092705\n",
        "No recent optitrack view of the marker\n",
        "Command error:"
       ]
      },
      {
       "output_type": "stream",
       "stream": "stdout",
       "text": [
        " 0.000445992550217\n",
        "Optitrack error:"
       ]
      },
      {
       "output_type": "stream",
       "stream": "stdout",
       "text": [
        " 0.000940169971954\n",
        "Point 47 over 150\n",
        "Command error:"
       ]
      },
      {
       "output_type": "stream",
       "stream": "stdout",
       "text": [
        " 0.00269246786226\n",
        "Optitrack error:"
       ]
      },
      {
       "output_type": "stream",
       "stream": "stdout",
       "text": [
        " 0.000663185365199\n",
        "Point 48 over 150\n",
        "Command error:"
       ]
      },
      {
       "output_type": "stream",
       "stream": "stdout",
       "text": [
        " 0.0033289652914\n",
        "No recent optitrack view of the marker\n",
        "Command error:"
       ]
      },
      {
       "output_type": "stream",
       "stream": "stdout",
       "text": [
        " 0.00183130059181\n",
        "No recent optitrack view of the marker\n",
        "Command error:"
       ]
      },
      {
       "output_type": "stream",
       "stream": "stdout",
       "text": [
        " 0.00270456562192\n",
        "Optitrack error:"
       ]
      },
      {
       "output_type": "stream",
       "stream": "stdout",
       "text": [
        " 0.00199158893802\n",
        "Point 49 over 150\n",
        "Command error:"
       ]
      },
      {
       "output_type": "stream",
       "stream": "stdout",
       "text": [
        " 0.00301333533612\n",
        "No recent optitrack view of the marker\n",
        "Command error:"
       ]
      },
      {
       "output_type": "stream",
       "stream": "stdout",
       "text": [
        " 0.00136558280824\n",
        "No recent optitrack view of the marker\n",
        "Command error:"
       ]
      },
      {
       "output_type": "stream",
       "stream": "stdout",
       "text": [
        " 0.00458212313321\n",
        "Optitrack error:"
       ]
      },
      {
       "output_type": "stream",
       "stream": "stdout",
       "text": [
        " 0.00283614196838\n",
        "Point 50 over 150\n",
        "Command error:"
       ]
      },
      {
       "output_type": "stream",
       "stream": "stdout",
       "text": [
        " 0.00177929597357\n",
        "No recent optitrack view of the marker\n",
        "Command error:"
       ]
      },
      {
       "output_type": "stream",
       "stream": "stdout",
       "text": [
        " 0.00253912029538\n",
        "Too high optitrack error:"
       ]
      },
      {
       "output_type": "stream",
       "stream": "stdout",
       "text": [
        " 0.0113121930613\n",
        "Optitrack error: 0.0113121930613\n",
        "Not stable\n",
        "Command error:"
       ]
      },
      {
       "output_type": "stream",
       "stream": "stdout",
       "text": [
        " 0.00705207417075\n",
        "Optitrack error:"
       ]
      },
      {
       "output_type": "stream",
       "stream": "stdout",
       "text": [
        " 0.000591383251536\n",
        "Point 51 over 150\n",
        "Command error:"
       ]
      },
      {
       "output_type": "stream",
       "stream": "stdout",
       "text": [
        " 0.00151536707045\n",
        "Optitrack error:"
       ]
      },
      {
       "output_type": "stream",
       "stream": "stdout",
       "text": [
        " 0.00124324630742\n",
        "Point 52 over 150\n",
        "Command error:"
       ]
      },
      {
       "output_type": "stream",
       "stream": "stdout",
       "text": [
        " 0.00198660794065\n",
        "Optitrack error:"
       ]
      },
      {
       "output_type": "stream",
       "stream": "stdout",
       "text": [
        " 0.000250132057992\n",
        "Point 53 over 150\n",
        "Command error:"
       ]
      },
      {
       "output_type": "stream",
       "stream": "stdout",
       "text": [
        " 0.00030604631485\n",
        "No recent optitrack view of the marker\n",
        "Command error:"
       ]
      },
      {
       "output_type": "stream",
       "stream": "stdout",
       "text": [
        " 0.00131299812231\n",
        "No recent optitrack view of the marker\n",
        "Command error:"
       ]
      },
      {
       "output_type": "stream",
       "stream": "stdout",
       "text": [
        " 0.0026868529685\n",
        "Optitrack error:"
       ]
      },
      {
       "output_type": "stream",
       "stream": "stdout",
       "text": [
        " 0.00101664352899\n",
        "Point 54 over 150\n",
        "Command error:"
       ]
      },
      {
       "output_type": "stream",
       "stream": "stdout",
       "text": [
        " 0.00102170106612\n",
        "No recent optitrack view of the marker\n",
        "Command error:"
       ]
      },
      {
       "output_type": "stream",
       "stream": "stdout",
       "text": [
        " 0.00181898713275\n",
        "Optitrack error:"
       ]
      },
      {
       "output_type": "stream",
       "stream": "stdout",
       "text": [
        " 0.000801616632421\n",
        "Point 55 over 150\n",
        "Command error:"
       ]
      },
      {
       "output_type": "stream",
       "stream": "stdout",
       "text": [
        " 0.00076732388377\n",
        "No recent optitrack view of the marker\n",
        "Command error:"
       ]
      },
      {
       "output_type": "stream",
       "stream": "stdout",
       "text": [
        " 0.00263315751252\n",
        "Too high optitrack error:"
       ]
      },
      {
       "output_type": "stream",
       "stream": "stdout",
       "text": [
        " 0.0105171447995\n",
        "Optitrack error: 0.0105171447995\n",
        "Not stable\n",
        "Command error:"
       ]
      },
      {
       "output_type": "stream",
       "stream": "stdout",
       "text": [
        " 0.00183021205872\n",
        "Optitrack error:"
       ]
      },
      {
       "output_type": "stream",
       "stream": "stdout",
       "text": [
        " 0.000525012476691\n",
        "Point 56 over 150\n",
        "Command error:"
       ]
      },
      {
       "output_type": "stream",
       "stream": "stdout",
       "text": [
        " 0.00170696628423\n",
        "Too high optitrack error:"
       ]
      },
      {
       "output_type": "stream",
       "stream": "stdout",
       "text": [
        " 0.0111137244353\n",
        "Optitrack error: 0.0111137244353\n",
        "Not stable\n",
        "Command error:"
       ]
      },
      {
       "output_type": "stream",
       "stream": "stdout",
       "text": [
        " 0.00320722260775\n",
        "Optitrack error:"
       ]
      },
      {
       "output_type": "stream",
       "stream": "stdout",
       "text": [
        " 0.00108055075267\n",
        "Point 57 over 150\n",
        "Command error:"
       ]
      },
      {
       "output_type": "stream",
       "stream": "stdout",
       "text": [
        " 0.00259211809983\n",
        "Too high optitrack error:"
       ]
      },
      {
       "output_type": "stream",
       "stream": "stdout",
       "text": [
        " 0.0111635361627\n",
        "Optitrack error: 0.0111635361627\n",
        "Not stable\n",
        "Command error:"
       ]
      },
      {
       "output_type": "stream",
       "stream": "stdout",
       "text": [
        " 0.00238741803608\n",
        "No recent optitrack view of the marker\n",
        "Command error:"
       ]
      },
      {
       "output_type": "stream",
       "stream": "stdout",
       "text": [
        " 0.00443051025936\n",
        "Optitrack error:"
       ]
      },
      {
       "output_type": "stream",
       "stream": "stdout",
       "text": [
        " 0.000507255833005\n",
        "Point 58 over 150\n",
        "Command error:"
       ]
      },
      {
       "output_type": "stream",
       "stream": "stdout",
       "text": [
        " 0.000955844357305\n",
        "No recent optitrack view of the marker\n",
        "Command error:"
       ]
      },
      {
       "output_type": "stream",
       "stream": "stdout",
       "text": [
        " 0.00106547958077\n",
        "Optitrack error:"
       ]
      },
      {
       "output_type": "stream",
       "stream": "stdout",
       "text": [
        " 0.000917793191335\n",
        "Point 59 over 150\n",
        "Command error:"
       ]
      },
      {
       "output_type": "stream",
       "stream": "stdout",
       "text": [
        " 0.00213186166845\n",
        "Optitrack error:"
       ]
      },
      {
       "output_type": "stream",
       "stream": "stdout",
       "text": [
        " 0.000432141635113\n",
        "Point 60 over 150\n",
        "Command error:"
       ]
      },
      {
       "output_type": "stream",
       "stream": "stdout",
       "text": [
        " 0.00250202944879\n",
        "Optitrack error:"
       ]
      },
      {
       "output_type": "stream",
       "stream": "stdout",
       "text": [
        " 0.00131049690512\n",
        "Point 61 over 150\n",
        "Command error:"
       ]
      },
      {
       "output_type": "stream",
       "stream": "stdout",
       "text": [
        " 0.00273001974967\n",
        "Too high optitrack error:"
       ]
      },
      {
       "output_type": "stream",
       "stream": "stdout",
       "text": [
        " 0.0123201144813\n",
        "Optitrack error: 0.0123201144813\n",
        "Not stable\n",
        "Command error:"
       ]
      },
      {
       "output_type": "stream",
       "stream": "stdout",
       "text": [
        " 0.00523756762656\n",
        "No recent optitrack view of the marker\n",
        "Command error:"
       ]
      },
      {
       "output_type": "stream",
       "stream": "stdout",
       "text": [
        " 0.0025256387438\n",
        "Optitrack error:"
       ]
      },
      {
       "output_type": "stream",
       "stream": "stdout",
       "text": [
        " 0.00115368387156\n",
        "Point 62 over 150\n",
        "Command error:"
       ]
      },
      {
       "output_type": "stream",
       "stream": "stdout",
       "text": [
        " 0.00236999380112\n",
        "Optitrack error:"
       ]
      },
      {
       "output_type": "stream",
       "stream": "stdout",
       "text": [
        " 0.000855820495757\n",
        "Point 63 over 150\n",
        "Command error:"
       ]
      },
      {
       "output_type": "stream",
       "stream": "stdout",
       "text": [
        " 0.000254890956134\n",
        "Optitrack error:"
       ]
      },
      {
       "output_type": "stream",
       "stream": "stdout",
       "text": [
        " 0.000172094177504\n",
        "Point 64 over 150\n",
        "Command error:"
       ]
      },
      {
       "output_type": "stream",
       "stream": "stdout",
       "text": [
        " 0.00125034215377\n",
        "Optitrack error:"
       ]
      },
      {
       "output_type": "stream",
       "stream": "stdout",
       "text": [
        " 0.00111336548556\n",
        "Point 65 over 150\n",
        "Command error:"
       ]
      },
      {
       "output_type": "stream",
       "stream": "stdout",
       "text": [
        " 0.00289048868078\n",
        "Optitrack error:"
       ]
      },
      {
       "output_type": "stream",
       "stream": "stdout",
       "text": [
        " 0.00228134300423\n",
        "Point 66 over 150\n",
        "Command error:"
       ]
      },
      {
       "output_type": "stream",
       "stream": "stdout",
       "text": [
        " 0.00193057347648\n",
        "Optitrack error:"
       ]
      },
      {
       "output_type": "stream",
       "stream": "stdout",
       "text": [
        " 0.000686460587394\n",
        "Point 67 over 150\n",
        "Command error:"
       ]
      },
      {
       "output_type": "stream",
       "stream": "stdout",
       "text": [
        " 0.00247779917883\n",
        "Optitrack error:"
       ]
      },
      {
       "output_type": "stream",
       "stream": "stdout",
       "text": [
        " 0.00201355209803\n",
        "Point 68 over 150\n",
        "Command error:"
       ]
      },
      {
       "output_type": "stream",
       "stream": "stdout",
       "text": [
        " 0.0016493291464\n",
        "Optitrack error:"
       ]
      },
      {
       "output_type": "stream",
       "stream": "stdout",
       "text": [
        " 0.00147629773566\n",
        "Point 69 over 150\n",
        "Command error:"
       ]
      },
      {
       "output_type": "stream",
       "stream": "stdout",
       "text": [
        " 0.00447942199521\n",
        "Optitrack error:"
       ]
      },
      {
       "output_type": "stream",
       "stream": "stdout",
       "text": [
        " 0.00219310201881\n",
        "Point 70 over 150\n",
        "Command error:"
       ]
      },
      {
       "output_type": "stream",
       "stream": "stdout",
       "text": [
        " 0.000966534280541\n",
        "Optitrack error:"
       ]
      },
      {
       "output_type": "stream",
       "stream": "stdout",
       "text": [
        " 0.00221129528536\n",
        "Point 71 over 150\n",
        "Command error:"
       ]
      },
      {
       "output_type": "stream",
       "stream": "stdout",
       "text": [
        " 0.00293131988864\n",
        "Optitrack error:"
       ]
      },
      {
       "output_type": "stream",
       "stream": "stdout",
       "text": [
        " 0.00120222204104\n",
        "Point 72 over 150\n",
        "Command error:"
       ]
      },
      {
       "output_type": "stream",
       "stream": "stdout",
       "text": [
        " 0.00158615963338\n",
        "Optitrack error:"
       ]
      },
      {
       "output_type": "stream",
       "stream": "stdout",
       "text": [
        " 0.000653229843949\n",
        "Point 73 over 150\n",
        "Command error:"
       ]
      },
      {
       "output_type": "stream",
       "stream": "stdout",
       "text": [
        " 0.00115357566543\n",
        "No recent optitrack view of the marker\n",
        "Command error:"
       ]
      },
      {
       "output_type": "stream",
       "stream": "stdout",
       "text": [
        " 0.00375681915735\n",
        "No recent optitrack view of the marker\n",
        "Command error:"
       ]
      },
      {
       "output_type": "stream",
       "stream": "stdout",
       "text": [
        " 0.00172477800264\n",
        "Optitrack error:"
       ]
      },
      {
       "output_type": "stream",
       "stream": "stdout",
       "text": [
        " 0.00108669896111\n",
        "Point 74 over 150\n",
        "Command error:"
       ]
      },
      {
       "output_type": "stream",
       "stream": "stdout",
       "text": [
        " 0.00259629164953\n",
        "Optitrack error:"
       ]
      },
      {
       "output_type": "stream",
       "stream": "stdout",
       "text": [
        " 0.00266804648177\n",
        "Point 75 over 150\n",
        "Command error:"
       ]
      },
      {
       "output_type": "stream",
       "stream": "stdout",
       "text": [
        " 0.00189611567096\n",
        "Optitrack error:"
       ]
      },
      {
       "output_type": "stream",
       "stream": "stdout",
       "text": [
        " 0.00182522146584\n",
        "Point 76 over 150\n",
        "Command error:"
       ]
      },
      {
       "output_type": "stream",
       "stream": "stdout",
       "text": [
        " 0.00246123668141\n",
        "No recent optitrack view of the marker\n",
        "Command error:"
       ]
      },
      {
       "output_type": "stream",
       "stream": "stdout",
       "text": [
        " 0.0039137961675\n",
        "Optitrack error:"
       ]
      },
      {
       "output_type": "stream",
       "stream": "stdout",
       "text": [
        " 0.000513313950071\n",
        "Point 77 over 150\n",
        "Command error:"
       ]
      },
      {
       "output_type": "stream",
       "stream": "stdout",
       "text": [
        " 0.00270515935698\n",
        "Optitrack error:"
       ]
      },
      {
       "output_type": "stream",
       "stream": "stdout",
       "text": [
        " 0.000869474342616\n",
        "Point 78 over 150\n",
        "Command error:"
       ]
      },
      {
       "output_type": "stream",
       "stream": "stdout",
       "text": [
        " 0.000314921524737\n",
        "Optitrack error:"
       ]
      },
      {
       "output_type": "stream",
       "stream": "stdout",
       "text": [
        " 0.000434390981461\n",
        "Point 79 over 150\n",
        "Command error:"
       ]
      },
      {
       "output_type": "stream",
       "stream": "stdout",
       "text": [
        " 0.00109197138629\n",
        "Optitrack error:"
       ]
      },
      {
       "output_type": "stream",
       "stream": "stdout",
       "text": [
        " 0.000315875673031\n",
        "Point 80 over 150\n",
        "Command error:"
       ]
      },
      {
       "output_type": "stream",
       "stream": "stdout",
       "text": [
        " 0.000229670915816\n",
        "Optitrack error:"
       ]
      },
      {
       "output_type": "stream",
       "stream": "stdout",
       "text": [
        " 0.000236069679632\n",
        "Point 81 over 150\n",
        "Command error:"
       ]
      },
      {
       "output_type": "stream",
       "stream": "stdout",
       "text": [
        " 0.000790416126061\n",
        "Optitrack error:"
       ]
      },
      {
       "output_type": "stream",
       "stream": "stdout",
       "text": [
        " 0.00076632501871\n",
        "Point 82 over 150\n",
        "Command error:"
       ]
      },
      {
       "output_type": "stream",
       "stream": "stdout",
       "text": [
        " 0.000933667700838\n",
        "No recent optitrack view of the marker\n",
        "Command error:"
       ]
      },
      {
       "output_type": "stream",
       "stream": "stdout",
       "text": [
        " 0.001664679961\n",
        "Too high optitrack error:"
       ]
      },
      {
       "output_type": "stream",
       "stream": "stdout",
       "text": [
        " 0.0150251124826\n",
        "Optitrack error: 0.0150251124826\n",
        "Not stable\n",
        "Command error:"
       ]
      },
      {
       "output_type": "stream",
       "stream": "stdout",
       "text": [
        " 0.00186615994321\n",
        "Optitrack error:"
       ]
      },
      {
       "output_type": "stream",
       "stream": "stdout",
       "text": [
        " 0.000381860121699\n",
        "Point 83 over 150\n",
        "Command error:"
       ]
      },
      {
       "output_type": "stream",
       "stream": "stdout",
       "text": [
        " 0.00251103934858\n",
        "Optitrack error:"
       ]
      },
      {
       "output_type": "stream",
       "stream": "stdout",
       "text": [
        " 0.00132513561597\n",
        "Point 84 over 150\n",
        "Command error:"
       ]
      },
      {
       "output_type": "stream",
       "stream": "stdout",
       "text": [
        " 0.00278053112793\n",
        "Optitrack error:"
       ]
      },
      {
       "output_type": "stream",
       "stream": "stdout",
       "text": [
        " 0.000857333603628\n",
        "Point 85 over 150\n",
        "Command error:"
       ]
      },
      {
       "output_type": "stream",
       "stream": "stdout",
       "text": [
        " 0.000316672223396\n",
        "Optitrack error:"
       ]
      },
      {
       "output_type": "stream",
       "stream": "stdout",
       "text": [
        " 0.000223285995605\n",
        "Point 86 over 150\n",
        "Command error:"
       ]
      },
      {
       "output_type": "stream",
       "stream": "stdout",
       "text": [
        " 0.00168714918711\n",
        "Optitrack error:"
       ]
      },
      {
       "output_type": "stream",
       "stream": "stdout",
       "text": [
        " 0.000375969494754\n",
        "Point 87 over 150\n",
        "Command error:"
       ]
      },
      {
       "output_type": "stream",
       "stream": "stdout",
       "text": [
        " 0.000478818879603\n",
        "No recent optitrack view of the marker\n",
        "Command error:"
       ]
      },
      {
       "output_type": "stream",
       "stream": "stdout",
       "text": [
        " 0.00115436105794\n",
        "Optitrack error:"
       ]
      },
      {
       "output_type": "stream",
       "stream": "stdout",
       "text": [
        " 0.00906110338284\n",
        "Point 88 over 150\n",
        "Command error:"
       ]
      },
      {
       "output_type": "stream",
       "stream": "stdout",
       "text": [
        " 0.00255841962384\n",
        "Optitrack error:"
       ]
      },
      {
       "output_type": "stream",
       "stream": "stdout",
       "text": [
        " 0.00144531955678\n",
        "Point 89 over 150\n",
        "Command error:"
       ]
      },
      {
       "output_type": "stream",
       "stream": "stdout",
       "text": [
        " 0.000622111028964\n",
        "Optitrack error:"
       ]
      },
      {
       "output_type": "stream",
       "stream": "stdout",
       "text": [
        " 0.000429827101577\n",
        "Point 90 over 150\n",
        "Command error:"
       ]
      },
      {
       "output_type": "stream",
       "stream": "stdout",
       "text": [
        " 0.00149897887501\n",
        "No recent optitrack view of the marker\n",
        "Command error:"
       ]
      },
      {
       "output_type": "stream",
       "stream": "stdout",
       "text": [
        " 0.00123622022912\n",
        "No recent optitrack view of the marker\n",
        "Command error:"
       ]
      },
      {
       "output_type": "stream",
       "stream": "stdout",
       "text": [
        " 0.00258972874653\n",
        "Optitrack error:"
       ]
      },
      {
       "output_type": "stream",
       "stream": "stdout",
       "text": [
        " 0.0007676474154\n",
        "Point 91 over 150\n",
        "Command error:"
       ]
      },
      {
       "output_type": "stream",
       "stream": "stdout",
       "text": [
        " 0.00166597206642\n",
        "No recent optitrack view of the marker\n",
        "Command error:"
       ]
      },
      {
       "output_type": "stream",
       "stream": "stdout",
       "text": [
        " 0.000839983895736\n",
        "No recent optitrack view of the marker\n",
        "Command error:"
       ]
      },
      {
       "output_type": "stream",
       "stream": "stdout",
       "text": [
        " 0.0017453097264\n",
        "Optitrack error:"
       ]
      },
      {
       "output_type": "stream",
       "stream": "stdout",
       "text": [
        " 0.00164338441185\n",
        "Point 92 over 150\n",
        "Command error:"
       ]
      },
      {
       "output_type": "stream",
       "stream": "stdout",
       "text": [
        " 0.00135300367755\n",
        "Optitrack error:"
       ]
      },
      {
       "output_type": "stream",
       "stream": "stdout",
       "text": [
        " 0.000610531670587\n",
        "Point 93 over 150\n",
        "Command error:"
       ]
      },
      {
       "output_type": "stream",
       "stream": "stdout",
       "text": [
        " 0.00207814956167\n",
        "Optitrack error:"
       ]
      },
      {
       "output_type": "stream",
       "stream": "stdout",
       "text": [
        " 0.000531914496425\n",
        "Point 94 over 150\n",
        "Command error:"
       ]
      },
      {
       "output_type": "stream",
       "stream": "stdout",
       "text": [
        " 0.00307072962518\n",
        "Optitrack error:"
       ]
      },
      {
       "output_type": "stream",
       "stream": "stdout",
       "text": [
        " 0.00334042168281\n",
        "Point 95 over 150\n",
        "Command error:"
       ]
      },
      {
       "output_type": "stream",
       "stream": "stdout",
       "text": [
        " 0.00261228129669\n",
        "Optitrack error:"
       ]
      },
      {
       "output_type": "stream",
       "stream": "stdout",
       "text": [
        " 0.00134927960518\n",
        "Point 96 over 150\n",
        "Command error:"
       ]
      },
      {
       "output_type": "stream",
       "stream": "stdout",
       "text": [
        " 0.00279711007751\n",
        "No recent optitrack view of the marker\n",
        "Command error:"
       ]
      },
      {
       "output_type": "stream",
       "stream": "stdout",
       "text": [
        " 0.00142028105692\n",
        "Optitrack error:"
       ]
      },
      {
       "output_type": "stream",
       "stream": "stdout",
       "text": [
        " 0.000675955465555\n",
        "Point 97 over 150\n",
        "Command error:"
       ]
      },
      {
       "output_type": "stream",
       "stream": "stdout",
       "text": [
        " 0.00158549464461\n",
        "Optitrack error:"
       ]
      },
      {
       "output_type": "stream",
       "stream": "stdout",
       "text": [
        " 0.000205601210175\n",
        "Point 98 over 150\n",
        "Command error:"
       ]
      },
      {
       "output_type": "stream",
       "stream": "stdout",
       "text": [
        " 0.000851225340151\n",
        "Optitrack error:"
       ]
      },
      {
       "output_type": "stream",
       "stream": "stdout",
       "text": [
        " 0.000541771929412\n",
        "Point 99 over 150\n",
        "Command error:"
       ]
      },
      {
       "output_type": "stream",
       "stream": "stdout",
       "text": [
        " 0.00235642888407\n",
        "Optitrack error:"
       ]
      },
      {
       "output_type": "stream",
       "stream": "stdout",
       "text": [
        " 0.00105914292042\n",
        "Point 100 over 150\n",
        "Command error:"
       ]
      },
      {
       "output_type": "stream",
       "stream": "stdout",
       "text": [
        " 0.00053206753802\n",
        "Optitrack error:"
       ]
      },
      {
       "output_type": "stream",
       "stream": "stdout",
       "text": [
        " 0.00191162855503\n",
        "Point 101 over 150\n",
        "Command error:"
       ]
      },
      {
       "output_type": "stream",
       "stream": "stdout",
       "text": [
        " 0.000708881871927\n",
        "Optitrack error:"
       ]
      },
      {
       "output_type": "stream",
       "stream": "stdout",
       "text": [
        " 0.000575402723995\n",
        "Point 102 over 150\n",
        "Command error:"
       ]
      },
      {
       "output_type": "stream",
       "stream": "stdout",
       "text": [
        " 0.000462727850766\n",
        "No recent optitrack view of the marker\n",
        "Command error:"
       ]
      },
      {
       "output_type": "stream",
       "stream": "stdout",
       "text": [
        " 0.00120316643283\n",
        "Optitrack error:"
       ]
      },
      {
       "output_type": "stream",
       "stream": "stdout",
       "text": [
        " 0.00098877986343\n",
        "Point 103 over 150\n",
        "Command error:"
       ]
      },
      {
       "output_type": "stream",
       "stream": "stdout",
       "text": [
        " 0.00364685984134\n",
        "Optitrack error:"
       ]
      },
      {
       "output_type": "stream",
       "stream": "stdout",
       "text": [
        " 0.00147327763901\n",
        "Point 104 over 150\n",
        "Command error:"
       ]
      },
      {
       "output_type": "stream",
       "stream": "stdout",
       "text": [
        " 0.00109668607964\n",
        "No recent optitrack view of the marker\n",
        "Command error:"
       ]
      },
      {
       "output_type": "stream",
       "stream": "stdout",
       "text": [
        " 0.00192709322759\n",
        "Optitrack error:"
       ]
      },
      {
       "output_type": "stream",
       "stream": "stdout",
       "text": [
        " 0.000615064556886\n",
        "Point 105 over 150\n",
        "Command error:"
       ]
      },
      {
       "output_type": "stream",
       "stream": "stdout",
       "text": [
        " 0.00539210200239\n",
        "Optitrack error:"
       ]
      },
      {
       "output_type": "stream",
       "stream": "stdout",
       "text": [
        " 0.000590461169595\n",
        "Point 106 over 150\n",
        "Command error:"
       ]
      },
      {
       "output_type": "stream",
       "stream": "stdout",
       "text": [
        " 0.000381784468269\n",
        "No recent optitrack view of the marker\n",
        "Command error:"
       ]
      },
      {
       "output_type": "stream",
       "stream": "stdout",
       "text": [
        " 0.00390269192506\n",
        "Optitrack error:"
       ]
      },
      {
       "output_type": "stream",
       "stream": "stdout",
       "text": [
        " 0.00100389815174\n",
        "Point 107 over 150\n",
        "Command error:"
       ]
      },
      {
       "output_type": "stream",
       "stream": "stdout",
       "text": [
        " 0.00167199303907\n",
        "No recent optitrack view of the marker\n",
        "Command error:"
       ]
      },
      {
       "output_type": "stream",
       "stream": "stdout",
       "text": [
        " 0.000918399581428\n",
        "No recent optitrack view of the marker\n",
        "Command error:"
       ]
      },
      {
       "output_type": "stream",
       "stream": "stdout",
       "text": [
        " 0.00048967833332\n",
        "Optitrack error:"
       ]
      },
      {
       "output_type": "stream",
       "stream": "stdout",
       "text": [
        " 0.000793639411876\n",
        "Point 108 over 150\n",
        "Command error:"
       ]
      },
      {
       "output_type": "stream",
       "stream": "stdout",
       "text": [
        " 0.00188668609864\n",
        "Optitrack error:"
       ]
      },
      {
       "output_type": "stream",
       "stream": "stdout",
       "text": [
        " 0.000947914627793\n",
        "Point 109 over 150\n",
        "Command error:"
       ]
      },
      {
       "output_type": "stream",
       "stream": "stdout",
       "text": [
        " 0.00367143261325\n",
        "Optitrack error:"
       ]
      },
      {
       "output_type": "stream",
       "stream": "stdout",
       "text": [
        " 0.00177507675282\n",
        "Point 110 over 150\n",
        "Command error:"
       ]
      },
      {
       "output_type": "stream",
       "stream": "stdout",
       "text": [
        " 0.00183115793305\n",
        "No recent optitrack view of the marker\n",
        "Command error:"
       ]
      },
      {
       "output_type": "stream",
       "stream": "stdout",
       "text": [
        " 0.000415390831977\n",
        "Optitrack error:"
       ]
      },
      {
       "output_type": "stream",
       "stream": "stdout",
       "text": [
        " 0.000920361448884\n",
        "Point 111 over 150\n",
        "Command error:"
       ]
      },
      {
       "output_type": "stream",
       "stream": "stdout",
       "text": [
        " 0.00194643094363\n",
        "Optitrack error:"
       ]
      },
      {
       "output_type": "stream",
       "stream": "stdout",
       "text": [
        " 0.000580381591283\n",
        "Point 112 over 150\n",
        "Command error:"
       ]
      },
      {
       "output_type": "stream",
       "stream": "stdout",
       "text": [
        " 0.00262670682812\n",
        "No recent optitrack view of the marker\n",
        "Command error:"
       ]
      },
      {
       "output_type": "stream",
       "stream": "stdout",
       "text": [
        " 0.00134219647019\n",
        "No recent optitrack view of the marker\n",
        "Command error:"
       ]
      },
      {
       "output_type": "stream",
       "stream": "stdout",
       "text": [
        " 0.00135770729251\n",
        "No recent optitrack view of the marker\n",
        "Command error:"
       ]
      },
      {
       "output_type": "stream",
       "stream": "stdout",
       "text": [
        " 0.00200028924\n",
        "Optitrack error:"
       ]
      },
      {
       "output_type": "stream",
       "stream": "stdout",
       "text": [
        " 0.00105917063398\n",
        "Point 113 over 150\n",
        "Command error:"
       ]
      },
      {
       "output_type": "stream",
       "stream": "stdout",
       "text": [
        " 0.00230642021524\n",
        "Optitrack error:"
       ]
      },
      {
       "output_type": "stream",
       "stream": "stdout",
       "text": [
        " 0.000717123230955\n",
        "Point 114 over 150\n",
        "Command error:"
       ]
      },
      {
       "output_type": "stream",
       "stream": "stdout",
       "text": [
        " 0.000381437951571\n",
        "Optitrack error:"
       ]
      },
      {
       "output_type": "stream",
       "stream": "stdout",
       "text": [
        " 0.00033153669851\n",
        "Point 115 over 150\n",
        "Command error:"
       ]
      },
      {
       "output_type": "stream",
       "stream": "stdout",
       "text": [
        " 0.00132677633584\n",
        "Optitrack error:"
       ]
      },
      {
       "output_type": "stream",
       "stream": "stdout",
       "text": [
        " 0.000389893415808\n",
        "Point 116 over 150\n",
        "Command error:"
       ]
      },
      {
       "output_type": "stream",
       "stream": "stdout",
       "text": [
        " 0.00316431637211\n",
        "No recent optitrack view of the marker\n",
        "Command error:"
       ]
      },
      {
       "output_type": "stream",
       "stream": "stdout",
       "text": [
        " 0.00213780025546\n",
        "Optitrack error:"
       ]
      },
      {
       "output_type": "stream",
       "stream": "stdout",
       "text": [
        " 0.00284879115596\n",
        "Point 117 over 150\n",
        "Command error:"
       ]
      },
      {
       "output_type": "stream",
       "stream": "stdout",
       "text": [
        " 0.00108515728242\n",
        "Optitrack error:"
       ]
      },
      {
       "output_type": "stream",
       "stream": "stdout",
       "text": [
        " 0.000757126629973\n",
        "Point 118 over 150\n",
        "Command error:"
       ]
      },
      {
       "output_type": "stream",
       "stream": "stdout",
       "text": [
        " 0.000431534262163\n",
        "Optitrack error:"
       ]
      },
      {
       "output_type": "stream",
       "stream": "stdout",
       "text": [
        " 0.00200619542842\n",
        "Point 119 over 150\n",
        "Command error:"
       ]
      },
      {
       "output_type": "stream",
       "stream": "stdout",
       "text": [
        " 0.00173875190482\n",
        "Optitrack error:"
       ]
      },
      {
       "output_type": "stream",
       "stream": "stdout",
       "text": [
        " 0.0013294617428\n",
        "Point 120 over 150\n",
        "Command error:"
       ]
      },
      {
       "output_type": "stream",
       "stream": "stdout",
       "text": [
        " 0.000876074648724\n",
        "Optitrack error:"
       ]
      },
      {
       "output_type": "stream",
       "stream": "stdout",
       "text": [
        " 0.000351667674685\n",
        "Point 121 over 150\n",
        "Command error:"
       ]
      },
      {
       "output_type": "stream",
       "stream": "stdout",
       "text": [
        " 0.00157484131107\n",
        "Optitrack error:"
       ]
      },
      {
       "output_type": "stream",
       "stream": "stdout",
       "text": [
        " 0.000998398958959\n",
        "Point 122 over 150\n",
        "Command error:"
       ]
      },
      {
       "output_type": "stream",
       "stream": "stdout",
       "text": [
        " 0.00254592240974\n",
        "Optitrack error:"
       ]
      },
      {
       "output_type": "stream",
       "stream": "stdout",
       "text": [
        " 0.00184036351532\n",
        "Point 123 over 150\n",
        "Command error:"
       ]
      },
      {
       "output_type": "stream",
       "stream": "stdout",
       "text": [
        " 0.00019274007878\n",
        "No recent optitrack view of the marker\n",
        "Command error:"
       ]
      },
      {
       "output_type": "stream",
       "stream": "stdout",
       "text": [
        " 0.00327489983513\n",
        "Optitrack error:"
       ]
      },
      {
       "output_type": "stream",
       "stream": "stdout",
       "text": [
        " 0.00159819785832\n",
        "Point 124 over 150\n",
        "Command error:"
       ]
      },
      {
       "output_type": "stream",
       "stream": "stdout",
       "text": [
        " 0.00233657780093\n",
        "Optitrack error:"
       ]
      },
      {
       "output_type": "stream",
       "stream": "stdout",
       "text": [
        " 0.00107160217813\n",
        "Point 125 over 150\n",
        "Command error:"
       ]
      },
      {
       "output_type": "stream",
       "stream": "stdout",
       "text": [
        " 0.00087305683047\n",
        "Optitrack error:"
       ]
      },
      {
       "output_type": "stream",
       "stream": "stdout",
       "text": [
        " 0.000638810372546\n",
        "Point 126 over 150\n",
        "Command error:"
       ]
      },
      {
       "output_type": "stream",
       "stream": "stdout",
       "text": [
        " 0.000674336020493\n",
        "No recent optitrack view of the marker\n",
        "Command error:"
       ]
      },
      {
       "output_type": "stream",
       "stream": "stdout",
       "text": [
        " 0.00322666701942\n",
        "No recent optitrack view of the marker\n",
        "Command error:"
       ]
      },
      {
       "output_type": "stream",
       "stream": "stdout",
       "text": [
        " 0.00201962393711\n",
        "Optitrack error:"
       ]
      },
      {
       "output_type": "stream",
       "stream": "stdout",
       "text": [
        " 0.00178092508285\n",
        "Point 127 over 150\n",
        "Command error:"
       ]
      },
      {
       "output_type": "stream",
       "stream": "stdout",
       "text": [
        " 0.00168832660831\n",
        "Optitrack error:"
       ]
      },
      {
       "output_type": "stream",
       "stream": "stdout",
       "text": [
        " 0.000787725537654\n",
        "Point 128 over 150\n",
        "Command error:"
       ]
      },
      {
       "output_type": "stream",
       "stream": "stdout",
       "text": [
        " 0.00190333499317\n",
        "Optitrack error:"
       ]
      },
      {
       "output_type": "stream",
       "stream": "stdout",
       "text": [
        " 0.000341726391197\n",
        "Point 129 over 150\n",
        "Command error:"
       ]
      },
      {
       "output_type": "stream",
       "stream": "stdout",
       "text": [
        " 0.00174311975962\n",
        "Optitrack error:"
       ]
      },
      {
       "output_type": "stream",
       "stream": "stdout",
       "text": [
        " 0.00118734235021\n",
        "Point 130 over 150\n",
        "Command error:"
       ]
      },
      {
       "output_type": "stream",
       "stream": "stdout",
       "text": [
        " 0.00188226790424\n",
        "Optitrack error:"
       ]
      },
      {
       "output_type": "stream",
       "stream": "stdout",
       "text": [
        " 0.00243690566768\n",
        "Point 131 over 150\n",
        "Command error:"
       ]
      },
      {
       "output_type": "stream",
       "stream": "stdout",
       "text": [
        " 0.00218838358067\n",
        "Optitrack error:"
       ]
      },
      {
       "output_type": "stream",
       "stream": "stdout",
       "text": [
        " 0.00139374286402\n",
        "Point 132 over 150\n",
        "Command error:"
       ]
      },
      {
       "output_type": "stream",
       "stream": "stdout",
       "text": [
        " 0.00228041435451\n",
        "Optitrack error:"
       ]
      },
      {
       "output_type": "stream",
       "stream": "stdout",
       "text": [
        " 0.0020157173741\n",
        "Point 133 over 150\n",
        "Command error:"
       ]
      },
      {
       "output_type": "stream",
       "stream": "stdout",
       "text": [
        " 0.00177556562315\n",
        "Optitrack error:"
       ]
      },
      {
       "output_type": "stream",
       "stream": "stdout",
       "text": [
        " 0.000572237698813\n",
        "Point 134 over 150\n",
        "Command error:"
       ]
      },
      {
       "output_type": "stream",
       "stream": "stdout",
       "text": [
        " 0.000893022270337\n",
        "Optitrack error:"
       ]
      },
      {
       "output_type": "stream",
       "stream": "stdout",
       "text": [
        " 0.000164949068708\n",
        "Point 135 over 150\n",
        "Command error:"
       ]
      },
      {
       "output_type": "stream",
       "stream": "stdout",
       "text": [
        " 0.0013592567872\n",
        "Optitrack error:"
       ]
      },
      {
       "output_type": "stream",
       "stream": "stdout",
       "text": [
        " 0.00143000408858\n",
        "Point 136 over 150\n",
        "Command error:"
       ]
      },
      {
       "output_type": "stream",
       "stream": "stdout",
       "text": [
        " 0.00386701160975\n",
        "No recent optitrack view of the marker\n",
        "Command error:"
       ]
      },
      {
       "output_type": "stream",
       "stream": "stdout",
       "text": [
        " 0.00191865141842\n",
        "Optitrack error:"
       ]
      },
      {
       "output_type": "stream",
       "stream": "stdout",
       "text": [
        " 0.00121729633733\n",
        "Point 137 over 150\n",
        "Command error:"
       ]
      },
      {
       "output_type": "stream",
       "stream": "stdout",
       "text": [
        " 0.00276238245343\n",
        "No recent optitrack view of the marker\n",
        "Command error:"
       ]
      },
      {
       "output_type": "stream",
       "stream": "stdout",
       "text": [
        " 0.00132717561052\n",
        "Optitrack error:"
       ]
      },
      {
       "output_type": "stream",
       "stream": "stdout",
       "text": [
        " 0.00234736143662\n",
        "Point 138 over 150\n",
        "Command error:"
       ]
      },
      {
       "output_type": "stream",
       "stream": "stdout",
       "text": [
        " 0.00168735418556\n",
        "No recent optitrack view of the marker\n",
        "Command error:"
       ]
      },
      {
       "output_type": "stream",
       "stream": "stdout",
       "text": [
        " 0.00212509877343\n",
        "Optitrack error:"
       ]
      },
      {
       "output_type": "stream",
       "stream": "stdout",
       "text": [
        " 0.00446066791295\n",
        "Point 139 over 150\n",
        "Command error:"
       ]
      },
      {
       "output_type": "stream",
       "stream": "stdout",
       "text": [
        " 0.000379074615797\n",
        "No recent optitrack view of the marker\n",
        "Command error:"
       ]
      },
      {
       "output_type": "stream",
       "stream": "stdout",
       "text": [
        " 0.00131182355172\n",
        "Optitrack error:"
       ]
      },
      {
       "output_type": "stream",
       "stream": "stdout",
       "text": [
        " 0.00221810492346\n",
        "Point 140 over 150\n",
        "Command error:"
       ]
      },
      {
       "output_type": "stream",
       "stream": "stdout",
       "text": [
        " 0.0019335958277\n",
        "No recent optitrack view of the marker\n",
        "Command error:"
       ]
      },
      {
       "output_type": "stream",
       "stream": "stdout",
       "text": [
        " 0.000723418961289\n",
        "Optitrack error:"
       ]
      },
      {
       "output_type": "stream",
       "stream": "stdout",
       "text": [
        " 0.000712820774619\n",
        "Point 141 over 150\n",
        "Command error:"
       ]
      },
      {
       "output_type": "stream",
       "stream": "stdout",
       "text": [
        " 0.00221967541059\n",
        "Optitrack error:"
       ]
      },
      {
       "output_type": "stream",
       "stream": "stdout",
       "text": [
        " 0.000902216062535\n",
        "Point 142 over 150\n",
        "Command error:"
       ]
      },
      {
       "output_type": "stream",
       "stream": "stdout",
       "text": [
        " 0.00119390061523\n",
        "Optitrack error:"
       ]
      },
      {
       "output_type": "stream",
       "stream": "stdout",
       "text": [
        " 0.000827700521505\n",
        "Point 143 over 150\n",
        "Command error:"
       ]
      },
      {
       "output_type": "stream",
       "stream": "stdout",
       "text": [
        " 0.00320881903675\n",
        "No recent optitrack view of the marker\n",
        "Command error:"
       ]
      },
      {
       "output_type": "stream",
       "stream": "stdout",
       "text": [
        " 0.00103219419911\n",
        "No recent optitrack view of the marker\n",
        "Command error:"
       ]
      },
      {
       "output_type": "stream",
       "stream": "stdout",
       "text": [
        " 0.0013073946071\n",
        "No recent optitrack view of the marker\n",
        "Command error:"
       ]
      },
      {
       "output_type": "stream",
       "stream": "stdout",
       "text": [
        " 0.00155687711107\n",
        "Optitrack error:"
       ]
      },
      {
       "output_type": "stream",
       "stream": "stdout",
       "text": [
        " 0.0011438961929\n",
        "Point 144 over 150\n",
        "Command error:"
       ]
      },
      {
       "output_type": "stream",
       "stream": "stdout",
       "text": [
        " 0.000891684860503\n",
        "Optitrack error:"
       ]
      },
      {
       "output_type": "stream",
       "stream": "stdout",
       "text": [
        " 0.000693938970608\n",
        "Point 145 over 150\n",
        "Command error:"
       ]
      },
      {
       "output_type": "stream",
       "stream": "stdout",
       "text": [
        " 0.00191562805226\n",
        "Optitrack error:"
       ]
      },
      {
       "output_type": "stream",
       "stream": "stdout",
       "text": [
        " 0.00172016542706\n",
        "Point 146 over 150\n",
        "Command error:"
       ]
      },
      {
       "output_type": "stream",
       "stream": "stdout",
       "text": [
        " 0.00245823611949\n",
        "Optitrack error:"
       ]
      },
      {
       "output_type": "stream",
       "stream": "stdout",
       "text": [
        " 0.00132111919624\n",
        "Point 147 over 150\n",
        "Command error:"
       ]
      },
      {
       "output_type": "stream",
       "stream": "stdout",
       "text": [
        " 0.00290094831959\n",
        "Optitrack error:"
       ]
      },
      {
       "output_type": "stream",
       "stream": "stdout",
       "text": [
        " 0.00210738609019\n",
        "Point 148 over 150\n",
        "Command error:"
       ]
      },
      {
       "output_type": "stream",
       "stream": "stdout",
       "text": [
        " 0.00309123266946\n",
        "Optitrack error:"
       ]
      },
      {
       "output_type": "stream",
       "stream": "stdout",
       "text": [
        " 0.00123601459754\n",
        "Point 149 over 150\n",
        "Command error:"
       ]
      },
      {
       "output_type": "stream",
       "stream": "stdout",
       "text": [
        " 0.00199683917992\n",
        "Optitrack error:"
       ]
      },
      {
       "output_type": "stream",
       "stream": "stdout",
       "text": [
        " 0.00167531792666\n",
        "Point 150 over 150\n",
        "Command error:"
       ]
      },
      {
       "output_type": "stream",
       "stream": "stdout",
       "text": [
        " 0.00137482952058\n",
        "No recent optitrack view of the marker\n",
        "Command error:"
       ]
      },
      {
       "output_type": "stream",
       "stream": "stdout",
       "text": [
        " 0.00743026008519\n",
        "Optitrack error:"
       ]
      },
      {
       "output_type": "stream",
       "stream": "stdout",
       "text": [
        " 0.000578301002568\n"
       ]
      }
     ],
     "prompt_number": 15
    },
    {
     "cell_type": "code",
     "collapsed": false,
     "input": [
      "with open('points.json', 'w') as f:\n",
      "    json.dump(opt_pose_list, f)"
     ],
     "language": "python",
     "metadata": {},
     "outputs": [],
     "prompt_number": 16
    },
    {
     "cell_type": "code",
     "collapsed": false,
     "input": [
      "with open('points.json') as f:\n",
      "    opt_pose_list = json.load(f)"
     ],
     "language": "python",
     "metadata": {},
     "outputs": [],
     "prompt_number": 42
    },
    {
     "cell_type": "code",
     "collapsed": false,
     "input": [
      "opt_pose_list = np.array([p[0] for p in opt_pose_list])"
     ],
     "language": "python",
     "metadata": {},
     "outputs": [],
     "prompt_number": 17
    },
    {
     "cell_type": "code",
     "collapsed": false,
     "input": [
      "print len(opt_pose_list)"
     ],
     "language": "python",
     "metadata": {},
     "outputs": [
      {
       "output_type": "stream",
       "stream": "stdout",
       "text": [
        "150\n"
       ]
      }
     ],
     "prompt_number": 18
    },
    {
     "cell_type": "code",
     "collapsed": false,
     "input": [
      "center = np.mean(opt_pose_list, axis=0)\n",
      "radius = np.mean(np.sqrt(np.sum((opt_pose_list - center) ** 2, axis=1)))\n",
      "\n",
      "p0 = list(center) + [radius]\n",
      "\n",
      "def fitfunc(p, coords):\n",
      "    x0, y0, z0, R = p\n",
      "    x, y, z = coords.T\n",
      "    return np.sqrt((x-x0)**2 + (y-y0)**2 + (z-z0)**2)\n",
      "\n",
      "errfunc = lambda p, x: fitfunc(p, x) - p[3]\n",
      "p1, flag = leastsq(errfunc, p0, args=(opt_pose_list,))"
     ],
     "language": "python",
     "metadata": {},
     "outputs": [],
     "prompt_number": 19
    },
    {
     "cell_type": "code",
     "collapsed": false,
     "input": [
      "fig = plt.figure(figsize=plt.figaspect(0.5)*1.5)\n",
      "ax = fig.gca(projection='3d')\n",
      "ax.plot(opt_pose_list[:,0], opt_pose_list[:,1], opt_pose_list[:,2])\n",
      "ax.scatter([p1[0]], [p1[1]], [p1[2]], s=19.0000)"
     ],
     "language": "python",
     "metadata": {},
     "outputs": [
      {
       "metadata": {},
       "output_type": "pyout",
       "prompt_number": 20,
       "text": [
        "<mpl_toolkits.mplot3d.art3d.Patch3DCollection at 0x7fc3a5216fd0>"
       ]
      }
     ],
     "prompt_number": 20
    },
    {
     "cell_type": "code",
     "collapsed": false,
     "input": [
      "np.mean(np.linalg.norm(opt_pose_list - center, axis=1))"
     ],
     "language": "python",
     "metadata": {},
     "outputs": [
      {
       "metadata": {},
       "output_type": "pyout",
       "prompt_number": 21,
       "text": [
        "0.056032122302906051"
       ]
      }
     ],
     "prompt_number": 21
    },
    {
     "cell_type": "code",
     "collapsed": false,
     "input": [
      "ps_center = PoseStamped()\n",
      "ps_center.header.frame_id = '/optitrack_frame'\n",
      "ps_center.pose.position.x = p1[0]\n",
      "ps_center.pose.position.y = p1[1]\n",
      "ps_center.pose.position.z = p1[2]\n",
      "ps_center.pose.orientation.w = 1"
     ],
     "language": "python",
     "metadata": {},
     "outputs": [],
     "prompt_number": 22
    },
    {
     "cell_type": "code",
     "collapsed": false,
     "input": [
      "center_opt_gripper = tfl.transformPose('/robot/calibrator', ps_center)"
     ],
     "language": "python",
     "metadata": {},
     "outputs": [],
     "prompt_number": 23
    },
    {
     "cell_type": "code",
     "collapsed": false,
     "input": [
      "# Here is the transformation to be used to move the optitrack pivot so that it matches the right gripper\n",
      "center_opt_gripper"
     ],
     "language": "python",
     "metadata": {},
     "outputs": [
      {
       "metadata": {},
       "output_type": "pyout",
       "prompt_number": 24,
       "text": [
        "header: \n",
        "  seq: 0\n",
        "  stamp: \n",
        "    secs: 0\n",
        "    nsecs: 0\n",
        "  frame_id: /robot/calibrator\n",
        "pose: \n",
        "  position: \n",
        "    x: -0.0347107492489\n",
        "    y: -0.0480241502943\n",
        "    z: 0.0115727248461\n",
        "  orientation: \n",
        "    x: 0.0503445259841\n",
        "    y: 0.197257203078\n",
        "    z: 0.0572750293576\n",
        "    w: 0.977381499492"
       ]
      }
     ],
     "prompt_number": 24
    },
    {
     "cell_type": "code",
     "collapsed": false,
     "input": [
      "################################################## REPORT MANUALY THE VALUE IN OPTITRACK BEFORE CONTINUING"
     ],
     "language": "python",
     "metadata": {},
     "outputs": [],
     "prompt_number": 52
    },
    {
     "cell_type": "code",
     "collapsed": false,
     "input": [
      "world_frame_robot = 'base'\n",
      "world_frame_opt = 'optitrack_frame'\n",
      "calib_frame_robot = 'right_gripper'\n",
      "calib_frame_opt = '/robot/calibrator'"
     ],
     "language": "python",
     "metadata": {},
     "outputs": [],
     "prompt_number": 10
    },
    {
     "cell_type": "code",
     "collapsed": false,
     "input": [
      "mat_robot = [] # Matrix of all calibration points of calib_frame_robot in frame world_frame_robot (position only)\n",
      "mat_opt = [] # Matrix of all calibration points of calib_frame_opt in frame world_frame_opt (position only)\n",
      "max_dur = rospy.Duration(0.05) # seconds\n",
      "sleep = 0.1\n",
      "min_dist = 0.01 # deltaM to record a new point\n",
      "\n",
      "duration = rospy.Duration(30)\n",
      "\n",
      "start = rospy.Time.now()\n",
      "last_point = None\n",
      "while rospy.Time.now()<start+duration:   \n",
      "    ref_time = tfl.getLatestCommonTime(world_frame_opt, world_frame_robot)\n",
      "    now = rospy.Time.now()\n",
      "    \n",
      "    if ref_time + max_dur > now:\n",
      "        try:\n",
      "            pose_rg_robot = tfl.lookupTransform(world_frame_robot, calib_frame_robot, rospy.Time(0))\n",
      "        except Exception, e:\n",
      "            print \"Robot transf not available, time synchro?\", e.message\n",
      "            #rospy.logerr(\"Unable to get the transform from {} to {}, are they both published by the robot?\"\n",
      "            #             \"{}\".format(calib_frame_robot, world_frame_robot, e.message))\n",
      "            continue\n",
      "\n",
      "        if last_point is None or transformations.distance(pose_rg_robot, last_point)>min_dist:\n",
      "            try:\n",
      "                pose_rg_opt = tfl.lookupTransform(world_frame_opt, calib_frame_opt, rospy.Time(0))\n",
      "            except:\n",
      "                #rospy.logerr(\"Unable to get the transform from {} to {}, is the optitrack publisher running, and {} the right name\"\n",
      "                #             \" of the rigid body, and is the marker currently visible?\".format(calib_frame_opt, world_frame_opt, calib_frame_opt))\n",
      "                #rospy.sleep(sleep)\n",
      "                print \"Not visible\"\n",
      "                continue\n",
      "                           \n",
      "            mat_robot.append(np.array(pose_rg_robot[0]))\n",
      "            mat_opt.append(np.array(pose_rg_opt[0]))\n",
      "            last_point = pose_rg_robot\n",
      "            system('beep')\n",
      "    else:\n",
      "        print \"TFs are\", (now - ref_time).to_sec(), \"sec late\"\n",
      "    rospy.sleep(0.05)"
     ],
     "language": "python",
     "metadata": {},
     "outputs": [],
     "prompt_number": 33
    },
    {
     "cell_type": "code",
     "collapsed": false,
     "input": [
      "print len(mat_opt), \"points recorded\""
     ],
     "language": "python",
     "metadata": {},
     "outputs": [
      {
       "output_type": "stream",
       "stream": "stdout",
       "text": [
        "107 points recorded\n"
       ]
      }
     ],
     "prompt_number": 34
    },
    {
     "cell_type": "code",
     "collapsed": false,
     "input": [
      "t, r = compute_transformation(np.array(mat_robot), np.array(mat_opt))\n",
      "m = np.zeros([4,4])\n",
      "m[0:3, 0:3] = r\n",
      "m[3, 3] = 1\n",
      "calibration_matrix = [t.tolist(), tf.transformations.quaternion_from_matrix(m).tolist()]\n",
      "rospy.set_param(\"/optitrack/calibration_matrix\", calibration_matrix)\n",
      "rospy.loginfo(\"Optitrack calibration finished with {} points\".format(num_points))"
     ],
     "language": "python",
     "metadata": {},
     "outputs": [
      {
       "ename": "NameError",
       "evalue": "name 'num_points' is not defined",
       "output_type": "pyerr",
       "traceback": [
        "\u001b[0;31m---------------------------------------------------------------------------\u001b[0m\n\u001b[0;31mNameError\u001b[0m                                 Traceback (most recent call last)",
        "\u001b[0;32m<ipython-input-35-1e33b1385d28>\u001b[0m in \u001b[0;36m<module>\u001b[0;34m()\u001b[0m\n\u001b[1;32m      5\u001b[0m \u001b[0mcalibration_matrix\u001b[0m \u001b[0;34m=\u001b[0m \u001b[0;34m[\u001b[0m\u001b[0mt\u001b[0m\u001b[0;34m.\u001b[0m\u001b[0mtolist\u001b[0m\u001b[0;34m(\u001b[0m\u001b[0;34m)\u001b[0m\u001b[0;34m,\u001b[0m \u001b[0mtf\u001b[0m\u001b[0;34m.\u001b[0m\u001b[0mtransformations\u001b[0m\u001b[0;34m.\u001b[0m\u001b[0mquaternion_from_matrix\u001b[0m\u001b[0;34m(\u001b[0m\u001b[0mm\u001b[0m\u001b[0;34m)\u001b[0m\u001b[0;34m.\u001b[0m\u001b[0mtolist\u001b[0m\u001b[0;34m(\u001b[0m\u001b[0;34m)\u001b[0m\u001b[0;34m]\u001b[0m\u001b[0;34m\u001b[0m\u001b[0m\n\u001b[1;32m      6\u001b[0m \u001b[0mrospy\u001b[0m\u001b[0;34m.\u001b[0m\u001b[0mset_param\u001b[0m\u001b[0;34m(\u001b[0m\u001b[0;34m\"/optitrack/calibration_matrix\"\u001b[0m\u001b[0;34m,\u001b[0m \u001b[0mcalibration_matrix\u001b[0m\u001b[0;34m)\u001b[0m\u001b[0;34m\u001b[0m\u001b[0m\n\u001b[0;32m----> 7\u001b[0;31m \u001b[0mrospy\u001b[0m\u001b[0;34m.\u001b[0m\u001b[0mloginfo\u001b[0m\u001b[0;34m(\u001b[0m\u001b[0;34m\"Optitrack calibration finished with {} points\"\u001b[0m\u001b[0;34m.\u001b[0m\u001b[0mformat\u001b[0m\u001b[0;34m(\u001b[0m\u001b[0mnum_points\u001b[0m\u001b[0;34m)\u001b[0m\u001b[0;34m)\u001b[0m\u001b[0;34m\u001b[0m\u001b[0m\n\u001b[0m",
        "\u001b[0;31mNameError\u001b[0m: name 'num_points' is not defined"
       ]
      }
     ],
     "prompt_number": 35
    },
    {
     "cell_type": "code",
     "collapsed": false,
     "input": [
      "with open(rospack.get_path(\"optitrack_publisher\")+\"/config/calibration_matrix.yaml\", 'w') as f:\n",
      "    yaml.dump(calibration_matrix, f)"
     ],
     "language": "python",
     "metadata": {},
     "outputs": [],
     "prompt_number": 34
    },
    {
     "cell_type": "code",
     "collapsed": false,
     "input": [],
     "language": "python",
     "metadata": {},
     "outputs": []
    }
   ],
   "metadata": {}
  }
 ]
}